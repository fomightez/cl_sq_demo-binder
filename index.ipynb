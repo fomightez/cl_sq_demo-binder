{
 "cells": [
  {
   "cell_type": "markdown",
   "metadata": {},
   "source": [
    "# Command line sequence data demonstration notebooks\n",
    "\n",
    "My collection demonstrating useful resources on command line (or in Jupyter environment) for manipulating sequence data.\n",
    "\n",
    "Select a notebook from this index.\n",
    "\n",
    "----\n",
    "\n",
    "### Available Notebooks\n",
    "\n",
    "- [Use biopython to make valid CLUSTAL formatted MSAs, check sequence of manually edited alignment, and add consensus line](notebooks/Use%20biopython%20to%20make%20valid%20CLUSTAL%20formatted%20MSAs%2C%20check%20sequence%20of%20manually%20edited%20alignment%2C%20and%20add%20consensus%20line.ipynb)\n",
    "- [Demo of script to get sequence from multiFASTA file when description contains matching text](notebooks/Demo%20of%20script%20to%20get%20sequence%20from%20multiFASTA%20file%20when%20description%20contains%20matching%20text.ipynb#Demo-of-script-to-get-sequence-from-multiFASTA-file-when-description-contains-matching-text)\n",
    "- [TBD](TBD.ipynb)\n",
    "- [TBD](TBD.ipynb)\n",
    "- [TBD](TBD.ipynb)\n",
    "\n",
    "### Coming soon / available at another link\n",
    "\n",
    "- Categorize conservation in a multiple sequence alignment\n",
    "\n",
    "    There is a related notebook available from [here for categorizing conservation in a MSA and using that to generate molecular visualization commands](https://nbviewer.jupyter.org/github/fomightez/cl_demo-binder/blob/master/cl_demo-binder%20Categorize%20conservation%20in%20a%20MSA%20and%20use%20that%20to%20generate%20molvis%20commands.ipynb) that uses `categorize_residues_based_on_conservation_relative_consensus_line.py` script described [here](https://github.com/fomightez/sequencework/tree/master/alignment-utilities). It can be launched in active form from [here](https://github.com/fomightez/cl_demo-binder) and then selecting from the index to go to the 'Categorize conservation in a MSA and use that to generate molvis commands' page. The demo was put in the structure work demo series because it was mainly developed to work towards making commands for molecular visualization."
   ]
  },
  {
   "cell_type": "code",
   "execution_count": null,
   "metadata": {},
   "outputs": [],
   "source": []
  }
 ],
 "metadata": {
  "kernelspec": {
   "display_name": "Python 3",
   "language": "python",
   "name": "python3"
  },
  "language_info": {
   "codemirror_mode": {
    "name": "ipython",
    "version": 3
   },
   "file_extension": ".py",
   "mimetype": "text/x-python",
   "name": "python",
   "nbconvert_exporter": "python",
   "pygments_lexer": "ipython3",
   "version": "3.6.7"
  }
 },
 "nbformat": 4,
 "nbformat_minor": 2
}
