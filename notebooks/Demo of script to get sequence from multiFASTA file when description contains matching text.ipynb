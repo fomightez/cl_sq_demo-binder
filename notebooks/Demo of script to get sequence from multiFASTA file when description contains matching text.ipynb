{
 "cells": [
  {
   "cell_type": "markdown",
   "metadata": {},
   "source": [
    "# Demo of script to get sequence from multiFASTA file when description contains matching text\n",
    "\n",
    "In order to demonstrate the use of my script `get_seq_from_multiFASTA_with_match_in_description.py`, I'll use it to collect protein sequences from a collection of PacBio sequenced yeast genomes from [Yue et al 2017](https://www.ncbi.nlm.nih.gov/pubmed/28416820).\n",
    "\n",
    "Reference for sequence data:  \n",
    "[Contrasting evolutionary genome dynamics between domesticated and wild yeasts.\n",
    "Yue JX, Li J, Aigrain L, Hallin J, Persson K, Oliver K, Bergström A, Coupland P, Warringer J, Lagomarsino MC, Fischer G, Durbin R, Liti G. Nat Genet. 2017 Jun;49(6):913-924. doi: 10.1038/ng.3847. Epub 2017 Apr 17. PMID: 28416820](https://www.ncbi.nlm.nih.gov/pubmed/28416820)\n",
    "\n",
    "This is meant to represent a typical workflow where a combination of these steps might be used.\n",
    "\n",
    "------\n",
    "\n",
    "<div class=\"alert alert-block alert-warning\">\n",
    "<p>If you haven't used one of these notebooks before, they're basically web pages in which you can write, edit, and run live code. They're meant to encourage experimentation, so don't feel nervous. Just try running a few cells and see what happens!.</p>\n",
    "\n",
    "<p>\n",
    "    Some tips:\n",
    "    <ul>\n",
    "        <li>Code cells have boxes around them. When you hover over them a <i class=\"fa-step-forward fa\"></i> icon appears.</li>\n",
    "        <li>To run a code cell either click the <i class=\"fa-step-forward fa\"></i> icon, or click on the cell and then hit <b>Shift+Enter</b>. The <b>Shift+Enter</b> combo will also move you to the next cell, so it's a quick way to work through the notebook.</li>\n",
    "        <li>While a cell is running a <b>*</b> appears in the square brackets next to the cell. Once the cell has finished running the asterisk will be replaced with a number.</li>\n",
    "        <li>In most cases you'll want to start from the top of notebook and work your way down running each cell in turn. Later cells might depend on the results of earlier ones.</li>\n",
    "        <li>To edit a code cell, just click on it and type stuff. Remember to run the cell once you've finished editing.</li>\n",
    "    </ul>\n",
    "</p>\n",
    "</div>\n",
    "\n",
    "----"
   ]
  },
  {
   "cell_type": "markdown",
   "metadata": {},
   "source": [
    "##  Basic use\n",
    "\n",
    "This script gets a sequence from a sequence file with multiple sequence entries in FASTA format (a.k.a. multiFASTA file) if there is a match to the provided text in the description line.\n",
    "It gets the first match it finds only.\n",
    "\n",
    "Before going on to use in a situation more representativ, this is meant to show the basics of using it on the command line. (On the 'proper' command line you wouldn't need the exclamation points I put in front of these commands for them to work in this notebook.)"
   ]
  },
  {
   "cell_type": "code",
   "execution_count": 1,
   "metadata": {},
   "outputs": [
    {
     "name": "stdout",
     "output_type": "stream",
     "text": [
      "  % Total    % Received % Xferd  Average Speed   Time    Time     Time  Current\n",
      "                                 Dload  Upload   Total   Spent    Left  Speed\n",
      "100  9941  100  9941    0     0  51507      0 --:--:-- --:--:-- --:--:-- 51507\n"
     ]
    }
   ],
   "source": [
    "# Get the script\n",
    "!curl -O https://raw.githubusercontent.com/fomightez/sequencework/master/Extract_from_FASTA/get_seq_from_multiFASTA_with_match_in_description.py"
   ]
  },
  {
   "cell_type": "code",
   "execution_count": 2,
   "metadata": {},
   "outputs": [
    {
     "name": "stdout",
     "output_type": "stream",
     "text": [
      "Collecting pyfaidx\n",
      "  Downloading https://files.pythonhosted.org/packages/75/a5/7e2569527b3849ea28d79b4f70d7cf46a47d36459bc59e0efa4e10e8c8b2/pyfaidx-0.5.5.2.tar.gz\n",
      "Requirement already satisfied: six in /srv/conda/lib/python3.6/site-packages (from pyfaidx) (1.12.0)\n",
      "Requirement already satisfied: setuptools>=0.7 in /srv/conda/lib/python3.6/site-packages (from pyfaidx) (40.6.3)\n",
      "Building wheels for collected packages: pyfaidx\n",
      "  Running setup.py bdist_wheel for pyfaidx ... \u001b[?25ldone\n",
      "\u001b[?25h  Stored in directory: /home/jovyan/.cache/pip/wheels/54/a2/b4/e242e58d23b2808e191b214067880faa46cd2341f363886e0b\n",
      "Successfully built pyfaidx\n",
      "Installing collected packages: pyfaidx\n",
      "Successfully installed pyfaidx-0.5.5.2\n"
     ]
    }
   ],
   "source": [
    "#install a necessary dependency\n",
    "!pip install pyfaidx"
   ]
  },
  {
   "cell_type": "markdown",
   "metadata": {},
   "source": [
    "#### Display USAGE block"
   ]
  },
  {
   "cell_type": "code",
   "execution_count": 3,
   "metadata": {},
   "outputs": [
    {
     "name": "stdout",
     "output_type": "stream",
     "text": [
      "usage: get_seq_from_multiFASTA_with_match_in_description.py\n",
      "       [-h] [-cs] SEQUENCE_FILE TEXT_TO_MATCH\n",
      "\n",
      "get_seq_from_multiFASTA_with_match_in_description.py takes any sequences in\n",
      "FASTA format and gets the first sequence with a description line containing a\n",
      "match to provided text string. For example, if provided a multi-sequence FASTA\n",
      "file and a gene identifier, such as `YDL140C`, it will pull out the first\n",
      "sequence matching that anywhere in description line. Defaults to ignoring\n",
      "case. **** Script by Wayne Decatur (fomightez @ github) ***\n",
      "\n",
      "positional arguments:\n",
      "  SEQUENCE_FILE         Name of sequence file to search.\n",
      "  TEXT_TO_MATCH         Text to match.\n",
      "\n",
      "optional arguments:\n",
      "  -h, --help            show this help message and exit\n",
      "  -cs, --case_sensitive\n",
      "                        Add this flag if you want to force matching to be\n",
      "                        case-sensitive.\n"
     ]
    }
   ],
   "source": [
    "!python get_seq_from_multiFASTA_with_match_in_description.py -h"
   ]
  },
  {
   "cell_type": "markdown",
   "metadata": {},
   "source": [
    "Next, we'll get example data and extract a sequence."
   ]
  },
  {
   "cell_type": "code",
   "execution_count": 4,
   "metadata": {},
   "outputs": [
    {
     "name": "stdout",
     "output_type": "stream",
     "text": [
      "  % Total    % Received % Xferd  Average Speed   Time    Time     Time  Current\n",
      "                                 Dload  Upload   Total   Spent    Left  Speed\n",
      "100   178  100   178    0     0   2253      0 --:--:-- --:--:-- --:--:--  2253\n",
      "100  1413  100  1413    0     0   8028      0 --:--:-- --:--:-- --:--:-- 28260\n"
     ]
    }
   ],
   "source": [
    "# Get a file of protein sequences\n",
    "!curl -OL http://yjx1217.github.io/Yeast_PacBio_2016/data/Mitochondrial_PEP/DBVPG6044.mt.pep.fa.gz\n",
    "!gunzip DBVPG6044.mt.pep.fa.gz"
   ]
  },
  {
   "cell_type": "code",
   "execution_count": 5,
   "metadata": {},
   "outputs": [
    {
     "name": "stdout",
     "output_type": "stream",
     "text": [
      "\n",
      "\n",
      "*****************DONE**************************\n",
      "Extracted sequence saved in FASTA format as 'seq_cox1.fa'.\n",
      "*****************DONE**************************\n"
     ]
    }
   ],
   "source": [
    "# Extract\n",
    "!python get_seq_from_multiFASTA_with_match_in_description.py DBVPG6044.mt.pep.fa cox1"
   ]
  },
  {
   "cell_type": "markdown",
   "metadata": {},
   "source": [
    "The next cell shows it worked."
   ]
  },
  {
   "cell_type": "code",
   "execution_count": 6,
   "metadata": {},
   "outputs": [
    {
     "name": "stdout",
     "output_type": "stream",
     "text": [
      ">COX1|COX1.t01|COX1\n",
      "MVQRWLYSTNAKDIAVLYFMLAIFSGMAGTAMSLIIRLELAAPGSQYLHGNSQLFNVLVTGHAVLMIFFLVMPALMGGFGNYLLPLMIGATDTAFPRINNIAFWVLPMGLVCLVTSTLVESGAGTGWTVYPPLSSIQAHSGPSVDLAIFALHLTSISSLLGAINFIVTTLNMRTNGMTMHKLPLFVWSIFITAFLLLLSLPVLSAGITMLLLDRNFNTSFFEVAGGGDPILYEHLFWFFGHPEVYILIIPGFGIISHVVSTYSKKPVFGEISMVYAMASIGLLGFLVWSHHMYIVGLDADTRAYFTSATMIIAIPTGIKIFSWLATIYGGSIRLATPMLYAIAFLFLFTMGGLTGVALANASLDVAFHDTYYVVGHFHYVLSMGAIFSLFAGYYYWSPQILGLNYNEKLAQIQFWLIFIGANVIFFPMHFLGINGMPRRIPDYPDAFAGWNYVASIGSFIATLSLFLFIYILYDQLVNGLNNKVNNKSVIYAKAPDFVESNTIFNLNTVKSSSIEFLLTSPPAVHSFNTPAVQS"
     ]
    }
   ],
   "source": [
    "!head seq_cox1.fa"
   ]
  },
  {
   "cell_type": "markdown",
   "metadata": {},
   "source": [
    "There is an optional flag that can be added to make the matching case sensitive. (The default is to not be case sensitive.)"
   ]
  },
  {
   "cell_type": "code",
   "execution_count": 7,
   "metadata": {},
   "outputs": [
    {
     "name": "stdout",
     "output_type": "stream",
     "text": [
      "**ERROR:No match to provided text found in description line for ANY sequence record.  ***ERROR*** \n",
      "EXITING.\n"
     ]
    }
   ],
   "source": [
    "!python get_seq_from_multiFASTA_with_match_in_description.py DBVPG6044.mt.pep.fa cox1 -cs"
   ]
  },
  {
   "cell_type": "code",
   "execution_count": 8,
   "metadata": {},
   "outputs": [
    {
     "name": "stdout",
     "output_type": "stream",
     "text": [
      "\n",
      "\n",
      "*****************DONE**************************\n",
      "Extracted sequence saved in FASTA format as 'seq_COX1.fa'.\n",
      "*****************DONE**************************\n"
     ]
    }
   ],
   "source": [
    "!python get_seq_from_multiFASTA_with_match_in_description.py DBVPG6044.mt.pep.fa COX1 -cs"
   ]
  },
  {
   "cell_type": "markdown",
   "metadata": {},
   "source": [
    "## Use script in a Jupyter notebook to collect sequences from a series of PacBio-sequenced genomes"
   ]
  },
  {
   "cell_type": "markdown",
   "metadata": {},
   "source": [
    "This will demonstrating importing the script into a notebook and importing the main function in order to collect protein sequences from a collection of PacBio sequenced yeast genomes from [Yue et al 2017](https://www.ncbi.nlm.nih.gov/pubmed/28416820).\n",
    "\n",
    "Reference for sequence data:  \n",
    "[Contrasting evolutionary genome dynamics between domesticated and wild yeasts.\n",
    "Yue JX, Li J, Aigrain L, Hallin J, Persson K, Oliver K, Bergström A, Coupland P, Warringer J, Lagomarsino MC, Fischer G, Durbin R, Liti G. Nat Genet. 2017 Jun;49(6):913-924. doi: 10.1038/ng.3847. Epub 2017 Apr 17. PMID: 28416820](https://www.ncbi.nlm.nih.gov/pubmed/28416820)\n",
    "\n",
    "This is meant to demonstrate using Python and the script to make accomplish a series of steps."
   ]
  },
  {
   "cell_type": "code",
   "execution_count": 9,
   "metadata": {},
   "outputs": [],
   "source": [
    "# Get the script if the above section wasn't run\n",
    "import os\n",
    "file_needed = \"get_seq_from_multiFASTA_with_match_in_description.py\"\n",
    "if not os.path.isfile(file_needed):\n",
    "    !curl -O https://raw.githubusercontent.com/fomightez/sequencework/master/Extract_from_FASTA/get_seq_from_multiFASTA_with_match_in_description.py"
   ]
  },
  {
   "cell_type": "code",
   "execution_count": 10,
   "metadata": {},
   "outputs": [],
   "source": [
    "# Prepare for getting PacBio (Yue et al 2017 sequences)\n",
    "#make a list of the strain designations\n",
    "yue_et_al_strains = [\"S288C\",\"DBVPG6044\",\"DBVPG6765\",\"SK1\",\"Y12\",\n",
    "                     \"YPS128\",\"UWOPS034614\",\"CBS432\",\"N44\",\"YPS138\",\n",
    "                     \"UFRJ50816\",\"UWOPS919171\"]"
   ]
  },
  {
   "cell_type": "code",
   "execution_count": 11,
   "metadata": {},
   "outputs": [
    {
     "name": "stdout",
     "output_type": "stream",
     "text": [
      "  % Total    % Received % Xferd  Average Speed   Time    Time     Time  Current\n",
      "                                 Dload  Upload   Total   Spent    Left  Speed\n",
      "100   178  100   178    0     0   3708      0 --:--:-- --:--:-- --:--:--  3632\n",
      "100 1653k  100 1653k    0     0  5661k      0 --:--:-- --:--:-- --:--:-- 5661k\n",
      "  % Total    % Received % Xferd  Average Speed   Time    Time     Time  Current\n",
      "                                 Dload  Upload   Total   Spent    Left  Speed\n",
      "100   178  100   178    0     0   3296      0 --:--:-- --:--:-- --:--:--  3358\n",
      "100 1660k  100 1660k    0     0  3539k      0 --:--:-- --:--:-- --:--:-- 3539k\n",
      "  % Total    % Received % Xferd  Average Speed   Time    Time     Time  Current\n",
      "                                 Dload  Upload   Total   Spent    Left  Speed\n",
      "100   178  100   178    0     0   3358      0 --:--:-- --:--:-- --:--:--  3358\n",
      "100 1655k  100 1655k    0     0  4160k      0 --:--:-- --:--:-- --:--:-- 4160k\n",
      "  % Total    % Received % Xferd  Average Speed   Time    Time     Time  Current\n",
      "                                 Dload  Upload   Total   Spent    Left  Speed\n",
      "100   178  100   178    0     0   3490      0 --:--:-- --:--:-- --:--:--  3560\n",
      "100 1659k  100 1659k    0     0  3492k      0 --:--:-- --:--:-- --:--:-- 7576k\n",
      "  % Total    % Received % Xferd  Average Speed   Time    Time     Time  Current\n",
      "                                 Dload  Upload   Total   Spent    Left  Speed\n",
      "100   178  100   178    0     0   3358      0 --:--:-- --:--:-- --:--:--  3358\n",
      "100 1654k  100 1654k    0     0  6015k      0 --:--:-- --:--:-- --:--:-- 6015k\n",
      "  % Total    % Received % Xferd  Average Speed   Time    Time     Time  Current\n",
      "                                 Dload  Upload   Total   Spent    Left  Speed\n",
      "100   178  100   178    0     0   3490      0 --:--:-- --:--:-- --:--:--  3490\n",
      "100 1660k  100 1660k    0     0  4560k      0 --:--:-- --:--:-- --:--:-- 5887k\n",
      "  % Total    % Received % Xferd  Average Speed   Time    Time     Time  Current\n",
      "                                 Dload  Upload   Total   Spent    Left  Speed\n",
      "100   178  100   178    0     0   3869      0 --:--:-- --:--:-- --:--:--  3869\n",
      "100 1664k  100 1664k    0     0  5966k      0 --:--:-- --:--:-- --:--:-- 5966k\n",
      "  % Total    % Received % Xferd  Average Speed   Time    Time     Time  Current\n",
      "                                 Dload  Upload   Total   Spent    Left  Speed\n",
      "100   178  100   178    0     0   3708      0 --:--:-- --:--:-- --:--:--  3787\n",
      "100 1661k  100 1661k    0     0  3619k      0 --:--:-- --:--:-- --:--:-- 4640k\n",
      "  % Total    % Received % Xferd  Average Speed   Time    Time     Time  Current\n",
      "                                 Dload  Upload   Total   Spent    Left  Speed\n",
      "100   178  100   178    0     0   3178      0 --:--:-- --:--:-- --:--:--  3178\n",
      "100 1661k  100 1661k    0     0  5727k      0 --:--:-- --:--:-- --:--:-- 5727k\n",
      "  % Total    % Received % Xferd  Average Speed   Time    Time     Time  Current\n",
      "                                 Dload  Upload   Total   Spent    Left  Speed\n",
      "100   178  100   178    0     0   2069      0 --:--:-- --:--:-- --:--:--  2069\n",
      "100 1656k  100 1656k    0     0  5635k      0 --:--:-- --:--:-- --:--:-- 5635k\n",
      "  % Total    % Received % Xferd  Average Speed   Time    Time     Time  Current\n",
      "                                 Dload  Upload   Total   Spent    Left  Speed\n",
      "100   178  100   178    0     0   2918      0 --:--:-- --:--:-- --:--:--  2918\n",
      "100 1660k  100 1660k    0     0  5907k      0 --:--:-- --:--:-- --:--:-- 5907k\n",
      "  % Total    % Received % Xferd  Average Speed   Time    Time     Time  Current\n",
      "                                 Dload  Upload   Total   Spent    Left  Speed\n",
      "100   178  100   178    0     0   3632      0 --:--:-- --:--:-- --:--:--  3632\n",
      "100 1646k  100 1646k    0     0  4473k      0 --:--:-- --:--:-- --:--:-- 4473k\n"
     ]
    }
   ],
   "source": [
    "# Get & unpack protein sequences from strains \n",
    "for s in yue_et_al_strains:\n",
    "    !curl -LO http://yjx1217.github.io/Yeast_PacBio_2016/data/Nuclear_PEP/{s}.pep.fa.gz\n",
    "    !gunzip -f {s}.pep.fa.gz"
   ]
  },
  {
   "cell_type": "markdown",
   "metadata": {},
   "source": [
    "With the protein sequences available, we are ready to step through each file and collect the protein sequence for a gene which we will designate with the [SGD](https://www.yeastgenome.org/) systematic identifier. Fortunately, Yue et al. had already annotated the description line of the protein encoding sequences with the identifier of the corresponding gene from the SGD reference sequence for S288C.\n",
    "\n",
    "One more preparation step is to bring the main function from `get_seq_from_multiFASTA_with_match_in_description.py` into the notebook environment. The next cell does that."
   ]
  },
  {
   "cell_type": "code",
   "execution_count": 12,
   "metadata": {},
   "outputs": [],
   "source": [
    "# bring the main function from `get_seq_from_multiFASTA_with_match_in_description.py` into the namespace\n",
    "from get_seq_from_multiFASTA_with_match_in_description import get_seq_from_multiFASTA_with_match_in_description"
   ]
  },
  {
   "cell_type": "code",
   "execution_count": 13,
   "metadata": {},
   "outputs": [
    {
     "name": "stderr",
     "output_type": "stream",
     "text": [
      "\n",
      "\n",
      "*****************DONE**************************\n",
      "Extracted sequence saved in FASTA format as 'seq_YDL140C.fa'.\n",
      "*****************DONE**************************\n",
      "\n",
      "\n",
      "*****************DONE**************************\n",
      "Extracted sequence saved in FASTA format as 'seq_YDL140C.fa'.\n",
      "*****************DONE**************************\n",
      "\n",
      "\n",
      "*****************DONE**************************\n",
      "Extracted sequence saved in FASTA format as 'seq_YDL140C.fa'.\n",
      "*****************DONE**************************\n",
      "\n",
      "\n",
      "*****************DONE**************************\n",
      "Extracted sequence saved in FASTA format as 'seq_YDL140C.fa'.\n",
      "*****************DONE**************************\n",
      "\n",
      "\n",
      "*****************DONE**************************\n",
      "Extracted sequence saved in FASTA format as 'seq_YDL140C.fa'.\n",
      "*****************DONE**************************\n",
      "\n",
      "\n",
      "*****************DONE**************************\n",
      "Extracted sequence saved in FASTA format as 'seq_YDL140C.fa'.\n",
      "*****************DONE**************************\n",
      "\n",
      "\n",
      "*****************DONE**************************\n",
      "Extracted sequence saved in FASTA format as 'seq_YDL140C.fa'.\n",
      "*****************DONE**************************\n",
      "\n",
      "\n",
      "*****************DONE**************************\n",
      "Extracted sequence saved in FASTA format as 'seq_YDL140C.fa'.\n",
      "*****************DONE**************************\n",
      "\n",
      "\n",
      "*****************DONE**************************\n",
      "Extracted sequence saved in FASTA format as 'seq_YDL140C.fa'.\n",
      "*****************DONE**************************\n",
      "\n",
      "\n",
      "*****************DONE**************************\n",
      "Extracted sequence saved in FASTA format as 'seq_YDL140C.fa'.\n",
      "*****************DONE**************************\n",
      "\n",
      "\n",
      "*****************DONE**************************\n",
      "Extracted sequence saved in FASTA format as 'seq_YDL140C.fa'.\n",
      "*****************DONE**************************\n",
      "\n",
      "\n",
      "*****************DONE**************************\n",
      "Extracted sequence saved in FASTA format as 'seq_YDL140C.fa'.\n",
      "*****************DONE**************************\n"
     ]
    }
   ],
   "source": [
    "# Use fnmatch to find match to the protein sequence file names \n",
    "# so only check in the peptide fasta files (skip the index files ending \n",
    "# in `.fai` and the mito sequence example from above)\n",
    "\n",
    "gene_to_match = \"YDL140C\"\n",
    "\n",
    "\n",
    "fn_to_check = \"pep.fa\" #part of file name in files to search\n",
    "sequences = \"\" #initialize a string to collect sequences in\n",
    "\n",
    "import os\n",
    "import fnmatch\n",
    "for file in os.listdir('.'):\n",
    "    if fnmatch.fnmatch(file, '*'+fn_to_check):\n",
    "        if not file.endswith(\".fai\") and file != \"DBVPG6044.mt.pep.fa\":\n",
    "            sequences += get_seq_from_multiFASTA_with_match_in_description(\n",
    "                file,gene_to_match, return_record_as_string=True)\n",
    "            sequences += \"\\n\" # so the next entry is on a new line"
   ]
  },
  {
   "cell_type": "markdown",
   "metadata": {},
   "source": [
    "Let's save the file of the sequences because we'll probably want them."
   ]
  },
  {
   "cell_type": "code",
   "execution_count": 14,
   "metadata": {},
   "outputs": [
    {
     "name": "stdout",
     "output_type": "stream",
     "text": [
      "Writing 'sequences' (str) to file 'YDL140C_pacbio_orthologs.fa'.\n"
     ]
    }
   ],
   "source": [
    "%store sequences > \"YDL140C_pacbio_orthologs.fa\""
   ]
  },
  {
   "cell_type": "markdown",
   "metadata": {},
   "source": [
    "Let's check that:"
   ]
  },
  {
   "cell_type": "code",
   "execution_count": 15,
   "metadata": {},
   "outputs": [
    {
     "name": "stdout",
     "output_type": "stream",
     "text": [
      ">CBS432_04G00980|CBS432_04T00980.1|YDL140C\n",
      "MVGQQYSSAPLRTVKEVQFGLFSPEEVRAISVAKIRFPETMDETQTRAKIGGLNDPRLGSIDRNLKCQTCQEGMNECPGHFGHIDLAKPVFHVGFIAKIKKVCECVCMHCGKLLLDEHNELMRQALAIKDSKKRFAAIWTLCKTKMVCETDVPSEDDPTQLVSRGGCGNTQPTVRKDGLKLVGSWKKDRASGDADEPELRVLSTEEILNIFKHISVKDFTSLGFNEVFSRPEWMILTCLPVPPPPVRPSISFNESQRGEDDLTFKLADILKANISLETLEHNGAPHHAIEEAESLLQFHVATYMDNDIAGQPQALQKSGRPVKSIRARLKGKEGRIRGNLMGKRVDFSARTVISGDPNLELDQVGVPKSIAKTLTYPEVVTPYNIDRLTQLVRNGPNEHPGAKYVIRDSGDRIDLRYSKRAGDIQLQYGWKVERHIMDNDPVLFNRQPSLHKMSMMAHRVKVIPYSTFRLNLSVTSPYNADFDGDEMNLHVPQSEETRAELSQLCAVPLQIVSPQSNKPCMGIVQDTLCGIRKLTLRDTFIELDQVLNMLYWVPDWDGVIPTPAIIKPKPLWSGKQILSVAIPNGIHLQRFDEGTTLLSPKDNGMLIIDGQIIFGVVEKKTVGSSNGGLIHVVTREKGPQVCAKLFGNIQKVVNFWLLHNGFSTGIGDTIADGPTMREITETIAEAKKKVLDVTKEAQANLLTAKHGMTLRESFEDNVVRFLNEARDKAGRLAEVNLKDLNNVKQMVMAGSKGSFINIAQMSACVGQQSVEGKRIAFGFVDRTLPHFSKDDYSPESKGFVENSYLRGLTPQEFFFHAMGGREGLIDTAVKTAETGYIQRRLVKALEDIMVHYDNTTRNSLGNVIQFIYGEDGMDAAHIEKQSLDTIGGSDTAFERRYRIDLLNTDHTLDPSLLESGSEILGDLKLQVLLDEEYKQLVKDRKFLREVFVDGEANWPLPVNIRRIIQNAQQTFHIDHTKPSDLTIKDIVLGVKDLQENLLVLRGKNEIIQNAQRDAVTLFCCLLRSRLATRRVLQEYRLTKQAFEWVLSNIEAQFLRSVVHPGEMVGVLAAQSIGEPATQMTLNTFHFAGVASKKVTSGVPRLKEILNVAKNMKTPSLTVYLEPGHAADQEQAKLIRSAIEHTTLKSVTIASEIYYDPDPRSTVIPEDEEIIQLHFSLLDDEAEQSFDQQSPWLLRLELDRAAMNDKDLTMGQVGERIKQTFKNDLFVIWSEDNDEKLIIRCRVVRPKSLDAETEAEEDHMLKKIENTMLENITLRGVENIERVVMMKYDRKVPSPTGEYVKEPEWVLETDGVNLSEVMTVPGIDPTRIYTNSFIDIMEVLGIEAGRAALYKEVYNVIASDGSYVNYRHMALLVDVMTTQGGLTSVTRHGFNRSNTGALMRCSFEETVEILFEAGASAELDDCRGVSENVILGQMAPIGTGAFDVMIDEESLVKYMPEQKITEIEDGQDGGVTPYSNESGLVNADLDVKDELMFSPLVDSGSNDAMAGGFTAYGGADYGEATSPFGAYGEAPTSPGFGVSSPGFSPTSPTYSPTSPAYSPTSPSYSPTSPSYSPTSPSYSPTSPSYSPTSPSYSPTSPSYSPTSPSYSPTSPSYSPTSPSYSPTSPSYSPTSPSYSPTSPSYSPTSPSYSPTSPSYSPTSPAYSPTSPSYSPTSPSYSPTSPSYSPTSPNYSPTSPSYSPTSPGYSPGSPAYSPKQDEQKHNENENSK\n",
      ">S288c_04G00970|S288c_04T00970.1|YDL140C\n",
      "MVGQQYSSAPLRTVKEVQFGLFSPEEVRAISVAKIRFPETMDETQTRAKIGGLNDPRLGSIDRNLKCQTCQEGMNECPGHFGHIDLAKPVFHVGFIAKIKKVCECVCMHCGKLLLDEHNELMRQALAIKDSKKRFAAIWTLCKTKMVCETDVPSEDDPTQLVSRGGCGNTQPTIRKDGLKLVGSWKKDRATGDADEPELRVLSTEEILNIFKHISVKDFTSLGFNEVFSRPEWMILTCLPVPPPPVRPSISFNESQRGEDDLTFKLADILKANISLETLEHNGAPHHAIEEAESLLQFHVATYMDNDIAGQPQALQKSGRPVKSIRARLKGKEGRIRGNLMGKRVDFSARTVISGDPNLELDQVGVPKSIAKTLTYPEVVTPYNIDRLTQLVRNGPNEHPGAKYVIRDSGDRIDLRYSKRAGDIQLQYGWKVERHIMDNDPVLFNRQPSLHKMSMMAHRVKVIPYSTFRLNLSVTSPYNADFDGDEMNLHVPQSEETRAELSQLCAVPLQIVSPQSNKPCMGIVQDTLCGIRKLTLRDTFIELDQVLNMLYWVPDWDGVIPTPAIIKPKPLWSGKQILSVAIPNGIHLQRFDEGTTLLSPKDNGMLIIDGQIIFGVVEKKTVGSSNGGLIHVVTREKGPQVCAKLFGNIQKVVNFWLLHNGFSTGIGDTIADGPTMREITETIAEAKKKVLDVTKEAQANLLTAKHGMTLRESFEDNVVRFLNEARDKAGRLAEVNLKDLNNVKQMVMAGSKGSFINIAQMSACVGQQSVEGKRIAFGFVDRTLPHFSKDDYSPESKGFVENSYLRGLTPQEFFFHAMGGREGLIDTAVKTAETGYIQRRLVKALEDIMVHYDNTTRNSLGNVIQFIYGEDGMDAAHIEKQSLDTIGGSDAAFEKRYRVDLLNTDHTLDPSLLESGSEILGDLKLQVLLDEEYKQLVKDRKFLREVFVDGEANWPLPVNIRRIIQNAQQTFHIDHTKPSDLTIKDIVLGVKDLQENLLVLRGKNEIIQNAQRDAVTLFCCLLRSRLATRRVLQEYRLTKQAFDWVLSNIEAQFLRSVVHPGEMVGVLAAQSIGEPATQMTLNTFHFAGVASKKVTSGVPRLKEILNVAKNMKTPSLTVYLEPGHAADQEQAKLIRSAIEHTTLKSVTIASEIYYDPDPRSTVIPEDEEIIQLHFSLLDEEAEQSFDQQSPWLLRLELDRAAMNDKDLTMGQVGERIKQTFKNDLFVIWSEDNDEKLIIRCRVVRPKSLDAETEAEEDHMLKKIENTMLENITLRGVENIERVVMMKYDRKVPSPTGEYVKEPEWVLETDGVNLSEVMTVPGIDPTRIYTNSFIDIMEVLGIEAGRAALYKEVYNVIASDGSYVNYRHMALLVDVMTTQGGLTSVTRHGFNRSNTGALMRCSFEETVEILFEAGASAELDDCRGVSENVILGQMAPIGTGAFDVMIDEESLVKYMPEQKITEIEDGQDGGVTPYSNESGLVNADLDVKDELMFSPLVDSGSNDAMAGGFTAYGGADYGEATSPFGAYGEAPTSPGFGVSSPGFSPTSPTYSPTSPAYSPTSPSYSPTSPSYSPTSPSYSPTSPSYSPTSPSYSPTSPSYSPTSPSYSPTSPSYSPTSPSYSPTSPSYSPTSPSYSPTSPSYSPTSPSYSPTSPSYSPTSPAYSPTSPSYSPTSPSYSPTSPSYSPTSPSYSPTSPNYSPTSPSYSPTSPGYSPGSPAYSPKQDEQKHNENENSR\n"
     ]
    }
   ],
   "source": [
    "!head -n 4 YDL140C_pacbio_orthologs.fa"
   ]
  },
  {
   "cell_type": "markdown",
   "metadata": {},
   "source": [
    "Note that we get two sequences even though I listed `-n 4` because description lines and sequence each separate line.\n",
    "\n",
    "Save your file to your local machine."
   ]
  }
 ],
 "metadata": {
  "kernelspec": {
   "display_name": "Python 3",
   "language": "python",
   "name": "python3"
  },
  "language_info": {
   "codemirror_mode": {
    "name": "ipython",
    "version": 3
   },
   "file_extension": ".py",
   "mimetype": "text/x-python",
   "name": "python",
   "nbconvert_exporter": "python",
   "pygments_lexer": "ipython3",
   "version": "3.6.7"
  }
 },
 "nbformat": 4,
 "nbformat_minor": 2
}
