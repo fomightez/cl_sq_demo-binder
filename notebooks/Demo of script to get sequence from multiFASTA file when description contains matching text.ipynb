{
 "cells": [
  {
   "cell_type": "markdown",
   "metadata": {},
   "source": [
    "# Demo of script to get sequence from multiFASTA file when description contains matching text\n",
    "\n",
    "In order to demonstrate the use of my script `get_seq_from_multiFASTA_with_match_in_description.py`, I'll use it to collect protein sequences from a collection of PacBio sequenced yeast genomes from [Yue et al 2017](https://www.ncbi.nlm.nih.gov/pubmed/28416820).\n",
    "\n",
    "Reference for sequence data:  \n",
    "[Contrasting evolutionary genome dynamics between domesticated and wild yeasts.\n",
    "Yue JX, Li J, Aigrain L, Hallin J, Persson K, Oliver K, Bergström A, Coupland P, Warringer J, Lagomarsino MC, Fischer G, Durbin R, Liti G. Nat Genet. 2017 Jun;49(6):913-924. doi: 10.1038/ng.3847. Epub 2017 Apr 17. PMID: 28416820](https://www.ncbi.nlm.nih.gov/pubmed/28416820)\n",
    "\n",
    "This is meant to represent a typical workflow where a combination of these steps might be used.\n",
    "\n",
    "------"
   ]
  },
  {
   "cell_type": "markdown",
   "metadata": {},
   "source": [
    "##  Basic use\n",
    "\n",
    "This script gets a sequence from a sequence file with multiple sequence entries in FASTA format (a.k.a. multiFASTA file) if there is a match to the provided text in the description line.\n",
    "It gets the first match it finds only.\n",
    "\n",
    "Before going on to use in a situation more representativ, this is meant to show the basics of using it on the command line. (On the 'proper' command line you wouldn't need the exclamation points I put in front of these commands for them to work in this notebook.)"
   ]
  },
  {
   "cell_type": "code",
   "execution_count": 3,
   "metadata": {},
   "outputs": [
    {
     "name": "stdout",
     "output_type": "stream",
     "text": [
      "  % Total    % Received % Xferd  Average Speed   Time    Time     Time  Current\n",
      "                                 Dload  Upload   Total   Spent    Left  Speed\n",
      "100  9941  100  9941    0     0  72036      0 --:--:-- --:--:-- --:--:-- 72562\n"
     ]
    }
   ],
   "source": [
    "# Get the script\n",
    "!curl -O https://raw.githubusercontent.com/fomightez/sequencework/master/Extract_from_FASTA/get_seq_from_multiFASTA_with_match_in_description.py"
   ]
  },
  {
   "cell_type": "markdown",
   "metadata": {},
   "source": [
    "#### Display USAGE block"
   ]
  },
  {
   "cell_type": "code",
   "execution_count": 5,
   "metadata": {},
   "outputs": [
    {
     "name": "stdout",
     "output_type": "stream",
     "text": [
      "usage: get_seq_from_multiFASTA_with_match_in_description.py\n",
      "       [-h] [-cs] SEQUENCE_FILE TEXT_TO_MATCH\n",
      "\n",
      "get_seq_from_multiFASTA_with_match_in_description.py takes any sequences in\n",
      "FASTA format and gets the first sequence with a description line containing a\n",
      "match to provided text string. For example, if provided a multi-sequence FASTA\n",
      "file and a gene identifier, such as `YDL140C`, it will pull out the first\n",
      "sequence matching that anywhere in description line. Defaults to ignoring\n",
      "case. **** Script by Wayne Decatur (fomightez @ github) ***\n",
      "\n",
      "positional arguments:\n",
      "  SEQUENCE_FILE         Name of sequence file to search.\n",
      "  TEXT_TO_MATCH         Text to match.\n",
      "\n",
      "optional arguments:\n",
      "  -h, --help            show this help message and exit\n",
      "  -cs, --case_sensitive\n",
      "                        Add this flag if you want to force matching to be\n",
      "                        case-sensitive.\n"
     ]
    }
   ],
   "source": [
    "!python get_seq_from_multiFASTA_with_match_in_description.py -h"
   ]
  },
  {
   "cell_type": "markdown",
   "metadata": {},
   "source": [
    "Next, we'll get example data and extract a sequence."
   ]
  },
  {
   "cell_type": "code",
   "execution_count": 10,
   "metadata": {},
   "outputs": [],
   "source": [
    "# Get a file of protein sequences\n",
    "!curl -OL http://yjx1217.github.io/Yeast_PacBio_2016/data/Mitochondrial_PEP/DBVPG6044.mt.pep.fa.gz\n",
    "!gunzip DBVPG6044.mt.pep.fa.gz"
   ]
  },
  {
   "cell_type": "code",
   "execution_count": 11,
   "metadata": {},
   "outputs": [
    {
     "name": "stdout",
     "output_type": "stream",
     "text": [
      "\n",
      "\n",
      "*****************DONE**************************\n",
      "Extracted sequence saved in FASTA format as 'seq_cox1.fa'.\n",
      "*****************DONE**************************\n"
     ]
    }
   ],
   "source": [
    "# Extract\n",
    "!python get_seq_from_multiFASTA_with_match_in_description.py DBVPG6044.mt.pep.fa cox1"
   ]
  },
  {
   "cell_type": "markdown",
   "metadata": {},
   "source": [
    "The next cell shows it worked."
   ]
  },
  {
   "cell_type": "code",
   "execution_count": 12,
   "metadata": {},
   "outputs": [
    {
     "name": "stdout",
     "output_type": "stream",
     "text": [
      ">COX1|COX1.t01|COX1\n",
      "MVQRWLYSTNAKDIAVLYFMLAIFSGMAGTAMSLIIRLELAAPGSQYLHGNSQLFNVLVTGHAVLMIFFLVMPALMGGFGNYLLPLMIGATDTAFPRINNIAFWVLPMGLVCLVTSTLVESGAGTGWTVYPPLSSIQAHSGPSVDLAIFALHLTSISSLLGAINFIVTTLNMRTNGMTMHKLPLFVWSIFITAFLLLLSLPVLSAGITMLLLDRNFNTSFFEVAGGGDPILYEHLFWFFGHPEVYILIIPGFGIISHVVSTYSKKPVFGEISMVYAMASIGLLGFLVWSHHMYIVGLDADTRAYFTSATMIIAIPTGIKIFSWLATIYGGSIRLATPMLYAIAFLFLFTMGGLTGVALANASLDVAFHDTYYVVGHFHYVLSMGAIFSLFAGYYYWSPQILGLNYNEKLAQIQFWLIFIGANVIFFPMHFLGINGMPRRIPDYPDAFAGWNYVASIGSFIATLSLFLFIYILYDQLVNGLNNKVNNKSVIYAKAPDFVESNTIFNLNTVKSSSIEFLLTSPPAVHSFNTPAVQS"
     ]
    }
   ],
   "source": [
    "!head seq_cox1.fa"
   ]
  },
  {
   "cell_type": "markdown",
   "metadata": {},
   "source": [
    "There is an optional flag that can be added to make the matching case sensitive. (The default is to not be case sensitive.)"
   ]
  },
  {
   "cell_type": "code",
   "execution_count": 14,
   "metadata": {},
   "outputs": [
    {
     "name": "stdout",
     "output_type": "stream",
     "text": [
      "**ERROR:No match to provided text found in description line for ANY sequence record.  ***ERROR*** \n",
      "EXITING.\n"
     ]
    }
   ],
   "source": [
    "!python get_seq_from_multiFASTA_with_match_in_description.py DBVPG6044.mt.pep.fa cox1 -cs"
   ]
  },
  {
   "cell_type": "code",
   "execution_count": 15,
   "metadata": {},
   "outputs": [
    {
     "name": "stdout",
     "output_type": "stream",
     "text": [
      "\n",
      "\n",
      "*****************DONE**************************\n",
      "Extracted sequence saved in FASTA format as 'seq_COX1.fa'.\n",
      "*****************DONE**************************\n"
     ]
    }
   ],
   "source": [
    "!python get_seq_from_multiFASTA_with_match_in_description.py DBVPG6044.mt.pep.fa COX1 -cs"
   ]
  },
  {
   "cell_type": "markdown",
   "metadata": {},
   "source": [
    "## Use script in a Jupyter notebook to collect sequences from a series of PacBio-sequenced genomes"
   ]
  },
  {
   "cell_type": "markdown",
   "metadata": {},
   "source": [
    "This will demonstrating importing the script into a notebook and importing the main function in order to collect protein sequences from a collection of PacBio sequenced yeast genomes from [Yue et al 2017](https://www.ncbi.nlm.nih.gov/pubmed/28416820).\n",
    "\n",
    "Reference for sequence data:  \n",
    "[Contrasting evolutionary genome dynamics between domesticated and wild yeasts.\n",
    "Yue JX, Li J, Aigrain L, Hallin J, Persson K, Oliver K, Bergström A, Coupland P, Warringer J, Lagomarsino MC, Fischer G, Durbin R, Liti G. Nat Genet. 2017 Jun;49(6):913-924. doi: 10.1038/ng.3847. Epub 2017 Apr 17. PMID: 28416820](https://www.ncbi.nlm.nih.gov/pubmed/28416820)\n",
    "\n",
    "This is meant to demonstrate using Python and the script to make accomplish a series of steps."
   ]
  },
  {
   "cell_type": "code",
   "execution_count": 19,
   "metadata": {},
   "outputs": [],
   "source": [
    "# Get the script if the above section wasn't run\n",
    "import os\n",
    "file_needed = \"get_seq_from_multiFASTA_with_match_in_description.py\"\n",
    "if not os.path.isfile(file_needed):\n",
    "    !curl -O https://raw.githubusercontent.com/fomightez/sequencework/master/Extract_from_FASTA/get_seq_from_multiFASTA_with_match_in_description.py"
   ]
  },
  {
   "cell_type": "code",
   "execution_count": 21,
   "metadata": {},
   "outputs": [],
   "source": [
    "# Prepare for getting PacBio (Yue et al 2017 sequences)\n",
    "#make a list of the strain designations\n",
    "yue_et_al_strains = [\"S288C\",\"DBVPG6044\",\"DBVPG6765\",\"SK1\",\"Y12\",\n",
    "                     \"YPS128\",\"UWOPS034614\",\"CBS432\",\"N44\",\"YPS138\",\n",
    "                     \"UFRJ50816\",\"UWOPS919171\"]"
   ]
  },
  {
   "cell_type": "code",
   "execution_count": 23,
   "metadata": {},
   "outputs": [
    {
     "name": "stdout",
     "output_type": "stream",
     "text": [
      "  % Total    % Received % Xferd  Average Speed   Time    Time     Time  Current\n",
      "                                 Dload  Upload   Total   Spent    Left  Speed\n",
      "100   178  100   178    0     0   2342      0 --:--:-- --:--:-- --:--:--  2373\n",
      "100 1653k  100 1653k    0     0  3451k      0 --:--:-- --:--:-- --:--:-- 3451k\n",
      "  % Total    % Received % Xferd  Average Speed   Time    Time     Time  Current\n",
      "                                 Dload  Upload   Total   Spent    Left  Speed\n",
      "100   178  100   178    0     0   3708      0 --:--:-- --:--:-- --:--:--  3708\n",
      "100 1660k  100 1660k    0     0  7125k      0 --:--:-- --:--:-- --:--:-- 7125k\n",
      "  % Total    % Received % Xferd  Average Speed   Time    Time     Time  Current\n",
      "                                 Dload  Upload   Total   Spent    Left  Speed\n",
      "100   178  100   178    0     0   1711      0 --:--:-- --:--:-- --:--:--  1711\n",
      "100 1655k  100 1655k    0     0  3221k      0 --:--:-- --:--:-- --:--:-- 3221k\n",
      "  % Total    % Received % Xferd  Average Speed   Time    Time     Time  Current\n",
      "                                 Dload  Upload   Total   Spent    Left  Speed\n",
      "100   178  100   178    0     0   3296      0 --:--:-- --:--:-- --:--:--  3296\n",
      "100 1659k  100 1659k    0     0  6011k      0 --:--:-- --:--:-- --:--:-- 9066k\n",
      "  % Total    % Received % Xferd  Average Speed   Time    Time     Time  Current\n",
      "                                 Dload  Upload   Total   Spent    Left  Speed\n",
      "100   178  100   178    0     0   3236      0 --:--:-- --:--:-- --:--:--  3236\n",
      "100 1654k  100 1654k    0     0  5388k      0 --:--:-- --:--:-- --:--:-- 5388k\n",
      "  % Total    % Received % Xferd  Average Speed   Time    Time     Time  Current\n",
      "                                 Dload  Upload   Total   Spent    Left  Speed\n",
      "100   178  100   178    0     0   3632      0 --:--:-- --:--:-- --:--:--  3708\n",
      "100 1660k  100 1660k    0     0  5804k      0 --:--:-- --:--:-- --:--:-- 5804k\n",
      "  % Total    % Received % Xferd  Average Speed   Time    Time     Time  Current\n",
      "                                 Dload  Upload   Total   Spent    Left  Speed\n",
      "100   178  100   178    0     0   3787      0 --:--:-- --:--:-- --:--:--  3787\n",
      "100 1664k  100 1664k    0     0  4611k      0 --:--:-- --:--:-- --:--:-- 4611k\n",
      "  % Total    % Received % Xferd  Average Speed   Time    Time     Time  Current\n",
      "                                 Dload  Upload   Total   Spent    Left  Speed\n",
      "100   178  100   178    0     0   3068      0 --:--:-- --:--:-- --:--:--  3068\n",
      "100 1661k  100 1661k    0     0  6893k      0 --:--:-- --:--:-- --:--:-- 6893k\n",
      "  % Total    % Received % Xferd  Average Speed   Time    Time     Time  Current\n",
      "                                 Dload  Upload   Total   Spent    Left  Speed\n",
      "100   178  100   178    0     0   3869      0 --:--:-- --:--:-- --:--:--  3869\n",
      "100 1661k  100 1661k    0     0  5555k      0 --:--:-- --:--:-- --:--:-- 22.6M\n",
      "  % Total    % Received % Xferd  Average Speed   Time    Time     Time  Current\n",
      "                                 Dload  Upload   Total   Spent    Left  Speed\n",
      "100   178  100   178    0     0   3955      0 --:--:-- --:--:-- --:--:--  3955\n",
      "100 1656k  100 1656k    0     0  6790k      0 --:--:-- --:--:-- --:--:-- 6790k\n",
      "  % Total    % Received % Xferd  Average Speed   Time    Time     Time  Current\n",
      "                                 Dload  Upload   Total   Spent    Left  Speed\n",
      "100   178  100   178    0     0   3632      0 --:--:-- --:--:-- --:--:--  3632\n",
      "100 1660k  100 1660k    0     0  5824k      0 --:--:-- --:--:-- --:--:-- 5824k\n",
      "  % Total    % Received % Xferd  Average Speed   Time    Time     Time  Current\n",
      "                                 Dload  Upload   Total   Spent    Left  Speed\n",
      "100   178  100   178    0     0   3296      0 --:--:-- --:--:-- --:--:--  3296\n",
      "100 1646k  100 1646k    0     0  6284k      0 --:--:-- --:--:-- --:--:-- 20.9M\n"
     ]
    }
   ],
   "source": [
    "# Get & unpack protein sequences from strains \n",
    "for s in yue_et_al_strains:\n",
    "    !curl -LO http://yjx1217.github.io/Yeast_PacBio_2016/data/Nuclear_PEP/{s}.pep.fa.gz\n",
    "    !gunzip -f {s}.pep.fa.gz"
   ]
  },
  {
   "cell_type": "markdown",
   "metadata": {},
   "source": [
    "With the protein sequences available, we are ready to step through each file and collect the protein sequence for a gene which we will designate with the [SGD](https://www.yeastgenome.org/) systematic identifier. Fortunately, Yue et al. had already annotated the description line of the protein encoding sequences with the identifier of the corresponding gene from the SGD reference sequence for S288C.\n",
    "\n",
    "One more preparation step is to bring the main function from `get_seq_from_multiFASTA_with_match_in_description.py` into the notebook environment. The next cell does that."
   ]
  },
  {
   "cell_type": "code",
   "execution_count": 1,
   "metadata": {},
   "outputs": [],
   "source": [
    "# bring the main function from `get_seq_from_multiFASTA_with_match_in_description.py` into the namespace\n",
    "from get_seq_from_multiFASTA_with_match_in_description import get_seq_from_multiFASTA_with_match_in_description"
   ]
  },
  {
   "cell_type": "code",
   "execution_count": 17,
   "metadata": {},
   "outputs": [
    {
     "name": "stderr",
     "output_type": "stream",
     "text": [
      "\n",
      "\n",
      "*****************DONE**************************\n",
      "Extracted sequence saved in FASTA format as 'seq_YDL140C.fa'.\n",
      "*****************DONE**************************\n",
      "\n",
      "\n",
      "*****************DONE**************************\n",
      "Extracted sequence saved in FASTA format as 'seq_YDL140C.fa'.\n",
      "*****************DONE**************************\n",
      "\n",
      "\n",
      "*****************DONE**************************\n",
      "Extracted sequence saved in FASTA format as 'seq_YDL140C.fa'.\n",
      "*****************DONE**************************\n",
      "\n",
      "\n",
      "*****************DONE**************************\n",
      "Extracted sequence saved in FASTA format as 'seq_YDL140C.fa'.\n",
      "*****************DONE**************************\n",
      "\n",
      "\n",
      "*****************DONE**************************\n",
      "Extracted sequence saved in FASTA format as 'seq_YDL140C.fa'.\n",
      "*****************DONE**************************\n",
      "\n",
      "\n",
      "*****************DONE**************************\n",
      "Extracted sequence saved in FASTA format as 'seq_YDL140C.fa'.\n",
      "*****************DONE**************************\n",
      "\n",
      "\n",
      "*****************DONE**************************\n",
      "Extracted sequence saved in FASTA format as 'seq_YDL140C.fa'.\n",
      "*****************DONE**************************\n",
      "\n",
      "\n",
      "*****************DONE**************************\n",
      "Extracted sequence saved in FASTA format as 'seq_YDL140C.fa'.\n",
      "*****************DONE**************************\n",
      "\n",
      "\n",
      "*****************DONE**************************\n",
      "Extracted sequence saved in FASTA format as 'seq_YDL140C.fa'.\n",
      "*****************DONE**************************\n",
      "\n",
      "\n",
      "*****************DONE**************************\n",
      "Extracted sequence saved in FASTA format as 'seq_YDL140C.fa'.\n",
      "*****************DONE**************************\n",
      "\n",
      "\n",
      "*****************DONE**************************\n",
      "Extracted sequence saved in FASTA format as 'seq_YDL140C.fa'.\n",
      "*****************DONE**************************\n",
      "\n",
      "\n",
      "*****************DONE**************************\n",
      "Extracted sequence saved in FASTA format as 'seq_YDL140C.fa'.\n",
      "*****************DONE**************************\n"
     ]
    }
   ],
   "source": [
    "# Use fnmatch to find match to the protein sequence file names \n",
    "# so only check in the peptide fasta files (skip the index files ending \n",
    "# in `.fai` and the mito sequence example from above)\n",
    "\n",
    "gene_to_match = \"YDL140C\"\n",
    "\n",
    "\n",
    "fn_to_check = \"pep.fa\" #part of file name in files to search\n",
    "sequences = \"\" #initialize a string to collect sequences in\n",
    "\n",
    "import os\n",
    "import fnmatch\n",
    "for file in os.listdir('.'):\n",
    "    if fnmatch.fnmatch(file, '*'+fn_to_check):\n",
    "        if not file.endswith(\".fai\") and file != \"DBVPG6044.mt.pep.fa\":\n",
    "            sequences += get_seq_from_multiFASTA_with_match_in_description(\n",
    "                file,gene_to_match, return_record_as_string=True)\n",
    "            sequences += \"\\n\" # so the next entry is on a new line"
   ]
  },
  {
   "cell_type": "markdown",
   "metadata": {},
   "source": [
    "Let's save the file of the sequences because we'll probably want them."
   ]
  },
  {
   "cell_type": "code",
   "execution_count": 18,
   "metadata": {},
   "outputs": [
    {
     "name": "stdout",
     "output_type": "stream",
     "text": [
      "Writing 'sequences' (str) to file 'YDL140C_orthologs.fa'.\n"
     ]
    }
   ],
   "source": [
    "%store sequences > \"YDL140C_orthologs.fa\""
   ]
  },
  {
   "cell_type": "markdown",
   "metadata": {},
   "source": [
    "Let's check that:"
   ]
  },
  {
   "cell_type": "code",
   "execution_count": 20,
   "metadata": {},
   "outputs": [
    {
     "name": "stdout",
     "output_type": "stream",
     "text": [
      ">CBS432_04G00980|CBS432_04T00980.1|YDL140C\n",
      "MVGQQYSSAPLRTVKEVQFGLFSPEEVRAISVAKIRFPETMDETQTRAKIGGLNDPRLGSIDRNLKCQTCQEGMNECPGHFGHIDLAKPVFHVGFIAKIKKVCECVCMHCGKLLLDEHNELMRQALAIKDSKKRFAAIWTLCKTKMVCETDVPSEDDPTQLVSRGGCGNTQPTVRKDGLKLVGSWKKDRASGDADEPELRVLSTEEILNIFKHISVKDFTSLGFNEVFSRPEWMILTCLPVPPPPVRPSISFNESQRGEDDLTFKLADILKANISLETLEHNGAPHHAIEEAESLLQFHVATYMDNDIAGQPQALQKSGRPVKSIRARLKGKEGRIRGNLMGKRVDFSARTVISGDPNLELDQVGVPKSIAKTLTYPEVVTPYNIDRLTQLVRNGPNEHPGAKYVIRDSGDRIDLRYSKRAGDIQLQYGWKVERHIMDNDPVLFNRQPSLHKMSMMAHRVKVIPYSTFRLNLSVTSPYNADFDGDEMNLHVPQSEETRAELSQLCAVPLQIVSPQSNKPCMGIVQDTLCGIRKLTLRDTFIELDQVLNMLYWVPDWDGVIPTPAIIKPKPLWSGKQILSVAIPNGIHLQRFDEGTTLLSPKDNGMLIIDGQIIFGVVEKKTVGSSNGGLIHVVTREKGPQVCAKLFGNIQKVVNFWLLHNGFSTGIGDTIADGPTMREITETIAEAKKKVLDVTKEAQANLLTAKHGMTLRESFEDNVVRFLNEARDKAGRLAEVNLKDLNNVKQMVMAGSKGSFINIAQMSACVGQQSVEGKRIAFGFVDRTLPHFSKDDYSPESKGFVENSYLRGLTPQEFFFHAMGGREGLIDTAVKTAETGYIQRRLVKALEDIMVHYDNTTRNSLGNVIQFIYGEDGMDAAHIEKQSLDTIGGSDTAFERRYRIDLLNTDHTLDPSLLESGSEILGDLKLQVLLDEEYKQLVKDRKFLREVFVDGEANWPLPVNIRRIIQNAQQTFHIDHTKPSDLTIKDIVLGVKDLQENLLVLRGKNEIIQNAQRDAVTLFCCLLRSRLATRRVLQEYRLTKQAFEWVLSNIEAQFLRSVVHPGEMVGVLAAQSIGEPATQMTLNTFHFAGVASKKVTSGVPRLKEILNVAKNMKTPSLTVYLEPGHAADQEQAKLIRSAIEHTTLKSVTIASEIYYDPDPRSTVIPEDEEIIQLHFSLLDDEAEQSFDQQSPWLLRLELDRAAMNDKDLTMGQVGERIKQTFKNDLFVIWSEDNDEKLIIRCRVVRPKSLDAETEAEEDHMLKKIENTMLENITLRGVENIERVVMMKYDRKVPSPTGEYVKEPEWVLETDGVNLSEVMTVPGIDPTRIYTNSFIDIMEVLGIEAGRAALYKEVYNVIASDGSYVNYRHMALLVDVMTTQGGLTSVTRHGFNRSNTGALMRCSFEETVEILFEAGASAELDDCRGVSENVILGQMAPIGTGAFDVMIDEESLVKYMPEQKITEIEDGQDGGVTPYSNESGLVNADLDVKDELMFSPLVDSGSNDAMAGGFTAYGGADYGEATSPFGAYGEAPTSPGFGVSSPGFSPTSPTYSPTSPAYSPTSPSYSPTSPSYSPTSPSYSPTSPSYSPTSPSYSPTSPSYSPTSPSYSPTSPSYSPTSPSYSPTSPSYSPTSPSYSPTSPSYSPTSPSYSPTSPSYSPTSPAYSPTSPSYSPTSPSYSPTSPSYSPTSPNYSPTSPSYSPTSPGYSPGSPAYSPKQDEQKHNENENSK\n"
     ]
    }
   ],
   "source": [
    "!head -n 2 YDL140C_orthologs.fa"
   ]
  },
  {
   "cell_type": "code",
   "execution_count": null,
   "metadata": {},
   "outputs": [],
   "source": []
  },
  {
   "cell_type": "code",
   "execution_count": null,
   "metadata": {},
   "outputs": [],
   "source": []
  },
  {
   "cell_type": "code",
   "execution_count": null,
   "metadata": {},
   "outputs": [],
   "source": []
  },
  {
   "cell_type": "markdown",
   "metadata": {},
   "source": [
    "Since the sequence in this case is from yeast, the FASTA can also be obtained using my script `get_protein_seq_as_FASTA.py` which will work in binder session launched from where this active notebook was also lanched. See about `get_protein_seq_as_FASTA.py` [here](https://github.com/fomightez/yeastmine)."
   ]
  },
  {
   "cell_type": "code",
   "execution_count": null,
   "metadata": {},
   "outputs": [],
   "source": []
  },
  {
   "cell_type": "code",
   "execution_count": null,
   "metadata": {},
   "outputs": [],
   "source": []
  },
  {
   "cell_type": "markdown",
   "metadata": {},
   "source": [
    "Yay! Sequence of one of the sequences in the manually-edited multiple sequence alignment has been confirmed against the official record to verifying no errors were introduced during editing. It is best the process is repeated with any others as well."
   ]
  },
  {
   "cell_type": "markdown",
   "metadata": {},
   "source": [
    "## Optional: Adjust width of alignment\n",
    "\n",
    "Biopython produces alignments with 50 sequence characters per line even if you started with ones like those that come from [EMBL-EBI's MUSCLE](https://www.ebi.ac.uk/Tools/msa/muscle/) or similar tools with 60 sequence characters per line. Clustal-formateted data with fifty sequence characters per line can be adjusted back to 60 (or some options) using [Mview](https://www.ebi.ac.uk/Tools/msa/mview/) and then parsing the output to actual CLUSTAL format. (Admittedly, it is a little kludgy but it works and it is less software to maintain by relying on [MView](https://www.ebi.ac.uk/Tools/msa/mview/) for most of the heavy lifting.)\n",
    "\n",
    "This illustrates doing that. \n",
    "\n",
    "#### Step 1: Use MView to get alignment with width desired.\n",
    "\n",
    "First, the alignment with fifty sequence characters per line needs to be submitted to [MView](https://www.ebi.ac.uk/Tools/msa/mview/) and the settings adjusted to make sure the right form comes back. The following lines describe doing that. **YOU DO NOT ACTUALLY NEED TO DO THAT FOR THE EXAMPLE; a pre-made version will be retrieved in the next cell to save you from needing to actually do these steps.**\n",
    " \n",
    "In the top box at [MView](https://www.ebi.ac.uk/Tools/msa/mview/), paste in the text of the alignment that written with Biopython's `AlignIO.write()` method above. In that example, the file containing the alignment text is called `standardized_alignment.clw`. \n",
    "\n",
    "Set `INPUT FORMAT` to 'CLUSTAL'.\n",
    "\n",
    "Under `STEP 3 - Set output parameters` at [MView](https://www.ebi.ac.uk/Tools/msa/mview/), click on the 'More options...' button and adjust the settings to match the image below. Adjust the 'ALIGNMENT WIDTH' in those options to what you'd like. \n",
    "\n",
    "![options_settings](../imgs/mview_settings_for_parse.png)\n",
    "\n",
    "Essentially, in addition to choosing 'MVIEW' as `OUTPUT FORMAT`, 'ON' for `ALIGNMENT`, the desired width, most settings are adjusted to 'OFF', in particular `HTML MARKUP`, `RULER`, and `CONSENSUS`.\n",
    "\n",
    "Submit the job and let it run.   \n",
    "We need to bring the result into this Jupyter session. Click the `Download Alignment File` button just above the text output. Currently, clicking that in my browser bings up a page with just the ouput text where I need to highlight all the text and copy and then copy the entire block of text and paste it into a file here in the Jupyter session.  Call it `mview_out.txt`. \n",
    "\n",
    "You can run the next cell to get the `mview_out.txt` file that would result from those steps."
   ]
  },
  {
   "cell_type": "code",
   "execution_count": 1,
   "metadata": {},
   "outputs": [
    {
     "name": "stdout",
     "output_type": "stream",
     "text": [
      "  % Total    % Received % Xferd  Average Speed   Time    Time     Time  Current\n",
      "                                 Dload  Upload   Total   Spent    Left  Speed\n",
      "100  2735  100  2735    0     0  11540      0 --:--:-- --:--:-- --:--:-- 11540\n"
     ]
    }
   ],
   "source": [
    "# Get pre-made mview output\n",
    "!curl -o mview_out.txt https://gist.githubusercontent.com/fomightez/f46b0624f1d8e3abb6ff908fc447e63b/raw/5860f3b4c6aaf25d348dd9a188670cb89e68792e/uv_mview_output.txt"
   ]
  },
  {
   "cell_type": "markdown",
   "metadata": {},
   "source": [
    "To show we have that:"
   ]
  },
  {
   "cell_type": "code",
   "execution_count": 2,
   "metadata": {},
   "outputs": [
    {
     "name": "stdout",
     "output_type": "stream",
     "text": [
      "Reference sequence (1): STV1 Identities normalised by aligned length.\n",
      "1 STV1 100.0% 100.0%  -MNQEEAIFRSADMTYVQLYIPLEVIREVTFLLGKMSVFMVMDLNKDLTAFQRGYVNQLR \n",
      "2 VPH1  91.5%  47.2%  MAEKEEAIFRSAEMALVQFYIPQEISRDSAYTLGQLGLVQFRDLNSKVRAFQRTFVNEIR \n",
      "\n",
      "1 STV1 100.0% 100.0%  RFDEVERMVGFLNEVVEKHAAETW-----KYILHIDDEGNDIAQPDMADLINTMEPLSLE \n",
      "2 VPH1  91.5%  47.2%  RLDNVERQYRYFYSLLKKHDIKLYEGDTDKYL----DGSGELYVPPSGSVI--------- \n",
      "\n",
      "1 STV1 100.0% 100.0%  NVNDMVKEITDCESRARQLDESLDSLRSKLNDLLEQRQVIFECSKFIEVNPGIAGRATNP \n",
      "2 VPH1  91.5%  47.2%  --DDYVRNASYLEERLIQMEDATDQIEVQKNDLEQYRFILQSGDEFF-----LKGDNTDS \n",
      "\n"
     ]
    }
   ],
   "source": [
    "!head mview_out.txt"
   ]
  },
  {
   "cell_type": "markdown",
   "metadata": {},
   "source": [
    "#### Step 2: Use my script to convert that to standardized CLUSTAL format.\n",
    "\n",
    "From the view above, you'll see that MView got things most of the way there.  Specifically, there is the idenitifier and the sequence of the specified width in each sequence block. My script mainly parses those out and adjusts a few things to make it standard CLUSTAL format.  \n",
    "The main source for the 'standardized' specification seems to be [here](http://meme-suite.org/doc/clustalw-format.html); however, see the top of this notebook for more about the specification.\n",
    "\n",
    "The next cell will retrieve the script."
   ]
  },
  {
   "cell_type": "code",
   "execution_count": 3,
   "metadata": {},
   "outputs": [
    {
     "name": "stdout",
     "output_type": "stream",
     "text": [
      "  % Total    % Received % Xferd  Average Speed   Time    Time     Time  Current\n",
      "                                 Dload  Upload   Total   Spent    Left  Speed\n",
      "100 13692  100 13692    0     0   129k      0 --:--:-- --:--:-- --:--:--  129k\n"
     ]
    }
   ],
   "source": [
    "# Get the script\n",
    "!curl -O https://raw.githubusercontent.com/fomightez/sequencework/master/alignment-utilities/mview_to_CLUSTAL.py"
   ]
  },
  {
   "cell_type": "markdown",
   "metadata": {},
   "source": [
    "Now we will point the script at that `mview_out.txt` file."
   ]
  },
  {
   "cell_type": "code",
   "execution_count": 4,
   "metadata": {},
   "outputs": [
    {
     "name": "stderr",
     "output_type": "stream",
     "text": [
      "MView output read...collected identifiers and sequences...arranging for output...\n",
      "\n",
      "Alignment converted from MView to CLUSTAL saved as 'mview_out_clustalized.clw'.\n",
      "Finished.\n"
     ]
    }
   ],
   "source": [
    "%run mview_to_CLUSTAL.py mview_out.txt"
   ]
  },
  {
   "cell_type": "markdown",
   "metadata": {},
   "source": [
    "To see the result:"
   ]
  },
  {
   "cell_type": "code",
   "execution_count": 5,
   "metadata": {},
   "outputs": [
    {
     "name": "stdout",
     "output_type": "stream",
     "text": [
      "CLUSTAL multiple sequence alignment by mview_to_CLUSTAL (0.1.0)\n",
      "\n",
      "STV1            -MNQEEAIFRSADMTYVQLYIPLEVIREVTFLLGKMSVFMVMDLNKDLTAFQRGYVNQLR\n",
      "VPH1            MAEKEEAIFRSAEMALVQFYIPQEISRDSAYTLGQLGLVQFRDLNSKVRAFQRTFVNEIR\n",
      "\n",
      "STV1            RFDEVERMVGFLNEVVEKHAAETW-----KYILHIDDEGNDIAQPDMADLINTMEPLSLE\n",
      "VPH1            RLDNVERQYRYFYSLLKKHDIKLYEGDTDKYL----DGSGELYVPPSGSVI---------\n",
      "\n",
      "STV1            NVNDMVKEITDCESRARQLDESLDSLRSKLNDLLEQRQVIFECSKFIEVNPGIAGRATNP\n",
      "VPH1            --DDYVRNASYLEERLIQMEDATDQIEVQKNDLEQYRFILQSGDEFF-----LKGDNTDS\n"
     ]
    }
   ],
   "source": [
    "!head mview_out_clustalized.clw"
   ]
  },
  {
   "cell_type": "markdown",
   "metadata": {},
   "source": [
    "Let's rename that back to something more general for use below."
   ]
  },
  {
   "cell_type": "code",
   "execution_count": 55,
   "metadata": {},
   "outputs": [],
   "source": [
    "!mv mview_out_clustalized.clw aligned.clw"
   ]
  },
  {
   "cell_type": "markdown",
   "metadata": {},
   "source": [
    "## Add a consensus symbol line to an MSA\n",
    "\n",
    "Multiple sequence alignments from various sources don't come with the consensus symbols line typically provided by [EMBL-EBI's MUSCLE](https://www.ebi.ac.uk/Tools/msa/muscle/). Theese symbols are described [here](https://www.ebi.ac.uk/seqdb/confluence/display/JDSAT/Bioinformatics+Tools+FAQ#BioinformaticsToolsFAQ-WhatdoconsensussymbolsrepresentinaMultipleSequenceAlignment?). Or sometimes they can get lost or need substantial updating following manual editing to the point is easier to remove them and start over to add them correctly. Here `calculate_cons_for_clustal_protein.py` is used to add a consensus line to an multiple sequence alignment.  I have a separate script for nucleic acids, called `calculate_cons_for_clustal_nucleic.py`, see about it [here](https://github.com/fomightez/sequencework/tree/master/alignment-utilities).\n",
    "\n",
    "(Note the width will be 60 and not 50 if the optional step was included.)"
   ]
  },
  {
   "cell_type": "code",
   "execution_count": null,
   "metadata": {},
   "outputs": [],
   "source": [
    "(Note the width will be 60 and not 50 if the optional step was included.)"
   ]
  },
  {
   "cell_type": "code",
   "execution_count": null,
   "metadata": {},
   "outputs": [],
   "source": [
    "(Note the width will be 60 and not 50 if the optional step was included.)"
   ]
  },
  {
   "cell_type": "markdown",
   "metadata": {},
   "source": [
    "Possible subsequent use for the consensus symbols line:  \n",
    "\n",
    "Beyond visually displaying relatedness in a multiple sequence alignment, these symbols can be used for categorizing residues to make commands for highlighting in molecular visualization. See [here for an example](https://nbviewer.jupyter.org/github/fomightez/cl_demo-binder/blob/master/cl_demo-binder%20Categorize%20conservation%20in%20a%20MSA%20and%20use%20that%20to%20generate%20molvis%20commands.ipynb) that uses `categorize_residues_based_on_conservation_relative_consensus_line.py` script described [here](https://github.com/fomightez/sequencework/tree/master/alignment-utilities). The notebook can be launched in active form from [here](https://github.com/fomightez/cl_demo-binder) and then selecting from the index to go to the 'Categorize conservation in a MSA and use that to generate molvis commands' page. The demo was put in the structure work demo series because it was mainly developed to work towards making commands for molecular visualization."
   ]
  },
  {
   "cell_type": "code",
   "execution_count": 18,
   "metadata": {},
   "outputs": [
    {
     "data": {
      "text/plain": [
       "'Hi              '"
      ]
     },
     "execution_count": 18,
     "metadata": {},
     "output_type": "execute_result"
    }
   ],
   "source": []
  },
  {
   "cell_type": "code",
   "execution_count": 32,
   "metadata": {},
   "outputs": [
    {
     "data": {
      "text/plain": [
       "'thest     '"
      ]
     },
     "execution_count": 32,
     "metadata": {},
     "output_type": "execute_result"
    }
   ],
   "source": []
  },
  {
   "cell_type": "code",
   "execution_count": 33,
   "metadata": {},
   "outputs": [
    {
     "name": "stdout",
     "output_type": "stream",
     "text": [
      "1\n",
      "1\n",
      "1\n",
      "1\n",
      "1\n",
      "1\n",
      "1\n",
      "1\n",
      "1\n",
      "1\n"
     ]
    }
   ],
   "source": []
  },
  {
   "cell_type": "code",
   "execution_count": 29,
   "metadata": {},
   "outputs": [
    {
     "data": {
      "text/plain": [
       "' fjksdjfks'"
      ]
     },
     "execution_count": 29,
     "metadata": {},
     "output_type": "execute_result"
    }
   ],
   "source": []
  },
  {
   "cell_type": "code",
   "execution_count": 8,
   "metadata": {},
   "outputs": [
    {
     "name": "stdout",
     "output_type": "stream",
     "text": [
      ".\n"
     ]
    },
    {
     "ename": "KeyboardInterrupt",
     "evalue": "",
     "output_type": "error",
     "traceback": [
      "\u001b[0;31m---------------------------------------------------------------------------\u001b[0m",
      "\u001b[0;31mKeyboardInterrupt\u001b[0m                         Traceback (most recent call last)",
      "\u001b[0;32m<ipython-input-8-ece0737a9832>\u001b[0m in \u001b[0;36m<module>\u001b[0;34m\u001b[0m\n\u001b[1;32m      7\u001b[0m \u001b[0;34m\u001b[0m\u001b[0m\n\u001b[1;32m      8\u001b[0m \u001b[0;32mwhile\u001b[0m \u001b[0;32mTrue\u001b[0m\u001b[0;34m:\u001b[0m\u001b[0;34m\u001b[0m\u001b[0;34m\u001b[0m\u001b[0m\n\u001b[0;32m----> 9\u001b[0;31m     \u001b[0mexecuteSomething\u001b[0m\u001b[0;34m(\u001b[0m\u001b[0;34m)\u001b[0m\u001b[0;34m\u001b[0m\u001b[0;34m\u001b[0m\u001b[0m\n\u001b[0m",
      "\u001b[0;32m<ipython-input-8-ece0737a9832>\u001b[0m in \u001b[0;36mexecuteSomething\u001b[0;34m()\u001b[0m\n\u001b[1;32m      4\u001b[0m     \u001b[0;31m#code here\u001b[0m\u001b[0;34m\u001b[0m\u001b[0;34m\u001b[0m\u001b[0;34m\u001b[0m\u001b[0m\n\u001b[1;32m      5\u001b[0m     \u001b[0mprint\u001b[0m \u001b[0;34m(\u001b[0m\u001b[0;34m'.'\u001b[0m\u001b[0;34m)\u001b[0m\u001b[0;34m\u001b[0m\u001b[0;34m\u001b[0m\u001b[0m\n\u001b[0;32m----> 6\u001b[0;31m     \u001b[0mtime\u001b[0m\u001b[0;34m.\u001b[0m\u001b[0msleep\u001b[0m\u001b[0;34m(\u001b[0m\u001b[0;36m480\u001b[0m\u001b[0;34m)\u001b[0m \u001b[0;31m#60 seconds times 8 minutes\u001b[0m\u001b[0;34m\u001b[0m\u001b[0;34m\u001b[0m\u001b[0m\n\u001b[0m\u001b[1;32m      7\u001b[0m \u001b[0;34m\u001b[0m\u001b[0m\n\u001b[1;32m      8\u001b[0m \u001b[0;32mwhile\u001b[0m \u001b[0;32mTrue\u001b[0m\u001b[0;34m:\u001b[0m\u001b[0;34m\u001b[0m\u001b[0;34m\u001b[0m\u001b[0m\n",
      "\u001b[0;31mKeyboardInterrupt\u001b[0m: "
     ]
    }
   ],
   "source": [
    "import time\n",
    "\n",
    "def executeSomething():\n",
    "    #code here\n",
    "    print ('.')\n",
    "    time.sleep(480) #60 seconds times 8 minutes\n",
    "\n",
    "while True:\n",
    "    executeSomething()"
   ]
  },
  {
   "cell_type": "code",
   "execution_count": null,
   "metadata": {},
   "outputs": [],
   "source": []
  }
 ],
 "metadata": {
  "kernelspec": {
   "display_name": "Python 3",
   "language": "python",
   "name": "python3"
  },
  "language_info": {
   "codemirror_mode": {
    "name": "ipython",
    "version": 3
   },
   "file_extension": ".py",
   "mimetype": "text/x-python",
   "name": "python",
   "nbconvert_exporter": "python",
   "pygments_lexer": "ipython3",
   "version": "3.6.7"
  }
 },
 "nbformat": 4,
 "nbformat_minor": 2
}
