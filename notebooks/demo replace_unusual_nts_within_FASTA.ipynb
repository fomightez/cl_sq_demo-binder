{
 "cells": [
  {
   "cell_type": "markdown",
   "metadata": {},
   "source": [
    "# demonstration of `replace_unusual_nts_within_FASTA.py` script\n",
    "\n",
    "If you'd like an active Jupyter session to run this notebook, launch one by clicking [here](https://mybinder.org/v2/gh/fomightez/cl_sq_demo-binder/master?filepath=index.ipynb), and then select 'Demo of script to replace unusual nts in a FASTA file' from the available notebooks listed there.  \n",
    "Otherwise, the static version is rendered more nicely via [here](https://nbviewer.org/github/fomightez/cl_sq_demo-binder/blob/master/notebooks/demo%20demo%20replace_unusual_nts_within_FASTA.ipynb).\n",
    "\n",
    "As it stands, you have to edit the script itself to change the character used in the substitution. Search for `character_for_subbing` in the 'USER ADJUSTABLE VALUES' section of the script.\n",
    "\n",
    "This script makes use of the main function in my script `summarize_all_nts_even_ambiguous_present_in_FASTA.py` to summarize the nucleotdies to provide a better sense of the amount of unusual vs. normal nucleotdies. If it all goes right, it handles this all behind the scenes. I'm just pointing it out mainly so anyone reading about this script will see that summarizing functionality is available separate from the replacement steps. (Also, if fetching of `summarize_all_nts_even_ambiguous_present_in_FASTA.py` fails, it will ask to place that script in the same location with `replace_unusual_nts_within_FASTA.py` , and so it may be nice to know why it is asking that.)\n",
    "\n",
    "\n",
    "\n",
    "<div class=\"alert alert-block alert-warning\">\n",
    "<p>If you haven't used one of these notebooks before, they're basically web pages in which you can write, edit, and run live code. They're meant to encourage experimentation, so don't feel nervous. Just try running a few cells and see what happens!.</p>\n",
    "\n",
    "<p>\n",
    "    Some tips:\n",
    "    <ul>\n",
    "        <li>Code cells have boxes around them. When you hover over them a <i class=\"fa-step-forward fa\"></i> icon appears.</li>\n",
    "        <li>To run a code cell either click the <i class=\"fa-step-forward fa\"></i> icon, or click on the cell and then hit <b>Shift+Enter</b>. The <b>Shift+Enter</b> combo will also move you to the next cell, so it's a quick way to work through the notebook.</li>\n",
    "        <li>While a cell is running a <b>*</b> appears in the square brackets next to the cell. Once the cell has finished running the asterix will be replaced with a number.</li>\n",
    "        <li>In most cases you'll want to start from the top of notebook and work your way down running each cell in turn. Later cells might depend on the results of earlier ones.</li>\n",
    "        <li>To edit a code cell, just click on it and type stuff. Remember to run the cell once you've finished editing.</li>\n",
    "    </ul>\n",
    "</p>\n",
    "</div>\n",
    "\n",
    "You'll need the current version of the script to run this notebook, and the next cell will get that. (Remember if you want to make things more reproducible when you use the script with your own data, you'll want to edit calls such as this to fetch a specific version of the script. How to do this is touched upon in the comment below [here](https://stackoverflow.com/a/48587645/8508004)."
   ]
  },
  {
   "cell_type": "code",
   "execution_count": 1,
   "metadata": {},
   "outputs": [
    {
     "name": "stdout",
     "output_type": "stream",
     "text": [
      "  % Total    % Received % Xferd  Average Speed   Time    Time     Time  Current\n",
      "                                 Dload  Upload   Total   Spent    Left  Speed\n",
      "100 34809  100 34809    0     0   173k      0 --:--:-- --:--:-- --:--:--  173k\n"
     ]
    }
   ],
   "source": [
    "!curl -O https://raw.githubusercontent.com/fomightez/sequencework/master/AdjustFASTA_or_FASTQ/replace_unusual_nts_within_FASTA.py"
   ]
  },
  {
   "cell_type": "code",
   "execution_count": 2,
   "metadata": {},
   "outputs": [
    {
     "name": "stdout",
     "output_type": "stream",
     "text": [
      "Collecting rich\n",
      "  Downloading rich-12.6.0-py3-none-any.whl (237 kB)\n",
      "\u001b[2K     \u001b[90m━━━━━━━━━━━━━━━━━━━━━━━━━━━━━━━━━━━━━━━\u001b[0m \u001b[32m237.5/237.5 kB\u001b[0m \u001b[31m5.0 MB/s\u001b[0m eta \u001b[36m0:00:00\u001b[0m00:01\u001b[0m\n",
      "\u001b[?25hRequirement already satisfied: pygments<3.0.0,>=2.6.0 in /srv/conda/envs/notebook/lib/python3.7/site-packages (from rich) (2.13.0)\n",
      "Collecting commonmark<0.10.0,>=0.9.0\n",
      "  Downloading commonmark-0.9.1-py2.py3-none-any.whl (51 kB)\n",
      "\u001b[2K     \u001b[90m━━━━━━━━━━━━━━━━━━━━━━━━━━━━━━━━━━━━━━━━\u001b[0m \u001b[32m51.1/51.1 kB\u001b[0m \u001b[31m3.2 MB/s\u001b[0m eta \u001b[36m0:00:00\u001b[0m\n",
      "\u001b[?25hRequirement already satisfied: typing-extensions<5.0,>=4.0.0 in /srv/conda/envs/notebook/lib/python3.7/site-packages (from rich) (4.4.0)\n",
      "Installing collected packages: commonmark, rich\n",
      "Successfully installed commonmark-0.9.1 rich-12.6.0\n",
      "Note: you may need to restart the kernel to use updated packages.\n"
     ]
    }
   ],
   "source": [
    "%pip install rich"
   ]
  },
  {
   "cell_type": "markdown",
   "metadata": {},
   "source": [
    "## Display Usage / Help Block"
   ]
  },
  {
   "cell_type": "code",
   "execution_count": 3,
   "metadata": {},
   "outputs": [
    {
     "name": "stdout",
     "output_type": "stream",
     "text": [
      "usage: replace_unusual_nts_within_FASTA.py [-h] [-cs] [-mc]\n",
      "                                           [-os OUTPUT_SUFFIX]\n",
      "                                           SEQUENCE_FILE\n",
      "\n",
      "replace_unusual_nts_within_FASTA.py takes a sequence file (FASTA-format) and\n",
      "replaces anything in the sequences that isn't G,A,T,C, or N with a ?. If the\n",
      "sequence(s) only contains G,A,T,C, or N no modified version is produced.\n",
      "Assumes multi-FASTA, but single sequence entry is fine, too. When running on\n",
      "the command line, it will also print out a summary table of counts of\n",
      "nucleotides and other character in each sequence and totals. When calling the\n",
      "main function it will, by default, return a dataframe with this information.\n",
      "In case of unusual nucleotides present, a copy of the FASTA sequence file with\n",
      "the unusual nucleotides replaced by ? will be produced. Only valid for DNA\n",
      "sequences; script has no step checking for data type, and so you are\n",
      "responsible for verifying appropriate input. By default, the summary is case-\n",
      "insensitive; however, a flag can be added at the time of calling the script so\n",
      "that it will tally the lowercase & uppercase letters separately in the summary\n",
      "data table. You can also choose to have the summary table display in the\n",
      "terminal in a simpler, color-less form. The character to substitute the\n",
      "unusual characters with can only be changed by editing the script under 'USER\n",
      "ADJUSTABLE VALUES'. **** Script by Wayne Decatur (fomightez @ github) ***\n",
      "\n",
      "positional arguments:\n",
      "  SEQUENCE_FILE         Name of sequence file to use as input. Must be FASTA\n",
      "                        format. Can be a multi-FASTA file, i.e., multiple\n",
      "                        sequences in FASTA format in one file.\n",
      "\n",
      "optional arguments:\n",
      "  -h, --help            show this help message and exit\n",
      "  -cs, --case_sensitive\n",
      "                        Add this flag when calling the script if you want the\n",
      "                        numbers of lowercase & uppercase letters reported\n",
      "                        separately in the summary.\n",
      "  -mc, --mono           Add this flag when calling the script if you want the\n",
      "                        display of the summary in the terminal to be black-\n",
      "                        and-white.\n",
      "  -os OUTPUT_SUFFIX, --output_suffix OUTPUT_SUFFIX\n",
      "                        OPTIONAL: Set a suffix for including in file name of\n",
      "                        output. If none provided, '_subbed' will be used.\n"
     ]
    }
   ],
   "source": [
    "%run replace_unusual_nts_within_FASTA.py -h"
   ]
  },
  {
   "cell_type": "markdown",
   "metadata": {},
   "source": [
    "To read more about this script beyond that and what is covered below, see [here](https://github.com/fomightez/sequencework/tree/master/AdjustFASTA_or_FASTQ).\n",
    "\n",
    "-----\n",
    "\n",
    "## Basic use examples set #1: Using from the command line (or equivalent / similar)\n",
    "\n",
    "### Preparing for usage example"
   ]
  },
  {
   "cell_type": "code",
   "execution_count": 4,
   "metadata": {},
   "outputs": [],
   "source": [
    "#write example FASTA to file\n",
    "s = '''>evoli\n",
    "atctgatctggggcgaaatgagkactgatctgatctggtctgtggcgQtqQ*d\n",
    ">smer\n",
    "atctgaatctgagactatatgagkactgatctgatctgctctgaagc\n",
    "'''\n",
    "\n",
    "!echo \"{s}\" > sequence.fa"
   ]
  },
  {
   "cell_type": "markdown",
   "metadata": {},
   "source": [
    "### Run the script"
   ]
  },
  {
   "cell_type": "code",
   "execution_count": 5,
   "metadata": {},
   "outputs": [
    {
     "name": "stdout",
     "output_type": "stream",
     "text": [
      "┏━━━━━━━┳━━━━┳━━━━┳━━━━┳━━━━┳━━━┳━━━━━┳━━━━━┳━━━━━┳━━━┳━━━━━━━━━━━┳━━━━━┓\n",
      "┃       ┃  A ┃  T ┃  C ┃  G ┃ K ┃   Q ┃   * ┃   D ┃ N ┃ Total_nts ┃ % N ┃\n",
      "┡━━━━━━━╇━━━━╇━━━━╇━━━━╇━━━━╇━━━╇━━━━━╇━━━━━╇━━━━━╇━━━╇━━━━━━━━━━━╇━━━━━┩\n",
      "│ evoli │  9 │ 14 │  8 │ 16 │ 1 │ 3.0 │ 1.0 │ 1.0 │ 0 │        53 │ 0.0 │\n",
      "│  smer │ 13 │ 14 │  9 │ 10 │ 1 │ 0.0 │ 0.0 │ 0.0 │ 0 │        47 │ 0.0 │\n",
      "│ TOTAL │ 22 │ 28 │ 17 │ 26 │ 2 │ 3.0 │ 1.0 │ 1.0 │ 0 │       100 │ 0.0 │\n",
      "└───────┴────┴────┴────┴────┴───┴─────┴─────┴─────┴───┴───────────┴─────┘\n"
     ]
    },
    {
     "name": "stderr",
     "output_type": "stream",
     "text": [
      "\n",
      "Obtaining script containing a function to use to summarize the nucleotides and other letters present...\n",
      "2 sequences provided in the sequence file.\n",
      "\n",
      "\n",
      "\n",
      "*****************DONE**************************\n",
      "The following letters not expected to be among the sequences were observed: Q,*,D,K.\n",
      "These unusual characters were replaced with `?` and a modified version \n",
      "of 'sequence.fa' was saved as the output file 'sequence_subbed.fa'."
     ]
    }
   ],
   "source": [
    "%%bash\n",
    "python replace_unusual_nts_within_FASTA.py sequence.fa"
   ]
  },
  {
   "cell_type": "markdown",
   "metadata": {},
   "source": [
    "Note the table summarizing the nts present **will have color when run in an actual terminal**. (Assuming it is modern terminal that has a few colors.)\n",
    "\n",
    "That can be simulated in in a notebook, like so:"
   ]
  },
  {
   "cell_type": "code",
   "execution_count": 6,
   "metadata": {},
   "outputs": [
    {
     "name": "stderr",
     "output_type": "stream",
     "text": [
      "2 sequences provided in the sequence file.\n",
      "\n",
      "\n",
      "\n",
      "*****************DONE**************************\n",
      "The following letters not expected to be among the sequences were observed: D,K,*,Q.\n",
      "These unusual characters were replaced with `?` and a modified version \n",
      "of 'sequence.fa' was saved as the output file 'sequence_subbed.fa'."
     ]
    },
    {
     "data": {
      "text/html": [
       "<pre style=\"white-space:pre;overflow-x:auto;line-height:normal;font-family:Menlo,'DejaVu Sans Mono',consolas,'Courier New',monospace\"><span style=\"color: #ffaf00; text-decoration-color: #ffaf00\">┏━━━━━━━┳━━━━┳━━━━┳━━━━┳━━━━┳━━━┳━━━━━┳━━━━━┳━━━━━┳━━━┳━━━━━━━━━━━┳━━━━━┓</span>\n",
       "<span style=\"color: #ffaf00; text-decoration-color: #ffaf00\">┃</span><span style=\"color: #008080; text-decoration-color: #008080; font-weight: bold\">       </span><span style=\"color: #ffaf00; text-decoration-color: #ffaf00\">┃</span><span style=\"color: #800080; text-decoration-color: #800080; font-weight: bold\">  A </span><span style=\"color: #ffaf00; text-decoration-color: #ffaf00\">┃</span><span style=\"color: #800000; text-decoration-color: #800000; font-weight: bold\">  T </span><span style=\"color: #ffaf00; text-decoration-color: #ffaf00\">┃</span><span style=\"color: #008000; text-decoration-color: #008000; font-weight: bold\">  C </span><span style=\"color: #ffaf00; text-decoration-color: #ffaf00\">┃</span><span style=\"color: #000080; text-decoration-color: #000080; font-weight: bold\">  G </span><span style=\"color: #ffaf00; text-decoration-color: #ffaf00\">┃</span><span style=\"color: #af00ff; text-decoration-color: #af00ff; font-weight: bold\"> K </span><span style=\"color: #ffaf00; text-decoration-color: #ffaf00\">┃</span><span style=\"color: #008080; text-decoration-color: #008080; font-weight: bold\">   Q </span><span style=\"color: #ffaf00; text-decoration-color: #ffaf00\">┃</span><span style=\"color: #800080; text-decoration-color: #800080; font-weight: bold\">   * </span><span style=\"color: #ffaf00; text-decoration-color: #ffaf00\">┃</span><span style=\"color: #800000; text-decoration-color: #800000; font-weight: bold\">   D </span><span style=\"color: #ffaf00; text-decoration-color: #ffaf00\">┃</span><span style=\"color: #008000; text-decoration-color: #008000; font-weight: bold\"> N </span><span style=\"color: #ffaf00; text-decoration-color: #ffaf00\">┃</span><span style=\"color: #000080; text-decoration-color: #000080; font-weight: bold\"> Total_nts </span><span style=\"color: #ffaf00; text-decoration-color: #ffaf00\">┃</span><span style=\"color: #af00ff; text-decoration-color: #af00ff; font-weight: bold\"> % N </span><span style=\"color: #ffaf00; text-decoration-color: #ffaf00\">┃</span>\n",
       "<span style=\"color: #ffaf00; text-decoration-color: #ffaf00\">┡━━━━━━━╇━━━━╇━━━━╇━━━━╇━━━━╇━━━╇━━━━━╇━━━━━╇━━━━━╇━━━╇━━━━━━━━━━━╇━━━━━┩</span>\n",
       "<span style=\"color: #ffaf00; text-decoration-color: #ffaf00\">│</span><span style=\"color: #008080; text-decoration-color: #008080; font-weight: bold\"> evoli </span><span style=\"color: #ffaf00; text-decoration-color: #ffaf00\">│</span><span style=\"color: #800080; text-decoration-color: #800080; font-weight: bold\">  9 </span><span style=\"color: #ffaf00; text-decoration-color: #ffaf00\">│</span><span style=\"color: #800000; text-decoration-color: #800000; font-weight: bold\"> 14 </span><span style=\"color: #ffaf00; text-decoration-color: #ffaf00\">│</span><span style=\"color: #008000; text-decoration-color: #008000; font-weight: bold\">  8 </span><span style=\"color: #ffaf00; text-decoration-color: #ffaf00\">│</span><span style=\"color: #000080; text-decoration-color: #000080; font-weight: bold\"> 16 </span><span style=\"color: #ffaf00; text-decoration-color: #ffaf00\">│</span><span style=\"color: #af00ff; text-decoration-color: #af00ff; font-weight: bold\"> 1 </span><span style=\"color: #ffaf00; text-decoration-color: #ffaf00\">│</span><span style=\"color: #008080; text-decoration-color: #008080; font-weight: bold\"> 3.0 </span><span style=\"color: #ffaf00; text-decoration-color: #ffaf00\">│</span><span style=\"color: #800080; text-decoration-color: #800080; font-weight: bold\"> 1.0 </span><span style=\"color: #ffaf00; text-decoration-color: #ffaf00\">│</span><span style=\"color: #800000; text-decoration-color: #800000; font-weight: bold\"> 1.0 </span><span style=\"color: #ffaf00; text-decoration-color: #ffaf00\">│</span><span style=\"color: #008000; text-decoration-color: #008000; font-weight: bold\"> 0 </span><span style=\"color: #ffaf00; text-decoration-color: #ffaf00\">│</span><span style=\"color: #000080; text-decoration-color: #000080; font-weight: bold\">        53 </span><span style=\"color: #ffaf00; text-decoration-color: #ffaf00\">│</span><span style=\"color: #af00ff; text-decoration-color: #af00ff; font-weight: bold\"> 0.0 </span><span style=\"color: #ffaf00; text-decoration-color: #ffaf00\">│</span>\n",
       "<span style=\"color: #ffaf00; text-decoration-color: #ffaf00\">│</span><span style=\"color: #008080; text-decoration-color: #008080; font-weight: bold\">  smer </span><span style=\"color: #ffaf00; text-decoration-color: #ffaf00\">│</span><span style=\"color: #800080; text-decoration-color: #800080; font-weight: bold\"> 13 </span><span style=\"color: #ffaf00; text-decoration-color: #ffaf00\">│</span><span style=\"color: #800000; text-decoration-color: #800000; font-weight: bold\"> 14 </span><span style=\"color: #ffaf00; text-decoration-color: #ffaf00\">│</span><span style=\"color: #008000; text-decoration-color: #008000; font-weight: bold\">  9 </span><span style=\"color: #ffaf00; text-decoration-color: #ffaf00\">│</span><span style=\"color: #000080; text-decoration-color: #000080; font-weight: bold\"> 10 </span><span style=\"color: #ffaf00; text-decoration-color: #ffaf00\">│</span><span style=\"color: #af00ff; text-decoration-color: #af00ff; font-weight: bold\"> 1 </span><span style=\"color: #ffaf00; text-decoration-color: #ffaf00\">│</span><span style=\"color: #008080; text-decoration-color: #008080; font-weight: bold\"> 0.0 </span><span style=\"color: #ffaf00; text-decoration-color: #ffaf00\">│</span><span style=\"color: #800080; text-decoration-color: #800080; font-weight: bold\"> 0.0 </span><span style=\"color: #ffaf00; text-decoration-color: #ffaf00\">│</span><span style=\"color: #800000; text-decoration-color: #800000; font-weight: bold\"> 0.0 </span><span style=\"color: #ffaf00; text-decoration-color: #ffaf00\">│</span><span style=\"color: #008000; text-decoration-color: #008000; font-weight: bold\"> 0 </span><span style=\"color: #ffaf00; text-decoration-color: #ffaf00\">│</span><span style=\"color: #000080; text-decoration-color: #000080; font-weight: bold\">        47 </span><span style=\"color: #ffaf00; text-decoration-color: #ffaf00\">│</span><span style=\"color: #af00ff; text-decoration-color: #af00ff; font-weight: bold\"> 0.0 </span><span style=\"color: #ffaf00; text-decoration-color: #ffaf00\">│</span>\n",
       "<span style=\"color: #ffaf00; text-decoration-color: #ffaf00\">│</span><span style=\"color: #008080; text-decoration-color: #008080; font-weight: bold\"> TOTAL </span><span style=\"color: #ffaf00; text-decoration-color: #ffaf00\">│</span><span style=\"color: #800080; text-decoration-color: #800080; font-weight: bold\"> 22 </span><span style=\"color: #ffaf00; text-decoration-color: #ffaf00\">│</span><span style=\"color: #800000; text-decoration-color: #800000; font-weight: bold\"> 28 </span><span style=\"color: #ffaf00; text-decoration-color: #ffaf00\">│</span><span style=\"color: #008000; text-decoration-color: #008000; font-weight: bold\"> 17 </span><span style=\"color: #ffaf00; text-decoration-color: #ffaf00\">│</span><span style=\"color: #000080; text-decoration-color: #000080; font-weight: bold\"> 26 </span><span style=\"color: #ffaf00; text-decoration-color: #ffaf00\">│</span><span style=\"color: #af00ff; text-decoration-color: #af00ff; font-weight: bold\"> 2 </span><span style=\"color: #ffaf00; text-decoration-color: #ffaf00\">│</span><span style=\"color: #008080; text-decoration-color: #008080; font-weight: bold\"> 3.0 </span><span style=\"color: #ffaf00; text-decoration-color: #ffaf00\">│</span><span style=\"color: #800080; text-decoration-color: #800080; font-weight: bold\"> 1.0 </span><span style=\"color: #ffaf00; text-decoration-color: #ffaf00\">│</span><span style=\"color: #800000; text-decoration-color: #800000; font-weight: bold\"> 1.0 </span><span style=\"color: #ffaf00; text-decoration-color: #ffaf00\">│</span><span style=\"color: #008000; text-decoration-color: #008000; font-weight: bold\"> 0 </span><span style=\"color: #ffaf00; text-decoration-color: #ffaf00\">│</span><span style=\"color: #000080; text-decoration-color: #000080; font-weight: bold\">       100 </span><span style=\"color: #ffaf00; text-decoration-color: #ffaf00\">│</span><span style=\"color: #af00ff; text-decoration-color: #af00ff; font-weight: bold\"> 0.0 </span><span style=\"color: #ffaf00; text-decoration-color: #ffaf00\">│</span>\n",
       "<span style=\"color: #ffaf00; text-decoration-color: #ffaf00\">└───────┴────┴────┴────┴────┴───┴─────┴─────┴─────┴───┴───────────┴─────┘</span>\n",
       "</pre>\n"
      ],
      "text/plain": [
       "\u001b[38;5;214m┏━━━━━━━┳━━━━┳━━━━┳━━━━┳━━━━┳━━━┳━━━━━┳━━━━━┳━━━━━┳━━━┳━━━━━━━━━━━┳━━━━━┓\u001b[0m\n",
       "\u001b[38;5;214m┃\u001b[0m\u001b[1;36m \u001b[0m\u001b[1;36m     \u001b[0m\u001b[1;36m \u001b[0m\u001b[38;5;214m┃\u001b[0m\u001b[1;35m \u001b[0m\u001b[1;35m A\u001b[0m\u001b[1;35m \u001b[0m\u001b[38;5;214m┃\u001b[0m\u001b[1;31m \u001b[0m\u001b[1;31m T\u001b[0m\u001b[1;31m \u001b[0m\u001b[38;5;214m┃\u001b[0m\u001b[1;32m \u001b[0m\u001b[1;32m C\u001b[0m\u001b[1;32m \u001b[0m\u001b[38;5;214m┃\u001b[0m\u001b[1;34m \u001b[0m\u001b[1;34m G\u001b[0m\u001b[1;34m \u001b[0m\u001b[38;5;214m┃\u001b[0m\u001b[1;38;5;129m \u001b[0m\u001b[1;38;5;129mK\u001b[0m\u001b[1;38;5;129m \u001b[0m\u001b[38;5;214m┃\u001b[0m\u001b[1;36m \u001b[0m\u001b[1;36m  Q\u001b[0m\u001b[1;36m \u001b[0m\u001b[38;5;214m┃\u001b[0m\u001b[1;35m \u001b[0m\u001b[1;35m  *\u001b[0m\u001b[1;35m \u001b[0m\u001b[38;5;214m┃\u001b[0m\u001b[1;31m \u001b[0m\u001b[1;31m  D\u001b[0m\u001b[1;31m \u001b[0m\u001b[38;5;214m┃\u001b[0m\u001b[1;32m \u001b[0m\u001b[1;32mN\u001b[0m\u001b[1;32m \u001b[0m\u001b[38;5;214m┃\u001b[0m\u001b[1;34m \u001b[0m\u001b[1;34mTotal_nts\u001b[0m\u001b[1;34m \u001b[0m\u001b[38;5;214m┃\u001b[0m\u001b[1;38;5;129m \u001b[0m\u001b[1;38;5;129m% N\u001b[0m\u001b[1;38;5;129m \u001b[0m\u001b[38;5;214m┃\u001b[0m\n",
       "\u001b[38;5;214m┡━━━━━━━╇━━━━╇━━━━╇━━━━╇━━━━╇━━━╇━━━━━╇━━━━━╇━━━━━╇━━━╇━━━━━━━━━━━╇━━━━━┩\u001b[0m\n",
       "\u001b[38;5;214m│\u001b[0m\u001b[1;36m \u001b[0m\u001b[1;36mevoli\u001b[0m\u001b[1;36m \u001b[0m\u001b[38;5;214m│\u001b[0m\u001b[1;35m \u001b[0m\u001b[1;35m 9\u001b[0m\u001b[1;35m \u001b[0m\u001b[38;5;214m│\u001b[0m\u001b[1;31m \u001b[0m\u001b[1;31m14\u001b[0m\u001b[1;31m \u001b[0m\u001b[38;5;214m│\u001b[0m\u001b[1;32m \u001b[0m\u001b[1;32m 8\u001b[0m\u001b[1;32m \u001b[0m\u001b[38;5;214m│\u001b[0m\u001b[1;34m \u001b[0m\u001b[1;34m16\u001b[0m\u001b[1;34m \u001b[0m\u001b[38;5;214m│\u001b[0m\u001b[1;38;5;129m \u001b[0m\u001b[1;38;5;129m1\u001b[0m\u001b[1;38;5;129m \u001b[0m\u001b[38;5;214m│\u001b[0m\u001b[1;36m \u001b[0m\u001b[1;36m3.0\u001b[0m\u001b[1;36m \u001b[0m\u001b[38;5;214m│\u001b[0m\u001b[1;35m \u001b[0m\u001b[1;35m1.0\u001b[0m\u001b[1;35m \u001b[0m\u001b[38;5;214m│\u001b[0m\u001b[1;31m \u001b[0m\u001b[1;31m1.0\u001b[0m\u001b[1;31m \u001b[0m\u001b[38;5;214m│\u001b[0m\u001b[1;32m \u001b[0m\u001b[1;32m0\u001b[0m\u001b[1;32m \u001b[0m\u001b[38;5;214m│\u001b[0m\u001b[1;34m \u001b[0m\u001b[1;34m       53\u001b[0m\u001b[1;34m \u001b[0m\u001b[38;5;214m│\u001b[0m\u001b[1;38;5;129m \u001b[0m\u001b[1;38;5;129m0.0\u001b[0m\u001b[1;38;5;129m \u001b[0m\u001b[38;5;214m│\u001b[0m\n",
       "\u001b[38;5;214m│\u001b[0m\u001b[1;36m \u001b[0m\u001b[1;36m smer\u001b[0m\u001b[1;36m \u001b[0m\u001b[38;5;214m│\u001b[0m\u001b[1;35m \u001b[0m\u001b[1;35m13\u001b[0m\u001b[1;35m \u001b[0m\u001b[38;5;214m│\u001b[0m\u001b[1;31m \u001b[0m\u001b[1;31m14\u001b[0m\u001b[1;31m \u001b[0m\u001b[38;5;214m│\u001b[0m\u001b[1;32m \u001b[0m\u001b[1;32m 9\u001b[0m\u001b[1;32m \u001b[0m\u001b[38;5;214m│\u001b[0m\u001b[1;34m \u001b[0m\u001b[1;34m10\u001b[0m\u001b[1;34m \u001b[0m\u001b[38;5;214m│\u001b[0m\u001b[1;38;5;129m \u001b[0m\u001b[1;38;5;129m1\u001b[0m\u001b[1;38;5;129m \u001b[0m\u001b[38;5;214m│\u001b[0m\u001b[1;36m \u001b[0m\u001b[1;36m0.0\u001b[0m\u001b[1;36m \u001b[0m\u001b[38;5;214m│\u001b[0m\u001b[1;35m \u001b[0m\u001b[1;35m0.0\u001b[0m\u001b[1;35m \u001b[0m\u001b[38;5;214m│\u001b[0m\u001b[1;31m \u001b[0m\u001b[1;31m0.0\u001b[0m\u001b[1;31m \u001b[0m\u001b[38;5;214m│\u001b[0m\u001b[1;32m \u001b[0m\u001b[1;32m0\u001b[0m\u001b[1;32m \u001b[0m\u001b[38;5;214m│\u001b[0m\u001b[1;34m \u001b[0m\u001b[1;34m       47\u001b[0m\u001b[1;34m \u001b[0m\u001b[38;5;214m│\u001b[0m\u001b[1;38;5;129m \u001b[0m\u001b[1;38;5;129m0.0\u001b[0m\u001b[1;38;5;129m \u001b[0m\u001b[38;5;214m│\u001b[0m\n",
       "\u001b[38;5;214m│\u001b[0m\u001b[1;36m \u001b[0m\u001b[1;36mTOTAL\u001b[0m\u001b[1;36m \u001b[0m\u001b[38;5;214m│\u001b[0m\u001b[1;35m \u001b[0m\u001b[1;35m22\u001b[0m\u001b[1;35m \u001b[0m\u001b[38;5;214m│\u001b[0m\u001b[1;31m \u001b[0m\u001b[1;31m28\u001b[0m\u001b[1;31m \u001b[0m\u001b[38;5;214m│\u001b[0m\u001b[1;32m \u001b[0m\u001b[1;32m17\u001b[0m\u001b[1;32m \u001b[0m\u001b[38;5;214m│\u001b[0m\u001b[1;34m \u001b[0m\u001b[1;34m26\u001b[0m\u001b[1;34m \u001b[0m\u001b[38;5;214m│\u001b[0m\u001b[1;38;5;129m \u001b[0m\u001b[1;38;5;129m2\u001b[0m\u001b[1;38;5;129m \u001b[0m\u001b[38;5;214m│\u001b[0m\u001b[1;36m \u001b[0m\u001b[1;36m3.0\u001b[0m\u001b[1;36m \u001b[0m\u001b[38;5;214m│\u001b[0m\u001b[1;35m \u001b[0m\u001b[1;35m1.0\u001b[0m\u001b[1;35m \u001b[0m\u001b[38;5;214m│\u001b[0m\u001b[1;31m \u001b[0m\u001b[1;31m1.0\u001b[0m\u001b[1;31m \u001b[0m\u001b[38;5;214m│\u001b[0m\u001b[1;32m \u001b[0m\u001b[1;32m0\u001b[0m\u001b[1;32m \u001b[0m\u001b[38;5;214m│\u001b[0m\u001b[1;34m \u001b[0m\u001b[1;34m      100\u001b[0m\u001b[1;34m \u001b[0m\u001b[38;5;214m│\u001b[0m\u001b[1;38;5;129m \u001b[0m\u001b[1;38;5;129m0.0\u001b[0m\u001b[1;38;5;129m \u001b[0m\u001b[38;5;214m│\u001b[0m\n",
       "\u001b[38;5;214m└───────┴────┴────┴────┴────┴───┴─────┴─────┴─────┴───┴───────────┴─────┘\u001b[0m\n"
      ]
     },
     "metadata": {},
     "output_type": "display_data"
    }
   ],
   "source": [
    "%run replace_unusual_nts_within_FASTA.py sequence.fa"
   ]
  },
  {
   "cell_type": "markdown",
   "metadata": {},
   "source": [
    "It is like if use the `%%bash magic` as shown above but with color!! This is beccause `%run` is special and works well with Jupyter.\n",
    "\n",
    "However, those used to working in a terminal may prefer no color. That is possible while using the full-featured `%run` to call the script by adding the `--mono` flag:"
   ]
  },
  {
   "cell_type": "code",
   "execution_count": 7,
   "metadata": {},
   "outputs": [
    {
     "name": "stderr",
     "output_type": "stream",
     "text": [
      "2 sequences provided in the sequence file.\n",
      "\n",
      "\n",
      "\n",
      "*****************DONE**************************\n",
      "The following letters not expected to be among the sequences were observed: D,K,*,Q.\n",
      "These unusual characters were replaced with `?` and a modified version \n",
      "of 'sequence.fa' was saved as the output file 'sequence_subbed.fa'."
     ]
    },
    {
     "data": {
      "text/html": [
       "<pre style=\"white-space:pre;overflow-x:auto;line-height:normal;font-family:Menlo,'DejaVu Sans Mono',consolas,'Courier New',monospace\">┏━━━━━━━┳━━━━┳━━━━┳━━━━┳━━━━┳━━━┳━━━━━┳━━━━━┳━━━━━┳━━━┳━━━━━━━━━━━┳━━━━━┓\n",
       "┃<span style=\"font-weight: bold\">       </span>┃<span style=\"font-weight: bold\">  A </span>┃<span style=\"font-weight: bold\">  T </span>┃<span style=\"font-weight: bold\">  C </span>┃<span style=\"font-weight: bold\">  G </span>┃<span style=\"font-weight: bold\"> K </span>┃<span style=\"font-weight: bold\">   Q </span>┃<span style=\"font-weight: bold\">   * </span>┃<span style=\"font-weight: bold\">   D </span>┃<span style=\"font-weight: bold\"> N </span>┃<span style=\"font-weight: bold\"> Total_nts </span>┃<span style=\"font-weight: bold\"> % N </span>┃\n",
       "┡━━━━━━━╇━━━━╇━━━━╇━━━━╇━━━━╇━━━╇━━━━━╇━━━━━╇━━━━━╇━━━╇━━━━━━━━━━━╇━━━━━┩\n",
       "│ evoli │  9 │ 14 │  8 │ 16 │ 1 │ 3.0 │ 1.0 │ 1.0 │ 0 │        53 │ 0.0 │\n",
       "│  smer │ 13 │ 14 │  9 │ 10 │ 1 │ 0.0 │ 0.0 │ 0.0 │ 0 │        47 │ 0.0 │\n",
       "│ TOTAL │ 22 │ 28 │ 17 │ 26 │ 2 │ 3.0 │ 1.0 │ 1.0 │ 0 │       100 │ 0.0 │\n",
       "└───────┴────┴────┴────┴────┴───┴─────┴─────┴─────┴───┴───────────┴─────┘\n",
       "</pre>\n"
      ],
      "text/plain": [
       "┏━━━━━━━┳━━━━┳━━━━┳━━━━┳━━━━┳━━━┳━━━━━┳━━━━━┳━━━━━┳━━━┳━━━━━━━━━━━┳━━━━━┓\n",
       "┃\u001b[1m \u001b[0m\u001b[1m     \u001b[0m\u001b[1m \u001b[0m┃\u001b[1m \u001b[0m\u001b[1m A\u001b[0m\u001b[1m \u001b[0m┃\u001b[1m \u001b[0m\u001b[1m T\u001b[0m\u001b[1m \u001b[0m┃\u001b[1m \u001b[0m\u001b[1m C\u001b[0m\u001b[1m \u001b[0m┃\u001b[1m \u001b[0m\u001b[1m G\u001b[0m\u001b[1m \u001b[0m┃\u001b[1m \u001b[0m\u001b[1mK\u001b[0m\u001b[1m \u001b[0m┃\u001b[1m \u001b[0m\u001b[1m  Q\u001b[0m\u001b[1m \u001b[0m┃\u001b[1m \u001b[0m\u001b[1m  *\u001b[0m\u001b[1m \u001b[0m┃\u001b[1m \u001b[0m\u001b[1m  D\u001b[0m\u001b[1m \u001b[0m┃\u001b[1m \u001b[0m\u001b[1mN\u001b[0m\u001b[1m \u001b[0m┃\u001b[1m \u001b[0m\u001b[1mTotal_nts\u001b[0m\u001b[1m \u001b[0m┃\u001b[1m \u001b[0m\u001b[1m% N\u001b[0m\u001b[1m \u001b[0m┃\n",
       "┡━━━━━━━╇━━━━╇━━━━╇━━━━╇━━━━╇━━━╇━━━━━╇━━━━━╇━━━━━╇━━━╇━━━━━━━━━━━╇━━━━━┩\n",
       "│ evoli │  9 │ 14 │  8 │ 16 │ 1 │ 3.0 │ 1.0 │ 1.0 │ 0 │        53 │ 0.0 │\n",
       "│  smer │ 13 │ 14 │  9 │ 10 │ 1 │ 0.0 │ 0.0 │ 0.0 │ 0 │        47 │ 0.0 │\n",
       "│ TOTAL │ 22 │ 28 │ 17 │ 26 │ 2 │ 3.0 │ 1.0 │ 1.0 │ 0 │       100 │ 0.0 │\n",
       "└───────┴────┴────┴────┴────┴───┴─────┴─────┴─────┴───┴───────────┴─────┘\n"
      ]
     },
     "metadata": {},
     "output_type": "display_data"
    }
   ],
   "source": [
    "%run replace_unusual_nts_within_FASTA.py --mono sequence.fa"
   ]
  },
  {
   "cell_type": "markdown",
   "metadata": {},
   "source": [
    "That `--mono` flag can be abbreviated `-mc`.\n"
   ]
  },
  {
   "cell_type": "markdown",
   "metadata": {},
   "source": [
    "How does the file generated look?:"
   ]
  },
  {
   "cell_type": "code",
   "execution_count": 8,
   "metadata": {},
   "outputs": [
    {
     "name": "stdout",
     "output_type": "stream",
     "text": [
      ">evoli SUBBED\n",
      "atctgatctggggcgaaatgag?actgatctgatctggtctgtggcg?t????\n",
      ">smer SUBBED\n",
      "atctgaatctgagactatatgag?actgatctgatctgctctgaagc\n"
     ]
    }
   ],
   "source": [
    "cat sequence_subbed.fa"
   ]
  },
  {
   "cell_type": "markdown",
   "metadata": {},
   "source": [
    "You can use a different flag to have the accounting of the letters in the sequencee be case-sensitive, like so:"
   ]
  },
  {
   "cell_type": "code",
   "execution_count": 9,
   "metadata": {},
   "outputs": [
    {
     "name": "stderr",
     "output_type": "stream",
     "text": [
      "2 sequences provided in the sequence file.\n",
      "\n",
      "\n",
      "\n",
      "*****************DONE**************************\n",
      "The following letters not expected to be among the sequences were observed: d,k,q,Q,*.\n",
      "These unusual characters were replaced with `?` and a modified version \n",
      "of 'sequence.fa' was saved as the output file 'sequence_subbed.fa'."
     ]
    },
    {
     "data": {
      "text/html": [
       "<pre style=\"white-space:pre;overflow-x:auto;line-height:normal;font-family:Menlo,'DejaVu Sans Mono',consolas,'Courier New',monospace\"><span style=\"color: #ffaf00; text-decoration-color: #ffaf00\">┏━━━━━━━┳━━━━┳━━━━┳━━━━┳━━━━┳━━━┳━━━━━┳━━━━━┳━━━━━┳━━━━━┳━━━┳━━━┳━━━━━━━━━━━┳━━━━━┳━━━━━┳━━━━━━━┓</span>\n",
       "<span style=\"color: #ffaf00; text-decoration-color: #ffaf00\">┃</span><span style=\"color: #008080; text-decoration-color: #008080; font-weight: bold\">       </span><span style=\"color: #ffaf00; text-decoration-color: #ffaf00\">┃</span><span style=\"color: #800080; text-decoration-color: #800080; font-weight: bold\">  a </span><span style=\"color: #ffaf00; text-decoration-color: #ffaf00\">┃</span><span style=\"color: #800000; text-decoration-color: #800000; font-weight: bold\">  t </span><span style=\"color: #ffaf00; text-decoration-color: #ffaf00\">┃</span><span style=\"color: #008000; text-decoration-color: #008000; font-weight: bold\">  c </span><span style=\"color: #ffaf00; text-decoration-color: #ffaf00\">┃</span><span style=\"color: #000080; text-decoration-color: #000080; font-weight: bold\">  g </span><span style=\"color: #ffaf00; text-decoration-color: #ffaf00\">┃</span><span style=\"color: #af00ff; text-decoration-color: #af00ff; font-weight: bold\"> k </span><span style=\"color: #ffaf00; text-decoration-color: #ffaf00\">┃</span><span style=\"color: #008080; text-decoration-color: #008080; font-weight: bold\">   Q </span><span style=\"color: #ffaf00; text-decoration-color: #ffaf00\">┃</span><span style=\"color: #800080; text-decoration-color: #800080; font-weight: bold\">   q </span><span style=\"color: #ffaf00; text-decoration-color: #ffaf00\">┃</span><span style=\"color: #800000; text-decoration-color: #800000; font-weight: bold\">   * </span><span style=\"color: #ffaf00; text-decoration-color: #ffaf00\">┃</span><span style=\"color: #008000; text-decoration-color: #008000; font-weight: bold\">   d </span><span style=\"color: #ffaf00; text-decoration-color: #ffaf00\">┃</span><span style=\"color: #000080; text-decoration-color: #000080; font-weight: bold\"> N </span><span style=\"color: #ffaf00; text-decoration-color: #ffaf00\">┃</span><span style=\"color: #af00ff; text-decoration-color: #af00ff; font-weight: bold\"> n </span><span style=\"color: #ffaf00; text-decoration-color: #ffaf00\">┃</span><span style=\"color: #008080; text-decoration-color: #008080; font-weight: bold\"> Total_nts </span><span style=\"color: #ffaf00; text-decoration-color: #ffaf00\">┃</span><span style=\"color: #800080; text-decoration-color: #800080; font-weight: bold\"> % N </span><span style=\"color: #ffaf00; text-decoration-color: #ffaf00\">┃</span><span style=\"color: #800000; text-decoration-color: #800000; font-weight: bold\"> % n </span><span style=\"color: #ffaf00; text-decoration-color: #ffaf00\">┃</span><span style=\"color: #008000; text-decoration-color: #008000; font-weight: bold\"> % N&amp;n </span><span style=\"color: #ffaf00; text-decoration-color: #ffaf00\">┃</span>\n",
       "<span style=\"color: #ffaf00; text-decoration-color: #ffaf00\">┡━━━━━━━╇━━━━╇━━━━╇━━━━╇━━━━╇━━━╇━━━━━╇━━━━━╇━━━━━╇━━━━━╇━━━╇━━━╇━━━━━━━━━━━╇━━━━━╇━━━━━╇━━━━━━━┩</span>\n",
       "<span style=\"color: #ffaf00; text-decoration-color: #ffaf00\">│</span><span style=\"color: #008080; text-decoration-color: #008080; font-weight: bold\"> evoli </span><span style=\"color: #ffaf00; text-decoration-color: #ffaf00\">│</span><span style=\"color: #800080; text-decoration-color: #800080; font-weight: bold\">  9 </span><span style=\"color: #ffaf00; text-decoration-color: #ffaf00\">│</span><span style=\"color: #800000; text-decoration-color: #800000; font-weight: bold\"> 14 </span><span style=\"color: #ffaf00; text-decoration-color: #ffaf00\">│</span><span style=\"color: #008000; text-decoration-color: #008000; font-weight: bold\">  8 </span><span style=\"color: #ffaf00; text-decoration-color: #ffaf00\">│</span><span style=\"color: #000080; text-decoration-color: #000080; font-weight: bold\"> 16 </span><span style=\"color: #ffaf00; text-decoration-color: #ffaf00\">│</span><span style=\"color: #af00ff; text-decoration-color: #af00ff; font-weight: bold\"> 1 </span><span style=\"color: #ffaf00; text-decoration-color: #ffaf00\">│</span><span style=\"color: #008080; text-decoration-color: #008080; font-weight: bold\"> 2.0 </span><span style=\"color: #ffaf00; text-decoration-color: #ffaf00\">│</span><span style=\"color: #800080; text-decoration-color: #800080; font-weight: bold\"> 1.0 </span><span style=\"color: #ffaf00; text-decoration-color: #ffaf00\">│</span><span style=\"color: #800000; text-decoration-color: #800000; font-weight: bold\"> 1.0 </span><span style=\"color: #ffaf00; text-decoration-color: #ffaf00\">│</span><span style=\"color: #008000; text-decoration-color: #008000; font-weight: bold\"> 1.0 </span><span style=\"color: #ffaf00; text-decoration-color: #ffaf00\">│</span><span style=\"color: #000080; text-decoration-color: #000080; font-weight: bold\"> 0 </span><span style=\"color: #ffaf00; text-decoration-color: #ffaf00\">│</span><span style=\"color: #af00ff; text-decoration-color: #af00ff; font-weight: bold\"> 0 </span><span style=\"color: #ffaf00; text-decoration-color: #ffaf00\">│</span><span style=\"color: #008080; text-decoration-color: #008080; font-weight: bold\">        53 </span><span style=\"color: #ffaf00; text-decoration-color: #ffaf00\">│</span><span style=\"color: #800080; text-decoration-color: #800080; font-weight: bold\"> 0.0 </span><span style=\"color: #ffaf00; text-decoration-color: #ffaf00\">│</span><span style=\"color: #800000; text-decoration-color: #800000; font-weight: bold\"> 0.0 </span><span style=\"color: #ffaf00; text-decoration-color: #ffaf00\">│</span><span style=\"color: #008000; text-decoration-color: #008000; font-weight: bold\">   0.0 </span><span style=\"color: #ffaf00; text-decoration-color: #ffaf00\">│</span>\n",
       "<span style=\"color: #ffaf00; text-decoration-color: #ffaf00\">│</span><span style=\"color: #008080; text-decoration-color: #008080; font-weight: bold\">  smer </span><span style=\"color: #ffaf00; text-decoration-color: #ffaf00\">│</span><span style=\"color: #800080; text-decoration-color: #800080; font-weight: bold\"> 13 </span><span style=\"color: #ffaf00; text-decoration-color: #ffaf00\">│</span><span style=\"color: #800000; text-decoration-color: #800000; font-weight: bold\"> 14 </span><span style=\"color: #ffaf00; text-decoration-color: #ffaf00\">│</span><span style=\"color: #008000; text-decoration-color: #008000; font-weight: bold\">  9 </span><span style=\"color: #ffaf00; text-decoration-color: #ffaf00\">│</span><span style=\"color: #000080; text-decoration-color: #000080; font-weight: bold\"> 10 </span><span style=\"color: #ffaf00; text-decoration-color: #ffaf00\">│</span><span style=\"color: #af00ff; text-decoration-color: #af00ff; font-weight: bold\"> 1 </span><span style=\"color: #ffaf00; text-decoration-color: #ffaf00\">│</span><span style=\"color: #008080; text-decoration-color: #008080; font-weight: bold\"> 0.0 </span><span style=\"color: #ffaf00; text-decoration-color: #ffaf00\">│</span><span style=\"color: #800080; text-decoration-color: #800080; font-weight: bold\"> 0.0 </span><span style=\"color: #ffaf00; text-decoration-color: #ffaf00\">│</span><span style=\"color: #800000; text-decoration-color: #800000; font-weight: bold\"> 0.0 </span><span style=\"color: #ffaf00; text-decoration-color: #ffaf00\">│</span><span style=\"color: #008000; text-decoration-color: #008000; font-weight: bold\"> 0.0 </span><span style=\"color: #ffaf00; text-decoration-color: #ffaf00\">│</span><span style=\"color: #000080; text-decoration-color: #000080; font-weight: bold\"> 0 </span><span style=\"color: #ffaf00; text-decoration-color: #ffaf00\">│</span><span style=\"color: #af00ff; text-decoration-color: #af00ff; font-weight: bold\"> 0 </span><span style=\"color: #ffaf00; text-decoration-color: #ffaf00\">│</span><span style=\"color: #008080; text-decoration-color: #008080; font-weight: bold\">        47 </span><span style=\"color: #ffaf00; text-decoration-color: #ffaf00\">│</span><span style=\"color: #800080; text-decoration-color: #800080; font-weight: bold\"> 0.0 </span><span style=\"color: #ffaf00; text-decoration-color: #ffaf00\">│</span><span style=\"color: #800000; text-decoration-color: #800000; font-weight: bold\"> 0.0 </span><span style=\"color: #ffaf00; text-decoration-color: #ffaf00\">│</span><span style=\"color: #008000; text-decoration-color: #008000; font-weight: bold\">   0.0 </span><span style=\"color: #ffaf00; text-decoration-color: #ffaf00\">│</span>\n",
       "<span style=\"color: #ffaf00; text-decoration-color: #ffaf00\">│</span><span style=\"color: #008080; text-decoration-color: #008080; font-weight: bold\"> TOTAL </span><span style=\"color: #ffaf00; text-decoration-color: #ffaf00\">│</span><span style=\"color: #800080; text-decoration-color: #800080; font-weight: bold\"> 22 </span><span style=\"color: #ffaf00; text-decoration-color: #ffaf00\">│</span><span style=\"color: #800000; text-decoration-color: #800000; font-weight: bold\"> 28 </span><span style=\"color: #ffaf00; text-decoration-color: #ffaf00\">│</span><span style=\"color: #008000; text-decoration-color: #008000; font-weight: bold\"> 17 </span><span style=\"color: #ffaf00; text-decoration-color: #ffaf00\">│</span><span style=\"color: #000080; text-decoration-color: #000080; font-weight: bold\"> 26 </span><span style=\"color: #ffaf00; text-decoration-color: #ffaf00\">│</span><span style=\"color: #af00ff; text-decoration-color: #af00ff; font-weight: bold\"> 2 </span><span style=\"color: #ffaf00; text-decoration-color: #ffaf00\">│</span><span style=\"color: #008080; text-decoration-color: #008080; font-weight: bold\"> 2.0 </span><span style=\"color: #ffaf00; text-decoration-color: #ffaf00\">│</span><span style=\"color: #800080; text-decoration-color: #800080; font-weight: bold\"> 1.0 </span><span style=\"color: #ffaf00; text-decoration-color: #ffaf00\">│</span><span style=\"color: #800000; text-decoration-color: #800000; font-weight: bold\"> 1.0 </span><span style=\"color: #ffaf00; text-decoration-color: #ffaf00\">│</span><span style=\"color: #008000; text-decoration-color: #008000; font-weight: bold\"> 1.0 </span><span style=\"color: #ffaf00; text-decoration-color: #ffaf00\">│</span><span style=\"color: #000080; text-decoration-color: #000080; font-weight: bold\"> 0 </span><span style=\"color: #ffaf00; text-decoration-color: #ffaf00\">│</span><span style=\"color: #af00ff; text-decoration-color: #af00ff; font-weight: bold\"> 0 </span><span style=\"color: #ffaf00; text-decoration-color: #ffaf00\">│</span><span style=\"color: #008080; text-decoration-color: #008080; font-weight: bold\">       100 </span><span style=\"color: #ffaf00; text-decoration-color: #ffaf00\">│</span><span style=\"color: #800080; text-decoration-color: #800080; font-weight: bold\"> 0.0 </span><span style=\"color: #ffaf00; text-decoration-color: #ffaf00\">│</span><span style=\"color: #800000; text-decoration-color: #800000; font-weight: bold\"> 0.0 </span><span style=\"color: #ffaf00; text-decoration-color: #ffaf00\">│</span><span style=\"color: #008000; text-decoration-color: #008000; font-weight: bold\">   0.0 </span><span style=\"color: #ffaf00; text-decoration-color: #ffaf00\">│</span>\n",
       "<span style=\"color: #ffaf00; text-decoration-color: #ffaf00\">└───────┴────┴────┴────┴────┴───┴─────┴─────┴─────┴─────┴───┴───┴───────────┴─────┴─────┴───────┘</span>\n",
       "</pre>\n"
      ],
      "text/plain": [
       "\u001b[38;5;214m┏━━━━━━━┳━━━━┳━━━━┳━━━━┳━━━━┳━━━┳━━━━━┳━━━━━┳━━━━━┳━━━━━┳━━━┳━━━┳━━━━━━━━━━━┳━━━━━┳━━━━━┳━━━━━━━┓\u001b[0m\n",
       "\u001b[38;5;214m┃\u001b[0m\u001b[1;36m \u001b[0m\u001b[1;36m     \u001b[0m\u001b[1;36m \u001b[0m\u001b[38;5;214m┃\u001b[0m\u001b[1;35m \u001b[0m\u001b[1;35m a\u001b[0m\u001b[1;35m \u001b[0m\u001b[38;5;214m┃\u001b[0m\u001b[1;31m \u001b[0m\u001b[1;31m t\u001b[0m\u001b[1;31m \u001b[0m\u001b[38;5;214m┃\u001b[0m\u001b[1;32m \u001b[0m\u001b[1;32m c\u001b[0m\u001b[1;32m \u001b[0m\u001b[38;5;214m┃\u001b[0m\u001b[1;34m \u001b[0m\u001b[1;34m g\u001b[0m\u001b[1;34m \u001b[0m\u001b[38;5;214m┃\u001b[0m\u001b[1;38;5;129m \u001b[0m\u001b[1;38;5;129mk\u001b[0m\u001b[1;38;5;129m \u001b[0m\u001b[38;5;214m┃\u001b[0m\u001b[1;36m \u001b[0m\u001b[1;36m  Q\u001b[0m\u001b[1;36m \u001b[0m\u001b[38;5;214m┃\u001b[0m\u001b[1;35m \u001b[0m\u001b[1;35m  q\u001b[0m\u001b[1;35m \u001b[0m\u001b[38;5;214m┃\u001b[0m\u001b[1;31m \u001b[0m\u001b[1;31m  *\u001b[0m\u001b[1;31m \u001b[0m\u001b[38;5;214m┃\u001b[0m\u001b[1;32m \u001b[0m\u001b[1;32m  d\u001b[0m\u001b[1;32m \u001b[0m\u001b[38;5;214m┃\u001b[0m\u001b[1;34m \u001b[0m\u001b[1;34mN\u001b[0m\u001b[1;34m \u001b[0m\u001b[38;5;214m┃\u001b[0m\u001b[1;38;5;129m \u001b[0m\u001b[1;38;5;129mn\u001b[0m\u001b[1;38;5;129m \u001b[0m\u001b[38;5;214m┃\u001b[0m\u001b[1;36m \u001b[0m\u001b[1;36mTotal_nts\u001b[0m\u001b[1;36m \u001b[0m\u001b[38;5;214m┃\u001b[0m\u001b[1;35m \u001b[0m\u001b[1;35m% N\u001b[0m\u001b[1;35m \u001b[0m\u001b[38;5;214m┃\u001b[0m\u001b[1;31m \u001b[0m\u001b[1;31m% n\u001b[0m\u001b[1;31m \u001b[0m\u001b[38;5;214m┃\u001b[0m\u001b[1;32m \u001b[0m\u001b[1;32m% N&n\u001b[0m\u001b[1;32m \u001b[0m\u001b[38;5;214m┃\u001b[0m\n",
       "\u001b[38;5;214m┡━━━━━━━╇━━━━╇━━━━╇━━━━╇━━━━╇━━━╇━━━━━╇━━━━━╇━━━━━╇━━━━━╇━━━╇━━━╇━━━━━━━━━━━╇━━━━━╇━━━━━╇━━━━━━━┩\u001b[0m\n",
       "\u001b[38;5;214m│\u001b[0m\u001b[1;36m \u001b[0m\u001b[1;36mevoli\u001b[0m\u001b[1;36m \u001b[0m\u001b[38;5;214m│\u001b[0m\u001b[1;35m \u001b[0m\u001b[1;35m 9\u001b[0m\u001b[1;35m \u001b[0m\u001b[38;5;214m│\u001b[0m\u001b[1;31m \u001b[0m\u001b[1;31m14\u001b[0m\u001b[1;31m \u001b[0m\u001b[38;5;214m│\u001b[0m\u001b[1;32m \u001b[0m\u001b[1;32m 8\u001b[0m\u001b[1;32m \u001b[0m\u001b[38;5;214m│\u001b[0m\u001b[1;34m \u001b[0m\u001b[1;34m16\u001b[0m\u001b[1;34m \u001b[0m\u001b[38;5;214m│\u001b[0m\u001b[1;38;5;129m \u001b[0m\u001b[1;38;5;129m1\u001b[0m\u001b[1;38;5;129m \u001b[0m\u001b[38;5;214m│\u001b[0m\u001b[1;36m \u001b[0m\u001b[1;36m2.0\u001b[0m\u001b[1;36m \u001b[0m\u001b[38;5;214m│\u001b[0m\u001b[1;35m \u001b[0m\u001b[1;35m1.0\u001b[0m\u001b[1;35m \u001b[0m\u001b[38;5;214m│\u001b[0m\u001b[1;31m \u001b[0m\u001b[1;31m1.0\u001b[0m\u001b[1;31m \u001b[0m\u001b[38;5;214m│\u001b[0m\u001b[1;32m \u001b[0m\u001b[1;32m1.0\u001b[0m\u001b[1;32m \u001b[0m\u001b[38;5;214m│\u001b[0m\u001b[1;34m \u001b[0m\u001b[1;34m0\u001b[0m\u001b[1;34m \u001b[0m\u001b[38;5;214m│\u001b[0m\u001b[1;38;5;129m \u001b[0m\u001b[1;38;5;129m0\u001b[0m\u001b[1;38;5;129m \u001b[0m\u001b[38;5;214m│\u001b[0m\u001b[1;36m \u001b[0m\u001b[1;36m       53\u001b[0m\u001b[1;36m \u001b[0m\u001b[38;5;214m│\u001b[0m\u001b[1;35m \u001b[0m\u001b[1;35m0.0\u001b[0m\u001b[1;35m \u001b[0m\u001b[38;5;214m│\u001b[0m\u001b[1;31m \u001b[0m\u001b[1;31m0.0\u001b[0m\u001b[1;31m \u001b[0m\u001b[38;5;214m│\u001b[0m\u001b[1;32m \u001b[0m\u001b[1;32m  0.0\u001b[0m\u001b[1;32m \u001b[0m\u001b[38;5;214m│\u001b[0m\n",
       "\u001b[38;5;214m│\u001b[0m\u001b[1;36m \u001b[0m\u001b[1;36m smer\u001b[0m\u001b[1;36m \u001b[0m\u001b[38;5;214m│\u001b[0m\u001b[1;35m \u001b[0m\u001b[1;35m13\u001b[0m\u001b[1;35m \u001b[0m\u001b[38;5;214m│\u001b[0m\u001b[1;31m \u001b[0m\u001b[1;31m14\u001b[0m\u001b[1;31m \u001b[0m\u001b[38;5;214m│\u001b[0m\u001b[1;32m \u001b[0m\u001b[1;32m 9\u001b[0m\u001b[1;32m \u001b[0m\u001b[38;5;214m│\u001b[0m\u001b[1;34m \u001b[0m\u001b[1;34m10\u001b[0m\u001b[1;34m \u001b[0m\u001b[38;5;214m│\u001b[0m\u001b[1;38;5;129m \u001b[0m\u001b[1;38;5;129m1\u001b[0m\u001b[1;38;5;129m \u001b[0m\u001b[38;5;214m│\u001b[0m\u001b[1;36m \u001b[0m\u001b[1;36m0.0\u001b[0m\u001b[1;36m \u001b[0m\u001b[38;5;214m│\u001b[0m\u001b[1;35m \u001b[0m\u001b[1;35m0.0\u001b[0m\u001b[1;35m \u001b[0m\u001b[38;5;214m│\u001b[0m\u001b[1;31m \u001b[0m\u001b[1;31m0.0\u001b[0m\u001b[1;31m \u001b[0m\u001b[38;5;214m│\u001b[0m\u001b[1;32m \u001b[0m\u001b[1;32m0.0\u001b[0m\u001b[1;32m \u001b[0m\u001b[38;5;214m│\u001b[0m\u001b[1;34m \u001b[0m\u001b[1;34m0\u001b[0m\u001b[1;34m \u001b[0m\u001b[38;5;214m│\u001b[0m\u001b[1;38;5;129m \u001b[0m\u001b[1;38;5;129m0\u001b[0m\u001b[1;38;5;129m \u001b[0m\u001b[38;5;214m│\u001b[0m\u001b[1;36m \u001b[0m\u001b[1;36m       47\u001b[0m\u001b[1;36m \u001b[0m\u001b[38;5;214m│\u001b[0m\u001b[1;35m \u001b[0m\u001b[1;35m0.0\u001b[0m\u001b[1;35m \u001b[0m\u001b[38;5;214m│\u001b[0m\u001b[1;31m \u001b[0m\u001b[1;31m0.0\u001b[0m\u001b[1;31m \u001b[0m\u001b[38;5;214m│\u001b[0m\u001b[1;32m \u001b[0m\u001b[1;32m  0.0\u001b[0m\u001b[1;32m \u001b[0m\u001b[38;5;214m│\u001b[0m\n",
       "\u001b[38;5;214m│\u001b[0m\u001b[1;36m \u001b[0m\u001b[1;36mTOTAL\u001b[0m\u001b[1;36m \u001b[0m\u001b[38;5;214m│\u001b[0m\u001b[1;35m \u001b[0m\u001b[1;35m22\u001b[0m\u001b[1;35m \u001b[0m\u001b[38;5;214m│\u001b[0m\u001b[1;31m \u001b[0m\u001b[1;31m28\u001b[0m\u001b[1;31m \u001b[0m\u001b[38;5;214m│\u001b[0m\u001b[1;32m \u001b[0m\u001b[1;32m17\u001b[0m\u001b[1;32m \u001b[0m\u001b[38;5;214m│\u001b[0m\u001b[1;34m \u001b[0m\u001b[1;34m26\u001b[0m\u001b[1;34m \u001b[0m\u001b[38;5;214m│\u001b[0m\u001b[1;38;5;129m \u001b[0m\u001b[1;38;5;129m2\u001b[0m\u001b[1;38;5;129m \u001b[0m\u001b[38;5;214m│\u001b[0m\u001b[1;36m \u001b[0m\u001b[1;36m2.0\u001b[0m\u001b[1;36m \u001b[0m\u001b[38;5;214m│\u001b[0m\u001b[1;35m \u001b[0m\u001b[1;35m1.0\u001b[0m\u001b[1;35m \u001b[0m\u001b[38;5;214m│\u001b[0m\u001b[1;31m \u001b[0m\u001b[1;31m1.0\u001b[0m\u001b[1;31m \u001b[0m\u001b[38;5;214m│\u001b[0m\u001b[1;32m \u001b[0m\u001b[1;32m1.0\u001b[0m\u001b[1;32m \u001b[0m\u001b[38;5;214m│\u001b[0m\u001b[1;34m \u001b[0m\u001b[1;34m0\u001b[0m\u001b[1;34m \u001b[0m\u001b[38;5;214m│\u001b[0m\u001b[1;38;5;129m \u001b[0m\u001b[1;38;5;129m0\u001b[0m\u001b[1;38;5;129m \u001b[0m\u001b[38;5;214m│\u001b[0m\u001b[1;36m \u001b[0m\u001b[1;36m      100\u001b[0m\u001b[1;36m \u001b[0m\u001b[38;5;214m│\u001b[0m\u001b[1;35m \u001b[0m\u001b[1;35m0.0\u001b[0m\u001b[1;35m \u001b[0m\u001b[38;5;214m│\u001b[0m\u001b[1;31m \u001b[0m\u001b[1;31m0.0\u001b[0m\u001b[1;31m \u001b[0m\u001b[38;5;214m│\u001b[0m\u001b[1;32m \u001b[0m\u001b[1;32m  0.0\u001b[0m\u001b[1;32m \u001b[0m\u001b[38;5;214m│\u001b[0m\n",
       "\u001b[38;5;214m└───────┴────┴────┴────┴────┴───┴─────┴─────┴─────┴─────┴───┴───┴───────────┴─────┴─────┴───────┘\u001b[0m\n"
      ]
     },
     "metadata": {},
     "output_type": "display_data"
    }
   ],
   "source": [
    "%run replace_unusual_nts_within_FASTA.py -cs sequence.fa"
   ]
  },
  {
   "cell_type": "markdown",
   "metadata": {},
   "source": [
    "The full version of that flag if you want to write it out, would be `--case_sensitive`.   \n",
    "I'd suggest if you want the case-sensitive summary, you also colllect the 'default', case-insensitive summary table as I think they complement each other well."
   ]
  },
  {
   "cell_type": "markdown",
   "metadata": {},
   "source": [
    "------\n",
    "\n",
    "## Basic use example set #2: Use the main function via import\n",
    "\n",
    "Very useful for when using this in a Jupyter notebook to build into a pipeline or workflow."
   ]
  },
  {
   "cell_type": "markdown",
   "metadata": {},
   "source": [
    "Prepare first by  importing the main function from the script into the notbeook environment."
   ]
  },
  {
   "cell_type": "code",
   "execution_count": 10,
   "metadata": {},
   "outputs": [],
   "source": [
    "from replace_unusual_nts_within_FASTA import replace_unusual_nts_within_FASTA"
   ]
  },
  {
   "cell_type": "markdown",
   "metadata": {},
   "source": [
    "(That call will look redundant; however, it actually means *from the file* `replace_unusual_nts_within_FASTA.py`  *import the* `replace_unusual_nts_within_FASTA()` *function*.)\n",
    "\n",
    "With the main function imported, into the namespace, we are ready to call it for use. The needed argument for calling is the `sequence file`. Optionally, you can set if case-sensitive, with `case_sensitive=True`. \n",
    "\n",
    "The function will return a dataframe and generate a new file."
   ]
  },
  {
   "cell_type": "code",
   "execution_count": 11,
   "metadata": {},
   "outputs": [
    {
     "name": "stderr",
     "output_type": "stream",
     "text": [
      "2 sequences provided in the sequence file.\n",
      "\n",
      "\n",
      "\n",
      "*****************DONE**************************\n",
      "The following letters not expected to be among the sequences were observed: D,K,*,Q.\n",
      "These unusual characters were replaced with `?` and a modified version \n",
      "of 'sequence.fa' was saved as the output file 'sequence_subbed.fa'."
     ]
    },
    {
     "data": {
      "text/html": [
       "<div>\n",
       "<style scoped>\n",
       "    .dataframe tbody tr th:only-of-type {\n",
       "        vertical-align: middle;\n",
       "    }\n",
       "\n",
       "    .dataframe tbody tr th {\n",
       "        vertical-align: top;\n",
       "    }\n",
       "\n",
       "    .dataframe thead th {\n",
       "        text-align: right;\n",
       "    }\n",
       "</style>\n",
       "<table border=\"1\" class=\"dataframe\">\n",
       "  <thead>\n",
       "    <tr style=\"text-align: right;\">\n",
       "      <th></th>\n",
       "      <th>A</th>\n",
       "      <th>T</th>\n",
       "      <th>C</th>\n",
       "      <th>G</th>\n",
       "      <th>K</th>\n",
       "      <th>Q</th>\n",
       "      <th>*</th>\n",
       "      <th>D</th>\n",
       "      <th>N</th>\n",
       "      <th>Total_nts</th>\n",
       "      <th>% N</th>\n",
       "    </tr>\n",
       "  </thead>\n",
       "  <tbody>\n",
       "    <tr>\n",
       "      <th>evoli</th>\n",
       "      <td>9</td>\n",
       "      <td>14</td>\n",
       "      <td>8</td>\n",
       "      <td>16</td>\n",
       "      <td>1</td>\n",
       "      <td>3.0</td>\n",
       "      <td>1.0</td>\n",
       "      <td>1.0</td>\n",
       "      <td>0</td>\n",
       "      <td>53</td>\n",
       "      <td>0.0</td>\n",
       "    </tr>\n",
       "    <tr>\n",
       "      <th>smer</th>\n",
       "      <td>13</td>\n",
       "      <td>14</td>\n",
       "      <td>9</td>\n",
       "      <td>10</td>\n",
       "      <td>1</td>\n",
       "      <td>0.0</td>\n",
       "      <td>0.0</td>\n",
       "      <td>0.0</td>\n",
       "      <td>0</td>\n",
       "      <td>47</td>\n",
       "      <td>0.0</td>\n",
       "    </tr>\n",
       "    <tr>\n",
       "      <th>TOTAL</th>\n",
       "      <td>22</td>\n",
       "      <td>28</td>\n",
       "      <td>17</td>\n",
       "      <td>26</td>\n",
       "      <td>2</td>\n",
       "      <td>3.0</td>\n",
       "      <td>1.0</td>\n",
       "      <td>1.0</td>\n",
       "      <td>0</td>\n",
       "      <td>100</td>\n",
       "      <td>0.0</td>\n",
       "    </tr>\n",
       "  </tbody>\n",
       "</table>\n",
       "</div>"
      ],
      "text/plain": [
       "        A   T   C   G  K    Q    *    D  N  Total_nts  % N\n",
       "evoli   9  14   8  16  1  3.0  1.0  1.0  0         53  0.0\n",
       "smer   13  14   9  10  1  0.0  0.0  0.0  0         47  0.0\n",
       "TOTAL  22  28  17  26  2  3.0  1.0  1.0  0        100  0.0"
      ]
     },
     "execution_count": 11,
     "metadata": {},
     "output_type": "execute_result"
    }
   ],
   "source": [
    "df = replace_unusual_nts_within_FASTA(\"sequence.fa\")\n",
    "df"
   ]
  },
  {
   "cell_type": "code",
   "execution_count": 12,
   "metadata": {},
   "outputs": [
    {
     "name": "stderr",
     "output_type": "stream",
     "text": [
      "2 sequences provided in the sequence file.\n",
      "\n",
      "\n",
      "\n",
      "*****************DONE**************************\n",
      "The following letters not expected to be among the sequences were observed: d,k,q,Q,*.\n",
      "These unusual characters were replaced with `?` and a modified version \n",
      "of 'sequence.fa' was saved as the output file 'sequence_subbed.fa'."
     ]
    },
    {
     "data": {
      "text/html": [
       "<div>\n",
       "<style scoped>\n",
       "    .dataframe tbody tr th:only-of-type {\n",
       "        vertical-align: middle;\n",
       "    }\n",
       "\n",
       "    .dataframe tbody tr th {\n",
       "        vertical-align: top;\n",
       "    }\n",
       "\n",
       "    .dataframe thead th {\n",
       "        text-align: right;\n",
       "    }\n",
       "</style>\n",
       "<table border=\"1\" class=\"dataframe\">\n",
       "  <thead>\n",
       "    <tr style=\"text-align: right;\">\n",
       "      <th></th>\n",
       "      <th>a</th>\n",
       "      <th>t</th>\n",
       "      <th>c</th>\n",
       "      <th>g</th>\n",
       "      <th>k</th>\n",
       "      <th>Q</th>\n",
       "      <th>q</th>\n",
       "      <th>*</th>\n",
       "      <th>d</th>\n",
       "      <th>N</th>\n",
       "      <th>n</th>\n",
       "      <th>Total_nts</th>\n",
       "      <th>% N</th>\n",
       "      <th>% n</th>\n",
       "      <th>% N&amp;n</th>\n",
       "    </tr>\n",
       "  </thead>\n",
       "  <tbody>\n",
       "    <tr>\n",
       "      <th>evoli</th>\n",
       "      <td>9</td>\n",
       "      <td>14</td>\n",
       "      <td>8</td>\n",
       "      <td>16</td>\n",
       "      <td>1</td>\n",
       "      <td>2.0</td>\n",
       "      <td>1.0</td>\n",
       "      <td>1.0</td>\n",
       "      <td>1.0</td>\n",
       "      <td>0</td>\n",
       "      <td>0</td>\n",
       "      <td>53</td>\n",
       "      <td>0.0</td>\n",
       "      <td>0.0</td>\n",
       "      <td>0.0</td>\n",
       "    </tr>\n",
       "    <tr>\n",
       "      <th>smer</th>\n",
       "      <td>13</td>\n",
       "      <td>14</td>\n",
       "      <td>9</td>\n",
       "      <td>10</td>\n",
       "      <td>1</td>\n",
       "      <td>0.0</td>\n",
       "      <td>0.0</td>\n",
       "      <td>0.0</td>\n",
       "      <td>0.0</td>\n",
       "      <td>0</td>\n",
       "      <td>0</td>\n",
       "      <td>47</td>\n",
       "      <td>0.0</td>\n",
       "      <td>0.0</td>\n",
       "      <td>0.0</td>\n",
       "    </tr>\n",
       "    <tr>\n",
       "      <th>TOTAL</th>\n",
       "      <td>22</td>\n",
       "      <td>28</td>\n",
       "      <td>17</td>\n",
       "      <td>26</td>\n",
       "      <td>2</td>\n",
       "      <td>2.0</td>\n",
       "      <td>1.0</td>\n",
       "      <td>1.0</td>\n",
       "      <td>1.0</td>\n",
       "      <td>0</td>\n",
       "      <td>0</td>\n",
       "      <td>100</td>\n",
       "      <td>0.0</td>\n",
       "      <td>0.0</td>\n",
       "      <td>0.0</td>\n",
       "    </tr>\n",
       "  </tbody>\n",
       "</table>\n",
       "</div>"
      ],
      "text/plain": [
       "        a   t   c   g  k    Q    q    *    d  N  n  Total_nts  % N  % n  % N&n\n",
       "evoli   9  14   8  16  1  2.0  1.0  1.0  1.0  0  0         53  0.0  0.0    0.0\n",
       "smer   13  14   9  10  1  0.0  0.0  0.0  0.0  0  0         47  0.0  0.0    0.0\n",
       "TOTAL  22  28  17  26  2  2.0  1.0  1.0  1.0  0  0        100  0.0  0.0    0.0"
      ]
     },
     "execution_count": 12,
     "metadata": {},
     "output_type": "execute_result"
    }
   ],
   "source": [
    "df = replace_unusual_nts_within_FASTA(\"sequence.fa\", case_sensitive=True)\n",
    "df"
   ]
  },
  {
   "cell_type": "markdown",
   "metadata": {},
   "source": [
    "The `mono` setting is moot when using the main function inside Python. That setting is only for when using the script in the terminal, or terminal-equivalent, setting.\n",
    "\n",
    "If you didn't want the dataframe returned and instead just want the script to replace the unusual nucleotides, you can optionally also add `return_df = True`. (The case-sensitive nature only is reflectedin the dataframe returned so we don't care what the setting for `case_sensitive` is if not returning the dataframe and so I'm leaving it out here.)"
   ]
  },
  {
   "cell_type": "code",
   "execution_count": 13,
   "metadata": {},
   "outputs": [
    {
     "name": "stderr",
     "output_type": "stream",
     "text": [
      "2 sequences provided in the sequence file.\n",
      "\n",
      "\n",
      "\n",
      "*****************DONE**************************\n",
      "The following letters not expected to be among the sequences were observed: D,K,*,Q.\n",
      "These unusual characters were replaced with `?` and a modified version \n",
      "of 'sequence.fa' was saved as the output file 'sequence_subbed.fa'."
     ]
    }
   ],
   "source": [
    "replace_unusual_nts_within_FASTA(\"sequence.fa\", return_df = False) "
   ]
  },
  {
   "cell_type": "markdown",
   "metadata": {},
   "source": [
    "----\n",
    "\n",
    "Enjoy!\n",
    "\n",
    "Upload your own sequence files to any running Jupyter session and adapt the commands in this notebook to search wihin them. Edit the notebook or copy the necessary cells to make the script work with your own data.\n",
    "\n",
    "----\n",
    "### ADVANCED DEVELOPMENT NOTE\n",
    "\n",
    "If editing the script (***ATYPICAL***) and using import of the main function to test changes here in this Jupyter notebook, you'll need to run the following code in order to specifically trigger import of the updated version of the code for the function subsequent to any edit. Otherwise, without a restart of the kernel, the notebook environment will see any call to import the function and essentially ignore it as it considers that function already imported into the notebook environment."
   ]
  },
  {
   "cell_type": "code",
   "execution_count": 14,
   "metadata": {},
   "outputs": [],
   "source": [
    "# Run this to have new code reflected in the version of the function in memory within the notebook namespace\n",
    "import importlib\n",
    "import replace_unusual_nts_within_FASTA; importlib.reload(replace_unusual_nts_within_FASTA); from replace_unusual_nts_within_FASTA import replace_unusual_nts_within_FASTA\n",
    "# above line from https://stackoverflow.com/a/11724154/8508004"
   ]
  },
  {
   "cell_type": "markdown",
   "metadata": {},
   "source": [
    "----\n"
   ]
  }
 ],
 "metadata": {
  "kernelspec": {
   "display_name": "Python 3 (ipykernel)",
   "language": "python",
   "name": "python3"
  },
  "language_info": {
   "codemirror_mode": {
    "name": "ipython",
    "version": 3
   },
   "file_extension": ".py",
   "mimetype": "text/x-python",
   "name": "python",
   "nbconvert_exporter": "python",
   "pygments_lexer": "ipython3",
   "version": "3.7.12"
  }
 },
 "nbformat": 4,
 "nbformat_minor": 4
}
