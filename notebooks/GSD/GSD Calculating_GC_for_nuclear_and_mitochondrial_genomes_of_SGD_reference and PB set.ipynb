{
 "cells": [
  {
   "cell_type": "markdown",
   "metadata": {},
   "source": [
    "# GSD: Calculating %G+C for the nuclear and mitochondrial genomes of S288C reference sequence at SGD and the PacBio set\n",
    "\n",
    "What is exact %G+C for nuclear and mitochondrial genomes of the *S. crevisiae* S288C reference sequence at SGD and a dozen-or-so PacBio-sequenced *cerevisiae* and *paradoxus* genomes from [Yue et al., 2017](https://www.ncbi.nlm.nih.gov/pubmed/28416820)?\n",
    "\n",
    "\n",
    "References for the sequence data:  \n",
    "- [Contrasting evolutionary genome dynamics between domesticated and wild yeasts.\n",
    "Yue JX, Li J, Aigrain L, Hallin J, Persson K, Oliver K, Bergström A, Coupland P, Warringer J, Lagomarsino MC, Fischer G, Durbin R, Liti G. Nat Genet. 2017 Jun;49(6):913-924. doi: 10.1038/ng.3847. Epub 2017 Apr 17. PMID: 28416820](https://www.ncbi.nlm.nih.gov/pubmed/28416820)\n",
    "\n",
    "\n",
    "- [Life with 6000 genes. Goffeau A, Barrell BG, Bussey H, Davis RW, Dujon B, Feldmann H, Galibert F, Hoheisel JD, Jacq C, Johnston M, Louis EJ, Mewes HW, Murakami Y, Philippsen P, Tettelin H, Oliver SG. Science. 1996 Oct 25;274(5287):546, 563-7. PMID: 8849441](https://www.ncbi.nlm.nih.gov/pubmed/8849441)\n",
    "  \n",
    "Links to the specific data are included in the code.  \n",
    "  \n",
    "Uses code developed for `GSD Assessing_ambiguous_nts_in_complete_PB_genomes.ipynb`, `GSD Assessing_ambiguous_nts_in_nuclear_PB_genomes.ipynb`, `GSD Assessing_ambiguous_nts_in_1011_collection_genomes.ipynb`, `GSD Calculating_GC_for_nuclear_and_mitochondrial_genomes_of_SGD_reference.ipynb`.  \n",
    "  \n",
    "-----"
   ]
  },
  {
   "cell_type": "markdown",
   "metadata": {},
   "source": [
    "## Preparation\n",
    "\n",
    "Get packages and sequence data necessary.\n"
   ]
  },
  {
   "cell_type": "code",
   "execution_count": 2,
   "metadata": {},
   "outputs": [
    {
     "name": "stdout",
     "output_type": "stream",
     "text": [
      "Collecting pyfaidx\n",
      "  Downloading https://files.pythonhosted.org/packages/75/a5/7e2569527b3849ea28d79b4f70d7cf46a47d36459bc59e0efa4e10e8c8b2/pyfaidx-0.5.5.2.tar.gz\n",
      "Requirement already satisfied: six in /srv/conda/lib/python3.6/site-packages (from pyfaidx) (1.12.0)\n",
      "Requirement already satisfied: setuptools>=0.7 in /srv/conda/lib/python3.6/site-packages (from pyfaidx) (40.7.1)\n",
      "Building wheels for collected packages: pyfaidx\n",
      "  Building wheel for pyfaidx (setup.py) ... \u001b[?25ldone\n",
      "\u001b[?25h  Stored in directory: /home/jovyan/.cache/pip/wheels/54/a2/b4/e242e58d23b2808e191b214067880faa46cd2341f363886e0b\n",
      "Successfully built pyfaidx\n",
      "Installing collected packages: pyfaidx\n",
      "Successfully installed pyfaidx-0.5.5.2\n"
     ]
    }
   ],
   "source": [
    "!pip install pyfaidx"
   ]
  },
  {
   "cell_type": "markdown",
   "metadata": {},
   "source": [
    "Get the S228C genomes data by running these commands."
   ]
  },
  {
   "cell_type": "code",
   "execution_count": 3,
   "metadata": {},
   "outputs": [
    {
     "name": "stdout",
     "output_type": "stream",
     "text": [
      "  % Total    % Received % Xferd  Average Speed   Time    Time     Time  Current\n",
      "                                 Dload  Upload   Total   Spent    Left  Speed\n",
      "100  228k  100  228k    0     0   544k      0 --:--:-- --:--:-- --:--:--  543k\n"
     ]
    },
    {
     "name": "stderr",
     "output_type": "stream",
     "text": [
      "\n",
      "chr01.fsa chromosome identifiers tagged."
     ]
    },
    {
     "name": "stdout",
     "output_type": "stream",
     "text": [
      "  % Total    % Received % Xferd  Average Speed   Time    Time     Time  Current\n",
      "                                 Dload  Upload   Total   Spent    Left  Speed\n",
      "100  807k  100  807k    0     0  1782k      0 --:--:-- --:--:-- --:--:-- 1782k\n"
     ]
    },
    {
     "name": "stderr",
     "output_type": "stream",
     "text": [
      "\n",
      "chr02.fsa chromosome identifiers tagged."
     ]
    },
    {
     "name": "stdout",
     "output_type": "stream",
     "text": [
      "  % Total    % Received % Xferd  Average Speed   Time    Time     Time  Current\n",
      "                                 Dload  Upload   Total   Spent    Left  Speed\n",
      "100  314k  100  314k    0     0   875k      0 --:--:-- --:--:-- --:--:--  875k\n"
     ]
    },
    {
     "name": "stderr",
     "output_type": "stream",
     "text": [
      "\n",
      "chr03.fsa chromosome identifiers tagged."
     ]
    },
    {
     "name": "stdout",
     "output_type": "stream",
     "text": [
      "  % Total    % Received % Xferd  Average Speed   Time    Time     Time  Current\n",
      "                                 Dload  Upload   Total   Spent    Left  Speed\n",
      "100 1521k  100 1521k    0     0  3335k      0 --:--:-- --:--:-- --:--:-- 3343k\n"
     ]
    },
    {
     "name": "stderr",
     "output_type": "stream",
     "text": [
      "\n",
      "chr04.fsa chromosome identifiers tagged."
     ]
    },
    {
     "name": "stdout",
     "output_type": "stream",
     "text": [
      "  % Total    % Received % Xferd  Average Speed   Time    Time     Time  Current\n",
      "                                 Dload  Upload   Total   Spent    Left  Speed\n",
      "100  572k  100  572k    0     0  1253k      0 --:--:-- --:--:-- --:--:-- 1250k\n"
     ]
    },
    {
     "name": "stderr",
     "output_type": "stream",
     "text": [
      "\n",
      "chr05.fsa chromosome identifiers tagged."
     ]
    },
    {
     "name": "stdout",
     "output_type": "stream",
     "text": [
      "  % Total    % Received % Xferd  Average Speed   Time    Time     Time  Current\n",
      "                                 Dload  Upload   Total   Spent    Left  Speed\n",
      "100  268k  100  268k    0     0   727k      0 --:--:-- --:--:-- --:--:--  727k\n"
     ]
    },
    {
     "name": "stderr",
     "output_type": "stream",
     "text": [
      "\n",
      "chr06.fsa chromosome identifiers tagged."
     ]
    },
    {
     "name": "stdout",
     "output_type": "stream",
     "text": [
      "  % Total    % Received % Xferd  Average Speed   Time    Time     Time  Current\n",
      "                                 Dload  Upload   Total   Spent    Left  Speed\n",
      "100 1083k  100 1083k    0     0  2386k      0 --:--:-- --:--:-- --:--:-- 2380k\n"
     ]
    },
    {
     "name": "stderr",
     "output_type": "stream",
     "text": [
      "\n",
      "chr07.fsa chromosome identifiers tagged."
     ]
    },
    {
     "name": "stdout",
     "output_type": "stream",
     "text": [
      "  % Total    % Received % Xferd  Average Speed   Time    Time     Time  Current\n",
      "                                 Dload  Upload   Total   Spent    Left  Speed\n",
      "100  558k  100  558k    0     0  1290k      0 --:--:-- --:--:-- --:--:-- 1290k\n"
     ]
    },
    {
     "name": "stderr",
     "output_type": "stream",
     "text": [
      "\n",
      "chr08.fsa chromosome identifiers tagged."
     ]
    },
    {
     "name": "stdout",
     "output_type": "stream",
     "text": [
      "  % Total    % Received % Xferd  Average Speed   Time    Time     Time  Current\n",
      "                                 Dload  Upload   Total   Spent    Left  Speed\n",
      "100  436k  100  436k    0     0  1078k      0 --:--:-- --:--:-- --:--:-- 1078k\n"
     ]
    },
    {
     "name": "stderr",
     "output_type": "stream",
     "text": [
      "\n",
      "chr09.fsa chromosome identifiers tagged."
     ]
    },
    {
     "name": "stdout",
     "output_type": "stream",
     "text": [
      "  % Total    % Received % Xferd  Average Speed   Time    Time     Time  Current\n",
      "                                 Dload  Upload   Total   Spent    Left  Speed\n",
      "100  740k  100  740k    0     0  1793k      0 --:--:-- --:--:-- --:--:-- 1793k\n"
     ]
    },
    {
     "name": "stderr",
     "output_type": "stream",
     "text": [
      "\n",
      "chr10.fsa chromosome identifiers tagged."
     ]
    },
    {
     "name": "stdout",
     "output_type": "stream",
     "text": [
      "  % Total    % Received % Xferd  Average Speed   Time    Time     Time  Current\n",
      "                                 Dload  Upload   Total   Spent    Left  Speed\n",
      "100  662k  100  662k    0     0  1543k      0 --:--:-- --:--:-- --:--:-- 1543k\n"
     ]
    },
    {
     "name": "stderr",
     "output_type": "stream",
     "text": [
      "\n",
      "chr11.fsa chromosome identifiers tagged."
     ]
    },
    {
     "name": "stdout",
     "output_type": "stream",
     "text": [
      "  % Total    % Received % Xferd  Average Speed   Time    Time     Time  Current\n",
      "                                 Dload  Upload   Total   Spent    Left  Speed\n",
      "100 1070k  100 1070k    0     0  2277k      0 --:--:-- --:--:-- --:--:-- 2272k\n"
     ]
    },
    {
     "name": "stderr",
     "output_type": "stream",
     "text": [
      "\n",
      "chr12.fsa chromosome identifiers tagged."
     ]
    },
    {
     "name": "stdout",
     "output_type": "stream",
     "text": [
      "  % Total    % Received % Xferd  Average Speed   Time    Time     Time  Current\n",
      "                                 Dload  Upload   Total   Spent    Left  Speed\n",
      "100  917k  100  917k    0     0  2048k      0 --:--:-- --:--:-- --:--:-- 2048k\n"
     ]
    },
    {
     "name": "stderr",
     "output_type": "stream",
     "text": [
      "\n",
      "chr13.fsa chromosome identifiers tagged."
     ]
    },
    {
     "name": "stdout",
     "output_type": "stream",
     "text": [
      "  % Total    % Received % Xferd  Average Speed   Time    Time     Time  Current\n",
      "                                 Dload  Upload   Total   Spent    Left  Speed\n",
      "100  778k  100  778k    0     0  1890k      0 --:--:-- --:--:-- --:--:-- 1890k\n"
     ]
    },
    {
     "name": "stderr",
     "output_type": "stream",
     "text": [
      "\n",
      "chr14.fsa chromosome identifiers tagged."
     ]
    },
    {
     "name": "stdout",
     "output_type": "stream",
     "text": [
      "  % Total    % Received % Xferd  Average Speed   Time    Time     Time  Current\n",
      "                                 Dload  Upload   Total   Spent    Left  Speed\n",
      "100 1083k  100 1083k    0     0  2243k      0 --:--:-- --:--:-- --:--:-- 2238k\n"
     ]
    },
    {
     "name": "stderr",
     "output_type": "stream",
     "text": [
      "\n",
      "chr15.fsa chromosome identifiers tagged."
     ]
    },
    {
     "name": "stdout",
     "output_type": "stream",
     "text": [
      "  % Total    % Received % Xferd  Average Speed   Time    Time     Time  Current\n",
      "                                 Dload  Upload   Total   Spent    Left  Speed\n",
      "100  941k  100  941k    0     0  1419k      0 --:--:-- --:--:-- --:--:-- 1419k\n"
     ]
    },
    {
     "name": "stderr",
     "output_type": "stream",
     "text": [
      "\n",
      "chr16.fsa chromosome identifiers tagged."
     ]
    },
    {
     "name": "stdout",
     "output_type": "stream",
     "text": [
      "  % Total    % Received % Xferd  Average Speed   Time    Time     Time  Current\n",
      "                                 Dload  Upload   Total   Spent    Left  Speed\n",
      "100 87344  100 87344    0     0   297k      0 --:--:-- --:--:-- --:--:--  297k\n"
     ]
    }
   ],
   "source": [
    "# Cannot simply use `S288C_reference_sequence_R64-2-1_20150113.fsa` at https://downloads.yeastgenome.org/sequence/S288C_reference/genome_releases/S288C_reference_genome_Current_Release.tgz\n",
    "# because want nuclear & mito sequences here to be separate\n",
    "# NUCLEAR\n",
    "def add_strain_id_to_description_line(file,strain_id):\n",
    "    '''\n",
    "    Takes a file and edits every description line to add \n",
    "    strain_id after the caret.\n",
    "    \n",
    "    Saves the fixed file\n",
    "    '''\n",
    "    import sys\n",
    "    output_file_name = \"temp.txt\"\n",
    "    # prepare output file for saving so it will be open and ready\n",
    "    with open(output_file_name, 'w') as output_file:\n",
    "\n",
    "        # read in the input file\n",
    "        with open(file, 'r') as input_handler:\n",
    "            # prepare to give feeback later or allow skipping to certain start\n",
    "            lines_processed = 0\n",
    "\n",
    "            for line in input_handler:\n",
    "                lines_processed += 1\n",
    "                if line.startswith(\">\"):\n",
    "                    rest_o_line = line.split(\">\")\n",
    "                    new_line = \">\"+strain_id + rest_o_line[1]\n",
    "                else:\n",
    "                    new_line = line\n",
    "                \n",
    "                # Send text to output\n",
    "                output_file.write(new_line)\n",
    "\n",
    "    \n",
    "    # replace the original file with edited\n",
    "    !mv temp.txt {file}\n",
    "    # Feedback\n",
    "    sys.stderr.write(\"\\n{} chromosome identifiers tagged.\".format(file))\n",
    "chr_nums = [\"01\",\"02\",\"03\",\"04\",\"05\",\"06\",\"07\",\"08\",\"09\",\"10\",\"11\",\n",
    "    \"12\",\"13\",\"14\",\"15\",\"16\"]\n",
    "g_fns = []\n",
    "for chr_num in chr_nums:\n",
    "    fn = \"chr\"+chr_num+\".fsa\"\n",
    "    !curl -OL https://downloads.yeastgenome.org/sequence/S288C_reference/chromosomes/fasta/{fn}\n",
    "    g_fns.append(fn)\n",
    "    # edit or replace description lines to work similar to PacBio\n",
    "    tag = \"SGD_REFchr\"+chr_num+\" \"\n",
    "    add_strain_id_to_description_line(fn,tag)\n",
    "# zip all nuclear chromosomes together as one file as they are from https://yjx1217.github.io/Yeast_PacBio_2016/data/\n",
    "!cat {\" \".join(g_fns)} > SGD_REF_nuc.genome.fa\n",
    "!rm chr*.fsa\n",
    "\n",
    "#MITO\n",
    "!curl -OL https://downloads.yeastgenome.org/sequence/S288C_reference/chromosomes/fasta/chrmt.fsa\n",
    "# Edit the description line to be clear and concise for later % rename to match nuclear\n",
    "!sed -i '1s/.*/>SGD_REFmito/' chrmt.fsa\n",
    "#!head chrmt.fsa\n",
    "!mv chrmt.fsa SGD_REF_mito.genome.fa\n",
    "\n",
    "# IF WANTED ALL SGD reference sequence, including mitochondria, as one file, could just use this:\n",
    "'''\n",
    "# Get SGD reference sequence that includes nuclear and mitochondrial sequence as one file,\n",
    "# among others. I'll use file name for the reference genome worked out \n",
    "# in `GSD Assessing_ambiguous_nts_in_nuclear_PB_genomes.ipynb`, so more of the\n",
    "# previously worked out code will work.\n",
    "!curl -OL https://downloads.yeastgenome.org/sequence/S288C_reference/genome_releases/S288C_reference_genome_Current_Release.tgz\n",
    "!tar -xzf S288C_reference_genome_Current_Release.tgz\n",
    "!rm S288C_reference_genome_Current_Release.tgz\n",
    "!mv S288C_reference_genome_R64-2-1_20150113/S288C_reference_sequence_R64-2-1_20150113.fsa ./SGD_REF.genome.fa\n",
    "!rm -rf S288C_reference_genome_R64-2-1_20150113\n",
    "''';"
   ]
  },
  {
   "cell_type": "markdown",
   "metadata": {},
   "source": [
    "Get the sequences from Yue et al., 2017 (PacBio-sequenced genomes) using the next two cells."
   ]
  },
  {
   "cell_type": "code",
   "execution_count": 7,
   "metadata": {},
   "outputs": [
    {
     "name": "stdout",
     "output_type": "stream",
     "text": [
      "  % Total    % Received % Xferd  Average Speed   Time    Time     Time  Current\n",
      "                                 Dload  Upload   Total   Spent    Left  Speed\n",
      "100   178  100   178    0     0   3490      0 --:--:-- --:--:-- --:--:--  3490\n",
      "100 3687k  100 3687k    0     0  16.8M      0 --:--:-- --:--:-- --:--:-- 16.8M\n",
      "  % Total    % Received % Xferd  Average Speed   Time    Time     Time  Current\n",
      "                                 Dload  Upload   Total   Spent    Left  Speed\n",
      "100   178  100   178    0     0   5085      0 --:--:-- --:--:-- --:--:--  5085\n",
      "100 22109  100 22109    0     0   186k      0 --:--:-- --:--:-- --:--:--  186k\n",
      "  % Total    % Received % Xferd  Average Speed   Time    Time     Time  Current\n",
      "                                 Dload  Upload   Total   Spent    Left  Speed\n",
      "100   178  100   178    0     0   5085      0 --:--:-- --:--:-- --:--:--  5085\n",
      "100 3387k  100 3387k    0     0  17.0M      0 --:--:-- --:--:-- --:--:-- 17.0M\n",
      "  % Total    % Received % Xferd  Average Speed   Time    Time     Time  Current\n",
      "                                 Dload  Upload   Total   Spent    Left  Speed\n",
      "100   178  100   178    0     0   3490      0 --:--:-- --:--:-- --:--:--  3490\n",
      "100 20363  100 20363    0     0   151k      0 --:--:-- --:--:-- --:--:--  151k\n",
      "  % Total    % Received % Xferd  Average Speed   Time    Time     Time  Current\n",
      "                                 Dload  Upload   Total   Spent    Left  Speed\n",
      "100   178  100   178    0     0   3560      0 --:--:-- --:--:-- --:--:--  3560\n",
      "100 3348k  100 3348k    0     0  15.1M      0 --:--:-- --:--:-- --:--:-- 15.1M\n",
      "  % Total    % Received % Xferd  Average Speed   Time    Time     Time  Current\n",
      "                                 Dload  Upload   Total   Spent    Left  Speed\n",
      "100   178  100   178    0     0   5085      0 --:--:-- --:--:-- --:--:--  5085\n",
      "100 20829  100 20829    0     0   181k      0 --:--:-- --:--:-- --:--:--  181k\n",
      "  % Total    % Received % Xferd  Average Speed   Time    Time     Time  Current\n",
      "                                 Dload  Upload   Total   Spent    Left  Speed\n",
      "100   178  100   178    0     0   3560      0 --:--:-- --:--:-- --:--:--  3560\n",
      "100 3406k  100 3406k    0     0  16.3M      0 --:--:-- --:--:-- --:--:-- 16.3M\n",
      "  % Total    % Received % Xferd  Average Speed   Time    Time     Time  Current\n",
      "                                 Dload  Upload   Total   Spent    Left  Speed\n",
      "100   178  100   178    0     0   6846      0 --:--:-- --:--:-- --:--:--  6592\n",
      "100 21373  100 21373    0     0   202k      0 --:--:-- --:--:-- --:--:--  202k\n",
      "  % Total    % Received % Xferd  Average Speed   Time    Time     Time  Current\n",
      "                                 Dload  Upload   Total   Spent    Left  Speed\n",
      "100   178  100   178    0     0   5235      0 --:--:-- --:--:-- --:--:--  5235\n",
      "100 3357k  100 3357k    0     0  17.2M      0 --:--:-- --:--:-- --:--:-- 29.8M\n",
      "  % Total    % Received % Xferd  Average Speed   Time    Time     Time  Current\n",
      "                                 Dload  Upload   Total   Spent    Left  Speed\n",
      "100   178  100   178    0     0   5235      0 --:--:-- --:--:-- --:--:--  5235\n",
      "100 21190  100 21190    0     0   179k      0 --:--:-- --:--:-- --:--:--  179k\n",
      "  % Total    % Received % Xferd  Average Speed   Time    Time     Time  Current\n",
      "                                 Dload  Upload   Total   Spent    Left  Speed\n",
      "100   178  100   178    0     0   3560      0 --:--:-- --:--:-- --:--:--  3560\n",
      "100 3375k  100 3375k    0     0  15.2M      0 --:--:-- --:--:-- --:--:-- 15.2M\n",
      "  % Total    % Received % Xferd  Average Speed   Time    Time     Time  Current\n",
      "                                 Dload  Upload   Total   Spent    Left  Speed\n",
      "100   178  100   178    0     0   5393      0 --:--:-- --:--:-- --:--:--  5393\n",
      "100 19885  100 19885    0     0   192k      0 --:--:-- --:--:-- --:--:--  192k\n",
      "  % Total    % Received % Xferd  Average Speed   Time    Time     Time  Current\n",
      "                                 Dload  Upload   Total   Spent    Left  Speed\n",
      "100   178  100   178    0     0   5235      0 --:--:-- --:--:-- --:--:--  5235\n",
      "100 3332k  100 3332k    0     0  16.1M      0 --:--:-- --:--:-- --:--:-- 16.1M\n",
      "  % Total    % Received % Xferd  Average Speed   Time    Time     Time  Current\n",
      "                                 Dload  Upload   Total   Spent    Left  Speed\n",
      "100   178  100   178    0     0   5235      0 --:--:-- --:--:-- --:--:--  5235\n",
      "100 18809  100 18809    0     0   159k      0 --:--:-- --:--:-- --:--:--  159k\n",
      "  % Total    % Received % Xferd  Average Speed   Time    Time     Time  Current\n",
      "                                 Dload  Upload   Total   Spent    Left  Speed\n",
      "100   178  100   178    0     0   5085      0 --:--:-- --:--:-- --:--:--  5085\n",
      "100 3658k  100 3658k    0     0  18.2M      0 --:--:-- --:--:-- --:--:-- 18.2M\n",
      "  % Total    % Received % Xferd  Average Speed   Time    Time     Time  Current\n",
      "                                 Dload  Upload   Total   Spent    Left  Speed\n",
      "100   178  100   178    0     0   5235      0 --:--:-- --:--:-- --:--:--  5235\n",
      "100 18692  100 18692    0     0   153k      0 --:--:-- --:--:-- --:--:--  153k\n",
      "  % Total    % Received % Xferd  Average Speed   Time    Time     Time  Current\n",
      "                                 Dload  Upload   Total   Spent    Left  Speed\n",
      "100   178  100   178    0     0   3296      0 --:--:-- --:--:-- --:--:--  3358\n",
      "100 3350k  100 3350k    0     0  15.1M      0 --:--:-- --:--:-- --:--:-- 15.1M\n",
      "  % Total    % Received % Xferd  Average Speed   Time    Time     Time  Current\n",
      "                                 Dload  Upload   Total   Spent    Left  Speed\n",
      "100   178  100   178    0     0   3358      0 --:--:-- --:--:-- --:--:--  3358\n",
      "100 18399  100 18399    0     0   133k      0 --:--:-- --:--:-- --:--:--  133k\n",
      "  % Total    % Received % Xferd  Average Speed   Time    Time     Time  Current\n",
      "                                 Dload  Upload   Total   Spent    Left  Speed\n",
      "100   178  100   178    0     0   5235      0 --:--:-- --:--:-- --:--:--  5235\n",
      "100 3349k  100 3349k    0     0  16.7M      0 --:--:-- --:--:-- --:--:-- 16.7M\n",
      "  % Total    % Received % Xferd  Average Speed   Time    Time     Time  Current\n",
      "                                 Dload  Upload   Total   Spent    Left  Speed\n",
      "100   178  100   178    0     0   5235      0 --:--:-- --:--:-- --:--:--  5393\n",
      "100 18509  100 18509    0     0   162k      0 --:--:-- --:--:-- --:--:--  162k\n",
      "  % Total    % Received % Xferd  Average Speed   Time    Time     Time  Current\n",
      "                                 Dload  Upload   Total   Spent    Left  Speed\n",
      "100   178  100   178    0     0   5085      0 --:--:-- --:--:-- --:--:--  5235\n",
      "100 3701k  100 3701k    0     0  18.4M      0 --:--:-- --:--:-- --:--:-- 18.4M\n",
      "  % Total    % Received % Xferd  Average Speed   Time    Time     Time  Current\n",
      "                                 Dload  Upload   Total   Spent    Left  Speed\n",
      "100   178  100   178    0     0   5235      0 --:--:-- --:--:-- --:--:--  5235\n",
      "100 18886  100 18886    0     0   139k      0 --:--:-- --:--:-- --:--:--  139k\n",
      "  % Total    % Received % Xferd  Average Speed   Time    Time     Time  Current\n",
      "                                 Dload  Upload   Total   Spent    Left  Speed\n",
      "100   178  100   178    0     0   5235      0 --:--:-- --:--:-- --:--:--  5235\n",
      "100 3362k  100 3362k    0     0  10.4M      0 --:--:-- --:--:-- --:--:-- 10.4M\n",
      "  % Total    % Received % Xferd  Average Speed   Time    Time     Time  Current\n",
      "                                 Dload  Upload   Total   Spent    Left  Speed\n",
      "100   178  100   178    0     0   5235      0 --:--:-- --:--:-- --:--:--  5235\n",
      "100 17877  100 17877    0     0   151k      0 --:--:-- --:--:-- --:--:--  151k\n"
     ]
    }
   ],
   "source": [
    "import pandas as pd\n",
    "# Prepare for getting PacBio (Yue et al 2017 sequences)\n",
    "#make a list of the strain designations\n",
    "yue_et_al_strains = [\"S288C\",\"DBVPG6044\",\"DBVPG6765\",\"SK1\",\"Y12\",\n",
    "                     \"YPS128\",\"UWOPS034614\",\"CBS432\",\"N44\",\"YPS138\",\n",
    "                     \"UFRJ50816\",\"UWOPS919171\"]\n",
    "# Get & unpack the genome sequences from strains \n",
    "for s in yue_et_al_strains:\n",
    "    !curl -LO http://yjx1217.github.io/Yeast_PacBio_2016/data/Nuclear_Genome/{s}.genome.fa.gz\n",
    "    !curl -OL http://yjx1217.github.io/Yeast_PacBio_2016/data/Mitochondrial_Genome/{s}.mt.genome.fa.gz\n",
    "    !gunzip -f {s}.genome.fa.gz\n",
    "    !gunzip -f {s}.mt.genome.fa.gz\n",
    "    # rename the files to follow the convention used for SGD reference\n",
    "    !mv {s}.genome.fa {s}_nuc.genome.fa\n",
    "    !mv {s}.mt.genome.fa {s}_mito.genome.fa"
   ]
  },
  {
   "cell_type": "code",
   "execution_count": 8,
   "metadata": {},
   "outputs": [
    {
     "name": "stderr",
     "output_type": "stream",
     "text": [
      "\n",
      "S288C_nuc.genome.fa chromosome identifiers tagged.\n",
      "S288C_mito.genome.fa chromosome identifiers tagged.\n",
      "DBVPG6044_nuc.genome.fa chromosome identifiers tagged.\n",
      "DBVPG6044_mito.genome.fa chromosome identifiers tagged.\n",
      "DBVPG6765_nuc.genome.fa chromosome identifiers tagged.\n",
      "DBVPG6765_mito.genome.fa chromosome identifiers tagged.\n",
      "SK1_nuc.genome.fa chromosome identifiers tagged.\n",
      "SK1_mito.genome.fa chromosome identifiers tagged.\n",
      "Y12_nuc.genome.fa chromosome identifiers tagged.\n",
      "Y12_mito.genome.fa chromosome identifiers tagged.\n",
      "YPS128_nuc.genome.fa chromosome identifiers tagged.\n",
      "YPS128_mito.genome.fa chromosome identifiers tagged.\n",
      "UWOPS034614_nuc.genome.fa chromosome identifiers tagged.\n",
      "UWOPS034614_mito.genome.fa chromosome identifiers tagged.\n",
      "CBS432_nuc.genome.fa chromosome identifiers tagged.\n",
      "CBS432_mito.genome.fa chromosome identifiers tagged.\n",
      "N44_nuc.genome.fa chromosome identifiers tagged.\n",
      "N44_mito.genome.fa chromosome identifiers tagged.\n",
      "YPS138_nuc.genome.fa chromosome identifiers tagged.\n",
      "YPS138_mito.genome.fa chromosome identifiers tagged.\n",
      "UFRJ50816_nuc.genome.fa chromosome identifiers tagged.\n",
      "UFRJ50816_mito.genome.fa chromosome identifiers tagged.\n",
      "UWOPS919171_nuc.genome.fa chromosome identifiers tagged.\n",
      "UWOPS919171_mito.genome.fa chromosome identifiers tagged."
     ]
    }
   ],
   "source": [
    "# add identifiers to each `chr` so results for each strain clear later\n",
    "for s in yue_et_al_strains:\n",
    "    add_strain_id_to_description_line(s+\"_nuc.genome.fa\",s)\n",
    "    add_strain_id_to_description_line(s+\"_mito.genome.fa\",s)"
   ]
  },
  {
   "cell_type": "code",
   "execution_count": 9,
   "metadata": {},
   "outputs": [
    {
     "data": {
      "text/plain": [
       "['S288C_mito.genome.fa',\n",
       " 'SGD_REF_mito.genome.fa',\n",
       " 'Y12_mito.genome.fa',\n",
       " 'DBVPG6044_mito.genome.fa',\n",
       " 'N44_mito.genome.fa',\n",
       " 'S288C_nuc.genome.fa',\n",
       " 'DBVPG6765_mito.genome.fa',\n",
       " 'UFRJ50816_mito.genome.fa',\n",
       " 'UWOPS919171_nuc.genome.fa',\n",
       " 'CBS432_nuc.genome.fa',\n",
       " 'YPS128_nuc.genome.fa',\n",
       " 'SK1_nuc.genome.fa',\n",
       " 'YPS138_mito.genome.fa',\n",
       " 'SGD_REF_nuc.genome.fa',\n",
       " 'CBS432_mito.genome.fa',\n",
       " 'YPS128_mito.genome.fa',\n",
       " 'SK1_mito.genome.fa',\n",
       " 'UWOPS919171_mito.genome.fa',\n",
       " 'DBVPG6044_nuc.genome.fa',\n",
       " 'UWOPS034614_nuc.genome.fa',\n",
       " 'N44_nuc.genome.fa',\n",
       " 'UWOPS034614_mito.genome.fa',\n",
       " 'UFRJ50816_nuc.genome.fa',\n",
       " 'YPS138_nuc.genome.fa',\n",
       " 'DBVPG6765_nuc.genome.fa',\n",
       " 'Y12_nuc.genome.fa']"
      ]
     },
     "execution_count": 9,
     "metadata": {},
     "output_type": "execute_result"
    }
   ],
   "source": [
    "# Make a list of all `genome.fa` files, excluding `genome.fa.nhr` and `genome.fa.nin` and `genome.fansq`\n",
    "# The excluding was only necessary because I had run some BLAST queries preiminarily in development. Normally, \n",
    "# it would just be the `.re.fa` at the outset. (But keeping because removal ability could be useful.)\n",
    "fn_to_check = \"genome.fa\" \n",
    "genomes = []\n",
    "import os\n",
    "import fnmatch\n",
    "for file in os.listdir('.'):\n",
    "    if fnmatch.fnmatch(file, '*'+fn_to_check):\n",
    "        if not file.endswith(\".nhr\") and not file.endswith(\".nin\") and not file.endswith(\".nsq\") :\n",
    "            genomes.append(file)\n",
    "genomes"
   ]
  },
  {
   "cell_type": "markdown",
   "metadata": {},
   "source": [
    "\n",
    "Now you are prepared to analyze each genome."
   ]
  },
  {
   "cell_type": "markdown",
   "metadata": {},
   "source": [
    "## Calculating %G+C for the nuclear and mitochondrial genomes of S288C reference sequence at SGD, along with the PacBio-sequenced genomes from Yue et al., 2017"
   ]
  },
  {
   "cell_type": "markdown",
   "metadata": {},
   "source": [
    "First count all the letters present and make a dataframe and then add a column with %G+C:"
   ]
  },
  {
   "cell_type": "code",
   "execution_count": 13,
   "metadata": {},
   "outputs": [
    {
     "data": {
      "text/html": [
       "<style  type=\"text/css\" >\n",
       "</style><table id=\"T_2651769c_2d80_11e9_90c7_0e071415547e\" ><thead>    <tr>        <th class=\"blank level0\" ></th>        <th class=\"col_heading level0 col0\" >A</th>        <th class=\"col_heading level0 col1\" >T</th>        <th class=\"col_heading level0 col2\" >G</th>        <th class=\"col_heading level0 col3\" >C</th>        <th class=\"col_heading level0 col4\" >N</th>        <th class=\"col_heading level0 col5\" >Total_nts</th>        <th class=\"col_heading level0 col6\" >%G+C</th>    </tr></thead><tbody>\n",
       "                <tr>\n",
       "                        <th id=\"T_2651769c_2d80_11e9_90c7_0e071415547elevel0_row0\" class=\"row_heading level0 row0\" >CBS432_mito</th>\n",
       "                        <td id=\"T_2651769c_2d80_11e9_90c7_0e071415547erow0_col0\" class=\"data row0 col0\" >31189</td>\n",
       "                        <td id=\"T_2651769c_2d80_11e9_90c7_0e071415547erow0_col1\" class=\"data row0 col1\" >30251</td>\n",
       "                        <td id=\"T_2651769c_2d80_11e9_90c7_0e071415547erow0_col2\" class=\"data row0 col2\" >5343</td>\n",
       "                        <td id=\"T_2651769c_2d80_11e9_90c7_0e071415547erow0_col3\" class=\"data row0 col3\" >4699</td>\n",
       "                        <td id=\"T_2651769c_2d80_11e9_90c7_0e071415547erow0_col4\" class=\"data row0 col4\" >0</td>\n",
       "                        <td id=\"T_2651769c_2d80_11e9_90c7_0e071415547erow0_col5\" class=\"data row0 col5\" >7.15E+04</td>\n",
       "                        <td id=\"T_2651769c_2d80_11e9_90c7_0e071415547erow0_col6\" class=\"data row0 col6\" >14.05%</td>\n",
       "            </tr>\n",
       "            <tr>\n",
       "                        <th id=\"T_2651769c_2d80_11e9_90c7_0e071415547elevel0_row1\" class=\"row_heading level0 row1\" >CBS432_nuc</th>\n",
       "                        <td id=\"T_2651769c_2d80_11e9_90c7_0e071415547erow1_col0\" class=\"data row1 col0\" >3683966</td>\n",
       "                        <td id=\"T_2651769c_2d80_11e9_90c7_0e071415547erow1_col1\" class=\"data row1 col1\" >3675728</td>\n",
       "                        <td id=\"T_2651769c_2d80_11e9_90c7_0e071415547erow1_col2\" class=\"data row1 col2\" >2322732</td>\n",
       "                        <td id=\"T_2651769c_2d80_11e9_90c7_0e071415547erow1_col3\" class=\"data row1 col3\" >2321545</td>\n",
       "                        <td id=\"T_2651769c_2d80_11e9_90c7_0e071415547erow1_col4\" class=\"data row1 col4\" >17357</td>\n",
       "                        <td id=\"T_2651769c_2d80_11e9_90c7_0e071415547erow1_col5\" class=\"data row1 col5\" >1.20E+07</td>\n",
       "                        <td id=\"T_2651769c_2d80_11e9_90c7_0e071415547erow1_col6\" class=\"data row1 col6\" >38.63%</td>\n",
       "            </tr>\n",
       "            <tr>\n",
       "                        <th id=\"T_2651769c_2d80_11e9_90c7_0e071415547elevel0_row2\" class=\"row_heading level0 row2\" >DBVPG6044_mito</th>\n",
       "                        <td id=\"T_2651769c_2d80_11e9_90c7_0e071415547erow2_col0\" class=\"data row2 col0\" >33789</td>\n",
       "                        <td id=\"T_2651769c_2d80_11e9_90c7_0e071415547erow2_col1\" class=\"data row2 col1\" >33027</td>\n",
       "                        <td id=\"T_2651769c_2d80_11e9_90c7_0e071415547erow2_col2\" class=\"data row2 col2\" >7487</td>\n",
       "                        <td id=\"T_2651769c_2d80_11e9_90c7_0e071415547erow2_col3\" class=\"data row2 col3\" >6790</td>\n",
       "                        <td id=\"T_2651769c_2d80_11e9_90c7_0e071415547erow2_col4\" class=\"data row2 col4\" >0</td>\n",
       "                        <td id=\"T_2651769c_2d80_11e9_90c7_0e071415547erow2_col5\" class=\"data row2 col5\" >8.11E+04</td>\n",
       "                        <td id=\"T_2651769c_2d80_11e9_90c7_0e071415547erow2_col6\" class=\"data row2 col6\" >17.61%</td>\n",
       "            </tr>\n",
       "            <tr>\n",
       "                        <th id=\"T_2651769c_2d80_11e9_90c7_0e071415547elevel0_row3\" class=\"row_heading level0 row3\" >DBVPG6044_nuc</th>\n",
       "                        <td id=\"T_2651769c_2d80_11e9_90c7_0e071415547erow3_col0\" class=\"data row3 col0\" >3689297</td>\n",
       "                        <td id=\"T_2651769c_2d80_11e9_90c7_0e071415547erow3_col1\" class=\"data row3 col1\" >3677723</td>\n",
       "                        <td id=\"T_2651769c_2d80_11e9_90c7_0e071415547erow3_col2\" class=\"data row3 col2\" >2285884</td>\n",
       "                        <td id=\"T_2651769c_2d80_11e9_90c7_0e071415547erow3_col3\" class=\"data row3 col3\" >2287780</td>\n",
       "                        <td id=\"T_2651769c_2d80_11e9_90c7_0e071415547erow3_col4\" class=\"data row3 col4\" >17357</td>\n",
       "                        <td id=\"T_2651769c_2d80_11e9_90c7_0e071415547erow3_col5\" class=\"data row3 col5\" >1.20E+07</td>\n",
       "                        <td id=\"T_2651769c_2d80_11e9_90c7_0e071415547erow3_col6\" class=\"data row3 col6\" >38.25%</td>\n",
       "            </tr>\n",
       "            <tr>\n",
       "                        <th id=\"T_2651769c_2d80_11e9_90c7_0e071415547elevel0_row4\" class=\"row_heading level0 row4\" >DBVPG6765_mito</th>\n",
       "                        <td id=\"T_2651769c_2d80_11e9_90c7_0e071415547erow4_col0\" class=\"data row4 col0\" >34663</td>\n",
       "                        <td id=\"T_2651769c_2d80_11e9_90c7_0e071415547erow4_col1\" class=\"data row4 col1\" >33876</td>\n",
       "                        <td id=\"T_2651769c_2d80_11e9_90c7_0e071415547erow4_col2\" class=\"data row4 col2\" >7022</td>\n",
       "                        <td id=\"T_2651769c_2d80_11e9_90c7_0e071415547erow4_col3\" class=\"data row4 col3\" >6161</td>\n",
       "                        <td id=\"T_2651769c_2d80_11e9_90c7_0e071415547erow4_col4\" class=\"data row4 col4\" >0</td>\n",
       "                        <td id=\"T_2651769c_2d80_11e9_90c7_0e071415547erow4_col5\" class=\"data row4 col5\" >8.17E+04</td>\n",
       "                        <td id=\"T_2651769c_2d80_11e9_90c7_0e071415547erow4_col6\" class=\"data row4 col6\" >16.13%</td>\n",
       "            </tr>\n",
       "            <tr>\n",
       "                        <th id=\"T_2651769c_2d80_11e9_90c7_0e071415547elevel0_row5\" class=\"row_heading level0 row5\" >DBVPG6765_nuc</th>\n",
       "                        <td id=\"T_2651769c_2d80_11e9_90c7_0e071415547erow5_col0\" class=\"data row5 col0\" >3647252</td>\n",
       "                        <td id=\"T_2651769c_2d80_11e9_90c7_0e071415547erow5_col1\" class=\"data row5 col1\" >3632750</td>\n",
       "                        <td id=\"T_2651769c_2d80_11e9_90c7_0e071415547erow5_col2\" class=\"data row5 col2\" >2258080</td>\n",
       "                        <td id=\"T_2651769c_2d80_11e9_90c7_0e071415547erow5_col3\" class=\"data row5 col3\" >2257749</td>\n",
       "                        <td id=\"T_2651769c_2d80_11e9_90c7_0e071415547erow5_col4\" class=\"data row5 col4\" >17357</td>\n",
       "                        <td id=\"T_2651769c_2d80_11e9_90c7_0e071415547erow5_col5\" class=\"data row5 col5\" >1.18E+07</td>\n",
       "                        <td id=\"T_2651769c_2d80_11e9_90c7_0e071415547erow5_col6\" class=\"data row5 col6\" >38.23%</td>\n",
       "            </tr>\n",
       "            <tr>\n",
       "                        <th id=\"T_2651769c_2d80_11e9_90c7_0e071415547elevel0_row6\" class=\"row_heading level0 row6\" >N44_mito</th>\n",
       "                        <td id=\"T_2651769c_2d80_11e9_90c7_0e071415547erow6_col0\" class=\"data row6 col0\" >30428</td>\n",
       "                        <td id=\"T_2651769c_2d80_11e9_90c7_0e071415547erow6_col1\" class=\"data row6 col1\" >29537</td>\n",
       "                        <td id=\"T_2651769c_2d80_11e9_90c7_0e071415547erow6_col2\" class=\"data row6 col2\" >5343</td>\n",
       "                        <td id=\"T_2651769c_2d80_11e9_90c7_0e071415547erow6_col3\" class=\"data row6 col3\" >4640</td>\n",
       "                        <td id=\"T_2651769c_2d80_11e9_90c7_0e071415547erow6_col4\" class=\"data row6 col4\" >0</td>\n",
       "                        <td id=\"T_2651769c_2d80_11e9_90c7_0e071415547erow6_col5\" class=\"data row6 col5\" >6.99E+04</td>\n",
       "                        <td id=\"T_2651769c_2d80_11e9_90c7_0e071415547erow6_col6\" class=\"data row6 col6\" >14.27%</td>\n",
       "            </tr>\n",
       "            <tr>\n",
       "                        <th id=\"T_2651769c_2d80_11e9_90c7_0e071415547elevel0_row7\" class=\"row_heading level0 row7\" >N44_nuc</th>\n",
       "                        <td id=\"T_2651769c_2d80_11e9_90c7_0e071415547erow7_col0\" class=\"data row7 col0\" >3620330</td>\n",
       "                        <td id=\"T_2651769c_2d80_11e9_90c7_0e071415547erow7_col1\" class=\"data row7 col1\" >3617409</td>\n",
       "                        <td id=\"T_2651769c_2d80_11e9_90c7_0e071415547erow7_col2\" class=\"data row7 col2\" >2278564</td>\n",
       "                        <td id=\"T_2651769c_2d80_11e9_90c7_0e071415547erow7_col3\" class=\"data row7 col3\" >2278029</td>\n",
       "                        <td id=\"T_2651769c_2d80_11e9_90c7_0e071415547erow7_col4\" class=\"data row7 col4\" >17357</td>\n",
       "                        <td id=\"T_2651769c_2d80_11e9_90c7_0e071415547erow7_col5\" class=\"data row7 col5\" >1.18E+07</td>\n",
       "                        <td id=\"T_2651769c_2d80_11e9_90c7_0e071415547erow7_col6\" class=\"data row7 col6\" >38.58%</td>\n",
       "            </tr>\n",
       "            <tr>\n",
       "                        <th id=\"T_2651769c_2d80_11e9_90c7_0e071415547elevel0_row8\" class=\"row_heading level0 row8\" >S288C_mito</th>\n",
       "                        <td id=\"T_2651769c_2d80_11e9_90c7_0e071415547erow8_col0\" class=\"data row8 col0\" >36174</td>\n",
       "                        <td id=\"T_2651769c_2d80_11e9_90c7_0e071415547erow8_col1\" class=\"data row8 col1\" >34943</td>\n",
       "                        <td id=\"T_2651769c_2d80_11e9_90c7_0e071415547erow8_col2\" class=\"data row8 col2\" >7811</td>\n",
       "                        <td id=\"T_2651769c_2d80_11e9_90c7_0e071415547erow8_col3\" class=\"data row8 col3\" >6865</td>\n",
       "                        <td id=\"T_2651769c_2d80_11e9_90c7_0e071415547erow8_col4\" class=\"data row8 col4\" >0</td>\n",
       "                        <td id=\"T_2651769c_2d80_11e9_90c7_0e071415547erow8_col5\" class=\"data row8 col5\" >8.58E+04</td>\n",
       "                        <td id=\"T_2651769c_2d80_11e9_90c7_0e071415547erow8_col6\" class=\"data row8 col6\" >17.11%</td>\n",
       "            </tr>\n",
       "            <tr>\n",
       "                        <th id=\"T_2651769c_2d80_11e9_90c7_0e071415547elevel0_row9\" class=\"row_heading level0 row9\" >S288C_nuc</th>\n",
       "                        <td id=\"T_2651769c_2d80_11e9_90c7_0e071415547erow9_col0\" class=\"data row9 col0\" >3752659</td>\n",
       "                        <td id=\"T_2651769c_2d80_11e9_90c7_0e071415547erow9_col1\" class=\"data row9 col1\" >3738132</td>\n",
       "                        <td id=\"T_2651769c_2d80_11e9_90c7_0e071415547erow9_col2\" class=\"data row9 col2\" >2323469</td>\n",
       "                        <td id=\"T_2651769c_2d80_11e9_90c7_0e071415547erow9_col3\" class=\"data row9 col3\" >2325532</td>\n",
       "                        <td id=\"T_2651769c_2d80_11e9_90c7_0e071415547erow9_col4\" class=\"data row9 col4\" >17357</td>\n",
       "                        <td id=\"T_2651769c_2d80_11e9_90c7_0e071415547erow9_col5\" class=\"data row9 col5\" >1.22E+07</td>\n",
       "                        <td id=\"T_2651769c_2d80_11e9_90c7_0e071415547erow9_col6\" class=\"data row9 col6\" >38.24%</td>\n",
       "            </tr>\n",
       "            <tr>\n",
       "                        <th id=\"T_2651769c_2d80_11e9_90c7_0e071415547elevel0_row10\" class=\"row_heading level0 row10\" >SGD_REF_mito</th>\n",
       "                        <td id=\"T_2651769c_2d80_11e9_90c7_0e071415547erow10_col0\" class=\"data row10 col0\" >36169</td>\n",
       "                        <td id=\"T_2651769c_2d80_11e9_90c7_0e071415547erow10_col1\" class=\"data row10 col1\" >34934</td>\n",
       "                        <td id=\"T_2651769c_2d80_11e9_90c7_0e071415547erow10_col2\" class=\"data row10 col2\" >7813</td>\n",
       "                        <td id=\"T_2651769c_2d80_11e9_90c7_0e071415547erow10_col3\" class=\"data row10 col3\" >6863</td>\n",
       "                        <td id=\"T_2651769c_2d80_11e9_90c7_0e071415547erow10_col4\" class=\"data row10 col4\" >0</td>\n",
       "                        <td id=\"T_2651769c_2d80_11e9_90c7_0e071415547erow10_col5\" class=\"data row10 col5\" >8.58E+04</td>\n",
       "                        <td id=\"T_2651769c_2d80_11e9_90c7_0e071415547erow10_col6\" class=\"data row10 col6\" >17.11%</td>\n",
       "            </tr>\n",
       "            <tr>\n",
       "                        <th id=\"T_2651769c_2d80_11e9_90c7_0e071415547elevel0_row11\" class=\"row_heading level0 row11\" >SGD_REF_nuc</th>\n",
       "                        <td id=\"T_2651769c_2d80_11e9_90c7_0e071415547erow11_col0\" class=\"data row11 col0\" >3730180</td>\n",
       "                        <td id=\"T_2651769c_2d80_11e9_90c7_0e071415547erow11_col1\" class=\"data row11 col1\" >3718146</td>\n",
       "                        <td id=\"T_2651769c_2d80_11e9_90c7_0e071415547erow11_col2\" class=\"data row11 col2\" >2309287</td>\n",
       "                        <td id=\"T_2651769c_2d80_11e9_90c7_0e071415547erow11_col3\" class=\"data row11 col3\" >2313713</td>\n",
       "                        <td id=\"T_2651769c_2d80_11e9_90c7_0e071415547erow11_col4\" class=\"data row11 col4\" >0</td>\n",
       "                        <td id=\"T_2651769c_2d80_11e9_90c7_0e071415547erow11_col5\" class=\"data row11 col5\" >1.21E+07</td>\n",
       "                        <td id=\"T_2651769c_2d80_11e9_90c7_0e071415547erow11_col6\" class=\"data row11 col6\" >38.30%</td>\n",
       "            </tr>\n",
       "            <tr>\n",
       "                        <th id=\"T_2651769c_2d80_11e9_90c7_0e071415547elevel0_row12\" class=\"row_heading level0 row12\" >SK1_mito</th>\n",
       "                        <td id=\"T_2651769c_2d80_11e9_90c7_0e071415547erow12_col0\" class=\"data row12 col0\" >35306</td>\n",
       "                        <td id=\"T_2651769c_2d80_11e9_90c7_0e071415547erow12_col1\" class=\"data row12 col1\" >34384</td>\n",
       "                        <td id=\"T_2651769c_2d80_11e9_90c7_0e071415547erow12_col2\" class=\"data row12 col2\" >7869</td>\n",
       "                        <td id=\"T_2651769c_2d80_11e9_90c7_0e071415547erow12_col3\" class=\"data row12 col3\" >7079</td>\n",
       "                        <td id=\"T_2651769c_2d80_11e9_90c7_0e071415547erow12_col4\" class=\"data row12 col4\" >0</td>\n",
       "                        <td id=\"T_2651769c_2d80_11e9_90c7_0e071415547erow12_col5\" class=\"data row12 col5\" >8.46E+04</td>\n",
       "                        <td id=\"T_2651769c_2d80_11e9_90c7_0e071415547erow12_col6\" class=\"data row12 col6\" >17.66%</td>\n",
       "            </tr>\n",
       "            <tr>\n",
       "                        <th id=\"T_2651769c_2d80_11e9_90c7_0e071415547elevel0_row13\" class=\"row_heading level0 row13\" >SK1_nuc</th>\n",
       "                        <td id=\"T_2651769c_2d80_11e9_90c7_0e071415547erow13_col0\" class=\"data row13 col0\" >3719655</td>\n",
       "                        <td id=\"T_2651769c_2d80_11e9_90c7_0e071415547erow13_col1\" class=\"data row13 col1\" >3707198</td>\n",
       "                        <td id=\"T_2651769c_2d80_11e9_90c7_0e071415547erow13_col2\" class=\"data row13 col2\" >2307796</td>\n",
       "                        <td id=\"T_2651769c_2d80_11e9_90c7_0e071415547erow13_col3\" class=\"data row13 col3\" >2311279</td>\n",
       "                        <td id=\"T_2651769c_2d80_11e9_90c7_0e071415547erow13_col4\" class=\"data row13 col4\" >17357</td>\n",
       "                        <td id=\"T_2651769c_2d80_11e9_90c7_0e071415547erow13_col5\" class=\"data row13 col5\" >1.21E+07</td>\n",
       "                        <td id=\"T_2651769c_2d80_11e9_90c7_0e071415547erow13_col6\" class=\"data row13 col6\" >38.29%</td>\n",
       "            </tr>\n",
       "            <tr>\n",
       "                        <th id=\"T_2651769c_2d80_11e9_90c7_0e071415547elevel0_row14\" class=\"row_heading level0 row14\" >UFRJ50816_mito</th>\n",
       "                        <td id=\"T_2651769c_2d80_11e9_90c7_0e071415547erow14_col0\" class=\"data row14 col0\" >33611</td>\n",
       "                        <td id=\"T_2651769c_2d80_11e9_90c7_0e071415547erow14_col1\" class=\"data row14 col1\" >31938</td>\n",
       "                        <td id=\"T_2651769c_2d80_11e9_90c7_0e071415547erow14_col2\" class=\"data row14 col2\" >6335</td>\n",
       "                        <td id=\"T_2651769c_2d80_11e9_90c7_0e071415547erow14_col3\" class=\"data row14 col3\" >5502</td>\n",
       "                        <td id=\"T_2651769c_2d80_11e9_90c7_0e071415547erow14_col4\" class=\"data row14 col4\" >0</td>\n",
       "                        <td id=\"T_2651769c_2d80_11e9_90c7_0e071415547erow14_col5\" class=\"data row14 col5\" >7.74E+04</td>\n",
       "                        <td id=\"T_2651769c_2d80_11e9_90c7_0e071415547erow14_col6\" class=\"data row14 col6\" >15.30%</td>\n",
       "            </tr>\n",
       "            <tr>\n",
       "                        <th id=\"T_2651769c_2d80_11e9_90c7_0e071415547elevel0_row15\" class=\"row_heading level0 row15\" >UFRJ50816_nuc</th>\n",
       "                        <td id=\"T_2651769c_2d80_11e9_90c7_0e071415547erow15_col0\" class=\"data row15 col0\" >3735782</td>\n",
       "                        <td id=\"T_2651769c_2d80_11e9_90c7_0e071415547erow15_col1\" class=\"data row15 col1\" >3732052</td>\n",
       "                        <td id=\"T_2651769c_2d80_11e9_90c7_0e071415547erow15_col2\" class=\"data row15 col2\" >2326900</td>\n",
       "                        <td id=\"T_2651769c_2d80_11e9_90c7_0e071415547erow15_col3\" class=\"data row15 col3\" >2325192</td>\n",
       "                        <td id=\"T_2651769c_2d80_11e9_90c7_0e071415547erow15_col4\" class=\"data row15 col4\" >17357</td>\n",
       "                        <td id=\"T_2651769c_2d80_11e9_90c7_0e071415547erow15_col5\" class=\"data row15 col5\" >1.21E+07</td>\n",
       "                        <td id=\"T_2651769c_2d80_11e9_90c7_0e071415547erow15_col6\" class=\"data row15 col6\" >38.33%</td>\n",
       "            </tr>\n",
       "            <tr>\n",
       "                        <th id=\"T_2651769c_2d80_11e9_90c7_0e071415547elevel0_row16\" class=\"row_heading level0 row16\" >UWOPS034614_mito</th>\n",
       "                        <td id=\"T_2651769c_2d80_11e9_90c7_0e071415547erow16_col0\" class=\"data row16 col0\" >32191</td>\n",
       "                        <td id=\"T_2651769c_2d80_11e9_90c7_0e071415547erow16_col1\" class=\"data row16 col1\" >31590</td>\n",
       "                        <td id=\"T_2651769c_2d80_11e9_90c7_0e071415547erow16_col2\" class=\"data row16 col2\" >5485</td>\n",
       "                        <td id=\"T_2651769c_2d80_11e9_90c7_0e071415547erow16_col3\" class=\"data row16 col3\" >4913</td>\n",
       "                        <td id=\"T_2651769c_2d80_11e9_90c7_0e071415547erow16_col4\" class=\"data row16 col4\" >0</td>\n",
       "                        <td id=\"T_2651769c_2d80_11e9_90c7_0e071415547erow16_col5\" class=\"data row16 col5\" >7.42E+04</td>\n",
       "                        <td id=\"T_2651769c_2d80_11e9_90c7_0e071415547erow16_col6\" class=\"data row16 col6\" >14.02%</td>\n",
       "            </tr>\n",
       "            <tr>\n",
       "                        <th id=\"T_2651769c_2d80_11e9_90c7_0e071415547elevel0_row17\" class=\"row_heading level0 row17\" >UWOPS034614_nuc</th>\n",
       "                        <td id=\"T_2651769c_2d80_11e9_90c7_0e071415547erow17_col0\" class=\"data row17 col0\" >3620938</td>\n",
       "                        <td id=\"T_2651769c_2d80_11e9_90c7_0e071415547erow17_col1\" class=\"data row17 col1\" >3622509</td>\n",
       "                        <td id=\"T_2651769c_2d80_11e9_90c7_0e071415547erow17_col2\" class=\"data row17 col2\" >2245047</td>\n",
       "                        <td id=\"T_2651769c_2d80_11e9_90c7_0e071415547erow17_col3\" class=\"data row17 col3\" >2241495</td>\n",
       "                        <td id=\"T_2651769c_2d80_11e9_90c7_0e071415547erow17_col4\" class=\"data row17 col4\" >17357</td>\n",
       "                        <td id=\"T_2651769c_2d80_11e9_90c7_0e071415547erow17_col5\" class=\"data row17 col5\" >1.17E+07</td>\n",
       "                        <td id=\"T_2651769c_2d80_11e9_90c7_0e071415547erow17_col6\" class=\"data row17 col6\" >38.19%</td>\n",
       "            </tr>\n",
       "            <tr>\n",
       "                        <th id=\"T_2651769c_2d80_11e9_90c7_0e071415547elevel0_row18\" class=\"row_heading level0 row18\" >UWOPS919171_mito</th>\n",
       "                        <td id=\"T_2651769c_2d80_11e9_90c7_0e071415547erow18_col0\" class=\"data row18 col0\" >31981</td>\n",
       "                        <td id=\"T_2651769c_2d80_11e9_90c7_0e071415547erow18_col1\" class=\"data row18 col1\" >30683</td>\n",
       "                        <td id=\"T_2651769c_2d80_11e9_90c7_0e071415547erow18_col2\" class=\"data row18 col2\" >5628</td>\n",
       "                        <td id=\"T_2651769c_2d80_11e9_90c7_0e071415547erow18_col3\" class=\"data row18 col3\" >4879</td>\n",
       "                        <td id=\"T_2651769c_2d80_11e9_90c7_0e071415547erow18_col4\" class=\"data row18 col4\" >0</td>\n",
       "                        <td id=\"T_2651769c_2d80_11e9_90c7_0e071415547erow18_col5\" class=\"data row18 col5\" >7.32E+04</td>\n",
       "                        <td id=\"T_2651769c_2d80_11e9_90c7_0e071415547erow18_col6\" class=\"data row18 col6\" >14.36%</td>\n",
       "            </tr>\n",
       "            <tr>\n",
       "                        <th id=\"T_2651769c_2d80_11e9_90c7_0e071415547elevel0_row19\" class=\"row_heading level0 row19\" >UWOPS919171_nuc</th>\n",
       "                        <td id=\"T_2651769c_2d80_11e9_90c7_0e071415547erow19_col0\" class=\"data row19 col0\" >3652729</td>\n",
       "                        <td id=\"T_2651769c_2d80_11e9_90c7_0e071415547erow19_col1\" class=\"data row19 col1\" >3646729</td>\n",
       "                        <td id=\"T_2651769c_2d80_11e9_90c7_0e071415547erow19_col2\" class=\"data row19 col2\" >2270324</td>\n",
       "                        <td id=\"T_2651769c_2d80_11e9_90c7_0e071415547erow19_col3\" class=\"data row19 col3\" >2269479</td>\n",
       "                        <td id=\"T_2651769c_2d80_11e9_90c7_0e071415547erow19_col4\" class=\"data row19 col4\" >17357</td>\n",
       "                        <td id=\"T_2651769c_2d80_11e9_90c7_0e071415547erow19_col5\" class=\"data row19 col5\" >1.19E+07</td>\n",
       "                        <td id=\"T_2651769c_2d80_11e9_90c7_0e071415547erow19_col6\" class=\"data row19 col6\" >38.29%</td>\n",
       "            </tr>\n",
       "            <tr>\n",
       "                        <th id=\"T_2651769c_2d80_11e9_90c7_0e071415547elevel0_row20\" class=\"row_heading level0 row20\" >Y12_mito</th>\n",
       "                        <td id=\"T_2651769c_2d80_11e9_90c7_0e071415547erow20_col0\" class=\"data row20 col0\" >35073</td>\n",
       "                        <td id=\"T_2651769c_2d80_11e9_90c7_0e071415547erow20_col1\" class=\"data row20 col1\" >34065</td>\n",
       "                        <td id=\"T_2651769c_2d80_11e9_90c7_0e071415547erow20_col2\" class=\"data row20 col2\" >7306</td>\n",
       "                        <td id=\"T_2651769c_2d80_11e9_90c7_0e071415547erow20_col3\" class=\"data row20 col3\" >6424</td>\n",
       "                        <td id=\"T_2651769c_2d80_11e9_90c7_0e071415547erow20_col4\" class=\"data row20 col4\" >0</td>\n",
       "                        <td id=\"T_2651769c_2d80_11e9_90c7_0e071415547erow20_col5\" class=\"data row20 col5\" >8.29E+04</td>\n",
       "                        <td id=\"T_2651769c_2d80_11e9_90c7_0e071415547erow20_col6\" class=\"data row20 col6\" >16.57%</td>\n",
       "            </tr>\n",
       "            <tr>\n",
       "                        <th id=\"T_2651769c_2d80_11e9_90c7_0e071415547elevel0_row21\" class=\"row_heading level0 row21\" >Y12_nuc</th>\n",
       "                        <td id=\"T_2651769c_2d80_11e9_90c7_0e071415547erow21_col0\" class=\"data row21 col0\" >3664986</td>\n",
       "                        <td id=\"T_2651769c_2d80_11e9_90c7_0e071415547erow21_col1\" class=\"data row21 col1\" >3657730</td>\n",
       "                        <td id=\"T_2651769c_2d80_11e9_90c7_0e071415547erow21_col2\" class=\"data row21 col2\" >2270987</td>\n",
       "                        <td id=\"T_2651769c_2d80_11e9_90c7_0e071415547erow21_col3\" class=\"data row21 col3\" >2270087</td>\n",
       "                        <td id=\"T_2651769c_2d80_11e9_90c7_0e071415547erow21_col4\" class=\"data row21 col4\" >17357</td>\n",
       "                        <td id=\"T_2651769c_2d80_11e9_90c7_0e071415547erow21_col5\" class=\"data row21 col5\" >1.19E+07</td>\n",
       "                        <td id=\"T_2651769c_2d80_11e9_90c7_0e071415547erow21_col6\" class=\"data row21 col6\" >38.22%</td>\n",
       "            </tr>\n",
       "            <tr>\n",
       "                        <th id=\"T_2651769c_2d80_11e9_90c7_0e071415547elevel0_row22\" class=\"row_heading level0 row22\" >YPS128_mito</th>\n",
       "                        <td id=\"T_2651769c_2d80_11e9_90c7_0e071415547erow22_col0\" class=\"data row22 col0\" >33359</td>\n",
       "                        <td id=\"T_2651769c_2d80_11e9_90c7_0e071415547erow22_col1\" class=\"data row22 col1\" >32668</td>\n",
       "                        <td id=\"T_2651769c_2d80_11e9_90c7_0e071415547erow22_col2\" class=\"data row22 col2\" >6060</td>\n",
       "                        <td id=\"T_2651769c_2d80_11e9_90c7_0e071415547erow22_col3\" class=\"data row22 col3\" >5392</td>\n",
       "                        <td id=\"T_2651769c_2d80_11e9_90c7_0e071415547erow22_col4\" class=\"data row22 col4\" >0</td>\n",
       "                        <td id=\"T_2651769c_2d80_11e9_90c7_0e071415547erow22_col5\" class=\"data row22 col5\" >7.75E+04</td>\n",
       "                        <td id=\"T_2651769c_2d80_11e9_90c7_0e071415547erow22_col6\" class=\"data row22 col6\" >14.78%</td>\n",
       "            </tr>\n",
       "            <tr>\n",
       "                        <th id=\"T_2651769c_2d80_11e9_90c7_0e071415547elevel0_row23\" class=\"row_heading level0 row23\" >YPS128_nuc</th>\n",
       "                        <td id=\"T_2651769c_2d80_11e9_90c7_0e071415547erow23_col0\" class=\"data row23 col0\" >3672962</td>\n",
       "                        <td id=\"T_2651769c_2d80_11e9_90c7_0e071415547erow23_col1\" class=\"data row23 col1\" >3663303</td>\n",
       "                        <td id=\"T_2651769c_2d80_11e9_90c7_0e071415547erow23_col2\" class=\"data row23 col2\" >2279727</td>\n",
       "                        <td id=\"T_2651769c_2d80_11e9_90c7_0e071415547erow23_col3\" class=\"data row23 col3\" >2277125</td>\n",
       "                        <td id=\"T_2651769c_2d80_11e9_90c7_0e071415547erow23_col4\" class=\"data row23 col4\" >17357</td>\n",
       "                        <td id=\"T_2651769c_2d80_11e9_90c7_0e071415547erow23_col5\" class=\"data row23 col5\" >1.19E+07</td>\n",
       "                        <td id=\"T_2651769c_2d80_11e9_90c7_0e071415547erow23_col6\" class=\"data row23 col6\" >38.26%</td>\n",
       "            </tr>\n",
       "            <tr>\n",
       "                        <th id=\"T_2651769c_2d80_11e9_90c7_0e071415547elevel0_row24\" class=\"row_heading level0 row24\" >YPS138_mito</th>\n",
       "                        <td id=\"T_2651769c_2d80_11e9_90c7_0e071415547erow24_col0\" class=\"data row24 col0\" >31071</td>\n",
       "                        <td id=\"T_2651769c_2d80_11e9_90c7_0e071415547erow24_col1\" class=\"data row24 col1\" >29800</td>\n",
       "                        <td id=\"T_2651769c_2d80_11e9_90c7_0e071415547erow24_col2\" class=\"data row24 col2\" >5650</td>\n",
       "                        <td id=\"T_2651769c_2d80_11e9_90c7_0e071415547erow24_col3\" class=\"data row24 col3\" >4875</td>\n",
       "                        <td id=\"T_2651769c_2d80_11e9_90c7_0e071415547erow24_col4\" class=\"data row24 col4\" >0</td>\n",
       "                        <td id=\"T_2651769c_2d80_11e9_90c7_0e071415547erow24_col5\" class=\"data row24 col5\" >7.14E+04</td>\n",
       "                        <td id=\"T_2651769c_2d80_11e9_90c7_0e071415547erow24_col6\" class=\"data row24 col6\" >14.74%</td>\n",
       "            </tr>\n",
       "            <tr>\n",
       "                        <th id=\"T_2651769c_2d80_11e9_90c7_0e071415547elevel0_row25\" class=\"row_heading level0 row25\" >YPS138_nuc</th>\n",
       "                        <td id=\"T_2651769c_2d80_11e9_90c7_0e071415547erow25_col0\" class=\"data row25 col0\" >3629766</td>\n",
       "                        <td id=\"T_2651769c_2d80_11e9_90c7_0e071415547erow25_col1\" class=\"data row25 col1\" >3623944</td>\n",
       "                        <td id=\"T_2651769c_2d80_11e9_90c7_0e071415547erow25_col2\" class=\"data row25 col2\" >2272582</td>\n",
       "                        <td id=\"T_2651769c_2d80_11e9_90c7_0e071415547erow25_col3\" class=\"data row25 col3\" >2268073</td>\n",
       "                        <td id=\"T_2651769c_2d80_11e9_90c7_0e071415547erow25_col4\" class=\"data row25 col4\" >17357</td>\n",
       "                        <td id=\"T_2651769c_2d80_11e9_90c7_0e071415547erow25_col5\" class=\"data row25 col5\" >1.18E+07</td>\n",
       "                        <td id=\"T_2651769c_2d80_11e9_90c7_0e071415547erow25_col6\" class=\"data row25 col6\" >38.44%</td>\n",
       "            </tr>\n",
       "    </tbody></table>"
      ],
      "text/plain": [
       "<pandas.io.formats.style.Styler at 0x7fe7325170f0>"
      ]
     },
     "execution_count": 13,
     "metadata": {},
     "output_type": "execute_result"
    }
   ],
   "source": [
    "from pyfaidx import Fasta\n",
    "import pandas as pd\n",
    "import collections\n",
    "nt_counts = {}\n",
    "for g in genomes:\n",
    "    if \".genome.fa\" in g:\n",
    "        strain_id = g.split(\".genome.fa\")[0]\n",
    "    else:\n",
    "        strain_id = g.split(\".re.fa\")[0][18:]\n",
    "    concatenated_seqs = \"\"\n",
    "    chrs = Fasta(g)\n",
    "    for x in chrs:\n",
    "        #print(x.name)\n",
    "        concatenated_seqs += str(x)\n",
    "    nt_counts[strain_id] = collections.Counter(concatenated_seqs)\n",
    "nt_count_df = pd.DataFrame.from_dict(nt_counts, orient='index').fillna(0)\n",
    "nt_count_df[\"Total_nts\"] = nt_count_df.sum(1)\n",
    "def percent_GCcalc(items):\n",
    "    '''\n",
    "    takes a list of three and calculates percentage of sum of first\n",
    "    two itemswithin total (second item)\n",
    "    '''\n",
    "    return (items[0] + items[1])/items[2]\n",
    "nt_count_df['%G+C'] = nt_count_df[['C','G','Total_nts']].apply(percent_GCcalc, axis=1)\n",
    "nt_count_df = nt_count_df.sort_values('Total_nts',ascending=False)\n",
    "#nt_count_df = nt_count_df.sort_values(['% N', 'Total_nts'],ascending=[0,0])\n",
    "nt_count_df = nt_count_df.sort_index()\n",
    "# df.iloc[np.lexsort((df.index, df.A.values))] # from https://stackoverflow.com/a/49354905/8508004\n",
    "#nt_count_df_styled = nt_count_df.style.format({'Total_nts':'{:.2E}','% N':'{:.2%}'})\n",
    "nt_count_df_styled = nt_count_df.style.format({'Total_nts':'{:.2E}','%G+C':'{:.2%}'})\n",
    "nt_count_df_styled"
   ]
  },
  {
   "cell_type": "markdown",
   "metadata": {},
   "source": [
    "To make it easier to compare the different mitochondrial sequences to each other, we can do a different sort as well."
   ]
  },
  {
   "cell_type": "code",
   "execution_count": 22,
   "metadata": {},
   "outputs": [
    {
     "data": {
      "text/html": [
       "<style  type=\"text/css\" >\n",
       "</style><table id=\"T_6ee8d0dc_2d83_11e9_90c7_0e071415547e\" ><thead>    <tr>        <th class=\"blank level0\" ></th>        <th class=\"col_heading level0 col0\" >A</th>        <th class=\"col_heading level0 col1\" >T</th>        <th class=\"col_heading level0 col2\" >G</th>        <th class=\"col_heading level0 col3\" >C</th>        <th class=\"col_heading level0 col4\" >N</th>        <th class=\"col_heading level0 col5\" >Total_nts</th>        <th class=\"col_heading level0 col6\" >%G+C</th>    </tr></thead><tbody>\n",
       "                <tr>\n",
       "                        <th id=\"T_6ee8d0dc_2d83_11e9_90c7_0e071415547elevel0_row0\" class=\"row_heading level0 row0\" >S288C_nuc</th>\n",
       "                        <td id=\"T_6ee8d0dc_2d83_11e9_90c7_0e071415547erow0_col0\" class=\"data row0 col0\" >3752659</td>\n",
       "                        <td id=\"T_6ee8d0dc_2d83_11e9_90c7_0e071415547erow0_col1\" class=\"data row0 col1\" >3738132</td>\n",
       "                        <td id=\"T_6ee8d0dc_2d83_11e9_90c7_0e071415547erow0_col2\" class=\"data row0 col2\" >2323469</td>\n",
       "                        <td id=\"T_6ee8d0dc_2d83_11e9_90c7_0e071415547erow0_col3\" class=\"data row0 col3\" >2325532</td>\n",
       "                        <td id=\"T_6ee8d0dc_2d83_11e9_90c7_0e071415547erow0_col4\" class=\"data row0 col4\" >17357</td>\n",
       "                        <td id=\"T_6ee8d0dc_2d83_11e9_90c7_0e071415547erow0_col5\" class=\"data row0 col5\" >1.22E+07</td>\n",
       "                        <td id=\"T_6ee8d0dc_2d83_11e9_90c7_0e071415547erow0_col6\" class=\"data row0 col6\" >38.24%</td>\n",
       "            </tr>\n",
       "            <tr>\n",
       "                        <th id=\"T_6ee8d0dc_2d83_11e9_90c7_0e071415547elevel0_row1\" class=\"row_heading level0 row1\" >UFRJ50816_nuc</th>\n",
       "                        <td id=\"T_6ee8d0dc_2d83_11e9_90c7_0e071415547erow1_col0\" class=\"data row1 col0\" >3735782</td>\n",
       "                        <td id=\"T_6ee8d0dc_2d83_11e9_90c7_0e071415547erow1_col1\" class=\"data row1 col1\" >3732052</td>\n",
       "                        <td id=\"T_6ee8d0dc_2d83_11e9_90c7_0e071415547erow1_col2\" class=\"data row1 col2\" >2326900</td>\n",
       "                        <td id=\"T_6ee8d0dc_2d83_11e9_90c7_0e071415547erow1_col3\" class=\"data row1 col3\" >2325192</td>\n",
       "                        <td id=\"T_6ee8d0dc_2d83_11e9_90c7_0e071415547erow1_col4\" class=\"data row1 col4\" >17357</td>\n",
       "                        <td id=\"T_6ee8d0dc_2d83_11e9_90c7_0e071415547erow1_col5\" class=\"data row1 col5\" >1.21E+07</td>\n",
       "                        <td id=\"T_6ee8d0dc_2d83_11e9_90c7_0e071415547erow1_col6\" class=\"data row1 col6\" >38.33%</td>\n",
       "            </tr>\n",
       "            <tr>\n",
       "                        <th id=\"T_6ee8d0dc_2d83_11e9_90c7_0e071415547elevel0_row2\" class=\"row_heading level0 row2\" >SGD_REF_nuc</th>\n",
       "                        <td id=\"T_6ee8d0dc_2d83_11e9_90c7_0e071415547erow2_col0\" class=\"data row2 col0\" >3730180</td>\n",
       "                        <td id=\"T_6ee8d0dc_2d83_11e9_90c7_0e071415547erow2_col1\" class=\"data row2 col1\" >3718146</td>\n",
       "                        <td id=\"T_6ee8d0dc_2d83_11e9_90c7_0e071415547erow2_col2\" class=\"data row2 col2\" >2309287</td>\n",
       "                        <td id=\"T_6ee8d0dc_2d83_11e9_90c7_0e071415547erow2_col3\" class=\"data row2 col3\" >2313713</td>\n",
       "                        <td id=\"T_6ee8d0dc_2d83_11e9_90c7_0e071415547erow2_col4\" class=\"data row2 col4\" >0</td>\n",
       "                        <td id=\"T_6ee8d0dc_2d83_11e9_90c7_0e071415547erow2_col5\" class=\"data row2 col5\" >1.21E+07</td>\n",
       "                        <td id=\"T_6ee8d0dc_2d83_11e9_90c7_0e071415547erow2_col6\" class=\"data row2 col6\" >38.30%</td>\n",
       "            </tr>\n",
       "            <tr>\n",
       "                        <th id=\"T_6ee8d0dc_2d83_11e9_90c7_0e071415547elevel0_row3\" class=\"row_heading level0 row3\" >SK1_nuc</th>\n",
       "                        <td id=\"T_6ee8d0dc_2d83_11e9_90c7_0e071415547erow3_col0\" class=\"data row3 col0\" >3719655</td>\n",
       "                        <td id=\"T_6ee8d0dc_2d83_11e9_90c7_0e071415547erow3_col1\" class=\"data row3 col1\" >3707198</td>\n",
       "                        <td id=\"T_6ee8d0dc_2d83_11e9_90c7_0e071415547erow3_col2\" class=\"data row3 col2\" >2307796</td>\n",
       "                        <td id=\"T_6ee8d0dc_2d83_11e9_90c7_0e071415547erow3_col3\" class=\"data row3 col3\" >2311279</td>\n",
       "                        <td id=\"T_6ee8d0dc_2d83_11e9_90c7_0e071415547erow3_col4\" class=\"data row3 col4\" >17357</td>\n",
       "                        <td id=\"T_6ee8d0dc_2d83_11e9_90c7_0e071415547erow3_col5\" class=\"data row3 col5\" >1.21E+07</td>\n",
       "                        <td id=\"T_6ee8d0dc_2d83_11e9_90c7_0e071415547erow3_col6\" class=\"data row3 col6\" >38.29%</td>\n",
       "            </tr>\n",
       "            <tr>\n",
       "                        <th id=\"T_6ee8d0dc_2d83_11e9_90c7_0e071415547elevel0_row4\" class=\"row_heading level0 row4\" >CBS432_nuc</th>\n",
       "                        <td id=\"T_6ee8d0dc_2d83_11e9_90c7_0e071415547erow4_col0\" class=\"data row4 col0\" >3683966</td>\n",
       "                        <td id=\"T_6ee8d0dc_2d83_11e9_90c7_0e071415547erow4_col1\" class=\"data row4 col1\" >3675728</td>\n",
       "                        <td id=\"T_6ee8d0dc_2d83_11e9_90c7_0e071415547erow4_col2\" class=\"data row4 col2\" >2322732</td>\n",
       "                        <td id=\"T_6ee8d0dc_2d83_11e9_90c7_0e071415547erow4_col3\" class=\"data row4 col3\" >2321545</td>\n",
       "                        <td id=\"T_6ee8d0dc_2d83_11e9_90c7_0e071415547erow4_col4\" class=\"data row4 col4\" >17357</td>\n",
       "                        <td id=\"T_6ee8d0dc_2d83_11e9_90c7_0e071415547erow4_col5\" class=\"data row4 col5\" >1.20E+07</td>\n",
       "                        <td id=\"T_6ee8d0dc_2d83_11e9_90c7_0e071415547erow4_col6\" class=\"data row4 col6\" >38.63%</td>\n",
       "            </tr>\n",
       "            <tr>\n",
       "                        <th id=\"T_6ee8d0dc_2d83_11e9_90c7_0e071415547elevel0_row5\" class=\"row_heading level0 row5\" >DBVPG6044_nuc</th>\n",
       "                        <td id=\"T_6ee8d0dc_2d83_11e9_90c7_0e071415547erow5_col0\" class=\"data row5 col0\" >3689297</td>\n",
       "                        <td id=\"T_6ee8d0dc_2d83_11e9_90c7_0e071415547erow5_col1\" class=\"data row5 col1\" >3677723</td>\n",
       "                        <td id=\"T_6ee8d0dc_2d83_11e9_90c7_0e071415547erow5_col2\" class=\"data row5 col2\" >2285884</td>\n",
       "                        <td id=\"T_6ee8d0dc_2d83_11e9_90c7_0e071415547erow5_col3\" class=\"data row5 col3\" >2287780</td>\n",
       "                        <td id=\"T_6ee8d0dc_2d83_11e9_90c7_0e071415547erow5_col4\" class=\"data row5 col4\" >17357</td>\n",
       "                        <td id=\"T_6ee8d0dc_2d83_11e9_90c7_0e071415547erow5_col5\" class=\"data row5 col5\" >1.20E+07</td>\n",
       "                        <td id=\"T_6ee8d0dc_2d83_11e9_90c7_0e071415547erow5_col6\" class=\"data row5 col6\" >38.25%</td>\n",
       "            </tr>\n",
       "            <tr>\n",
       "                        <th id=\"T_6ee8d0dc_2d83_11e9_90c7_0e071415547elevel0_row6\" class=\"row_heading level0 row6\" >YPS128_nuc</th>\n",
       "                        <td id=\"T_6ee8d0dc_2d83_11e9_90c7_0e071415547erow6_col0\" class=\"data row6 col0\" >3672962</td>\n",
       "                        <td id=\"T_6ee8d0dc_2d83_11e9_90c7_0e071415547erow6_col1\" class=\"data row6 col1\" >3663303</td>\n",
       "                        <td id=\"T_6ee8d0dc_2d83_11e9_90c7_0e071415547erow6_col2\" class=\"data row6 col2\" >2279727</td>\n",
       "                        <td id=\"T_6ee8d0dc_2d83_11e9_90c7_0e071415547erow6_col3\" class=\"data row6 col3\" >2277125</td>\n",
       "                        <td id=\"T_6ee8d0dc_2d83_11e9_90c7_0e071415547erow6_col4\" class=\"data row6 col4\" >17357</td>\n",
       "                        <td id=\"T_6ee8d0dc_2d83_11e9_90c7_0e071415547erow6_col5\" class=\"data row6 col5\" >1.19E+07</td>\n",
       "                        <td id=\"T_6ee8d0dc_2d83_11e9_90c7_0e071415547erow6_col6\" class=\"data row6 col6\" >38.26%</td>\n",
       "            </tr>\n",
       "            <tr>\n",
       "                        <th id=\"T_6ee8d0dc_2d83_11e9_90c7_0e071415547elevel0_row7\" class=\"row_heading level0 row7\" >Y12_nuc</th>\n",
       "                        <td id=\"T_6ee8d0dc_2d83_11e9_90c7_0e071415547erow7_col0\" class=\"data row7 col0\" >3664986</td>\n",
       "                        <td id=\"T_6ee8d0dc_2d83_11e9_90c7_0e071415547erow7_col1\" class=\"data row7 col1\" >3657730</td>\n",
       "                        <td id=\"T_6ee8d0dc_2d83_11e9_90c7_0e071415547erow7_col2\" class=\"data row7 col2\" >2270987</td>\n",
       "                        <td id=\"T_6ee8d0dc_2d83_11e9_90c7_0e071415547erow7_col3\" class=\"data row7 col3\" >2270087</td>\n",
       "                        <td id=\"T_6ee8d0dc_2d83_11e9_90c7_0e071415547erow7_col4\" class=\"data row7 col4\" >17357</td>\n",
       "                        <td id=\"T_6ee8d0dc_2d83_11e9_90c7_0e071415547erow7_col5\" class=\"data row7 col5\" >1.19E+07</td>\n",
       "                        <td id=\"T_6ee8d0dc_2d83_11e9_90c7_0e071415547erow7_col6\" class=\"data row7 col6\" >38.22%</td>\n",
       "            </tr>\n",
       "            <tr>\n",
       "                        <th id=\"T_6ee8d0dc_2d83_11e9_90c7_0e071415547elevel0_row8\" class=\"row_heading level0 row8\" >UWOPS919171_nuc</th>\n",
       "                        <td id=\"T_6ee8d0dc_2d83_11e9_90c7_0e071415547erow8_col0\" class=\"data row8 col0\" >3652729</td>\n",
       "                        <td id=\"T_6ee8d0dc_2d83_11e9_90c7_0e071415547erow8_col1\" class=\"data row8 col1\" >3646729</td>\n",
       "                        <td id=\"T_6ee8d0dc_2d83_11e9_90c7_0e071415547erow8_col2\" class=\"data row8 col2\" >2270324</td>\n",
       "                        <td id=\"T_6ee8d0dc_2d83_11e9_90c7_0e071415547erow8_col3\" class=\"data row8 col3\" >2269479</td>\n",
       "                        <td id=\"T_6ee8d0dc_2d83_11e9_90c7_0e071415547erow8_col4\" class=\"data row8 col4\" >17357</td>\n",
       "                        <td id=\"T_6ee8d0dc_2d83_11e9_90c7_0e071415547erow8_col5\" class=\"data row8 col5\" >1.19E+07</td>\n",
       "                        <td id=\"T_6ee8d0dc_2d83_11e9_90c7_0e071415547erow8_col6\" class=\"data row8 col6\" >38.29%</td>\n",
       "            </tr>\n",
       "            <tr>\n",
       "                        <th id=\"T_6ee8d0dc_2d83_11e9_90c7_0e071415547elevel0_row9\" class=\"row_heading level0 row9\" >DBVPG6765_nuc</th>\n",
       "                        <td id=\"T_6ee8d0dc_2d83_11e9_90c7_0e071415547erow9_col0\" class=\"data row9 col0\" >3647252</td>\n",
       "                        <td id=\"T_6ee8d0dc_2d83_11e9_90c7_0e071415547erow9_col1\" class=\"data row9 col1\" >3632750</td>\n",
       "                        <td id=\"T_6ee8d0dc_2d83_11e9_90c7_0e071415547erow9_col2\" class=\"data row9 col2\" >2258080</td>\n",
       "                        <td id=\"T_6ee8d0dc_2d83_11e9_90c7_0e071415547erow9_col3\" class=\"data row9 col3\" >2257749</td>\n",
       "                        <td id=\"T_6ee8d0dc_2d83_11e9_90c7_0e071415547erow9_col4\" class=\"data row9 col4\" >17357</td>\n",
       "                        <td id=\"T_6ee8d0dc_2d83_11e9_90c7_0e071415547erow9_col5\" class=\"data row9 col5\" >1.18E+07</td>\n",
       "                        <td id=\"T_6ee8d0dc_2d83_11e9_90c7_0e071415547erow9_col6\" class=\"data row9 col6\" >38.23%</td>\n",
       "            </tr>\n",
       "            <tr>\n",
       "                        <th id=\"T_6ee8d0dc_2d83_11e9_90c7_0e071415547elevel0_row10\" class=\"row_heading level0 row10\" >YPS138_nuc</th>\n",
       "                        <td id=\"T_6ee8d0dc_2d83_11e9_90c7_0e071415547erow10_col0\" class=\"data row10 col0\" >3629766</td>\n",
       "                        <td id=\"T_6ee8d0dc_2d83_11e9_90c7_0e071415547erow10_col1\" class=\"data row10 col1\" >3623944</td>\n",
       "                        <td id=\"T_6ee8d0dc_2d83_11e9_90c7_0e071415547erow10_col2\" class=\"data row10 col2\" >2272582</td>\n",
       "                        <td id=\"T_6ee8d0dc_2d83_11e9_90c7_0e071415547erow10_col3\" class=\"data row10 col3\" >2268073</td>\n",
       "                        <td id=\"T_6ee8d0dc_2d83_11e9_90c7_0e071415547erow10_col4\" class=\"data row10 col4\" >17357</td>\n",
       "                        <td id=\"T_6ee8d0dc_2d83_11e9_90c7_0e071415547erow10_col5\" class=\"data row10 col5\" >1.18E+07</td>\n",
       "                        <td id=\"T_6ee8d0dc_2d83_11e9_90c7_0e071415547erow10_col6\" class=\"data row10 col6\" >38.44%</td>\n",
       "            </tr>\n",
       "            <tr>\n",
       "                        <th id=\"T_6ee8d0dc_2d83_11e9_90c7_0e071415547elevel0_row11\" class=\"row_heading level0 row11\" >N44_nuc</th>\n",
       "                        <td id=\"T_6ee8d0dc_2d83_11e9_90c7_0e071415547erow11_col0\" class=\"data row11 col0\" >3620330</td>\n",
       "                        <td id=\"T_6ee8d0dc_2d83_11e9_90c7_0e071415547erow11_col1\" class=\"data row11 col1\" >3617409</td>\n",
       "                        <td id=\"T_6ee8d0dc_2d83_11e9_90c7_0e071415547erow11_col2\" class=\"data row11 col2\" >2278564</td>\n",
       "                        <td id=\"T_6ee8d0dc_2d83_11e9_90c7_0e071415547erow11_col3\" class=\"data row11 col3\" >2278029</td>\n",
       "                        <td id=\"T_6ee8d0dc_2d83_11e9_90c7_0e071415547erow11_col4\" class=\"data row11 col4\" >17357</td>\n",
       "                        <td id=\"T_6ee8d0dc_2d83_11e9_90c7_0e071415547erow11_col5\" class=\"data row11 col5\" >1.18E+07</td>\n",
       "                        <td id=\"T_6ee8d0dc_2d83_11e9_90c7_0e071415547erow11_col6\" class=\"data row11 col6\" >38.58%</td>\n",
       "            </tr>\n",
       "            <tr>\n",
       "                        <th id=\"T_6ee8d0dc_2d83_11e9_90c7_0e071415547elevel0_row12\" class=\"row_heading level0 row12\" >UWOPS034614_nuc</th>\n",
       "                        <td id=\"T_6ee8d0dc_2d83_11e9_90c7_0e071415547erow12_col0\" class=\"data row12 col0\" >3620938</td>\n",
       "                        <td id=\"T_6ee8d0dc_2d83_11e9_90c7_0e071415547erow12_col1\" class=\"data row12 col1\" >3622509</td>\n",
       "                        <td id=\"T_6ee8d0dc_2d83_11e9_90c7_0e071415547erow12_col2\" class=\"data row12 col2\" >2245047</td>\n",
       "                        <td id=\"T_6ee8d0dc_2d83_11e9_90c7_0e071415547erow12_col3\" class=\"data row12 col3\" >2241495</td>\n",
       "                        <td id=\"T_6ee8d0dc_2d83_11e9_90c7_0e071415547erow12_col4\" class=\"data row12 col4\" >17357</td>\n",
       "                        <td id=\"T_6ee8d0dc_2d83_11e9_90c7_0e071415547erow12_col5\" class=\"data row12 col5\" >1.17E+07</td>\n",
       "                        <td id=\"T_6ee8d0dc_2d83_11e9_90c7_0e071415547erow12_col6\" class=\"data row12 col6\" >38.19%</td>\n",
       "            </tr>\n",
       "            <tr>\n",
       "                        <th id=\"T_6ee8d0dc_2d83_11e9_90c7_0e071415547elevel0_row13\" class=\"row_heading level0 row13\" >S288C_mito</th>\n",
       "                        <td id=\"T_6ee8d0dc_2d83_11e9_90c7_0e071415547erow13_col0\" class=\"data row13 col0\" >36174</td>\n",
       "                        <td id=\"T_6ee8d0dc_2d83_11e9_90c7_0e071415547erow13_col1\" class=\"data row13 col1\" >34943</td>\n",
       "                        <td id=\"T_6ee8d0dc_2d83_11e9_90c7_0e071415547erow13_col2\" class=\"data row13 col2\" >7811</td>\n",
       "                        <td id=\"T_6ee8d0dc_2d83_11e9_90c7_0e071415547erow13_col3\" class=\"data row13 col3\" >6865</td>\n",
       "                        <td id=\"T_6ee8d0dc_2d83_11e9_90c7_0e071415547erow13_col4\" class=\"data row13 col4\" >0</td>\n",
       "                        <td id=\"T_6ee8d0dc_2d83_11e9_90c7_0e071415547erow13_col5\" class=\"data row13 col5\" >8.58E+04</td>\n",
       "                        <td id=\"T_6ee8d0dc_2d83_11e9_90c7_0e071415547erow13_col6\" class=\"data row13 col6\" >17.11%</td>\n",
       "            </tr>\n",
       "            <tr>\n",
       "                        <th id=\"T_6ee8d0dc_2d83_11e9_90c7_0e071415547elevel0_row14\" class=\"row_heading level0 row14\" >SGD_REF_mito</th>\n",
       "                        <td id=\"T_6ee8d0dc_2d83_11e9_90c7_0e071415547erow14_col0\" class=\"data row14 col0\" >36169</td>\n",
       "                        <td id=\"T_6ee8d0dc_2d83_11e9_90c7_0e071415547erow14_col1\" class=\"data row14 col1\" >34934</td>\n",
       "                        <td id=\"T_6ee8d0dc_2d83_11e9_90c7_0e071415547erow14_col2\" class=\"data row14 col2\" >7813</td>\n",
       "                        <td id=\"T_6ee8d0dc_2d83_11e9_90c7_0e071415547erow14_col3\" class=\"data row14 col3\" >6863</td>\n",
       "                        <td id=\"T_6ee8d0dc_2d83_11e9_90c7_0e071415547erow14_col4\" class=\"data row14 col4\" >0</td>\n",
       "                        <td id=\"T_6ee8d0dc_2d83_11e9_90c7_0e071415547erow14_col5\" class=\"data row14 col5\" >8.58E+04</td>\n",
       "                        <td id=\"T_6ee8d0dc_2d83_11e9_90c7_0e071415547erow14_col6\" class=\"data row14 col6\" >17.11%</td>\n",
       "            </tr>\n",
       "            <tr>\n",
       "                        <th id=\"T_6ee8d0dc_2d83_11e9_90c7_0e071415547elevel0_row15\" class=\"row_heading level0 row15\" >SK1_mito</th>\n",
       "                        <td id=\"T_6ee8d0dc_2d83_11e9_90c7_0e071415547erow15_col0\" class=\"data row15 col0\" >35306</td>\n",
       "                        <td id=\"T_6ee8d0dc_2d83_11e9_90c7_0e071415547erow15_col1\" class=\"data row15 col1\" >34384</td>\n",
       "                        <td id=\"T_6ee8d0dc_2d83_11e9_90c7_0e071415547erow15_col2\" class=\"data row15 col2\" >7869</td>\n",
       "                        <td id=\"T_6ee8d0dc_2d83_11e9_90c7_0e071415547erow15_col3\" class=\"data row15 col3\" >7079</td>\n",
       "                        <td id=\"T_6ee8d0dc_2d83_11e9_90c7_0e071415547erow15_col4\" class=\"data row15 col4\" >0</td>\n",
       "                        <td id=\"T_6ee8d0dc_2d83_11e9_90c7_0e071415547erow15_col5\" class=\"data row15 col5\" >8.46E+04</td>\n",
       "                        <td id=\"T_6ee8d0dc_2d83_11e9_90c7_0e071415547erow15_col6\" class=\"data row15 col6\" >17.66%</td>\n",
       "            </tr>\n",
       "            <tr>\n",
       "                        <th id=\"T_6ee8d0dc_2d83_11e9_90c7_0e071415547elevel0_row16\" class=\"row_heading level0 row16\" >Y12_mito</th>\n",
       "                        <td id=\"T_6ee8d0dc_2d83_11e9_90c7_0e071415547erow16_col0\" class=\"data row16 col0\" >35073</td>\n",
       "                        <td id=\"T_6ee8d0dc_2d83_11e9_90c7_0e071415547erow16_col1\" class=\"data row16 col1\" >34065</td>\n",
       "                        <td id=\"T_6ee8d0dc_2d83_11e9_90c7_0e071415547erow16_col2\" class=\"data row16 col2\" >7306</td>\n",
       "                        <td id=\"T_6ee8d0dc_2d83_11e9_90c7_0e071415547erow16_col3\" class=\"data row16 col3\" >6424</td>\n",
       "                        <td id=\"T_6ee8d0dc_2d83_11e9_90c7_0e071415547erow16_col4\" class=\"data row16 col4\" >0</td>\n",
       "                        <td id=\"T_6ee8d0dc_2d83_11e9_90c7_0e071415547erow16_col5\" class=\"data row16 col5\" >8.29E+04</td>\n",
       "                        <td id=\"T_6ee8d0dc_2d83_11e9_90c7_0e071415547erow16_col6\" class=\"data row16 col6\" >16.57%</td>\n",
       "            </tr>\n",
       "            <tr>\n",
       "                        <th id=\"T_6ee8d0dc_2d83_11e9_90c7_0e071415547elevel0_row17\" class=\"row_heading level0 row17\" >DBVPG6765_mito</th>\n",
       "                        <td id=\"T_6ee8d0dc_2d83_11e9_90c7_0e071415547erow17_col0\" class=\"data row17 col0\" >34663</td>\n",
       "                        <td id=\"T_6ee8d0dc_2d83_11e9_90c7_0e071415547erow17_col1\" class=\"data row17 col1\" >33876</td>\n",
       "                        <td id=\"T_6ee8d0dc_2d83_11e9_90c7_0e071415547erow17_col2\" class=\"data row17 col2\" >7022</td>\n",
       "                        <td id=\"T_6ee8d0dc_2d83_11e9_90c7_0e071415547erow17_col3\" class=\"data row17 col3\" >6161</td>\n",
       "                        <td id=\"T_6ee8d0dc_2d83_11e9_90c7_0e071415547erow17_col4\" class=\"data row17 col4\" >0</td>\n",
       "                        <td id=\"T_6ee8d0dc_2d83_11e9_90c7_0e071415547erow17_col5\" class=\"data row17 col5\" >8.17E+04</td>\n",
       "                        <td id=\"T_6ee8d0dc_2d83_11e9_90c7_0e071415547erow17_col6\" class=\"data row17 col6\" >16.13%</td>\n",
       "            </tr>\n",
       "            <tr>\n",
       "                        <th id=\"T_6ee8d0dc_2d83_11e9_90c7_0e071415547elevel0_row18\" class=\"row_heading level0 row18\" >DBVPG6044_mito</th>\n",
       "                        <td id=\"T_6ee8d0dc_2d83_11e9_90c7_0e071415547erow18_col0\" class=\"data row18 col0\" >33789</td>\n",
       "                        <td id=\"T_6ee8d0dc_2d83_11e9_90c7_0e071415547erow18_col1\" class=\"data row18 col1\" >33027</td>\n",
       "                        <td id=\"T_6ee8d0dc_2d83_11e9_90c7_0e071415547erow18_col2\" class=\"data row18 col2\" >7487</td>\n",
       "                        <td id=\"T_6ee8d0dc_2d83_11e9_90c7_0e071415547erow18_col3\" class=\"data row18 col3\" >6790</td>\n",
       "                        <td id=\"T_6ee8d0dc_2d83_11e9_90c7_0e071415547erow18_col4\" class=\"data row18 col4\" >0</td>\n",
       "                        <td id=\"T_6ee8d0dc_2d83_11e9_90c7_0e071415547erow18_col5\" class=\"data row18 col5\" >8.11E+04</td>\n",
       "                        <td id=\"T_6ee8d0dc_2d83_11e9_90c7_0e071415547erow18_col6\" class=\"data row18 col6\" >17.61%</td>\n",
       "            </tr>\n",
       "            <tr>\n",
       "                        <th id=\"T_6ee8d0dc_2d83_11e9_90c7_0e071415547elevel0_row19\" class=\"row_heading level0 row19\" >YPS128_mito</th>\n",
       "                        <td id=\"T_6ee8d0dc_2d83_11e9_90c7_0e071415547erow19_col0\" class=\"data row19 col0\" >33359</td>\n",
       "                        <td id=\"T_6ee8d0dc_2d83_11e9_90c7_0e071415547erow19_col1\" class=\"data row19 col1\" >32668</td>\n",
       "                        <td id=\"T_6ee8d0dc_2d83_11e9_90c7_0e071415547erow19_col2\" class=\"data row19 col2\" >6060</td>\n",
       "                        <td id=\"T_6ee8d0dc_2d83_11e9_90c7_0e071415547erow19_col3\" class=\"data row19 col3\" >5392</td>\n",
       "                        <td id=\"T_6ee8d0dc_2d83_11e9_90c7_0e071415547erow19_col4\" class=\"data row19 col4\" >0</td>\n",
       "                        <td id=\"T_6ee8d0dc_2d83_11e9_90c7_0e071415547erow19_col5\" class=\"data row19 col5\" >7.75E+04</td>\n",
       "                        <td id=\"T_6ee8d0dc_2d83_11e9_90c7_0e071415547erow19_col6\" class=\"data row19 col6\" >14.78%</td>\n",
       "            </tr>\n",
       "            <tr>\n",
       "                        <th id=\"T_6ee8d0dc_2d83_11e9_90c7_0e071415547elevel0_row20\" class=\"row_heading level0 row20\" >UFRJ50816_mito</th>\n",
       "                        <td id=\"T_6ee8d0dc_2d83_11e9_90c7_0e071415547erow20_col0\" class=\"data row20 col0\" >33611</td>\n",
       "                        <td id=\"T_6ee8d0dc_2d83_11e9_90c7_0e071415547erow20_col1\" class=\"data row20 col1\" >31938</td>\n",
       "                        <td id=\"T_6ee8d0dc_2d83_11e9_90c7_0e071415547erow20_col2\" class=\"data row20 col2\" >6335</td>\n",
       "                        <td id=\"T_6ee8d0dc_2d83_11e9_90c7_0e071415547erow20_col3\" class=\"data row20 col3\" >5502</td>\n",
       "                        <td id=\"T_6ee8d0dc_2d83_11e9_90c7_0e071415547erow20_col4\" class=\"data row20 col4\" >0</td>\n",
       "                        <td id=\"T_6ee8d0dc_2d83_11e9_90c7_0e071415547erow20_col5\" class=\"data row20 col5\" >7.74E+04</td>\n",
       "                        <td id=\"T_6ee8d0dc_2d83_11e9_90c7_0e071415547erow20_col6\" class=\"data row20 col6\" >15.30%</td>\n",
       "            </tr>\n",
       "            <tr>\n",
       "                        <th id=\"T_6ee8d0dc_2d83_11e9_90c7_0e071415547elevel0_row21\" class=\"row_heading level0 row21\" >UWOPS034614_mito</th>\n",
       "                        <td id=\"T_6ee8d0dc_2d83_11e9_90c7_0e071415547erow21_col0\" class=\"data row21 col0\" >32191</td>\n",
       "                        <td id=\"T_6ee8d0dc_2d83_11e9_90c7_0e071415547erow21_col1\" class=\"data row21 col1\" >31590</td>\n",
       "                        <td id=\"T_6ee8d0dc_2d83_11e9_90c7_0e071415547erow21_col2\" class=\"data row21 col2\" >5485</td>\n",
       "                        <td id=\"T_6ee8d0dc_2d83_11e9_90c7_0e071415547erow21_col3\" class=\"data row21 col3\" >4913</td>\n",
       "                        <td id=\"T_6ee8d0dc_2d83_11e9_90c7_0e071415547erow21_col4\" class=\"data row21 col4\" >0</td>\n",
       "                        <td id=\"T_6ee8d0dc_2d83_11e9_90c7_0e071415547erow21_col5\" class=\"data row21 col5\" >7.42E+04</td>\n",
       "                        <td id=\"T_6ee8d0dc_2d83_11e9_90c7_0e071415547erow21_col6\" class=\"data row21 col6\" >14.02%</td>\n",
       "            </tr>\n",
       "            <tr>\n",
       "                        <th id=\"T_6ee8d0dc_2d83_11e9_90c7_0e071415547elevel0_row22\" class=\"row_heading level0 row22\" >UWOPS919171_mito</th>\n",
       "                        <td id=\"T_6ee8d0dc_2d83_11e9_90c7_0e071415547erow22_col0\" class=\"data row22 col0\" >31981</td>\n",
       "                        <td id=\"T_6ee8d0dc_2d83_11e9_90c7_0e071415547erow22_col1\" class=\"data row22 col1\" >30683</td>\n",
       "                        <td id=\"T_6ee8d0dc_2d83_11e9_90c7_0e071415547erow22_col2\" class=\"data row22 col2\" >5628</td>\n",
       "                        <td id=\"T_6ee8d0dc_2d83_11e9_90c7_0e071415547erow22_col3\" class=\"data row22 col3\" >4879</td>\n",
       "                        <td id=\"T_6ee8d0dc_2d83_11e9_90c7_0e071415547erow22_col4\" class=\"data row22 col4\" >0</td>\n",
       "                        <td id=\"T_6ee8d0dc_2d83_11e9_90c7_0e071415547erow22_col5\" class=\"data row22 col5\" >7.32E+04</td>\n",
       "                        <td id=\"T_6ee8d0dc_2d83_11e9_90c7_0e071415547erow22_col6\" class=\"data row22 col6\" >14.36%</td>\n",
       "            </tr>\n",
       "            <tr>\n",
       "                        <th id=\"T_6ee8d0dc_2d83_11e9_90c7_0e071415547elevel0_row23\" class=\"row_heading level0 row23\" >CBS432_mito</th>\n",
       "                        <td id=\"T_6ee8d0dc_2d83_11e9_90c7_0e071415547erow23_col0\" class=\"data row23 col0\" >31189</td>\n",
       "                        <td id=\"T_6ee8d0dc_2d83_11e9_90c7_0e071415547erow23_col1\" class=\"data row23 col1\" >30251</td>\n",
       "                        <td id=\"T_6ee8d0dc_2d83_11e9_90c7_0e071415547erow23_col2\" class=\"data row23 col2\" >5343</td>\n",
       "                        <td id=\"T_6ee8d0dc_2d83_11e9_90c7_0e071415547erow23_col3\" class=\"data row23 col3\" >4699</td>\n",
       "                        <td id=\"T_6ee8d0dc_2d83_11e9_90c7_0e071415547erow23_col4\" class=\"data row23 col4\" >0</td>\n",
       "                        <td id=\"T_6ee8d0dc_2d83_11e9_90c7_0e071415547erow23_col5\" class=\"data row23 col5\" >7.15E+04</td>\n",
       "                        <td id=\"T_6ee8d0dc_2d83_11e9_90c7_0e071415547erow23_col6\" class=\"data row23 col6\" >14.05%</td>\n",
       "            </tr>\n",
       "            <tr>\n",
       "                        <th id=\"T_6ee8d0dc_2d83_11e9_90c7_0e071415547elevel0_row24\" class=\"row_heading level0 row24\" >YPS138_mito</th>\n",
       "                        <td id=\"T_6ee8d0dc_2d83_11e9_90c7_0e071415547erow24_col0\" class=\"data row24 col0\" >31071</td>\n",
       "                        <td id=\"T_6ee8d0dc_2d83_11e9_90c7_0e071415547erow24_col1\" class=\"data row24 col1\" >29800</td>\n",
       "                        <td id=\"T_6ee8d0dc_2d83_11e9_90c7_0e071415547erow24_col2\" class=\"data row24 col2\" >5650</td>\n",
       "                        <td id=\"T_6ee8d0dc_2d83_11e9_90c7_0e071415547erow24_col3\" class=\"data row24 col3\" >4875</td>\n",
       "                        <td id=\"T_6ee8d0dc_2d83_11e9_90c7_0e071415547erow24_col4\" class=\"data row24 col4\" >0</td>\n",
       "                        <td id=\"T_6ee8d0dc_2d83_11e9_90c7_0e071415547erow24_col5\" class=\"data row24 col5\" >7.14E+04</td>\n",
       "                        <td id=\"T_6ee8d0dc_2d83_11e9_90c7_0e071415547erow24_col6\" class=\"data row24 col6\" >14.74%</td>\n",
       "            </tr>\n",
       "            <tr>\n",
       "                        <th id=\"T_6ee8d0dc_2d83_11e9_90c7_0e071415547elevel0_row25\" class=\"row_heading level0 row25\" >N44_mito</th>\n",
       "                        <td id=\"T_6ee8d0dc_2d83_11e9_90c7_0e071415547erow25_col0\" class=\"data row25 col0\" >30428</td>\n",
       "                        <td id=\"T_6ee8d0dc_2d83_11e9_90c7_0e071415547erow25_col1\" class=\"data row25 col1\" >29537</td>\n",
       "                        <td id=\"T_6ee8d0dc_2d83_11e9_90c7_0e071415547erow25_col2\" class=\"data row25 col2\" >5343</td>\n",
       "                        <td id=\"T_6ee8d0dc_2d83_11e9_90c7_0e071415547erow25_col3\" class=\"data row25 col3\" >4640</td>\n",
       "                        <td id=\"T_6ee8d0dc_2d83_11e9_90c7_0e071415547erow25_col4\" class=\"data row25 col4\" >0</td>\n",
       "                        <td id=\"T_6ee8d0dc_2d83_11e9_90c7_0e071415547erow25_col5\" class=\"data row25 col5\" >6.99E+04</td>\n",
       "                        <td id=\"T_6ee8d0dc_2d83_11e9_90c7_0e071415547erow25_col6\" class=\"data row25 col6\" >14.27%</td>\n",
       "            </tr>\n",
       "    </tbody></table>"
      ],
      "text/plain": [
       "<pandas.io.formats.style.Styler at 0x7fe75c0c62e8>"
      ]
     },
     "execution_count": 22,
     "metadata": {},
     "output_type": "execute_result"
    }
   ],
   "source": [
    "nt_count_df_alt = nt_count_df.sort_values('Total_nts',ascending=False)\n",
    "#nt_count_df = nt_count_df.sort_values(['% N', 'Total_nts'],ascending=[0,0])\n",
    "#nt_count_df = nt_count_df.sort_index()\n",
    "# df.iloc[np.lexsort((df.index, df.A.values))] # from https://stackoverflow.com/a/49354905/8508004\n",
    "#nt_count_df_styled = nt_count_df.style.format({'Total_nts':'{:.2E}','% N':'{:.2%}'})\n",
    "nt_count_df_styled_alt = nt_count_df_alt.style.format({'Total_nts':'{:.2E}','%G+C':'{:.2%}'})\n",
    "nt_count_df_styled_alt"
   ]
  },
  {
   "cell_type": "markdown",
   "metadata": {},
   "source": [
    "The mitochondrial sequences actually vary by quite a large percentage of %G+C and dip rather low. Especially given [Langkjaer et al., 2003 (PMID: 12799436)](https://www.ncbi.nlm.nih.gov/pubmed/12799436) says, \"The S.cerevisiae mtDNA is characterised by a very low GC content, 17–18%...\" ( I need to see how the number of classified GC elments and ori sequences relates to that pattern.)"
   ]
  },
  {
   "cell_type": "code",
   "execution_count": 11,
   "metadata": {},
   "outputs": [],
   "source": [
    "#nt_count_df.to_csv('SGD_REF_and_PB_nt_count.tsv', sep='\\t',index = False)    \n",
    "#nt_count_df.to_pickle(\"SGD_REF_and_PB_nt_count.pkl\")"
   ]
  },
  {
   "cell_type": "markdown",
   "metadata": {},
   "source": [
    "----"
   ]
  },
  {
   "cell_type": "code",
   "execution_count": null,
   "metadata": {},
   "outputs": [
    {
     "name": "stdout",
     "output_type": "stream",
     "text": [
      ".\n",
      ".\n"
     ]
    }
   ],
   "source": [
    "import time\n",
    "\n",
    "def executeSomething():\n",
    "    #code here\n",
    "    print ('.')\n",
    "    time.sleep(480) #60 seconds times 8 minutes\n",
    "\n",
    "while True:\n",
    "    executeSomething()"
   ]
  }
 ],
 "metadata": {
  "kernelspec": {
   "display_name": "Python 3",
   "language": "python",
   "name": "python3"
  },
  "language_info": {
   "codemirror_mode": {
    "name": "ipython",
    "version": 3
   },
   "file_extension": ".py",
   "mimetype": "text/x-python",
   "name": "python",
   "nbconvert_exporter": "python",
   "pygments_lexer": "ipython3",
   "version": "3.6.8"
  }
 },
 "nbformat": 4,
 "nbformat_minor": 2
}
