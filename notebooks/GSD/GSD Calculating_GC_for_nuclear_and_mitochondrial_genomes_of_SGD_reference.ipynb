{
 "cells": [
  {
   "cell_type": "markdown",
   "metadata": {},
   "source": [
    "# GSD: Calculating %G+C for the nuclear and mitochondrial genomes of S288C reference sequence at SGD\n",
    "\n",
    "What is exact %G+C for nuclear and mitochondrial genomes of *S. cerevisiae* S288C reference sequence at SGD?\n",
    "\n",
    "\n",
    "Reference for sequence data:  \n",
    "- [Life with 6000 genes. Goffeau A, Barrell BG, Bussey H, Davis RW, Dujon B, Feldmann H, Galibert F, Hoheisel JD, Jacq C, Johnston M, Louis EJ, Mewes HW, Murakami Y, Philippsen P, Tettelin H, Oliver SG. Science. 1996 Oct 25;274(5287):546, 563-7. PMID: 8849441](https://www.ncbi.nlm.nih.gov/pubmed/8849441)\n",
    "  \n",
    "Links to the specific data are included in the code.  \n",
    "  \n",
    "Uses code developed for `GSD Assessing_ambiguous_nts_in_complete_PB_genomes.ipynb`, `GSD Assessing_ambiguous_nts_in_nuclear_PB_genomes.ipynb` & `GSD Assessing_ambiguous_nts_in_1011_collection_genomes.ipynb`.  \n",
    "  \n",
    "-----"
   ]
  },
  {
   "cell_type": "markdown",
   "metadata": {},
   "source": [
    "## Preparation\n",
    "\n",
    "Get packages and sequence data necessary.\n"
   ]
  },
  {
   "cell_type": "code",
   "execution_count": 1,
   "metadata": {},
   "outputs": [
    {
     "name": "stdout",
     "output_type": "stream",
     "text": [
      "Collecting pyfaidx\n",
      "  Downloading https://files.pythonhosted.org/packages/75/a5/7e2569527b3849ea28d79b4f70d7cf46a47d36459bc59e0efa4e10e8c8b2/pyfaidx-0.5.5.2.tar.gz\n",
      "Requirement already satisfied: six in /srv/conda/lib/python3.6/site-packages (from pyfaidx) (1.12.0)\n",
      "Requirement already satisfied: setuptools>=0.7 in /srv/conda/lib/python3.6/site-packages (from pyfaidx) (40.7.1)\n",
      "Building wheels for collected packages: pyfaidx\n",
      "  Building wheel for pyfaidx (setup.py) ... \u001b[?25ldone\n",
      "\u001b[?25h  Stored in directory: /home/jovyan/.cache/pip/wheels/54/a2/b4/e242e58d23b2808e191b214067880faa46cd2341f363886e0b\n",
      "Successfully built pyfaidx\n",
      "Installing collected packages: pyfaidx\n",
      "Successfully installed pyfaidx-0.5.5.2\n"
     ]
    }
   ],
   "source": [
    "!pip install pyfaidx"
   ]
  },
  {
   "cell_type": "markdown",
   "metadata": {},
   "source": [
    "Get the genomes data by running these commands."
   ]
  },
  {
   "cell_type": "code",
   "execution_count": 2,
   "metadata": {},
   "outputs": [
    {
     "name": "stdout",
     "output_type": "stream",
     "text": [
      "  % Total    % Received % Xferd  Average Speed   Time    Time     Time  Current\n",
      "                                 Dload  Upload   Total   Spent    Left  Speed\n",
      "100  228k  100  228k    0     0   587k      0 --:--:-- --:--:-- --:--:--  587k\n"
     ]
    },
    {
     "name": "stderr",
     "output_type": "stream",
     "text": [
      "\n",
      "chr01.fsa chromosome identifiers tagged."
     ]
    },
    {
     "name": "stdout",
     "output_type": "stream",
     "text": [
      "  % Total    % Received % Xferd  Average Speed   Time    Time     Time  Current\n",
      "                                 Dload  Upload   Total   Spent    Left  Speed\n",
      "100  807k  100  807k    0     0  1964k      0 --:--:-- --:--:-- --:--:-- 1964k\n"
     ]
    },
    {
     "name": "stderr",
     "output_type": "stream",
     "text": [
      "\n",
      "chr02.fsa chromosome identifiers tagged."
     ]
    },
    {
     "name": "stdout",
     "output_type": "stream",
     "text": [
      "  % Total    % Received % Xferd  Average Speed   Time    Time     Time  Current\n",
      "                                 Dload  Upload   Total   Spent    Left  Speed\n",
      "100  314k  100  314k    0     0   782k      0 --:--:-- --:--:-- --:--:--  782k\n"
     ]
    },
    {
     "name": "stderr",
     "output_type": "stream",
     "text": [
      "\n",
      "chr03.fsa chromosome identifiers tagged."
     ]
    },
    {
     "name": "stdout",
     "output_type": "stream",
     "text": [
      "  % Total    % Received % Xferd  Average Speed   Time    Time     Time  Current\n",
      "                                 Dload  Upload   Total   Spent    Left  Speed\n",
      "100 1521k  100 1521k    0     0  3155k      0 --:--:-- --:--:-- --:--:-- 3149k\n"
     ]
    },
    {
     "name": "stderr",
     "output_type": "stream",
     "text": [
      "\n",
      "chr04.fsa chromosome identifiers tagged."
     ]
    },
    {
     "name": "stdout",
     "output_type": "stream",
     "text": [
      "  % Total    % Received % Xferd  Average Speed   Time    Time     Time  Current\n",
      "                                 Dload  Upload   Total   Spent    Left  Speed\n",
      "100  572k  100  572k    0     0  1278k      0 --:--:-- --:--:-- --:--:-- 1278k\n"
     ]
    },
    {
     "name": "stderr",
     "output_type": "stream",
     "text": [
      "\n",
      "chr05.fsa chromosome identifiers tagged."
     ]
    },
    {
     "name": "stdout",
     "output_type": "stream",
     "text": [
      "  % Total    % Received % Xferd  Average Speed   Time    Time     Time  Current\n",
      "                                 Dload  Upload   Total   Spent    Left  Speed\n",
      "100  268k  100  268k    0     0   727k      0 --:--:-- --:--:-- --:--:--  727k\n"
     ]
    },
    {
     "name": "stderr",
     "output_type": "stream",
     "text": [
      "\n",
      "chr06.fsa chromosome identifiers tagged."
     ]
    },
    {
     "name": "stdout",
     "output_type": "stream",
     "text": [
      "  % Total    % Received % Xferd  Average Speed   Time    Time     Time  Current\n",
      "                                 Dload  Upload   Total   Spent    Left  Speed\n",
      "100 1083k  100 1083k    0     0  2091k      0 --:--:-- --:--:-- --:--:-- 2087k\n"
     ]
    },
    {
     "name": "stderr",
     "output_type": "stream",
     "text": [
      "\n",
      "chr07.fsa chromosome identifiers tagged."
     ]
    },
    {
     "name": "stdout",
     "output_type": "stream",
     "text": [
      "  % Total    % Received % Xferd  Average Speed   Time    Time     Time  Current\n",
      "                                 Dload  Upload   Total   Spent    Left  Speed\n",
      "100  558k  100  558k    0     0  1266k      0 --:--:-- --:--:-- --:--:-- 1266k\n"
     ]
    },
    {
     "name": "stderr",
     "output_type": "stream",
     "text": [
      "\n",
      "chr08.fsa chromosome identifiers tagged."
     ]
    },
    {
     "name": "stdout",
     "output_type": "stream",
     "text": [
      "  % Total    % Received % Xferd  Average Speed   Time    Time     Time  Current\n",
      "                                 Dload  Upload   Total   Spent    Left  Speed\n",
      "100  436k  100  436k    0     0  1078k      0 --:--:-- --:--:-- --:--:-- 1076k\n"
     ]
    },
    {
     "name": "stderr",
     "output_type": "stream",
     "text": [
      "\n",
      "chr09.fsa chromosome identifiers tagged."
     ]
    },
    {
     "name": "stdout",
     "output_type": "stream",
     "text": [
      "  % Total    % Received % Xferd  Average Speed   Time    Time     Time  Current\n",
      "                                 Dload  Upload   Total   Spent    Left  Speed\n",
      "100  740k  100  740k    0     0  1694k      0 --:--:-- --:--:-- --:--:-- 1694k\n"
     ]
    },
    {
     "name": "stderr",
     "output_type": "stream",
     "text": [
      "\n",
      "chr10.fsa chromosome identifiers tagged."
     ]
    },
    {
     "name": "stdout",
     "output_type": "stream",
     "text": [
      "  % Total    % Received % Xferd  Average Speed   Time    Time     Time  Current\n",
      "                                 Dload  Upload   Total   Spent    Left  Speed\n",
      "100  662k  100  662k    0     0  1611k      0 --:--:-- --:--:-- --:--:-- 1607k\n"
     ]
    },
    {
     "name": "stderr",
     "output_type": "stream",
     "text": [
      "\n",
      "chr11.fsa chromosome identifiers tagged."
     ]
    },
    {
     "name": "stdout",
     "output_type": "stream",
     "text": [
      "  % Total    % Received % Xferd  Average Speed   Time    Time     Time  Current\n",
      "                                 Dload  Upload   Total   Spent    Left  Speed\n",
      "100 1070k  100 1070k    0     0  2422k      0 --:--:-- --:--:-- --:--:-- 2422k\n"
     ]
    },
    {
     "name": "stderr",
     "output_type": "stream",
     "text": [
      "\n",
      "chr12.fsa chromosome identifiers tagged."
     ]
    },
    {
     "name": "stdout",
     "output_type": "stream",
     "text": [
      "  % Total    % Received % Xferd  Average Speed   Time    Time     Time  Current\n",
      "                                 Dload  Upload   Total   Spent    Left  Speed\n",
      "100  917k  100  917k    0     0  2039k      0 --:--:-- --:--:-- --:--:-- 2039k\n"
     ]
    },
    {
     "name": "stderr",
     "output_type": "stream",
     "text": [
      "\n",
      "chr13.fsa chromosome identifiers tagged."
     ]
    },
    {
     "name": "stdout",
     "output_type": "stream",
     "text": [
      "  % Total    % Received % Xferd  Average Speed   Time    Time     Time  Current\n",
      "                                 Dload  Upload   Total   Spent    Left  Speed\n",
      "100  778k  100  778k    0     0  1774k      0 --:--:-- --:--:-- --:--:-- 1770k\n"
     ]
    },
    {
     "name": "stderr",
     "output_type": "stream",
     "text": [
      "\n",
      "chr14.fsa chromosome identifiers tagged."
     ]
    },
    {
     "name": "stdout",
     "output_type": "stream",
     "text": [
      "  % Total    % Received % Xferd  Average Speed   Time    Time     Time  Current\n",
      "                                 Dload  Upload   Total   Spent    Left  Speed\n",
      "100 1083k  100 1083k    0     0  2381k      0 --:--:-- --:--:-- --:--:-- 2386k\n"
     ]
    },
    {
     "name": "stderr",
     "output_type": "stream",
     "text": [
      "\n",
      "chr15.fsa chromosome identifiers tagged."
     ]
    },
    {
     "name": "stdout",
     "output_type": "stream",
     "text": [
      "  % Total    % Received % Xferd  Average Speed   Time    Time     Time  Current\n",
      "                                 Dload  Upload   Total   Spent    Left  Speed\n",
      "100  941k  100  941k    0     0  1941k      0 --:--:-- --:--:-- --:--:-- 1937k\n"
     ]
    },
    {
     "name": "stderr",
     "output_type": "stream",
     "text": [
      "\n",
      "chr16.fsa chromosome identifiers tagged."
     ]
    },
    {
     "name": "stdout",
     "output_type": "stream",
     "text": [
      "  % Total    % Received % Xferd  Average Speed   Time    Time     Time  Current\n",
      "                                 Dload  Upload   Total   Spent    Left  Speed\n",
      "100 87344  100 87344    0     0   287k      0 --:--:-- --:--:-- --:--:--  287k\n"
     ]
    }
   ],
   "source": [
    "# Cannot simply use `S288C_reference_sequence_R64-2-1_20150113.fsa` at http://sgd-archive.yeastgenome.org/sequence/S288C_reference/genome_releases/S288C_reference_genome_Current_Release.tgz\n",
    "# because want nuclear & mito sequences here to be separate\n",
    "# NUCLEAR\n",
    "def add_strain_id_to_description_line(file,strain_id):\n",
    "    '''\n",
    "    Takes a file and edits every description line to add \n",
    "    strain_id after the caret.\n",
    "    \n",
    "    Saves the fixed file\n",
    "    '''\n",
    "    import sys\n",
    "    output_file_name = \"temp.txt\"\n",
    "    # prepare output file for saving so it will be open and ready\n",
    "    with open(output_file_name, 'w') as output_file:\n",
    "\n",
    "        # read in the input file\n",
    "        with open(file, 'r') as input_handler:\n",
    "            # prepare to give feeback later or allow skipping to certain start\n",
    "            lines_processed = 0\n",
    "\n",
    "            for line in input_handler:\n",
    "                lines_processed += 1\n",
    "                if line.startswith(\">\"):\n",
    "                    rest_o_line = line.split(\">\")\n",
    "                    new_line = \">\"+strain_id + rest_o_line[1]\n",
    "                else:\n",
    "                    new_line = line\n",
    "                \n",
    "                # Send text to output\n",
    "                output_file.write(new_line)\n",
    "\n",
    "    \n",
    "    # replace the original file with edited\n",
    "    !mv temp.txt {file}\n",
    "    # Feedback\n",
    "    sys.stderr.write(\"\\n{} chromosome identifiers tagged.\".format(file))\n",
    "chr_nums = [\"01\",\"02\",\"03\",\"04\",\"05\",\"06\",\"07\",\"08\",\"09\",\"10\",\"11\",\n",
    "    \"12\",\"13\",\"14\",\"15\",\"16\"]\n",
    "g_fns = []\n",
    "for chr_num in chr_nums:\n",
    "    fn = \"chr\"+chr_num+\".fsa\"\n",
    "    !curl -OL http://sgd-archive.yeastgenome.org/sequence/S288C_reference/chromosomes/fasta/{fn}\n",
    "    g_fns.append(fn)\n",
    "    # edit or replace description lines to work similar to PacBio\n",
    "    tag = \"SGD_REFchr\"+chr_num+\" \"\n",
    "    add_strain_id_to_description_line(fn,tag)\n",
    "# zip all nuclear chromosomes together as one file as they are from https://yjx1217.github.io/Yeast_PacBio_2016/data/\n",
    "!cat {\" \".join(g_fns)} > SGD_REF_nuc.genome.fa\n",
    "!rm chr*.fsa\n",
    "\n",
    "#MITO\n",
    "!curl -OL http://sgd-archive.yeastgenome.org/sequence/S288C_reference/chromosomes/fasta/chrmt.fsa\n",
    "# Edit the description line to be clear and concise for later % rename to match nuclear\n",
    "!sed -i '1s/.*/>SGD_REFmito/' chrmt.fsa\n",
    "#!head chrmt.fsa\n",
    "!mv chrmt.fsa SGD_REF_mito.genome.fa\n",
    "\n",
    "# IF WANTED ALL SGD reference sequence, including mitochondria, as one file, could just use this:\n",
    "'''\n",
    "# Get SGD reference sequence that includes nuclear and mitochondrial sequence as one file,\n",
    "# among others. I'll use file name for the reference genome worked out \n",
    "# in `GSD Assessing_ambiguous_nts_in_nuclear_PB_genomes.ipynb`, so more of the\n",
    "# previously worked out code will work.\n",
    "!curl -OL http://sgd-archive.yeastgenome.org/sequence/S288C_reference/genome_releases/S288C_reference_genome_Current_Release.tgz\n",
    "!tar -xzf S288C_reference_genome_Current_Release.tgz\n",
    "!rm S288C_reference_genome_Current_Release.tgz\n",
    "!mv S288C_reference_genome_R64-2-1_20150113/S288C_reference_sequence_R64-2-1_20150113.fsa ./SGD_REF.genome.fa\n",
    "!rm -rf S288C_reference_genome_R64-2-1_20150113\n",
    "''';"
   ]
  },
  {
   "cell_type": "code",
   "execution_count": 3,
   "metadata": {},
   "outputs": [
    {
     "data": {
      "text/plain": [
       "['SGD_REF_mito.genome.fa', 'SGD_REF_nuc.genome.fa']"
      ]
     },
     "execution_count": 3,
     "metadata": {},
     "output_type": "execute_result"
    }
   ],
   "source": [
    "# Make a list of all `genome.fa` files, excluding `genome.fa.nhr` and `genome.fa.nin` and `genome.fansq`\n",
    "# The excluding was only necessary because I had run some BLAST queries preiminarily in development. Normally, \n",
    "# it would just be the `.re.fa` at the outset. (But keeping because removal ability could be useful.)\n",
    "fn_to_check = \"genome.fa\" \n",
    "genomes = []\n",
    "import os\n",
    "import fnmatch\n",
    "for file in os.listdir('.'):\n",
    "    if fnmatch.fnmatch(file, '*'+fn_to_check):\n",
    "        if not file.endswith(\".nhr\") and not file.endswith(\".nin\") and not file.endswith(\".nsq\") :\n",
    "            genomes.append(file)\n",
    "genomes"
   ]
  },
  {
   "cell_type": "markdown",
   "metadata": {},
   "source": [
    "\n",
    "Now you are prepared to analyze each genome."
   ]
  },
  {
   "cell_type": "markdown",
   "metadata": {},
   "source": [
    "## Calculating %G+C for the nuclear and mitochondrial genomes of S288C reference sequence at SGD"
   ]
  },
  {
   "cell_type": "markdown",
   "metadata": {},
   "source": [
    "First count all the letters present and make a dataframe and then add a column with %G+C:"
   ]
  },
  {
   "cell_type": "code",
   "execution_count": 4,
   "metadata": {},
   "outputs": [
    {
     "data": {
      "text/html": [
       "<style  type=\"text/css\" >\n",
       "</style><table id=\"T_4c709a62_2ce3_11e9_b81a_8ad1c9b4bef3\" ><thead>    <tr>        <th class=\"blank level0\" ></th>        <th class=\"col_heading level0 col0\" >T</th>        <th class=\"col_heading level0 col1\" >C</th>        <th class=\"col_heading level0 col2\" >A</th>        <th class=\"col_heading level0 col3\" >G</th>        <th class=\"col_heading level0 col4\" >Total_nts</th>        <th class=\"col_heading level0 col5\" >%G+C</th>    </tr></thead><tbody>\n",
       "                <tr>\n",
       "                        <th id=\"T_4c709a62_2ce3_11e9_b81a_8ad1c9b4bef3level0_row0\" class=\"row_heading level0 row0\" >SGD_REF_nuc</th>\n",
       "                        <td id=\"T_4c709a62_2ce3_11e9_b81a_8ad1c9b4bef3row0_col0\" class=\"data row0 col0\" >3718146</td>\n",
       "                        <td id=\"T_4c709a62_2ce3_11e9_b81a_8ad1c9b4bef3row0_col1\" class=\"data row0 col1\" >2313713</td>\n",
       "                        <td id=\"T_4c709a62_2ce3_11e9_b81a_8ad1c9b4bef3row0_col2\" class=\"data row0 col2\" >3730180</td>\n",
       "                        <td id=\"T_4c709a62_2ce3_11e9_b81a_8ad1c9b4bef3row0_col3\" class=\"data row0 col3\" >2309287</td>\n",
       "                        <td id=\"T_4c709a62_2ce3_11e9_b81a_8ad1c9b4bef3row0_col4\" class=\"data row0 col4\" >1.21E+07</td>\n",
       "                        <td id=\"T_4c709a62_2ce3_11e9_b81a_8ad1c9b4bef3row0_col5\" class=\"data row0 col5\" >38.30%</td>\n",
       "            </tr>\n",
       "            <tr>\n",
       "                        <th id=\"T_4c709a62_2ce3_11e9_b81a_8ad1c9b4bef3level0_row1\" class=\"row_heading level0 row1\" >SGD_REF_mito</th>\n",
       "                        <td id=\"T_4c709a62_2ce3_11e9_b81a_8ad1c9b4bef3row1_col0\" class=\"data row1 col0\" >34934</td>\n",
       "                        <td id=\"T_4c709a62_2ce3_11e9_b81a_8ad1c9b4bef3row1_col1\" class=\"data row1 col1\" >6863</td>\n",
       "                        <td id=\"T_4c709a62_2ce3_11e9_b81a_8ad1c9b4bef3row1_col2\" class=\"data row1 col2\" >36169</td>\n",
       "                        <td id=\"T_4c709a62_2ce3_11e9_b81a_8ad1c9b4bef3row1_col3\" class=\"data row1 col3\" >7813</td>\n",
       "                        <td id=\"T_4c709a62_2ce3_11e9_b81a_8ad1c9b4bef3row1_col4\" class=\"data row1 col4\" >8.58E+04</td>\n",
       "                        <td id=\"T_4c709a62_2ce3_11e9_b81a_8ad1c9b4bef3row1_col5\" class=\"data row1 col5\" >17.11%</td>\n",
       "            </tr>\n",
       "    </tbody></table>"
      ],
      "text/plain": [
       "<pandas.io.formats.style.Styler at 0x7f445957bc88>"
      ]
     },
     "execution_count": 4,
     "metadata": {},
     "output_type": "execute_result"
    }
   ],
   "source": [
    "from pyfaidx import Fasta\n",
    "import pandas as pd\n",
    "import collections\n",
    "nt_counts = {}\n",
    "for g in genomes:\n",
    "    if \".genome.fa\" in g:\n",
    "        strain_id = g.split(\".genome.fa\")[0]\n",
    "    else:\n",
    "        strain_id = g.split(\".re.fa\")[0][18:]\n",
    "    concatenated_seqs = \"\"\n",
    "    chrs = Fasta(g)\n",
    "    for x in chrs:\n",
    "        #print(x.name)\n",
    "        concatenated_seqs += str(x)\n",
    "    nt_counts[strain_id] = collections.Counter(concatenated_seqs)\n",
    "nt_count_df = pd.DataFrame.from_dict(nt_counts, orient='index').fillna(0)\n",
    "nt_count_df[\"Total_nts\"] = nt_count_df.sum(1)\n",
    "def percent_GCcalc(items):\n",
    "    '''\n",
    "    takes a list of three and calculates percentage of sum of first\n",
    "    two itemswithin total (second item)\n",
    "    '''\n",
    "    return (items[0] + items[1])/items[2]\n",
    "nt_count_df['%G+C'] = nt_count_df[['C','G','Total_nts']].apply(percent_GCcalc, axis=1)\n",
    "nt_count_df = nt_count_df.sort_values('Total_nts',ascending=False)\n",
    "#nt_count_df_styled = nt_count_df.style.format({'Total_nts':'{:.2E}','% N':'{:.2%}'})\n",
    "nt_count_df_styled = nt_count_df.style.format({'Total_nts':'{:.2E}','%G+C':'{:.2%}'})\n",
    "nt_count_df_styled"
   ]
  },
  {
   "cell_type": "code",
   "execution_count": 5,
   "metadata": {},
   "outputs": [],
   "source": [
    "#nt_count_df.to_csv('SGD_REF_nt_count.tsv', sep='\\t',index = False)    \n",
    "#nt_count_df.to_pickle(\"SGD_REF_nt_count.pkl\")"
   ]
  },
  {
   "cell_type": "markdown",
   "metadata": {},
   "source": [
    "----"
   ]
  }
 ],
 "metadata": {
  "kernelspec": {
   "display_name": "Python 3",
   "language": "python",
   "name": "python3"
  },
  "language_info": {
   "codemirror_mode": {
    "name": "ipython",
    "version": 3
   },
   "file_extension": ".py",
   "mimetype": "text/x-python",
   "name": "python",
   "nbconvert_exporter": "python",
   "pygments_lexer": "ipython3",
   "version": "3.6.8"
  }
 },
 "nbformat": 4,
 "nbformat_minor": 2
}
