{
 "cells": [
  {
   "cell_type": "markdown",
   "metadata": {},
   "source": [
    "# GSD: Mine Stenger et al 2020 supplemental Excel file for high confidence pet genes\n",
    "\n",
    "\n",
    "Reference for the supplemental data table:  \n",
    "- [Systematic analysis of nuclear gene function in respiratory growth and expression of the mitochondrial genome in S. cerevisiae. Stenger M, Le DT, Klecker T, Westermann B. Microb Cell. 2020 Jun 30;7(9):234-249. doi: 10.15698/mic2020.09.729. PMID: 32904421](https://pubmed.ncbi.nlm.nih.gov/32904421/)\n",
    "\n",
    "To fetch the Excel file, I'm actually going to use the PMC posted version from [here](https://www.ncbi.nlm.nih.gov/pmc/articles/PMC7453639/).\n",
    "\n",
    "(For now the plan is just to use data from Table S1 of [Stenger et al., 2020](https://www.ncbi.nlm.nih.gov/pmc/articles/PMC7453639/bin/mic-07-234-s02.xlsx).)\n",
    "\n",
    "The generated list of gene identifiers will then be entered in [the 'Lists' page at YeastMine](https://yeastmine.yeastgenome.org/yeastmine/bag.do) to then make gene list in my YeastMine account."
   ]
  },
  {
   "cell_type": "markdown",
   "metadata": {},
   "source": [
    "-----\n",
    "\n",
    "## Preparation\n",
    "\n",
    "\n",
    "#### Fetch the Excel file, convert, and tidy the data to useable form.\n"
   ]
  },
  {
   "cell_type": "markdown",
   "metadata": {},
   "source": [
    "The next cell gets the supplemental data table as an Excel file."
   ]
  },
  {
   "cell_type": "code",
   "execution_count": 1,
   "metadata": {},
   "outputs": [
    {
     "name": "stdout",
     "output_type": "stream",
     "text": [
      "  % Total    % Received % Xferd  Average Speed   Time    Time     Time  Current\n",
      "                                 Dload  Upload   Total   Spent    Left  Speed\n",
      "100  851k  100  851k    0     0  1483k      0 --:--:-- --:--:-- --:--:-- 1481k\n"
     ]
    }
   ],
   "source": [
    "!curl -OL https://www.ncbi.nlm.nih.gov/pmc/articles/PMC7453639/bin/mic-07-234-s02.xlsx"
   ]
  },
  {
   "cell_type": "markdown",
   "metadata": {},
   "source": [
    "Then a necessary package for the conversion from Excel file to Pandas dataframe is installed here."
   ]
  },
  {
   "cell_type": "code",
   "execution_count": 2,
   "metadata": {},
   "outputs": [
    {
     "name": "stdout",
     "output_type": "stream",
     "text": [
      "Requirement already satisfied: xlrd in /srv/conda/envs/notebook/lib/python3.7/site-packages (1.2.0)\n"
     ]
    }
   ],
   "source": [
    "!pip install xlrd"
   ]
  },
  {
   "cell_type": "markdown",
   "metadata": {},
   "source": [
    "Convert the Excel file to a dataframe."
   ]
  },
  {
   "cell_type": "code",
   "execution_count": 3,
   "metadata": {},
   "outputs": [],
   "source": [
    "import pandas as pd\n",
    "df = pd.read_excel('mic-07-234-s02.xlsx', sheet_name=0, header=0) "
   ]
  },
  {
   "cell_type": "markdown",
   "metadata": {},
   "source": [
    "Look at top to see if that worked."
   ]
  },
  {
   "cell_type": "code",
   "execution_count": 4,
   "metadata": {},
   "outputs": [
    {
     "data": {
      "text/html": [
       "<div>\n",
       "<style scoped>\n",
       "    .dataframe tbody tr th:only-of-type {\n",
       "        vertical-align: middle;\n",
       "    }\n",
       "\n",
       "    .dataframe tbody tr th {\n",
       "        vertical-align: top;\n",
       "    }\n",
       "\n",
       "    .dataframe thead th {\n",
       "        text-align: right;\n",
       "    }\n",
       "</style>\n",
       "<table border=\"1\" class=\"dataframe\">\n",
       "  <thead>\n",
       "    <tr style=\"text-align: right;\">\n",
       "      <th></th>\n",
       "      <th>ORF</th>\n",
       "      <th>standard name</th>\n",
       "      <th>description</th>\n",
       "      <th>Morgenstern et al. (2017)</th>\n",
       "      <th>Dimmer et al. (2002)</th>\n",
       "      <th>Luban et al. (2005)</th>\n",
       "      <th>Merz &amp; Westermann (2009)</th>\n",
       "      <th>this study</th>\n",
       "      <th>pet score</th>\n",
       "    </tr>\n",
       "  </thead>\n",
       "  <tbody>\n",
       "    <tr>\n",
       "      <th>0</th>\n",
       "      <td>YAL001C</td>\n",
       "      <td>TFC3</td>\n",
       "      <td>Subunit of RNA polymerase III transcription in...</td>\n",
       "      <td>0</td>\n",
       "      <td>nd</td>\n",
       "      <td>nd</td>\n",
       "      <td>nd</td>\n",
       "      <td>nd</td>\n",
       "      <td>nd</td>\n",
       "    </tr>\n",
       "    <tr>\n",
       "      <th>1</th>\n",
       "      <td>YAL002W</td>\n",
       "      <td>VPS8</td>\n",
       "      <td>Membrane-binding component of the CORVET compl...</td>\n",
       "      <td>0</td>\n",
       "      <td>0</td>\n",
       "      <td>0</td>\n",
       "      <td>0</td>\n",
       "      <td>0</td>\n",
       "      <td>0</td>\n",
       "    </tr>\n",
       "    <tr>\n",
       "      <th>2</th>\n",
       "      <td>YAL003W</td>\n",
       "      <td>EFB1</td>\n",
       "      <td>Translation elongation factor 1 beta; stimulat...</td>\n",
       "      <td>0</td>\n",
       "      <td>nd</td>\n",
       "      <td>nd</td>\n",
       "      <td>nd</td>\n",
       "      <td>nd</td>\n",
       "      <td>nd</td>\n",
       "    </tr>\n",
       "    <tr>\n",
       "      <th>3</th>\n",
       "      <td>YAL004W</td>\n",
       "      <td>NaN</td>\n",
       "      <td>Dubious open reading frame; unlikely to encode...</td>\n",
       "      <td>0</td>\n",
       "      <td>0</td>\n",
       "      <td>0</td>\n",
       "      <td>0</td>\n",
       "      <td>0</td>\n",
       "      <td>0</td>\n",
       "    </tr>\n",
       "    <tr>\n",
       "      <th>4</th>\n",
       "      <td>YAL005C</td>\n",
       "      <td>SSA1</td>\n",
       "      <td>ATPase involved in protein folding and NLS-dir...</td>\n",
       "      <td>0</td>\n",
       "      <td>0</td>\n",
       "      <td>0</td>\n",
       "      <td>0</td>\n",
       "      <td>0</td>\n",
       "      <td>0</td>\n",
       "    </tr>\n",
       "  </tbody>\n",
       "</table>\n",
       "</div>"
      ],
      "text/plain": [
       "       ORF standard name                                        description  \\\n",
       "0  YAL001C          TFC3  Subunit of RNA polymerase III transcription in...   \n",
       "1  YAL002W          VPS8  Membrane-binding component of the CORVET compl...   \n",
       "2  YAL003W          EFB1  Translation elongation factor 1 beta; stimulat...   \n",
       "3  YAL004W           NaN  Dubious open reading frame; unlikely to encode...   \n",
       "4  YAL005C          SSA1  ATPase involved in protein folding and NLS-dir...   \n",
       "\n",
       "  Morgenstern et al. (2017) Dimmer et al. (2002) Luban et al. (2005)  \\\n",
       "0                         0                   nd                  nd   \n",
       "1                         0                    0                   0   \n",
       "2                         0                   nd                  nd   \n",
       "3                         0                    0                   0   \n",
       "4                         0                    0                   0   \n",
       "\n",
       "  Merz & Westermann (2009) this study pet score  \n",
       "0                       nd         nd        nd  \n",
       "1                        0          0         0  \n",
       "2                       nd         nd        nd  \n",
       "3                        0          0         0  \n",
       "4                        0          0         0  "
      ]
     },
     "execution_count": 4,
     "metadata": {},
     "output_type": "execute_result"
    }
   ],
   "source": [
    "df.head()"
   ]
  },
  {
   "cell_type": "markdown",
   "metadata": {},
   "source": [
    "How many genes in total?"
   ]
  },
  {
   "cell_type": "code",
   "execution_count": 5,
   "metadata": {},
   "outputs": [
    {
     "data": {
      "text/plain": [
       "6634"
      ]
     },
     "execution_count": 5,
     "metadata": {},
     "output_type": "execute_result"
    }
   ],
   "source": [
    "len(df)"
   ]
  },
  {
   "cell_type": "markdown",
   "metadata": {},
   "source": [
    "That numbers should read 6634 if all is well. This means there is data on 6634 genes in this comvereted Pandas dataframe.  \n",
    "(Note that when you open the source file in Excel, the last gene is on row number 6635 and the header labels are on row 1 and so 6634 is the total number of genes listed in the Excel file.)"
   ]
  },
  {
   "cell_type": "markdown",
   "metadata": {},
   "source": [
    "For performing filtering on the values in 'pet score' column, we need to convert the 'pet score' column to numeric, changing non-numeric values to `NaN`."
   ]
  },
  {
   "cell_type": "code",
   "execution_count": 6,
   "metadata": {},
   "outputs": [],
   "source": [
    "df['pet score'] = df['pet score'].apply(pd.to_numeric, errors='coerce')"
   ]
  },
  {
   "cell_type": "markdown",
   "metadata": {},
   "source": [
    "Verify the 'pet score' column is now numeric values by looking at the data type of each column. (If this line had been run prior to the `pd.to_numeric` step, it would have read 'object' for that column's data type.)"
   ]
  },
  {
   "cell_type": "code",
   "execution_count": 7,
   "metadata": {},
   "outputs": [
    {
     "data": {
      "text/plain": [
       "ORF                           object\n",
       "standard name                 object\n",
       "description                   object\n",
       "Morgenstern et al. (2017)     object\n",
       "Dimmer et al. (2002)          object\n",
       "Luban et al. (2005)           object\n",
       "Merz & Westermann (2009)      object\n",
       "this study                    object\n",
       "pet score                    float64\n",
       "dtype: object"
      ]
     },
     "execution_count": 7,
     "metadata": {},
     "output_type": "execute_result"
    }
   ],
   "source": [
    "df.dtypes"
   ]
  },
  {
   "cell_type": "markdown",
   "metadata": {},
   "source": [
    "## Collect the systematic gene identifiers for the high confidence pet genes\n",
    "\n",
    ">\"We propose that genes with a pet score higher than 0.5 should be regarded as high confidence pet genes. This definition requires that a high confidence pet mutant has to repeatedly show a respiratory-deficient phenotype, but it does not exclude mutants that yielded one false-negative result. According to this definition there are 254 high confidence pet genes in yeast, 79% of which encode mitochondrial proteins (Tables 1 and S2).\" - from Stenger et al 2020 paper, pg 236 the first fill paragraph of the top right column.\n",
    "\n",
    "So subsetting from Excel file S1 those with a 'pet score' > 0.5 should yield the 254 that are in Table S2 that is embedded in a PDF of other tables of Supplemental data from the paper and not easily mined cleanly by placing the PDF contents in a text file."
   ]
  },
  {
   "cell_type": "code",
   "execution_count": 8,
   "metadata": {},
   "outputs": [],
   "source": [
    "high_confidence_df = df[df[\"pet score\"] > 0.5]"
   ]
  },
  {
   "cell_type": "markdown",
   "metadata": {},
   "source": [
    "If that subset worked well the `high_confidence_df` should be 254 according to Stenger et al., 2020.  \n",
    "Checking that:"
   ]
  },
  {
   "cell_type": "code",
   "execution_count": 9,
   "metadata": {},
   "outputs": [
    {
     "data": {
      "text/plain": [
       "254"
      ]
     },
     "execution_count": 9,
     "metadata": {},
     "output_type": "execute_result"
    }
   ],
   "source": [
    "len(high_confidence_df)"
   ]
  },
  {
   "cell_type": "markdown",
   "metadata": {},
   "source": [
    "Subsetting to the high confidence pet genes worked because see 254 genes as expected. Now we need the systematic identifiers for going to YeastMine to make a list.\n",
    "\n",
    "We'll save that list of systematic gene names corresponding to the 'ORF' column as a file. (I'm going to rename the column to be a clearer name since it will be in header of produced file.)"
   ]
  },
  {
   "cell_type": "code",
   "execution_count": 10,
   "metadata": {},
   "outputs": [],
   "source": [
    "high_confidence_df = high_confidence_df.rename(columns={'ORF':'systematic_gene_name'}) \n",
    "high_confidence_df['systematic_gene_name'].to_csv('high_confidence_pet_genes.tsv', sep='\\t',index = False)"
   ]
  },
  {
   "cell_type": "code",
   "execution_count": null,
   "metadata": {},
   "outputs": [
    {
     "name": "stdout",
     "output_type": "stream",
     "text": [
      ".\n",
      ".\n"
     ]
    }
   ],
   "source": [
    "import time\n",
    "\n",
    "def executeSomething():\n",
    "    #code here\n",
    "    print ('.')\n",
    "    time.sleep(480) #60 seconds times 8 minutes\n",
    "\n",
    "while True:\n",
    "    executeSomething()"
   ]
  },
  {
   "cell_type": "code",
   "execution_count": null,
   "metadata": {},
   "outputs": [],
   "source": []
  }
 ],
 "metadata": {
  "kernelspec": {
   "display_name": "Python 3",
   "language": "python",
   "name": "python3"
  },
  "language_info": {
   "codemirror_mode": {
    "name": "ipython",
    "version": 3
   },
   "file_extension": ".py",
   "mimetype": "text/x-python",
   "name": "python",
   "nbconvert_exporter": "python",
   "pygments_lexer": "ipython3",
   "version": "3.7.8"
  }
 },
 "nbformat": 4,
 "nbformat_minor": 4
}
