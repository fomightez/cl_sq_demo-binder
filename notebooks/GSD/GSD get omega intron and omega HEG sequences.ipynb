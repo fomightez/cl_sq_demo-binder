{
 "cells": [
  {
   "cell_type": "markdown",
   "metadata": {},
   "source": [
    "# GSD: Get S. cerevisiae S288C omega intron and omega HEG sequences\n",
    "\n",
    "Want those so I can detecting when there is evidence for the omega intron, if it has the homing endonuclease [I-SceI](https://www.yeastgenome.org/locus/S000007279/sequence) in it or not. Seems most *paradoxus* don't have the HEG.\n",
    "\n",
    "**Where to run:**\n",
    "\n",
    "* in sessions launched from [here](https://github.com/fomightez/cl_sq_demo-binder)\n",
    "\n",
    "\n",
    "------"
   ]
  },
  {
   "cell_type": "markdown",
   "metadata": {},
   "source": [
    "## Preparation\n",
    "\n",
    "Get my script `get_chromosomal_coordinates_as_FASTA.py`, found [here](https://github.com/fomightez/yeastmine), to use YeastMine to retrieve a sequence for a specified region of a *S. cerevisiae* chromosome."
   ]
  },
  {
   "cell_type": "code",
   "execution_count": 1,
   "metadata": {},
   "outputs": [
    {
     "name": "stdout",
     "output_type": "stream",
     "text": [
      "  % Total    % Received % Xferd  Average Speed   Time    Time     Time  Current\n",
      "                                 Dload  Upload   Total   Spent    Left  Speed\n",
      "100 16021  100 16021    0     0  93145      0 --:--:-- --:--:-- --:--:-- 93145\n"
     ]
    }
   ],
   "source": [
    "# Get the script\n",
    "import os\n",
    "file_needed = \"get_chromosomal_coordinates_as_FASTA.py\"\n",
    "if not os.path.isfile(file_needed):\n",
    "    !curl -OL https://raw.githubusercontent.com/fomightez/yeastmine/master/get_chromosomal_coordinates_as_FASTA.py"
   ]
  },
  {
   "cell_type": "markdown",
   "metadata": {},
   "source": [
    "Get the sequences I need. Used [the page on I-SceI](https://www.yeastgenome.org/locus/S000007279/sequence) and [the page on the omega intron](https://www.yeastgenome.org/locus/S000007288) at SGD for details."
   ]
  },
  {
   "cell_type": "code",
   "execution_count": 2,
   "metadata": {
    "scrolled": true
   },
   "outputs": [
    {
     "name": "stderr",
     "output_type": "stream",
     "text": [
      "Sequence on Watson strand specified...retrieving sequence from chromosome MT...making FASTA formatted entry with retrieved sequence...\n",
      "\n",
      "File of genomic sequence saved as 'S288C_chrMT_60725-61867_genomic.fsa'.\n",
      "Finished.\n"
     ]
    },
    {
     "name": "stdout",
     "output_type": "stream",
     "text": [
      "***Sequence file renamed to S288C_chrMT_omega_intron.fsa.***\r\n"
     ]
    }
   ],
   "source": [
    "# Get the entire omega intron sequene, 60725..61867, of mito sequence\n",
    "%run get_chromosomal_coordinates_as_FASTA.py MT 60725-61867\n",
    "# name sequence something better\n",
    "better_name = \"S288C_chrMT_omega_intron.fsa\"\n",
    "!mv S288C_chrMT_60725-61867_genomic.fsa {better_name}\n",
    "!echo ***Sequence file renamed to {better_name}.***"
   ]
  },
  {
   "cell_type": "code",
   "execution_count": 3,
   "metadata": {},
   "outputs": [
    {
     "name": "stderr",
     "output_type": "stream",
     "text": [
      "Sequence on Watson strand specified...retrieving sequence from chromosome MT...making FASTA formatted entry with retrieved sequence...\n",
      "\n",
      "File of genomic sequence saved as 'S288C_chrMT_61022-61729_genomic.fsa'.\n",
      "Finished.\n"
     ]
    },
    {
     "name": "stdout",
     "output_type": "stream",
     "text": [
      "***Sequence file renamed to S288C_chrMT_omega_intron_HEG.fsa.***\r\n"
     ]
    }
   ],
   "source": [
    "# Get the omega HEG I-SceI , 61022..61729, of mito sequence\n",
    "%run get_chromosomal_coordinates_as_FASTA.py MT 61022-61729\n",
    "# name sequence something better\n",
    "better_name = \"S288C_chrMT_omega_intron_HEG.fsa\"\n",
    "!mv S288C_chrMT_61022-61729_genomic.fsa {better_name}\n",
    "!echo ***Sequence file renamed to {better_name}.***"
   ]
  },
  {
   "cell_type": "code",
   "execution_count": null,
   "metadata": {},
   "outputs": [
    {
     "name": "stdout",
     "output_type": "stream",
     "text": [
      "***Download omega_intron_sequences.tar.gz.***\r\n"
     ]
    }
   ],
   "source": [
    "# put into one file for easy download\n",
    "archive = \"omega_intron_sequences.tar.gz\"\n",
    "!tar czf {archive} S288C_chrMT_omega_intron.fsa S288C_chrMT_omega_intron_HEG.fsa\n",
    "!echo ***Download '{archive}'.***"
   ]
  },
  {
   "cell_type": "markdown",
   "metadata": {},
   "source": [
    "Next need to compare with *paradoxus* omega intron sequences and see where junction is at 5'-end of the HEG-less intron compare with those that have HEG because usually some of sequence flanking the ORF cds for the homing endonuclease is also not seen in those that don't have the endonuclease gene."
   ]
  },
  {
   "cell_type": "code",
   "execution_count": null,
   "metadata": {},
   "outputs": [
    {
     "name": "stdout",
     "output_type": "stream",
     "text": [
      ".\n"
     ]
    }
   ],
   "source": [
    "import time\n",
    "\n",
    "def executeSomething():\n",
    "    #code here\n",
    "    print ('.')\n",
    "    time.sleep(480) #60 seconds times 8 minutes\n",
    "\n",
    "while True:\n",
    "    executeSomething()"
   ]
  },
  {
   "cell_type": "code",
   "execution_count": null,
   "metadata": {},
   "outputs": [],
   "source": []
  }
 ],
 "metadata": {
  "kernelspec": {
   "display_name": "Python 3",
   "language": "python",
   "name": "python3"
  },
  "language_info": {
   "codemirror_mode": {
    "name": "ipython",
    "version": 3
   },
   "file_extension": ".py",
   "mimetype": "text/x-python",
   "name": "python",
   "nbconvert_exporter": "python",
   "pygments_lexer": "ipython3",
   "version": "3.7.2"
  }
 },
 "nbformat": 4,
 "nbformat_minor": 2
}
