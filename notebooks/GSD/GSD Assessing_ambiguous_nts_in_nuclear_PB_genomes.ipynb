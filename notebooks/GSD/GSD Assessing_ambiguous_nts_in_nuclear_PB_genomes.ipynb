{
 "cells": [
  {
   "cell_type": "markdown",
   "metadata": {},
   "source": [
    "# GSD: Assessing ambiguous nts in PB nuclear genomes\n",
    "\n",
    "Checks a collection of PacBio sequenced yeast nuclear genomes from [Yue et al 2017](https://www.ncbi.nlm.nih.gov/pubmed/28416820) ambiguous/gap-representing residues. Comparing to SGD reference sequence from [here](https://downloads.yeastgenome.org/sequence/S288C_reference/chromosomes/fasta/) as well.\n",
    "\n",
    "References for sequence data:  \n",
    "- [Contrasting evolutionary genome dynamics between domesticated and wild yeasts.\n",
    "Yue JX, Li J, Aigrain L, Hallin J, Persson K, Oliver K, Bergström A, Coupland P, Warringer J, Lagomarsino MC, Fischer G, Durbin R, Liti G. Nat Genet. 2017 Jun;49(6):913-924. doi: 10.1038/ng.3847. Epub 2017 Apr 17. PMID: 28416820](https://www.ncbi.nlm.nih.gov/pubmed/28416820)\n",
    "\n",
    "\n",
    "- [Life with 6000 genes. Goffeau A, Barrell BG, Bussey H, Davis RW, Dujon B, Feldmann H, Galibert F, Hoheisel JD, Jacq C, Johnston M, Louis EJ, Mewes HW, Murakami Y, Philippsen P, Tettelin H, Oliver SG. Science. 1996 Oct 25;274(5287):546, 563-7. PMID: 8849441](https://www.ncbi.nlm.nih.gov/pubmed/8849441)\n",
    "\n",
    "-----"
   ]
  },
  {
   "cell_type": "markdown",
   "metadata": {},
   "source": [
    "## Preparation\n",
    "\n",
    "Get scripts and sequence data necessary.\n",
    "\n"
   ]
  },
  {
   "cell_type": "code",
   "execution_count": 1,
   "metadata": {},
   "outputs": [
    {
     "name": "stdout",
     "output_type": "stream",
     "text": [
      "Collecting pyfaidx\n",
      "  Downloading https://files.pythonhosted.org/packages/75/a5/7e2569527b3849ea28d79b4f70d7cf46a47d36459bc59e0efa4e10e8c8b2/pyfaidx-0.5.5.2.tar.gz\n",
      "Requirement already satisfied: six in /srv/conda/lib/python3.6/site-packages (from pyfaidx) (1.12.0)\n",
      "Requirement already satisfied: setuptools>=0.7 in /srv/conda/lib/python3.6/site-packages (from pyfaidx) (40.6.3)\n",
      "Building wheels for collected packages: pyfaidx\n",
      "  Running setup.py bdist_wheel for pyfaidx ... \u001b[?25ldone\n",
      "\u001b[?25h  Stored in directory: /home/jovyan/.cache/pip/wheels/54/a2/b4/e242e58d23b2808e191b214067880faa46cd2341f363886e0b\n",
      "Successfully built pyfaidx\n",
      "Installing collected packages: pyfaidx\n",
      "Successfully installed pyfaidx-0.5.5.2\n"
     ]
    }
   ],
   "source": [
    "!pip install pyfaidx"
   ]
  },
  {
   "cell_type": "markdown",
   "metadata": {},
   "source": [
    "Get the genomes data by running these commands."
   ]
  },
  {
   "cell_type": "code",
   "execution_count": 2,
   "metadata": {},
   "outputs": [
    {
     "name": "stdout",
     "output_type": "stream",
     "text": [
      "  % Total    % Received % Xferd  Average Speed   Time    Time     Time  Current\n",
      "                                 Dload  Upload   Total   Spent    Left  Speed\n",
      "100   178  100   178    0     0   2342      0 --:--:-- --:--:-- --:--:--  2373\n",
      "100 3687k  100 3687k    0     0  9994k      0 --:--:-- --:--:-- --:--:-- 9994k\n",
      "  % Total    % Received % Xferd  Average Speed   Time    Time     Time  Current\n",
      "                                 Dload  Upload   Total   Spent    Left  Speed\n",
      "100   178  100   178    0     0   3122      0 --:--:-- --:--:-- --:--:--  3122\n",
      "100 3387k  100 3387k    0     0  10.5M      0 --:--:-- --:--:-- --:--:-- 15.1M\n",
      "  % Total    % Received % Xferd  Average Speed   Time    Time     Time  Current\n",
      "                                 Dload  Upload   Total   Spent    Left  Speed\n",
      "100   178  100   178    0     0   4045      0 --:--:-- --:--:-- --:--:--  4045\n",
      "100 3348k  100 3348k    0     0  4581k      0 --:--:-- --:--:-- --:--:-- 31.0M\n",
      "  % Total    % Received % Xferd  Average Speed   Time    Time     Time  Current\n",
      "                                 Dload  Upload   Total   Spent    Left  Speed\n",
      "100   178  100   178    0     0   3358      0 --:--:-- --:--:-- --:--:--  3358\n",
      "100 3406k  100 3406k    0     0  7849k      0 --:--:-- --:--:-- --:--:-- 32.1M\n",
      "  % Total    % Received % Xferd  Average Speed   Time    Time     Time  Current\n",
      "                                 Dload  Upload   Total   Spent    Left  Speed\n",
      "100   178  100   178    0     0   4045      0 --:--:-- --:--:-- --:--:--  4045\n",
      "100 3357k  100 3357k    0     0  9964k      0 --:--:-- --:--:-- --:--:-- 9964k\n",
      "  % Total    % Received % Xferd  Average Speed   Time    Time     Time  Current\n",
      "                                 Dload  Upload   Total   Spent    Left  Speed\n",
      "100   178  100   178    0     0   4238      0 --:--:-- --:--:-- --:--:--  4238\n",
      "100 3375k  100 3375k    0     0  10.8M      0 --:--:-- --:--:-- --:--:-- 10.8M\n",
      "  % Total    % Received % Xferd  Average Speed   Time    Time     Time  Current\n",
      "                                 Dload  Upload   Total   Spent    Left  Speed\n",
      "100   178  100   178    0     0   2579      0 --:--:-- --:--:-- --:--:--  2579\n",
      "100 3332k  100 3332k    0     0  11.4M      0 --:--:-- --:--:-- --:--:-- 11.4M\n",
      "  % Total    % Received % Xferd  Average Speed   Time    Time     Time  Current\n",
      "                                 Dload  Upload   Total   Spent    Left  Speed\n",
      "100   178  100   178    0     0   3016      0 --:--:-- --:--:-- --:--:--  3016\n",
      "100 3658k  100 3658k    0     0  11.0M      0 --:--:-- --:--:-- --:--:-- 11.0M\n",
      "  % Total    % Received % Xferd  Average Speed   Time    Time     Time  Current\n",
      "                                 Dload  Upload   Total   Spent    Left  Speed\n",
      "100   178  100   178    0     0   3490      0 --:--:-- --:--:-- --:--:--  3490\n",
      "100 3350k  100 3350k    0     0  12.3M      0 --:--:-- --:--:-- --:--:-- 47.8M\n",
      "  % Total    % Received % Xferd  Average Speed   Time    Time     Time  Current\n",
      "                                 Dload  Upload   Total   Spent    Left  Speed\n",
      "100   178  100   178    0     0   2438      0 --:--:-- --:--:-- --:--:--  2438\n",
      "100 3349k  100 3349k    0     0   9.8M      0 --:--:-- --:--:-- --:--:--  281M\n",
      "  % Total    % Received % Xferd  Average Speed   Time    Time     Time  Current\n",
      "                                 Dload  Upload   Total   Spent    Left  Speed\n",
      "100   178  100   178    0     0   3296      0 --:--:-- --:--:-- --:--:--  3296\n",
      "100 3701k  100 3701k    0     0  7995k      0 --:--:-- --:--:-- --:--:-- 63.2M\n",
      "  % Total    % Received % Xferd  Average Speed   Time    Time     Time  Current\n",
      "                                 Dload  Upload   Total   Spent    Left  Speed\n",
      "100   178  100   178    0     0   3296      0 --:--:-- --:--:-- --:--:--  3296\n",
      "100 3362k  100 3362k    0     0  7912k      0 --:--:-- --:--:-- --:--:-- 39.8M\n"
     ]
    }
   ],
   "source": [
    "import pandas as pd\n",
    "# Prepare for getting PacBio (Yue et al 2017 sequences)\n",
    "#make a list of the strain designations\n",
    "yue_et_al_strains = [\"S288C\",\"DBVPG6044\",\"DBVPG6765\",\"SK1\",\"Y12\",\n",
    "                     \"YPS128\",\"UWOPS034614\",\"CBS432\",\"N44\",\"YPS138\",\n",
    "                     \"UFRJ50816\",\"UWOPS919171\"]\n",
    "# Get & unpack the genome sequences from strains \n",
    "for s in yue_et_al_strains:\n",
    "    !curl -LO http://yjx1217.github.io/Yeast_PacBio_2016/data/Nuclear_Genome/{s}.genome.fa.gz\n",
    "    !gunzip -f {s}.genome.fa.gz"
   ]
  },
  {
   "cell_type": "code",
   "execution_count": 3,
   "metadata": {},
   "outputs": [
    {
     "name": "stderr",
     "output_type": "stream",
     "text": [
      "\n",
      "S288C.genome.fa chromosome identifiers tagged.\n",
      "DBVPG6044.genome.fa chromosome identifiers tagged.\n",
      "DBVPG6765.genome.fa chromosome identifiers tagged.\n",
      "SK1.genome.fa chromosome identifiers tagged.\n",
      "Y12.genome.fa chromosome identifiers tagged.\n",
      "YPS128.genome.fa chromosome identifiers tagged.\n",
      "UWOPS034614.genome.fa chromosome identifiers tagged.\n",
      "CBS432.genome.fa chromosome identifiers tagged.\n",
      "N44.genome.fa chromosome identifiers tagged.\n",
      "YPS138.genome.fa chromosome identifiers tagged.\n",
      "UFRJ50816.genome.fa chromosome identifiers tagged.\n",
      "UWOPS919171.genome.fa chromosome identifiers tagged."
     ]
    }
   ],
   "source": [
    "# add identifiers to each `chr` so results for each strain clear later\n",
    "chromosome_id_prefix = \"chr\"\n",
    "def add_strain_id_to_description_line(file,strain_id):\n",
    "    '''\n",
    "    Takes a file and edits every description line to add \n",
    "    strain_id after the caret.\n",
    "    \n",
    "    Saves the fixed file\n",
    "    '''\n",
    "    import sys\n",
    "    output_file_name = \"temp.txt\"\n",
    "    # prepare output file for saving so it will be open and ready\n",
    "    with open(output_file_name, 'w') as output_file:\n",
    "\n",
    "        # read in the input file\n",
    "        with open(file, 'r') as input_handler:\n",
    "            # prepare to give feeback later or allow skipping to certain start\n",
    "            lines_processed = 0\n",
    "\n",
    "            for line in input_handler:\n",
    "                lines_processed += 1\n",
    "                if line.startswith(\">\"):\n",
    "                    rest_o_line = line.split(\">\")\n",
    "                    new_line = \">\"+strain_id + rest_o_line[1]\n",
    "                else:\n",
    "                    new_line = line\n",
    "                \n",
    "                # Send text to output\n",
    "                output_file.write(new_line)\n",
    "\n",
    "    \n",
    "    # replace the original file with edited\n",
    "    !mv temp.txt {file}\n",
    "    # Feedback\n",
    "    sys.stderr.write(\"\\n{} chromosome identifiers tagged.\".format(file))\n",
    "\n",
    "for s in yue_et_al_strains:\n",
    "    add_strain_id_to_description_line(s+\".genome.fa\",s)"
   ]
  },
  {
   "cell_type": "code",
   "execution_count": 4,
   "metadata": {},
   "outputs": [
    {
     "name": "stdout",
     "output_type": "stream",
     "text": [
      "  % Total    % Received % Xferd  Average Speed   Time    Time     Time  Current\n",
      "                                 Dload  Upload   Total   Spent    Left  Speed\n",
      "100  228k  100  228k    0     0   494k      0 --:--:-- --:--:-- --:--:--  493k\n"
     ]
    },
    {
     "name": "stderr",
     "output_type": "stream",
     "text": [
      "\n",
      "chr01.fsa chromosome identifiers tagged."
     ]
    },
    {
     "name": "stdout",
     "output_type": "stream",
     "text": [
      "  % Total    % Received % Xferd  Average Speed   Time    Time     Time  Current\n",
      "                                 Dload  Upload   Total   Spent    Left  Speed\n",
      "100  807k  100  807k    0     0  1860k      0 --:--:-- --:--:-- --:--:-- 1860k\n"
     ]
    },
    {
     "name": "stderr",
     "output_type": "stream",
     "text": [
      "\n",
      "chr02.fsa chromosome identifiers tagged."
     ]
    },
    {
     "name": "stdout",
     "output_type": "stream",
     "text": [
      "  % Total    % Received % Xferd  Average Speed   Time    Time     Time  Current\n",
      "                                 Dload  Upload   Total   Spent    Left  Speed\n",
      "100  314k  100  314k    0     0   831k      0 --:--:-- --:--:-- --:--:--  829k\n"
     ]
    },
    {
     "name": "stderr",
     "output_type": "stream",
     "text": [
      "\n",
      "chr03.fsa chromosome identifiers tagged."
     ]
    },
    {
     "name": "stdout",
     "output_type": "stream",
     "text": [
      "  % Total    % Received % Xferd  Average Speed   Time    Time     Time  Current\n",
      "                                 Dload  Upload   Total   Spent    Left  Speed\n",
      "100 1521k  100 1521k    0     0  3116k      0 --:--:-- --:--:-- --:--:-- 3116k\n"
     ]
    },
    {
     "name": "stderr",
     "output_type": "stream",
     "text": [
      "\n",
      "chr04.fsa chromosome identifiers tagged."
     ]
    },
    {
     "name": "stdout",
     "output_type": "stream",
     "text": [
      "  % Total    % Received % Xferd  Average Speed   Time    Time     Time  Current\n",
      "                                 Dload  Upload   Total   Spent    Left  Speed\n",
      "100  572k  100  572k    0     0  1181k      0 --:--:-- --:--:-- --:--:-- 1181k\n"
     ]
    },
    {
     "name": "stderr",
     "output_type": "stream",
     "text": [
      "\n",
      "chr05.fsa chromosome identifiers tagged."
     ]
    },
    {
     "name": "stdout",
     "output_type": "stream",
     "text": [
      "  % Total    % Received % Xferd  Average Speed   Time    Time     Time  Current\n",
      "                                 Dload  Upload   Total   Spent    Left  Speed\n",
      "100  268k  100  268k    0     0   704k      0 --:--:-- --:--:-- --:--:--  704k\n"
     ]
    },
    {
     "name": "stderr",
     "output_type": "stream",
     "text": [
      "\n",
      "chr06.fsa chromosome identifiers tagged."
     ]
    },
    {
     "name": "stdout",
     "output_type": "stream",
     "text": [
      "  % Total    % Received % Xferd  Average Speed   Time    Time     Time  Current\n",
      "                                 Dload  Upload   Total   Spent    Left  Speed\n",
      "100 1083k  100 1083k    0     0  2115k      0 --:--:-- --:--:-- --:--:-- 2115k\n"
     ]
    },
    {
     "name": "stderr",
     "output_type": "stream",
     "text": [
      "\n",
      "chr07.fsa chromosome identifiers tagged."
     ]
    },
    {
     "name": "stdout",
     "output_type": "stream",
     "text": [
      "  % Total    % Received % Xferd  Average Speed   Time    Time     Time  Current\n",
      "                                 Dload  Upload   Total   Spent    Left  Speed\n",
      "100  558k  100  558k    0     0  1302k      0 --:--:-- --:--:-- --:--:-- 1302k\n"
     ]
    },
    {
     "name": "stderr",
     "output_type": "stream",
     "text": [
      "\n",
      "chr08.fsa chromosome identifiers tagged."
     ]
    },
    {
     "name": "stdout",
     "output_type": "stream",
     "text": [
      "  % Total    % Received % Xferd  Average Speed   Time    Time     Time  Current\n",
      "                                 Dload  Upload   Total   Spent    Left  Speed\n",
      "100  436k  100  436k    0     0  1060k      0 --:--:-- --:--:-- --:--:-- 1057k\n"
     ]
    },
    {
     "name": "stderr",
     "output_type": "stream",
     "text": [
      "\n",
      "chr09.fsa chromosome identifiers tagged."
     ]
    },
    {
     "name": "stdout",
     "output_type": "stream",
     "text": [
      "  % Total    % Received % Xferd  Average Speed   Time    Time     Time  Current\n",
      "                                 Dload  Upload   Total   Spent    Left  Speed\n",
      "100  740k  100  740k    0     0  1656k      0 --:--:-- --:--:-- --:--:-- 1656k\n"
     ]
    },
    {
     "name": "stderr",
     "output_type": "stream",
     "text": [
      "\n",
      "chr10.fsa chromosome identifiers tagged."
     ]
    },
    {
     "name": "stdout",
     "output_type": "stream",
     "text": [
      "  % Total    % Received % Xferd  Average Speed   Time    Time     Time  Current\n",
      "                                 Dload  Upload   Total   Spent    Left  Speed\n",
      "100  662k  100  662k    0     0  1599k      0 --:--:-- --:--:-- --:--:-- 1599k\n"
     ]
    },
    {
     "name": "stderr",
     "output_type": "stream",
     "text": [
      "\n",
      "chr11.fsa chromosome identifiers tagged."
     ]
    },
    {
     "name": "stdout",
     "output_type": "stream",
     "text": [
      "  % Total    % Received % Xferd  Average Speed   Time    Time     Time  Current\n",
      "                                 Dload  Upload   Total   Spent    Left  Speed\n",
      "100 1070k  100 1070k    0     0  2384k      0 --:--:-- --:--:-- --:--:-- 2379k\n"
     ]
    },
    {
     "name": "stderr",
     "output_type": "stream",
     "text": [
      "\n",
      "chr12.fsa chromosome identifiers tagged."
     ]
    },
    {
     "name": "stdout",
     "output_type": "stream",
     "text": [
      "  % Total    % Received % Xferd  Average Speed   Time    Time     Time  Current\n",
      "                                 Dload  Upload   Total   Spent    Left  Speed\n",
      "100  917k  100  917k    0     0  1904k      0 --:--:-- --:--:-- --:--:-- 1904k\n"
     ]
    },
    {
     "name": "stderr",
     "output_type": "stream",
     "text": [
      "\n",
      "chr13.fsa chromosome identifiers tagged."
     ]
    },
    {
     "name": "stdout",
     "output_type": "stream",
     "text": [
      "  % Total    % Received % Xferd  Average Speed   Time    Time     Time  Current\n",
      "                                 Dload  Upload   Total   Spent    Left  Speed\n",
      "100  778k  100  778k    0     0  1854k      0 --:--:-- --:--:-- --:--:-- 1849k\n"
     ]
    },
    {
     "name": "stderr",
     "output_type": "stream",
     "text": [
      "\n",
      "chr14.fsa chromosome identifiers tagged."
     ]
    },
    {
     "name": "stdout",
     "output_type": "stream",
     "text": [
      "  % Total    % Received % Xferd  Average Speed   Time    Time     Time  Current\n",
      "                                 Dload  Upload   Total   Spent    Left  Speed\n",
      "100 1083k  100 1083k    0     0  2360k      0 --:--:-- --:--:-- --:--:-- 2360k\n"
     ]
    },
    {
     "name": "stderr",
     "output_type": "stream",
     "text": [
      "\n",
      "chr15.fsa chromosome identifiers tagged."
     ]
    },
    {
     "name": "stdout",
     "output_type": "stream",
     "text": [
      "  % Total    % Received % Xferd  Average Speed   Time    Time     Time  Current\n",
      "                                 Dload  Upload   Total   Spent    Left  Speed\n",
      "100  941k  100  941k    0     0  2046k      0 --:--:-- --:--:-- --:--:-- 2046k\n"
     ]
    },
    {
     "name": "stderr",
     "output_type": "stream",
     "text": [
      "\n",
      "chr16.fsa chromosome identifiers tagged."
     ]
    }
   ],
   "source": [
    "# Cannot simply use `S288C_reference_sequence_R64-2-1_20150113.fsa` at https://downloads.yeastgenome.org/sequence/S288C_reference/genome_releases/S288C_reference_genome_Current_Release.tgz\n",
    "# because want nuclear only sequences here to match nuclear ones I obtaiend from \n",
    "# https://yjx1217.github.io/Yeast_PacBio_2016/data/, \n",
    "# where they keep nuclear and genome separate\n",
    "chr_nums = [\"01\",\"02\",\"03\",\"04\",\"05\",\"06\",\"07\",\"08\",\"09\",\"10\",\"11\",\n",
    "    \"12\",\"13\",\"14\",\"15\",\"16\"]\n",
    "g_fns = []\n",
    "for chr_num in chr_nums:\n",
    "    fn = \"chr\"+chr_num+\".fsa\"\n",
    "    !curl -OL https://downloads.yeastgenome.org/sequence/S288C_reference/chromosomes/fasta/{fn}\n",
    "    g_fns.append(fn)\n",
    "    # edit or replace description lines to work similar to PacBio\n",
    "    tag = \"SGD_REFchr\"+chr_num+\" \"\n",
    "    add_strain_id_to_description_line(fn,tag)\n",
    "# zip all nuclear chromosomes together as one file as they are from https://yjx1217.github.io/Yeast_PacBio_2016/data/\n",
    "!cat {\" \".join(g_fns)} > SGD_REF.genome.fa\n",
    "!rm chr*.fsa"
   ]
  },
  {
   "cell_type": "markdown",
   "metadata": {},
   "source": [
    "*FOR RELATED WORK:For keeping contents consistent, when switching to comparing Yue et al, 2017 set to the 1011 genomes set, I should add the PacBio-sequences mitochondrial genomes back in because they are among the 1011 genomes set. Plan is to do this in `GSD Assessing_ambiguous_nts_in_complete_PB_genomes.ipynb`.*"
   ]
  },
  {
   "cell_type": "code",
   "execution_count": 5,
   "metadata": {},
   "outputs": [
    {
     "data": {
      "text/plain": [
       "['DBVPG6044.genome.fa',\n",
       " 'SGD_REF.genome.fa',\n",
       " 'DBVPG6765.genome.fa',\n",
       " 'CBS432.genome.fa',\n",
       " 'YPS128.genome.fa',\n",
       " 'UFRJ50816.genome.fa',\n",
       " 'S288C.genome.fa',\n",
       " 'SK1.genome.fa',\n",
       " 'UWOPS034614.genome.fa',\n",
       " 'UWOPS919171.genome.fa',\n",
       " 'YPS138.genome.fa',\n",
       " 'N44.genome.fa',\n",
       " 'Y12.genome.fa']"
      ]
     },
     "execution_count": 5,
     "metadata": {},
     "output_type": "execute_result"
    }
   ],
   "source": [
    "# Make a list of all `genome.fa` files, excluding `genome.fa.nhr` and `genome.fa.nin` and `genome.fansq`\n",
    "# The excluding was only necessary because I had run some BLAST queries preiminarily in development. Normally, \n",
    "# it would just be the `.re.fa` at the outset. (But keeping because removal ability could be useful.)\n",
    "fn_to_check = \"genome.fa\" \n",
    "genomes = []\n",
    "import os\n",
    "import fnmatch\n",
    "for file in os.listdir('.'):\n",
    "    if fnmatch.fnmatch(file, '*'+fn_to_check):\n",
    "        if not file.endswith(\".nhr\") and not file.endswith(\".nin\") and not file.endswith(\".nsq\") :\n",
    "            genomes.append(file)\n",
    "genomes"
   ]
  },
  {
   "cell_type": "markdown",
   "metadata": {},
   "source": [
    "\n",
    "Now you are prepared to analyze each PacBio-sequenced genome."
   ]
  },
  {
   "cell_type": "markdown",
   "metadata": {},
   "source": [
    "## Assessing the genomes in regards to stretches of N base calls\n",
    "\n",
    "### Total number of Ns present"
   ]
  },
  {
   "cell_type": "code",
   "execution_count": 6,
   "metadata": {},
   "outputs": [
    {
     "name": "stdout",
     "output_type": "stream",
     "text": [
      "There are occurences of N in DBVPG6044.genome.fa.\n",
      "No ambiguous nucleotides or gaps in SGD_REF.genome.fa.\n",
      "There are occurences of N in DBVPG6765.genome.fa.\n",
      "There are occurences of N in CBS432.genome.fa.\n",
      "There are occurences of N in YPS128.genome.fa.\n",
      "There are occurences of N in UFRJ50816.genome.fa.\n",
      "There are occurences of N in S288C.genome.fa.\n",
      "There are occurences of N in SK1.genome.fa.\n",
      "There are occurences of N in UWOPS034614.genome.fa.\n",
      "There are occurences of N in UWOPS919171.genome.fa.\n",
      "There are occurences of N in YPS138.genome.fa.\n",
      "There are occurences of N in N44.genome.fa.\n",
      "There are occurences of N in Y12.genome.fa.\n"
     ]
    }
   ],
   "source": [
    "from pyfaidx import Fasta\n",
    "query = \"N\"\n",
    "#query = \"X\"\n",
    "#query = \"A\" # CONTROL. should occur!\n",
    "for g in genomes:\n",
    "    chrs = Fasta(g)\n",
    "    ambiguous = []\n",
    "    for x in chrs:\n",
    "        #print(x.name)\n",
    "        if query in str(x):\n",
    "            ambiguous.append(x.name)\n",
    "    #print(ambiguous)\n",
    "    if not ambiguous:\n",
    "        print (\"No ambiguous nucleotides or gaps in {}.\".format(g))\n",
    "    else:\n",
    "        print(\"There are occurences of {} in {}.\".format(query,g))"
   ]
  },
  {
   "cell_type": "markdown",
   "metadata": {},
   "source": [
    "Another way to assess, just count all the letters present:"
   ]
  },
  {
   "cell_type": "code",
   "execution_count": 7,
   "metadata": {},
   "outputs": [
    {
     "name": "stdout",
     "output_type": "stream",
     "text": [
      "CPU times: user 11.5 s, sys: 0 ns, total: 11.5 s\n",
      "Wall time: 11.7 s\n"
     ]
    }
   ],
   "source": [
    "%%time\n",
    "from pyfaidx import Fasta\n",
    "import pandas as pd\n",
    "import collections\n",
    "nt_counts = {}\n",
    "for g in genomes:\n",
    "    strain_id = g.split(\".genome.fa\")[0]\n",
    "    concatenated_seqs = \"\"\n",
    "    chrs = Fasta(g)\n",
    "    for x in chrs:\n",
    "        #print(x.name)\n",
    "        concatenated_seqs += str(x)\n",
    "    nt_counts[strain_id] = collections.Counter(concatenated_seqs)\n",
    "nt_count_df = pd.DataFrame.from_dict(nt_counts, orient='index').fillna(0)\n",
    "nt_count_df[\"Total_nts\"] = nt_count_df.sum(1)\n",
    "def percent_calc(items):\n",
    "    '''\n",
    "    takes a list of two items and calculates percentage of first item\n",
    "    within total (second item)\n",
    "    '''\n",
    "    return items[0]/items[1]\n",
    "nt_count_df['% N'] = nt_count_df[['N','Total_nts']].apply(percent_calc, axis=1)\n",
    "nt_count_df = nt_count_df.style.format({'Total_nts':'{:.2E}','% N':'{:.2%}'})"
   ]
  },
  {
   "cell_type": "code",
   "execution_count": 8,
   "metadata": {},
   "outputs": [
    {
     "data": {
      "text/html": [
       "<style  type=\"text/css\" >\n",
       "</style>  \n",
       "<table id=\"T_b4bedb44_1233_11e9_a02c_fae8e12a76b4\" > \n",
       "<thead>    <tr> \n",
       "        <th class=\"blank level0\" ></th> \n",
       "        <th class=\"col_heading level0 col0\" >A</th> \n",
       "        <th class=\"col_heading level0 col1\" >G</th> \n",
       "        <th class=\"col_heading level0 col2\" >T</th> \n",
       "        <th class=\"col_heading level0 col3\" >C</th> \n",
       "        <th class=\"col_heading level0 col4\" >N</th> \n",
       "        <th class=\"col_heading level0 col5\" >Total_nts</th> \n",
       "        <th class=\"col_heading level0 col6\" >% N</th> \n",
       "    </tr></thead> \n",
       "<tbody>    <tr> \n",
       "        <th id=\"T_b4bedb44_1233_11e9_a02c_fae8e12a76b4level0_row0\" class=\"row_heading level0 row0\" >CBS432</th> \n",
       "        <td id=\"T_b4bedb44_1233_11e9_a02c_fae8e12a76b4row0_col0\" class=\"data row0 col0\" >3683966</td> \n",
       "        <td id=\"T_b4bedb44_1233_11e9_a02c_fae8e12a76b4row0_col1\" class=\"data row0 col1\" >2322732</td> \n",
       "        <td id=\"T_b4bedb44_1233_11e9_a02c_fae8e12a76b4row0_col2\" class=\"data row0 col2\" >3675728</td> \n",
       "        <td id=\"T_b4bedb44_1233_11e9_a02c_fae8e12a76b4row0_col3\" class=\"data row0 col3\" >2321545</td> \n",
       "        <td id=\"T_b4bedb44_1233_11e9_a02c_fae8e12a76b4row0_col4\" class=\"data row0 col4\" >17357</td> \n",
       "        <td id=\"T_b4bedb44_1233_11e9_a02c_fae8e12a76b4row0_col5\" class=\"data row0 col5\" >1.20E+07</td> \n",
       "        <td id=\"T_b4bedb44_1233_11e9_a02c_fae8e12a76b4row0_col6\" class=\"data row0 col6\" >0.14%</td> \n",
       "    </tr>    <tr> \n",
       "        <th id=\"T_b4bedb44_1233_11e9_a02c_fae8e12a76b4level0_row1\" class=\"row_heading level0 row1\" >DBVPG6044</th> \n",
       "        <td id=\"T_b4bedb44_1233_11e9_a02c_fae8e12a76b4row1_col0\" class=\"data row1 col0\" >3689297</td> \n",
       "        <td id=\"T_b4bedb44_1233_11e9_a02c_fae8e12a76b4row1_col1\" class=\"data row1 col1\" >2285884</td> \n",
       "        <td id=\"T_b4bedb44_1233_11e9_a02c_fae8e12a76b4row1_col2\" class=\"data row1 col2\" >3677723</td> \n",
       "        <td id=\"T_b4bedb44_1233_11e9_a02c_fae8e12a76b4row1_col3\" class=\"data row1 col3\" >2287780</td> \n",
       "        <td id=\"T_b4bedb44_1233_11e9_a02c_fae8e12a76b4row1_col4\" class=\"data row1 col4\" >17357</td> \n",
       "        <td id=\"T_b4bedb44_1233_11e9_a02c_fae8e12a76b4row1_col5\" class=\"data row1 col5\" >1.20E+07</td> \n",
       "        <td id=\"T_b4bedb44_1233_11e9_a02c_fae8e12a76b4row1_col6\" class=\"data row1 col6\" >0.15%</td> \n",
       "    </tr>    <tr> \n",
       "        <th id=\"T_b4bedb44_1233_11e9_a02c_fae8e12a76b4level0_row2\" class=\"row_heading level0 row2\" >DBVPG6765</th> \n",
       "        <td id=\"T_b4bedb44_1233_11e9_a02c_fae8e12a76b4row2_col0\" class=\"data row2 col0\" >3647252</td> \n",
       "        <td id=\"T_b4bedb44_1233_11e9_a02c_fae8e12a76b4row2_col1\" class=\"data row2 col1\" >2258080</td> \n",
       "        <td id=\"T_b4bedb44_1233_11e9_a02c_fae8e12a76b4row2_col2\" class=\"data row2 col2\" >3632750</td> \n",
       "        <td id=\"T_b4bedb44_1233_11e9_a02c_fae8e12a76b4row2_col3\" class=\"data row2 col3\" >2257749</td> \n",
       "        <td id=\"T_b4bedb44_1233_11e9_a02c_fae8e12a76b4row2_col4\" class=\"data row2 col4\" >17357</td> \n",
       "        <td id=\"T_b4bedb44_1233_11e9_a02c_fae8e12a76b4row2_col5\" class=\"data row2 col5\" >1.18E+07</td> \n",
       "        <td id=\"T_b4bedb44_1233_11e9_a02c_fae8e12a76b4row2_col6\" class=\"data row2 col6\" >0.15%</td> \n",
       "    </tr>    <tr> \n",
       "        <th id=\"T_b4bedb44_1233_11e9_a02c_fae8e12a76b4level0_row3\" class=\"row_heading level0 row3\" >N44</th> \n",
       "        <td id=\"T_b4bedb44_1233_11e9_a02c_fae8e12a76b4row3_col0\" class=\"data row3 col0\" >3620330</td> \n",
       "        <td id=\"T_b4bedb44_1233_11e9_a02c_fae8e12a76b4row3_col1\" class=\"data row3 col1\" >2278564</td> \n",
       "        <td id=\"T_b4bedb44_1233_11e9_a02c_fae8e12a76b4row3_col2\" class=\"data row3 col2\" >3617409</td> \n",
       "        <td id=\"T_b4bedb44_1233_11e9_a02c_fae8e12a76b4row3_col3\" class=\"data row3 col3\" >2278029</td> \n",
       "        <td id=\"T_b4bedb44_1233_11e9_a02c_fae8e12a76b4row3_col4\" class=\"data row3 col4\" >17357</td> \n",
       "        <td id=\"T_b4bedb44_1233_11e9_a02c_fae8e12a76b4row3_col5\" class=\"data row3 col5\" >1.18E+07</td> \n",
       "        <td id=\"T_b4bedb44_1233_11e9_a02c_fae8e12a76b4row3_col6\" class=\"data row3 col6\" >0.15%</td> \n",
       "    </tr>    <tr> \n",
       "        <th id=\"T_b4bedb44_1233_11e9_a02c_fae8e12a76b4level0_row4\" class=\"row_heading level0 row4\" >S288C</th> \n",
       "        <td id=\"T_b4bedb44_1233_11e9_a02c_fae8e12a76b4row4_col0\" class=\"data row4 col0\" >3752659</td> \n",
       "        <td id=\"T_b4bedb44_1233_11e9_a02c_fae8e12a76b4row4_col1\" class=\"data row4 col1\" >2323469</td> \n",
       "        <td id=\"T_b4bedb44_1233_11e9_a02c_fae8e12a76b4row4_col2\" class=\"data row4 col2\" >3738132</td> \n",
       "        <td id=\"T_b4bedb44_1233_11e9_a02c_fae8e12a76b4row4_col3\" class=\"data row4 col3\" >2325532</td> \n",
       "        <td id=\"T_b4bedb44_1233_11e9_a02c_fae8e12a76b4row4_col4\" class=\"data row4 col4\" >17357</td> \n",
       "        <td id=\"T_b4bedb44_1233_11e9_a02c_fae8e12a76b4row4_col5\" class=\"data row4 col5\" >1.22E+07</td> \n",
       "        <td id=\"T_b4bedb44_1233_11e9_a02c_fae8e12a76b4row4_col6\" class=\"data row4 col6\" >0.14%</td> \n",
       "    </tr>    <tr> \n",
       "        <th id=\"T_b4bedb44_1233_11e9_a02c_fae8e12a76b4level0_row5\" class=\"row_heading level0 row5\" >SGD_REF</th> \n",
       "        <td id=\"T_b4bedb44_1233_11e9_a02c_fae8e12a76b4row5_col0\" class=\"data row5 col0\" >3730180</td> \n",
       "        <td id=\"T_b4bedb44_1233_11e9_a02c_fae8e12a76b4row5_col1\" class=\"data row5 col1\" >2309287</td> \n",
       "        <td id=\"T_b4bedb44_1233_11e9_a02c_fae8e12a76b4row5_col2\" class=\"data row5 col2\" >3718146</td> \n",
       "        <td id=\"T_b4bedb44_1233_11e9_a02c_fae8e12a76b4row5_col3\" class=\"data row5 col3\" >2313713</td> \n",
       "        <td id=\"T_b4bedb44_1233_11e9_a02c_fae8e12a76b4row5_col4\" class=\"data row5 col4\" >0</td> \n",
       "        <td id=\"T_b4bedb44_1233_11e9_a02c_fae8e12a76b4row5_col5\" class=\"data row5 col5\" >1.21E+07</td> \n",
       "        <td id=\"T_b4bedb44_1233_11e9_a02c_fae8e12a76b4row5_col6\" class=\"data row5 col6\" >0.00%</td> \n",
       "    </tr>    <tr> \n",
       "        <th id=\"T_b4bedb44_1233_11e9_a02c_fae8e12a76b4level0_row6\" class=\"row_heading level0 row6\" >SK1</th> \n",
       "        <td id=\"T_b4bedb44_1233_11e9_a02c_fae8e12a76b4row6_col0\" class=\"data row6 col0\" >3719655</td> \n",
       "        <td id=\"T_b4bedb44_1233_11e9_a02c_fae8e12a76b4row6_col1\" class=\"data row6 col1\" >2307796</td> \n",
       "        <td id=\"T_b4bedb44_1233_11e9_a02c_fae8e12a76b4row6_col2\" class=\"data row6 col2\" >3707198</td> \n",
       "        <td id=\"T_b4bedb44_1233_11e9_a02c_fae8e12a76b4row6_col3\" class=\"data row6 col3\" >2311279</td> \n",
       "        <td id=\"T_b4bedb44_1233_11e9_a02c_fae8e12a76b4row6_col4\" class=\"data row6 col4\" >17357</td> \n",
       "        <td id=\"T_b4bedb44_1233_11e9_a02c_fae8e12a76b4row6_col5\" class=\"data row6 col5\" >1.21E+07</td> \n",
       "        <td id=\"T_b4bedb44_1233_11e9_a02c_fae8e12a76b4row6_col6\" class=\"data row6 col6\" >0.14%</td> \n",
       "    </tr>    <tr> \n",
       "        <th id=\"T_b4bedb44_1233_11e9_a02c_fae8e12a76b4level0_row7\" class=\"row_heading level0 row7\" >UFRJ50816</th> \n",
       "        <td id=\"T_b4bedb44_1233_11e9_a02c_fae8e12a76b4row7_col0\" class=\"data row7 col0\" >3735782</td> \n",
       "        <td id=\"T_b4bedb44_1233_11e9_a02c_fae8e12a76b4row7_col1\" class=\"data row7 col1\" >2326900</td> \n",
       "        <td id=\"T_b4bedb44_1233_11e9_a02c_fae8e12a76b4row7_col2\" class=\"data row7 col2\" >3732052</td> \n",
       "        <td id=\"T_b4bedb44_1233_11e9_a02c_fae8e12a76b4row7_col3\" class=\"data row7 col3\" >2325192</td> \n",
       "        <td id=\"T_b4bedb44_1233_11e9_a02c_fae8e12a76b4row7_col4\" class=\"data row7 col4\" >17357</td> \n",
       "        <td id=\"T_b4bedb44_1233_11e9_a02c_fae8e12a76b4row7_col5\" class=\"data row7 col5\" >1.21E+07</td> \n",
       "        <td id=\"T_b4bedb44_1233_11e9_a02c_fae8e12a76b4row7_col6\" class=\"data row7 col6\" >0.14%</td> \n",
       "    </tr>    <tr> \n",
       "        <th id=\"T_b4bedb44_1233_11e9_a02c_fae8e12a76b4level0_row8\" class=\"row_heading level0 row8\" >UWOPS034614</th> \n",
       "        <td id=\"T_b4bedb44_1233_11e9_a02c_fae8e12a76b4row8_col0\" class=\"data row8 col0\" >3620938</td> \n",
       "        <td id=\"T_b4bedb44_1233_11e9_a02c_fae8e12a76b4row8_col1\" class=\"data row8 col1\" >2245047</td> \n",
       "        <td id=\"T_b4bedb44_1233_11e9_a02c_fae8e12a76b4row8_col2\" class=\"data row8 col2\" >3622509</td> \n",
       "        <td id=\"T_b4bedb44_1233_11e9_a02c_fae8e12a76b4row8_col3\" class=\"data row8 col3\" >2241495</td> \n",
       "        <td id=\"T_b4bedb44_1233_11e9_a02c_fae8e12a76b4row8_col4\" class=\"data row8 col4\" >17357</td> \n",
       "        <td id=\"T_b4bedb44_1233_11e9_a02c_fae8e12a76b4row8_col5\" class=\"data row8 col5\" >1.17E+07</td> \n",
       "        <td id=\"T_b4bedb44_1233_11e9_a02c_fae8e12a76b4row8_col6\" class=\"data row8 col6\" >0.15%</td> \n",
       "    </tr>    <tr> \n",
       "        <th id=\"T_b4bedb44_1233_11e9_a02c_fae8e12a76b4level0_row9\" class=\"row_heading level0 row9\" >UWOPS919171</th> \n",
       "        <td id=\"T_b4bedb44_1233_11e9_a02c_fae8e12a76b4row9_col0\" class=\"data row9 col0\" >3652729</td> \n",
       "        <td id=\"T_b4bedb44_1233_11e9_a02c_fae8e12a76b4row9_col1\" class=\"data row9 col1\" >2270324</td> \n",
       "        <td id=\"T_b4bedb44_1233_11e9_a02c_fae8e12a76b4row9_col2\" class=\"data row9 col2\" >3646729</td> \n",
       "        <td id=\"T_b4bedb44_1233_11e9_a02c_fae8e12a76b4row9_col3\" class=\"data row9 col3\" >2269479</td> \n",
       "        <td id=\"T_b4bedb44_1233_11e9_a02c_fae8e12a76b4row9_col4\" class=\"data row9 col4\" >17357</td> \n",
       "        <td id=\"T_b4bedb44_1233_11e9_a02c_fae8e12a76b4row9_col5\" class=\"data row9 col5\" >1.19E+07</td> \n",
       "        <td id=\"T_b4bedb44_1233_11e9_a02c_fae8e12a76b4row9_col6\" class=\"data row9 col6\" >0.15%</td> \n",
       "    </tr>    <tr> \n",
       "        <th id=\"T_b4bedb44_1233_11e9_a02c_fae8e12a76b4level0_row10\" class=\"row_heading level0 row10\" >Y12</th> \n",
       "        <td id=\"T_b4bedb44_1233_11e9_a02c_fae8e12a76b4row10_col0\" class=\"data row10 col0\" >3664986</td> \n",
       "        <td id=\"T_b4bedb44_1233_11e9_a02c_fae8e12a76b4row10_col1\" class=\"data row10 col1\" >2270987</td> \n",
       "        <td id=\"T_b4bedb44_1233_11e9_a02c_fae8e12a76b4row10_col2\" class=\"data row10 col2\" >3657730</td> \n",
       "        <td id=\"T_b4bedb44_1233_11e9_a02c_fae8e12a76b4row10_col3\" class=\"data row10 col3\" >2270087</td> \n",
       "        <td id=\"T_b4bedb44_1233_11e9_a02c_fae8e12a76b4row10_col4\" class=\"data row10 col4\" >17357</td> \n",
       "        <td id=\"T_b4bedb44_1233_11e9_a02c_fae8e12a76b4row10_col5\" class=\"data row10 col5\" >1.19E+07</td> \n",
       "        <td id=\"T_b4bedb44_1233_11e9_a02c_fae8e12a76b4row10_col6\" class=\"data row10 col6\" >0.15%</td> \n",
       "    </tr>    <tr> \n",
       "        <th id=\"T_b4bedb44_1233_11e9_a02c_fae8e12a76b4level0_row11\" class=\"row_heading level0 row11\" >YPS128</th> \n",
       "        <td id=\"T_b4bedb44_1233_11e9_a02c_fae8e12a76b4row11_col0\" class=\"data row11 col0\" >3672962</td> \n",
       "        <td id=\"T_b4bedb44_1233_11e9_a02c_fae8e12a76b4row11_col1\" class=\"data row11 col1\" >2279727</td> \n",
       "        <td id=\"T_b4bedb44_1233_11e9_a02c_fae8e12a76b4row11_col2\" class=\"data row11 col2\" >3663303</td> \n",
       "        <td id=\"T_b4bedb44_1233_11e9_a02c_fae8e12a76b4row11_col3\" class=\"data row11 col3\" >2277125</td> \n",
       "        <td id=\"T_b4bedb44_1233_11e9_a02c_fae8e12a76b4row11_col4\" class=\"data row11 col4\" >17357</td> \n",
       "        <td id=\"T_b4bedb44_1233_11e9_a02c_fae8e12a76b4row11_col5\" class=\"data row11 col5\" >1.19E+07</td> \n",
       "        <td id=\"T_b4bedb44_1233_11e9_a02c_fae8e12a76b4row11_col6\" class=\"data row11 col6\" >0.15%</td> \n",
       "    </tr>    <tr> \n",
       "        <th id=\"T_b4bedb44_1233_11e9_a02c_fae8e12a76b4level0_row12\" class=\"row_heading level0 row12\" >YPS138</th> \n",
       "        <td id=\"T_b4bedb44_1233_11e9_a02c_fae8e12a76b4row12_col0\" class=\"data row12 col0\" >3629766</td> \n",
       "        <td id=\"T_b4bedb44_1233_11e9_a02c_fae8e12a76b4row12_col1\" class=\"data row12 col1\" >2272582</td> \n",
       "        <td id=\"T_b4bedb44_1233_11e9_a02c_fae8e12a76b4row12_col2\" class=\"data row12 col2\" >3623944</td> \n",
       "        <td id=\"T_b4bedb44_1233_11e9_a02c_fae8e12a76b4row12_col3\" class=\"data row12 col3\" >2268073</td> \n",
       "        <td id=\"T_b4bedb44_1233_11e9_a02c_fae8e12a76b4row12_col4\" class=\"data row12 col4\" >17357</td> \n",
       "        <td id=\"T_b4bedb44_1233_11e9_a02c_fae8e12a76b4row12_col5\" class=\"data row12 col5\" >1.18E+07</td> \n",
       "        <td id=\"T_b4bedb44_1233_11e9_a02c_fae8e12a76b4row12_col6\" class=\"data row12 col6\" >0.15%</td> \n",
       "    </tr></tbody> \n",
       "</table> "
      ],
      "text/plain": [
       "<pandas.io.formats.style.Styler at 0x7f22dc694400>"
      ]
     },
     "execution_count": 8,
     "metadata": {},
     "output_type": "execute_result"
    }
   ],
   "source": [
    "nt_count_df"
   ]
  },
  {
   "cell_type": "markdown",
   "metadata": {},
   "source": [
    "### Examining the number and size of stretches of Ns present"
   ]
  },
  {
   "cell_type": "markdown",
   "metadata": {},
   "source": [
    "Make a dataframe of the data and also make a summary one with the say, top five(?) number instances, for each."
   ]
  },
  {
   "cell_type": "code",
   "execution_count": 9,
   "metadata": {},
   "outputs": [
    {
     "name": "stdout",
     "output_type": "stream",
     "text": [
      "CPU times: user 3.07 s, sys: 0 ns, total: 3.07 s\n",
      "Wall time: 3.1 s\n"
     ]
    }
   ],
   "source": [
    "%%time\n",
    "# count frequency of blocks of Ns in the genomes\n",
    "import re\n",
    "from collections import defaultdict\n",
    "from pyfaidx import Fasta\n",
    "import pandas as pd\n",
    "import collections\n",
    "\n",
    "\n",
    "min_number_Ns_in_row_to_collect = 3\n",
    "pattern_obj = re.compile(\"N{{{},}}\".format(min_number_Ns_in_row_to_collect), re.I)  # adpated from\n",
    "# code worked out in `collapse_large_unknown_blocks_in_DNA_sequence.py`, which relied heavily on\n",
    "# https://stackoverflow.com/a/250306/8508004\n",
    "\n",
    "len_match_dict_by_strain = {}\n",
    "\n",
    "#genomes = [\"N44.genome.fa\"]\n",
    "\n",
    "for g in genomes:\n",
    "    len_match_dict = defaultdict(int)\n",
    "    strain_id = g.split(\".genome.fa\")[0]\n",
    "    records = Fasta(g)\n",
    "    for record in records:\n",
    "        for m in pattern_obj.finditer(str(record)):\n",
    "            len_match_dict[len(m.group())] += 1\n",
    "    #before passing final dictionary for strain to\n",
    "    #collection, add an entry of zero for size of 1 so the\n",
    "    #strain with no stretches will be in final dataframe\n",
    "    if not len_match_dict:\n",
    "        len_match_dict[1]=0\n",
    "    len_match_dict_by_strain[strain_id] = len_match_dict\n",
    "\n",
    "#stretches_size_freq_df = pd.DataFrame.from_dict(len_match_dict_by_strain, orient='index').fillna(0)\n",
    "#stretches_size_freq_df = pd.DataFrame.from_dict(len_match_dict_by_strain).fillna(0).stack().reset_index() # if wanted all stretches of size to show count even if none present\n",
    "stretches_size_freq_df = pd.DataFrame.from_dict(len_match_dict_by_strain).stack().reset_index() \n",
    "stretches_size_freq_df.columns = ['stretch_size','strain','#_instances'] \n",
    "stretches_size_freq_df = stretches_size_freq_df[['strain','stretch_size','#_instances']]\n",
    "stretches_size_freq_df = stretches_size_freq_df.sort_values(['stretch_size','#_instances'],ascending=[0,0]).reset_index(drop=True)"
   ]
  },
  {
   "cell_type": "markdown",
   "metadata": {},
   "source": [
    "Because of use of `%%time` in above cell, easiest to display resulting dataframe using next cell. "
   ]
  },
  {
   "cell_type": "code",
   "execution_count": 10,
   "metadata": {},
   "outputs": [
    {
     "data": {
      "text/html": [
       "<div>\n",
       "<style scoped>\n",
       "    .dataframe tbody tr th:only-of-type {\n",
       "        vertical-align: middle;\n",
       "    }\n",
       "\n",
       "    .dataframe tbody tr th {\n",
       "        vertical-align: top;\n",
       "    }\n",
       "\n",
       "    .dataframe thead th {\n",
       "        text-align: right;\n",
       "    }\n",
       "</style>\n",
       "<table border=\"1\" class=\"dataframe\">\n",
       "  <thead>\n",
       "    <tr style=\"text-align: right;\">\n",
       "      <th></th>\n",
       "      <th>strain</th>\n",
       "      <th>stretch_size</th>\n",
       "      <th>#_instances</th>\n",
       "    </tr>\n",
       "  </thead>\n",
       "  <tbody>\n",
       "    <tr>\n",
       "      <th>0</th>\n",
       "      <td>DBVPG6044</td>\n",
       "      <td>17357</td>\n",
       "      <td>1.0</td>\n",
       "    </tr>\n",
       "    <tr>\n",
       "      <th>1</th>\n",
       "      <td>DBVPG6765</td>\n",
       "      <td>17357</td>\n",
       "      <td>1.0</td>\n",
       "    </tr>\n",
       "    <tr>\n",
       "      <th>2</th>\n",
       "      <td>CBS432</td>\n",
       "      <td>17357</td>\n",
       "      <td>1.0</td>\n",
       "    </tr>\n",
       "    <tr>\n",
       "      <th>3</th>\n",
       "      <td>YPS128</td>\n",
       "      <td>17357</td>\n",
       "      <td>1.0</td>\n",
       "    </tr>\n",
       "    <tr>\n",
       "      <th>4</th>\n",
       "      <td>UFRJ50816</td>\n",
       "      <td>17357</td>\n",
       "      <td>1.0</td>\n",
       "    </tr>\n",
       "    <tr>\n",
       "      <th>5</th>\n",
       "      <td>S288C</td>\n",
       "      <td>17357</td>\n",
       "      <td>1.0</td>\n",
       "    </tr>\n",
       "    <tr>\n",
       "      <th>6</th>\n",
       "      <td>SK1</td>\n",
       "      <td>17357</td>\n",
       "      <td>1.0</td>\n",
       "    </tr>\n",
       "    <tr>\n",
       "      <th>7</th>\n",
       "      <td>UWOPS034614</td>\n",
       "      <td>17357</td>\n",
       "      <td>1.0</td>\n",
       "    </tr>\n",
       "    <tr>\n",
       "      <th>8</th>\n",
       "      <td>UWOPS919171</td>\n",
       "      <td>17357</td>\n",
       "      <td>1.0</td>\n",
       "    </tr>\n",
       "    <tr>\n",
       "      <th>9</th>\n",
       "      <td>YPS138</td>\n",
       "      <td>17357</td>\n",
       "      <td>1.0</td>\n",
       "    </tr>\n",
       "    <tr>\n",
       "      <th>10</th>\n",
       "      <td>N44</td>\n",
       "      <td>17357</td>\n",
       "      <td>1.0</td>\n",
       "    </tr>\n",
       "    <tr>\n",
       "      <th>11</th>\n",
       "      <td>Y12</td>\n",
       "      <td>17357</td>\n",
       "      <td>1.0</td>\n",
       "    </tr>\n",
       "    <tr>\n",
       "      <th>12</th>\n",
       "      <td>SGD_REF</td>\n",
       "      <td>1</td>\n",
       "      <td>0.0</td>\n",
       "    </tr>\n",
       "  </tbody>\n",
       "</table>\n",
       "</div>"
      ],
      "text/plain": [
       "         strain  stretch_size  #_instances\n",
       "0     DBVPG6044         17357          1.0\n",
       "1     DBVPG6765         17357          1.0\n",
       "2        CBS432         17357          1.0\n",
       "3        YPS128         17357          1.0\n",
       "4     UFRJ50816         17357          1.0\n",
       "5         S288C         17357          1.0\n",
       "6           SK1         17357          1.0\n",
       "7   UWOPS034614         17357          1.0\n",
       "8   UWOPS919171         17357          1.0\n",
       "9        YPS138         17357          1.0\n",
       "10          N44         17357          1.0\n",
       "11          Y12         17357          1.0\n",
       "12      SGD_REF             1          0.0"
      ]
     },
     "execution_count": 10,
     "metadata": {},
     "output_type": "execute_result"
    }
   ],
   "source": [
    "stretches_size_freq_df"
   ]
  },
  {
   "cell_type": "markdown",
   "metadata": {},
   "source": [
    "Turns out there is a block of N nucleotides 'masking' the rDNA locus of each PacBio sequences. (Terminology illustrated in point #4 [here](https://www.reddit.com/r/bioinformatics/comments/35mquv/question_counting_the_number_of_ns_in_the_chimp/) by kbradnam.)  That spans what is equivalent from 451574 to 468993 of chromosome XII in SGD reference sequence.  \n",
    "Since those numbers span 17419 bp in length, I don't know why they used 17357 N's and not 17419 Ns masking the locus? Just added about 60 extra to cover future possibilities of extra? Or fuzziness over what is included relative downstream the 5S rRNA as touched on [here](https://d1x6jdqbvd5dr.cloudfront.net/legacy_img/rDNAFigure.html)? Or just to represent there's isn't quite the same as that span in the rDNA locus which just arbitrarily represents two loci repeats?  \n",
    "Lack of assembly for the rDNA locus was pointed out in the paper.\n",
    "\n",
    "Plan is to add the PacBio-sequences mitochondrial genomes back in and do this all again in `GSD Assessing_ambiguous_nts_in_complete_PB_genomes.ipynb` next in preparation for comparing to the 1011 *cerevisiae* genomes collection where mitochondrial sequences mixed in among the genome assemblies."
   ]
  },
  {
   "cell_type": "markdown",
   "metadata": {},
   "source": [
    "----"
   ]
  }
 ],
 "metadata": {
  "kernelspec": {
   "display_name": "Python 3",
   "language": "python",
   "name": "python3"
  },
  "language_info": {
   "codemirror_mode": {
    "name": "ipython",
    "version": 3
   },
   "file_extension": ".py",
   "mimetype": "text/x-python",
   "name": "python",
   "nbconvert_exporter": "python",
   "pygments_lexer": "ipython3",
   "version": "3.6.7"
  }
 },
 "nbformat": 4,
 "nbformat_minor": 2
}
