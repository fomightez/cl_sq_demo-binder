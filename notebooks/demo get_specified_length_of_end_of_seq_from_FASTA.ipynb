{
 "cells": [
  {
   "cell_type": "markdown",
   "metadata": {},
   "source": [
    "# demonstration of `get_specified_length_of_end_of_seq_from_FASTA.py` script\n",
    "\n",
    "If you'd like an active Jupyter session to run this notebook, launch one by clicking [here](https://mybinder.org/v2/gh/fomightez/clausen_ribonucleotides/master), and then upload this notebook to the session that starts up.  \n",
    "Otherwise, the static version is rendered more nicely via [here](https://nbviewer.jupyter.org/github/fomightez/sequencework/blob/master/Extract_from_FASTA/demo%20get_seq_following_seq_from_FASTA.ipynb).\n",
    "\n",
    "----\n",
    "\n",
    "<div class=\"alert alert-block alert-warning\">\n",
    "<p>If you haven't used one of these notebooks before, they're basically web pages in which you can write, edit, and run live code. They're meant to encourage experimentation, so don't feel nervous. Just try running a few cells and see what happens!.</p>\n",
    "\n",
    "<p>\n",
    "    Some tips:\n",
    "    <ul>\n",
    "        <li>Code cells have boxes around them. When you hover over them a <i class=\"fa-step-forward fa\"></i> icon appears.</li>\n",
    "        <li>To run a code cell either click the <i class=\"fa-step-forward fa\"></i> icon, or click on the cell and then hit <b>Shift+Enter</b>. The <b>Shift+Enter</b> combo will also move you to the next cell, so it's a quick way to work through the notebook.</li>\n",
    "        <li>While a cell is running a <b>*</b> appears in the square brackets next to the cell. Once the cell has finished running the asterix will be replaced with a number.</li>\n",
    "        <li>In most cases you'll want to start from the top of notebook and work your way down running each cell in turn. Later cells might depend on the results of earlier ones.</li>\n",
    "        <li>To edit a code cell, just click on it and type stuff. Remember to run the cell once you've finished editing.</li>\n",
    "    </ul>\n",
    "</p>\n",
    "</div>\n",
    "\n",
    "----\n",
    "\n",
    "You'll need the current version of the script to run this notebook, and the next cell will get that. (Remember if you want to make things more reproducible when you use the script with your own data, you'll want to edit calls such as this to fetch a specific version of the script. How to do this is touched upon in the comment below [here](https://stackoverflow.com/a/48587645/8508004)."
   ]
  },
  {
   "cell_type": "code",
   "execution_count": 1,
   "metadata": {},
   "outputs": [
    {
     "name": "stdout",
     "output_type": "stream",
     "text": [
      "  % Total    % Received % Xferd  Average Speed   Time    Time     Time  Current\n",
      "                                 Dload  Upload   Total   Spent    Left  Speed\n",
      "100 11812  100 11812    0     0  78746      0 --:--:-- --:--:-- --:--:-- 78746\n"
     ]
    }
   ],
   "source": [
    "!curl -O https://raw.githubusercontent.com/fomightez/sequencework/master/Extract_from_FASTA/get_specified_length_of_end_of_seq_from_FASTA.py"
   ]
  },
  {
   "cell_type": "markdown",
   "metadata": {},
   "source": [
    "## Display Usage / Help Block"
   ]
  },
  {
   "cell_type": "code",
   "execution_count": 2,
   "metadata": {},
   "outputs": [
    {
     "name": "stdout",
     "output_type": "stream",
     "text": [
      "usage: get_specified_length_of_end_of_seq_from_FASTA [-h]\n",
      "                                                     SEQUENCE_FILE RECORD_ID\n",
      "                                                     NUMBER_TO_GET\n",
      "\n",
      "get_specified_length_of_end_of_seq_from_FASTA takes a sequence file (FASTA-\n",
      "format), & a record id, and a number (integer), and extracts a sequence of\n",
      "specified length from the end of the indicated sequence. The number provided\n",
      "is what specifies the length extracted. (The FASTA-formatted sequence file is\n",
      "assumed by default to be a multi-FASTA, i.e., multiple sequences in the\n",
      "provided file, although it definitely doesn't have to be. In case it is only a\n",
      "single sequence, the record id becomes moot, see below.) A sequence string of\n",
      "the specified length will be returned. Redirect the output to a file if that\n",
      "is what is needed. **** Script by Wayne Decatur (fomightez @ github) ***\n",
      "\n",
      "positional arguments:\n",
      "  SEQUENCE_FILE  Name of sequence file to use as input. Must be FASTA format.\n",
      "                 Can be a multi-FASTA file, i.e., multiple sequences in FASTA\n",
      "                 format in one file.\n",
      "  RECORD_ID      Specific identifier of sequence entry in sequence file to\n",
      "                 mine. If the provided sequence file only contains one\n",
      "                 sequence, that sequence will be mined and what is provided\n",
      "                 for this parameter will be ignored. In other words, if the\n",
      "                 sequence file is not a multi-FASTA file, you don't need to\n",
      "                 determine the identifier and can instead just enter\n",
      "                 `blahblah` or any other nonsensical string in this spot.\n",
      "  NUMBER_TO_GET  Number (integer) of residues to retrieve from end.\n",
      "\n",
      "optional arguments:\n",
      "  -h, --help     show this help message and exit\n"
     ]
    }
   ],
   "source": [
    "%run get_specified_length_of_end_of_seq_from_FASTA.py -h"
   ]
  },
  {
   "cell_type": "markdown",
   "metadata": {},
   "source": [
    "To read more about this script beyond that and what is covered below, see [here](https://github.com/fomightez/sequencework/tree/master/Extract_from_FASTA).\n",
    "\n",
    "-----\n",
    "\n",
    "## Basic use examples set #1: Using from the command line (or equivalent / similar)\n",
    "\n",
    "### Preparing for usage example\n",
    "\n",
    "The following cell will generate a sequence in `mock_seqs.fa`. (This makes use of Maurice HT Ling's [randomseq.py](http://www.medcrave.com/articles/det/15292/Randomseq-python-command-ndash-line-random-sequence-generator).)"
   ]
  },
  {
   "cell_type": "code",
   "execution_count": 3,
   "metadata": {},
   "outputs": [
    {
     "name": "stdout",
     "output_type": "stream",
     "text": [
      "Collecting fire\n",
      "  Downloading https://files.pythonhosted.org/packages/5a/b7/205702f348aab198baecd1d8344a90748cb68f53bdcd1cc30cbc08e47d3e/fire-0.1.3.tar.gz\n",
      "Requirement already satisfied: six in /srv/conda/lib/python3.6/site-packages (from fire) (1.12.0)\n",
      "Building wheels for collected packages: fire\n",
      "  Building wheel for fire (setup.py) ... \u001b[?25ldone\n",
      "\u001b[?25h  Stored in directory: /home/jovyan/.cache/pip/wheels/2a/1a/4d/6b30377c3051e76559d1185c1dbbfff15aed31f87acdd14c22\n",
      "Successfully built fire\n",
      "Installing collected packages: fire\n",
      "Successfully installed fire-0.1.3\n",
      "  % Total    % Received % Xferd  Average Speed   Time    Time     Time  Current\n",
      "                                 Dload  Upload   Total   Spent    Left  Speed\n",
      "100 25229  100 25229    0     0   241k      0 --:--:-- --:--:-- --:--:--  241k\n"
     ]
    }
   ],
   "source": [
    "#get a script use it to generate a mock sequence file so that we can collect the end of one of them\n",
    "\n",
    "#!curl -O https://raw.githubusercontent.com/amarallab/NullSeq/master/nullseq.py\n",
    "#!curl -O https://raw.githubusercontent.com/amarallab/NullSeq/master/NullSeq_Functions.py\n",
    "#%run nullseq.py -l 436\n",
    "!pip install fire\n",
    "!curl -O https://raw.githubusercontent.com/mauriceling/bactome/master/randomseq.py\n",
    "#!python randomseq.py FLS -- --help #???<-- That didn't match typical Python help syntax I was familar with but it is noted at https://github.com/google/python-fire\n",
    "!python randomseq.py FLS --length=706 --n=3 > mock_seqs.fa"
   ]
  },
  {
   "cell_type": "code",
   "execution_count": 4,
   "metadata": {},
   "outputs": [
    {
     "name": "stdout",
     "output_type": "stream",
     "text": [
      "> Test_1\n",
      "AAACGACGGTCAACACAAAACAACGCCAATCTCGAAGCCGTATCACCACAGGCGAAATTCGGCACGAGATCGACAGATACATCGAGGTGCCTCGGTCAGACTCATCAGTGTTCTCGCCAGTTTTCGCCGTCACGGAAGATACATCGATTTTCGCCACCGGGTCACGGGACACCAGAACTTTTCAAGTGGCGGTCCGATCGCTCAGGTTCGGCACCCTTTCATCACAATCTCACACCATCCGCACCAAGCGGGGAGACGCGCGGCGATCCACGGACGACCTCCTCCCCCGGTTTACCTCAGTCCAATACGACTCCGTCCCCGTGTGTGGGCTCACTATCCGTATTCTTCATCGCTACAGGTACCCGGAGATTTCGGTCCGCGTTCCGGCGGTTCGGAAACCCGTATTACGCGCAAAGGGGCATTCCGCCCCGGTCGCGCTCCCCGCAGGTTACCATCGCATCAAACGCCTCAAGTTCATTCCACACTTCTTCCAGAAACTCGGAAGATCCAGGCTATATTTCTTCAAAACCGTCTTACTTTCCGCACGAGATCGTCTTTTCTTTTCTTTTTCAGAACATCGCATCCGAATTACATATCCCAAAATCAAGATATCCAGGACCAAGTTTCAAGTACCGCTATCATCAGTTTTATTCTACCCAAAGGTGGTGCGAGAAAGTACCCGTCCAAAAGACATACAGCGTATACG\n",
      "> Test_2\n",
      "ATTTCCATACGATCCGATTTTCGCATTACCTACCCGAGATCGGAACTTACGCGTGGAGCACGATCAGACCTTTACTACTACAATCCGGCACGAACGTCAGCGTACGAGATTCAGGAAAGGCATTCAACATCAATATATTCCCGGGGCAGTTCACCTCAGGGGACCGACGAGAGCGAAAAACCAAAGTTCAAAGCTCCCAGGTCTCAACTTCCATTATTACTCCACGCGCACCGGCCACTCGGGTCATACCCATATACCCCGGACTACACAAAAAGGACAGAGCAAAGACTCCGTCGATCATACAACGTTACTCCTCCAACTCGCTTCCTATACAACTCAACGGGGCTCGGCAATCCCCCGTGCCCGACCTCCCCGATCACCTCCATCAGGCTTCGGCCTCGGTCAGCTCAAACCGCGCAGCATCGGACAAAAAACCGCAAACATATCCCAGAGGTTTATCGGGCACTCCGGACGCAGAAAACGTACTCTCCGGTGTGCAAAAACATTCGGCGATACTACGGCCATTCTCCATCGGATTACCGAGCACAGGGCCATTCAAGTCAGGGGGCGCCAATCGGTCGGAGAATTTTTCCCAAGAGTCACTACCGCATCCTCTCGTGGCCTCAGCGACTACGAGCCGACGCGGCCTACGGCGATATCAGAGAGGGGCCGAACCGCGCCCAAAACCTCGCTTCGGGAGTCAAGA\n",
      "> Test_3\n",
      "TCGCGGTGTATCGAGCCGGAAGGAATACGAGATCAAATCCCTATCGGACTCGACATCCATCCGACTTCACCCCATCTCAAACGCCACGAGAACCAGGGAACCTCACCGTGTCCGTTCCCTACAGCTCAGCCAGACGAGTGCTCGTTCAAATTCAAGCAAGGCTCATCGCTACGAGCGATCATTCGCCGAGGAAGGGGACGTCTTTACAGAAAGGATCAGTCACGGGGTTTACCTCGGCACAAGACGCCGGACAATTACGGGCGAGTCAACGAAAGGAAACTCCGACCGAGTCCGCTACCTCATCAAACGCTATTCAGACTTTCGACATACTCTCTTATTACTCCGCTCAAGTGCCTACGGGAGAAGCCGTTCCAGGACGGGGGAGCGTCAGGAACCGCCAGAAAATCAGGGATTTCGTCAAAATTCACAGGGGTCGACGTGCAAGGTGCCTACCGATACCAGAACCGGCAAATTTCCGCGCGACGAGGCCGACATTTACTTTCGGCGGCCTCGAAAGCGGATATTACGCCAGTACGATTTCAAGGCCGGATACTTTTCGCCGGGCTTACAAAGGATCCAACTATTCCAAGTGCGCTCATTTACGGGCAACTTCCGATCGAAAGGAGATATCCTTCGGTCAGGCAACATTCGGACGCACCCCACACTTACCCTATCGGTACCTTTCCATCCCCGGGACCTCCTCGCG\n"
     ]
    }
   ],
   "source": [
    "!head mock_seqs.fa"
   ]
  },
  {
   "cell_type": "markdown",
   "metadata": {},
   "source": [
    "### Run the script"
   ]
  },
  {
   "cell_type": "code",
   "execution_count": 5,
   "metadata": {},
   "outputs": [
    {
     "name": "stdout",
     "output_type": "stream",
     "text": [
      "CGTGGCCTCAGCGACTACGAGCCGACGCGGCCTACGGCGATATCAGAGAGGGGCCGAACCGCGCCCAAAACCTCGCTTCGGGAGTCAAGA\n"
     ]
    }
   ],
   "source": [
    "%%bash\n",
    "python get_specified_length_of_end_of_seq_from_FASTA.py mock_seqs.fa Test_2 90"
   ]
  },
  {
   "cell_type": "markdown",
   "metadata": {},
   "source": [
    "In the above cell and elsewhere in this notebook, `%%bash` cell magic is used to send this to the shell to run as if on the command line. \n",
    "\n",
    "You could simply run something like `python get_specified_length_of_end_of_seq_from_FASTA.py mock_seqs.fa Test_2 90` if you are working on the command line directly. In fact, the terminal is available from the Jupyter dashboard (or from the JupyterLab launcher) and you can feel free to try running the command below in a terminal in this Jupyter session if you'd like.\n",
    "\n",
    "    python get_specified_length_of_end_of_seq_from_FASTA.py mock_seqs.fa Test_2 90\n"
   ]
  },
  {
   "cell_type": "markdown",
   "metadata": {},
   "source": [
    "Another example of using the script is in the cell below. This time the stderr stream shows some feeback, highlighted in pink."
   ]
  },
  {
   "cell_type": "code",
   "execution_count": 6,
   "metadata": {},
   "outputs": [
    {
     "name": "stdout",
     "output_type": "stream",
     "text": [
      "ATTTCCATACGATCCGATTTTCGCATTACCTACCCGAGATCGGAACTTACGCGTGGAGCACGATCAGACCTTTACTACTACAATCCGGCACGAACGTCAGCGTACGAGATTCAGGAAAGGCATTCAACATCAATATATTCCCGGGGCAGTTCACCTCAGGGGACCGACGAGAGCGAAAAACCAAAGTTCAAAGCTCCCAGGTCTCAACTTCCATTATTACTCCACGCGCACCGGCCACTCGGGTCATACCCATATACCCCGGACTACACAAAAAGGACAGAGCAAAGACTCCGTCGATCATACAACGTTACTCCTCCAACTCGCTTCCTATACAACTCAACGGGGCTCGGCAATCCCCCGTGCCCGACCTCCCCGATCACCTCCATCAGGCTTCGGCCTCGGTCAGCTCAAACCGCGCAGCATCGGACAAAAAACCGCAAACATATCCCAGAGGTTTATCGGGCACTCCGGACGCAGAAAACGTACTCTCCGGTGTGCAAAAACATTCGGCGATACTACGGCCATTCTCCATCGGATTACCGAGCACAGGGCCATTCAAGTCAGGGGGCGCCAATCGGTCGGAGAATTTTTCCCAAGAGTCACTACCGCATCCTCTCGTGGCCTCAGCGACTACGAGCCGACGCGGCCTACGGCGATATCAGAGAGGGGCCGAACCGCGCCCAAAACCTCGCTTCGGGAGTCAAGA\n"
     ]
    },
    {
     "name": "stderr",
     "output_type": "stream",
     "text": [
      "Note that the sepecified number of residues to get, 887, exceeds the length of the specified record, which is 706 residues in length.\n",
      "The entire sequences has been returned."
     ]
    }
   ],
   "source": [
    "%%bash\n",
    "python get_specified_length_of_end_of_seq_from_FASTA.py mock_seqs.fa Test_2 887"
   ]
  },
  {
   "cell_type": "markdown",
   "metadata": {},
   "source": [
    "You may wish to redirect the output sequence text to a file. The next cell demonstrates that, and the one after it shows it worked by displaying the generated file."
   ]
  },
  {
   "cell_type": "code",
   "execution_count": 7,
   "metadata": {},
   "outputs": [
    {
     "name": "stderr",
     "output_type": "stream",
     "text": [
      "Note that the sepecified number of residues to get, 887, exceeds the length of the specified record, which is 706 residues in length.\n",
      "The entire sequences has been returned."
     ]
    }
   ],
   "source": [
    "%%bash\n",
    "python get_specified_length_of_end_of_seq_from_FASTA.py mock_seqs.fa Test_2 887 > redirect_test.fa"
   ]
  },
  {
   "cell_type": "code",
   "execution_count": 8,
   "metadata": {},
   "outputs": [
    {
     "name": "stdout",
     "output_type": "stream",
     "text": [
      "ATTTCCATACGATCCGATTTTCGCATTACCTACCCGAGATCGGAACTTACGCGTGGAGCACGATCAGACCTTTACTACTACAATCCGGCACGAACGTCAGCGTACGAGATTCAGGAAAGGCATTCAACATCAATATATTCCCGGGGCAGTTCACCTCAGGGGACCGACGAGAGCGAAAAACCAAAGTTCAAAGCTCCCAGGTCTCAACTTCCATTATTACTCCACGCGCACCGGCCACTCGGGTCATACCCATATACCCCGGACTACACAAAAAGGACAGAGCAAAGACTCCGTCGATCATACAACGTTACTCCTCCAACTCGCTTCCTATACAACTCAACGGGGCTCGGCAATCCCCCGTGCCCGACCTCCCCGATCACCTCCATCAGGCTTCGGCCTCGGTCAGCTCAAACCGCGCAGCATCGGACAAAAAACCGCAAACATATCCCAGAGGTTTATCGGGCACTCCGGACGCAGAAAACGTACTCTCCGGTGTGCAAAAACATTCGGCGATACTACGGCCATTCTCCATCGGATTACCGAGCACAGGGCCATTCAAGTCAGGGGGCGCCAATCGGTCGGAGAATTTTTCCCAAGAGTCACTACCGCATCCTCTCGTGGCCTCAGCGACTACGAGCCGACGCGGCCTACGGCGATATCAGAGAGGGGCCGAACCGCGCCCAAAACCTCGCTTCGGGAGTCAAGA\n"
     ]
    }
   ],
   "source": [
    "!head redirect_test.fa"
   ]
  },
  {
   "cell_type": "markdown",
   "metadata": {},
   "source": [
    "(The cell above uses another Jupyter notebook/ IPython trick to send a command to the command line. Namely that anything on a line after an exclamation point `!` will be executed on the system command line. However, using that style I saw no advanced display formatting of the stderr when I tried using the exclamation point, e.g., `!python get_specified_length_of_end_of_seq_from_FASTA.py mock_seqs.fa Test_2 887` vs. using the `%%bash` cell magic. Hence, I used `%%bash` in the demo when calling the script.)\n",
    "\n",
    "Note that the redirection operator was used just above in a way that only sent the stdout stream to the file. You can adapt that further as you see fit; more about redirect options can be found [here](https://www.brianstorti.com/understanding-shell-script-idiom-redirect/).\n",
    "\n"
   ]
  },
  {
   "cell_type": "markdown",
   "metadata": {},
   "source": [
    "*Remember you can dispense with providing an actual record id if there is only one record.*\n",
    "\n",
    "The next cell makes a file with only one record so that can be demonstrated."
   ]
  },
  {
   "cell_type": "code",
   "execution_count": 9,
   "metadata": {},
   "outputs": [
    {
     "name": "stdout",
     "output_type": "stream",
     "text": [
      "Requirement already satisfied: fire in /srv/conda/lib/python3.6/site-packages (0.1.3)\n",
      "Requirement already satisfied: six in /srv/conda/lib/python3.6/site-packages (from fire) (1.12.0)\n",
      "  % Total    % Received % Xferd  Average Speed   Time    Time     Time  Current\n",
      "                                 Dload  Upload   Total   Spent    Left  Speed\n",
      "100 25229  100 25229    0     0   150k      0 --:--:-- --:--:-- --:--:--  149k\n"
     ]
    }
   ],
   "source": [
    "#make a mock 'single sequence' file\n",
    "!pip install fire\n",
    "import os\n",
    "script_needed = \"randomseq.py\"\n",
    "if not os.path.isfile(script_needed):\n",
    "    !curl -O https://raw.githubusercontent.com/mauriceling/bactome/master/randomseq.py\n",
    "!python randomseq.py FLS --length=315 --n=1 > single_sequence.fa"
   ]
  },
  {
   "cell_type": "markdown",
   "metadata": {},
   "source": [
    "Now when you invoke the script, you still have to provide *something* for record identifier, but it can be any string. In the example, below `moot` is used. Completely irrelevant but the 'placeholder' makes the command have all the parts needed."
   ]
  },
  {
   "cell_type": "code",
   "execution_count": 10,
   "metadata": {},
   "outputs": [
    {
     "name": "stdout",
     "output_type": "stream",
     "text": [
      "TCCCTACCGCGCTTCCACCACTACGTATCGGCGCGTGCAAAGGAACGCAAGACTACGAACGCCCACTCCATTCACGGGCACGCGATT\n"
     ]
    },
    {
     "name": "stderr",
     "output_type": "stream",
     "text": [
      "Single sequence with id of 'Test_1' provided in the sequence file.\n",
      "It will be used to extract the last 87 characters in it.\n",
      "\n"
     ]
    }
   ],
   "source": [
    "%%bash\n",
    "python get_specified_length_of_end_of_seq_from_FASTA.py single_sequence.fa moot 87"
   ]
  },
  {
   "cell_type": "markdown",
   "metadata": {},
   "source": [
    "If you are used to using Jupyter notebooks, you can use `%run` instead of `python get_specified_length_of_end_of_seq_from_FASTA.py single_sequence.fa moot 87` to get the same result."
   ]
  },
  {
   "cell_type": "code",
   "execution_count": 11,
   "metadata": {},
   "outputs": [
    {
     "name": "stdout",
     "output_type": "stream",
     "text": [
      "TCCCTACCGCGCTTCCACCACTACGTATCGGCGCGTGCAAAGGAACGCAAGACTACGAACGCCCACTCCATTCACGGGCACGCGATT\n"
     ]
    },
    {
     "name": "stderr",
     "output_type": "stream",
     "text": [
      "Single sequence with id of 'Test_1' provided in the sequence file.\n",
      "It will be used to extract the last 87 characters in it.\n",
      "\n"
     ]
    }
   ],
   "source": [
    "%run get_specified_length_of_end_of_seq_from_FASTA.py single_sequence.fa moot 87"
   ]
  },
  {
   "cell_type": "markdown",
   "metadata": {},
   "source": [
    "However, one cannot simply add use of the shell redirection operator, `>`, to commands using `%%run`. This is because in the Jupyter notebook environment `%run` is not compatible with the redirect operator because it directs things to IPython and not the command line.\n",
    "\n",
    "To do the equivalent, you can add in use of the %%capture cell magic to make the output a python object which you can then direct Python to save the object to a file. The idea being that having the output as a Python object in the notebook namespace gives you more options out-of-the-gate then the ouput immediately going to being stored in a file. The following cells that end this section are meant to illustrate this."
   ]
  },
  {
   "cell_type": "code",
   "execution_count": 12,
   "metadata": {},
   "outputs": [],
   "source": [
    "%%capture cell_output\n",
    "%run get_specified_length_of_end_of_seq_from_FASTA.py single_sequence.fa moot 87"
   ]
  },
  {
   "cell_type": "code",
   "execution_count": 13,
   "metadata": {},
   "outputs": [
    {
     "data": {
      "text/plain": [
       "'TCCCTACCGCGCTTCCACCACTACGTATCGGCGCGTGCAAAGGAACGCAAGACTACGAACGCCCACTCCATTCACGGGCACGCGATT\\n'"
      ]
     },
     "execution_count": 13,
     "metadata": {},
     "output_type": "execute_result"
    }
   ],
   "source": [
    "cell_output.stdout"
   ]
  },
  {
   "cell_type": "code",
   "execution_count": 14,
   "metadata": {},
   "outputs": [
    {
     "data": {
      "text/plain": [
       "\"Single sequence with id of 'Test_1' provided in the sequence file.\\nIt will be used to extract the last 87 characters in it.\\n\\n\""
      ]
     },
     "execution_count": 14,
     "metadata": {},
     "output_type": "execute_result"
    }
   ],
   "source": [
    "cell_output.stderr"
   ]
  },
  {
   "cell_type": "code",
   "execution_count": 15,
   "metadata": {},
   "outputs": [],
   "source": [
    "curious_seq ='TCGCT'\n",
    "if curious_seq in cell_output.stdout:\n",
    "    print (\"The sequence {} occurs in {}.\".format(curious_seq,cell_output.stdout))"
   ]
  },
  {
   "cell_type": "code",
   "execution_count": 16,
   "metadata": {},
   "outputs": [
    {
     "name": "stdout",
     "output_type": "stream",
     "text": [
      "Writing 'cell_output.stdout' (str) to file 'py_out.fa'.\n"
     ]
    }
   ],
   "source": [
    "#save to a file\n",
    "%store cell_output.stdout > py_out.fa"
   ]
  },
  {
   "cell_type": "code",
   "execution_count": 17,
   "metadata": {},
   "outputs": [
    {
     "name": "stdout",
     "output_type": "stream",
     "text": [
      "TCCCTACCGCGCTTCCACCACTACGTATCGGCGCGTGCAAAGGAACGCAAGACTACGAACGCCCACTCCATTCACGGGCACGCGATT\n"
     ]
    }
   ],
   "source": [
    "# demonstrate the file saving worked\n",
    "!head py_out.fa"
   ]
  },
  {
   "cell_type": "markdown",
   "metadata": {},
   "source": [
    "------\n",
    "\n",
    "## Basic use example set #2: Use the main function via import\n",
    "\n",
    "Very useful for when using this in a Jupyter notebook to build into a pipeline or workflow."
   ]
  },
  {
   "cell_type": "markdown",
   "metadata": {},
   "source": [
    "Prepare first by importing the main function from the script into the notbeook environment."
   ]
  },
  {
   "cell_type": "code",
   "execution_count": 18,
   "metadata": {},
   "outputs": [],
   "source": [
    "from get_specified_length_of_end_of_seq_from_FASTA import get_specified_length_of_end_of_seq_from_FASTA"
   ]
  },
  {
   "cell_type": "markdown",
   "metadata": {},
   "source": [
    "(That call will look redundant; however, it actually means `from the file get_specified_length_of_end_of_seq_from_FASTA.py  import the get_specified_length_of_end_of_seq_from_FASTA() function`.)\n",
    "\n",
    "Then call that function and provide the needed arguments in the call. The needed arguments are the `sequence file`, `record id` of the specific sequence to mine, and the `number of residues` to get at the end of the sequence.\n",
    "\n",
    "The function will return the resulting sequence text as a string, and so the function call should be assigned to a variable in order to handle the output of the function subsequently as desired."
   ]
  },
  {
   "cell_type": "code",
   "execution_count": 19,
   "metadata": {},
   "outputs": [],
   "source": [
    "end_seq = get_specified_length_of_end_of_seq_from_FASTA(\"mock_seqs.fa\", \"Test_2\", 200)"
   ]
  },
  {
   "cell_type": "code",
   "execution_count": 20,
   "metadata": {},
   "outputs": [
    {
     "name": "stdout",
     "output_type": "stream",
     "text": [
      "TCGGCGATACTACGGCCATTCTCCATCGGATTACCGAGCACAGGGCCATTCAAGTCAGGGGGCGCCAATCGGTCGGAGAATTTTTCCCAAGAGTCACTACCGCATCCTCTCGTGGCCTCAGCGACTACGAGCCGACGCGGCCTACGGCGATATCAGAGAGGGGCCGAACCGCGCCCAAAACCTCGCTTCGGGAGTCAAGA\n"
     ]
    }
   ],
   "source": [
    "print (end_seq)"
   ]
  },
  {
   "cell_type": "markdown",
   "metadata": {},
   "source": [
    "*Remember you can dispense with providing an actual, real record id if there is only one record.*\n",
    "\n",
    "You just need to supply *something* in that spot as a 'placeholder'."
   ]
  },
  {
   "cell_type": "code",
   "execution_count": 21,
   "metadata": {},
   "outputs": [
    {
     "name": "stderr",
     "output_type": "stream",
     "text": [
      "Single sequence with id of 'Test_1' provided in the sequence file.\n",
      "It will be used to extract the last 600 characters in it.\n",
      "\n",
      "Note that the sepecified number of residues to get, 600, exceeds the length of the specified record, which is 315 residues in length.\n",
      "The entire sequences has been returned."
     ]
    }
   ],
   "source": [
    "end_seq = get_specified_length_of_end_of_seq_from_FASTA(\"single_sequence.fa\", \"MOOT_AGAIN\", 600)"
   ]
  },
  {
   "cell_type": "markdown",
   "metadata": {},
   "source": [
    "\n",
    "----\n",
    "\n",
    "Enjoy!\n",
    "\n",
    "Upload your own sequence files to any running Jupyter session and adapt the commands in this notebook to search wihin them. Edit the notebook or copy the necessary cells to make the script work with your own data.\n",
    "\n",
    "----\n",
    "### ADVANCED DEVELOPMENT NOTE\n",
    "\n",
    "If editing the script (***ATYPICAL***) and using import of the main function to test changes here in this Jupyter notebook, you'll need to run the following code in order to specifically trigger import of the updated version of the code for the function subsequent to any edit. Otherwise, without a restart of the kernel, the notebook environment will see any call to import the function and essentially ignore it as it considers that function already imported into the notebook environment."
   ]
  },
  {
   "cell_type": "code",
   "execution_count": 22,
   "metadata": {},
   "outputs": [],
   "source": [
    "# Run this to have new code reflected in the version of the function in memory within the notebook namespace\n",
    "import importlib\n",
    "import get_specified_length_of_end_of_seq_from_FASTA; importlib.reload( get_specified_length_of_end_of_seq_from_FASTA ); from get_specified_length_of_end_of_seq_from_FASTA import get_specified_length_of_end_of_seq_from_FASTA\n",
    "# above line from https://stackoverflow.com/a/11724154/8508004"
   ]
  },
  {
   "cell_type": "markdown",
   "metadata": {},
   "source": [
    "----\n"
   ]
  }
 ],
 "metadata": {
  "kernelspec": {
   "display_name": "Python 3",
   "language": "python",
   "name": "python3"
  },
  "language_info": {
   "codemirror_mode": {
    "name": "ipython",
    "version": 3
   },
   "file_extension": ".py",
   "mimetype": "text/x-python",
   "name": "python",
   "nbconvert_exporter": "python",
   "pygments_lexer": "ipython3",
   "version": "3.6.8"
  }
 },
 "nbformat": 4,
 "nbformat_minor": 2
}
