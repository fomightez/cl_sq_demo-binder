{
 "cells": [
  {
   "cell_type": "markdown",
   "metadata": {},
   "source": [
    "# Demonstrate the script `add_source_organism_info_to_FASTA.py`\n",
    "\n",
    "This script will add the organism name in brackets to FASTA sequence entries."
   ]
  },
  {
   "cell_type": "markdown",
   "metadata": {},
   "source": [
    "The header or description lines of FASTA files are not standardized, and so sometimes this makes doing some steps programmatically difficult. This script is meant to help by adding the organism name in brackets so it is easily parsed for use in other scripts, such as my script [compare_organisms_in_two_files_of_fasta_entries.py](https://github.com/fomightez/sequencework/tree/master/CompareFASTA_or_FASTQ) , or by regular expressions, for example, see [this Biostarts answer by @cpad0112](https://www.biostars.org/p/9505505/#9505519).\n",
    "\n",
    "Caveats:\n",
    "\n",
    "- for now it works on GI numbers which [are being phased out]().\n",
    "- the description line has to match a pattern like the demonstration entries from NCBI Genbank where the GI number can be parsed out.\n",
    "\n",
    "-----\n",
    "\n",
    "<div class=\"alert alert-block alert-warning\">\n",
    "<p>If you haven't used one of these notebooks before, they're basically web pages in which you can write, edit, and run live code. They're meant to encourage experimentation, so don't feel nervous. Just try running a few cells and see what happens!</p>\n",
    "\n",
    "<p>\n",
    "    Some tips:\n",
    "    <ul>\n",
    "        <li>Code cells have boxes around them.</li>\n",
    "        <li>To run a code cell, click on the cell and either click the <i class=\"fa-play fa\"></i> button on the toolbar above, or then hit <b>Shift+Enter</b>. The <b>Shift+Enter</b> combo will also move you to the next cell, so it's a quick way to work through the notebook. Selecting from the menu above the toolbar, <b>Cell</b> > <b>Run All</b> is a shortcut to trigger attempting to run all the cells in the notebook.</li>\n",
    "        <li>While a cell is running a <b>*</b> appears in the square brackets next to the cell. Once the cell has finished running the asterisk will be replaced with a number.</li>\n",
    "        <li>In most cases you'll want to start from the top of notebook and work your way down running each cell in turn. Later cells might depend on the results of earlier ones.</li>\n",
    "        <li>To edit a code cell, just click on it and type stuff. Remember to run the cell once you've finished editing.</li>\n",
    "    </ul>\n",
    "</p>\n",
    "</div>\n",
    "\n",
    "----"
   ]
  },
  {
   "cell_type": "markdown",
   "metadata": {
    "tags": []
   },
   "source": [
    "## Demonstrating the script to make a dataframe from PDBePISA interface lists/reports\n",
    "\n",
    "When you go to https://www.ebi.ac.uk/pdbe/pisa/pistart.html  and press `Launch PDBePISA` button and then enter your favorite PDB identifier code and then press the 'Interfaces' button, you'll get an  Interface report/list in the form of a table with the information for structure of the complex linked to that code. The Interface report/list you see looks great; however, that table isn't set up for easily using to downstream analysis.  \n",
    "The script that will be demonstrated here overcomes that issue and provides you with a Pandas dataframe that represents the data you'd see at the site. Pandas dataframes are computational objects you can easily use in subsequent analysis or save into forms you can easily bring into Excel.\n",
    "\n",
    "If you haven't encountered Pandas dataframes before I suggest you see the first two notebooks that come up with you launch a session from my [blast-binder](https://github.com/fomightez/blast-binder) site. Those first two notebooks cover using the dataframe containing BLAST results some. \n"
   ]
  },
  {
   "cell_type": "markdown",
   "metadata": {},
   "source": [
    "### Preparation: What is needed to use the script?\n",
    "\n",
    "Three things are needed:\n",
    "\n",
    "- An environment where you can run the script.\n",
    "\n",
    "- The script itself.\n",
    "\n",
    "- A FASTA sequence file with entries that match what you typicall get for Genbank entries from NCBI.\n",
    "\n",
    "This demonstration notebook provide the first two requirements right in your browser.  \n",
    "\n",
    "The demo will cover supplying an example of the third requirement or you can substitute your own to apply the script. You may wish to run the the demonstration at least once and then try that.\n",
    "\n",
    "Let's finish the preparation and then begin with an example."
   ]
  },
  {
   "cell_type": "markdown",
   "metadata": {
    "tags": []
   },
   "source": [
    "### Preparation: Fetch the script.\n",
    "\n",
    "The script is stored on Github and running the next cell will bring a copy of it into the working directory here. (It is not included in the repository where this launches from to insure you always get the most current version, which is assumed to be the best available at the time.)"
   ]
  },
  {
   "cell_type": "code",
   "execution_count": 1,
   "metadata": {},
   "outputs": [
    {
     "name": "stdout",
     "output_type": "stream",
     "text": [
      "  % Total    % Received % Xferd  Average Speed   Time    Time     Time  Current\n",
      "                                 Dload  Upload   Total   Spent    Left  Speed\n",
      "100 20188  100 20188    0     0  98000      0 --:--:-- --:--:-- --:--:-- 98000\n"
     ]
    }
   ],
   "source": [
    "# Get a file if not yet retrieved / check if file exists\n",
    "import os\n",
    "file_needed = \"add_source_organism_info_to_FASTA.py\"\n",
    "if not os.path.isfile(file_needed):\n",
    "    !curl -OL https://raw.githubusercontent.com/fomightez/sequencework/master/AdjustFASTA_or_FASTQ/{file_needed}"
   ]
  },
  {
   "cell_type": "markdown",
   "metadata": {},
   "source": [
    "### Preparation: Make an example FASTA file\n",
    "\n",
    "Running the next cell will make a FASTA file present in the current working directory so that the demonstration script can work on it.  \n",
    "If you are alread familiar with using script you can upload your sequence file in FAST format, or after you make the file, replace the content with your sequences in FASTA format.\n",
    "\n",
    "Source of demostration sequences in the file:\n",
    "\n",
    "- From [here](https://www.ncbi.nlm.nih.gov/nuccore/XM_009231696.1?report=fasta) for [Genbank entry XM_009231696.1](https://www.ncbi.nlm.nih.gov/nuccore/XM_009231696.1).\n",
    "- From [here](https://www.ncbi.nlm.nih.gov/nuccore/NM_211569.1?report=fasta) for [Genabnk entry ](https://www.ncbi.nlm.nih.gov/nuccore/NM_211569.1)."
   ]
  },
  {
   "cell_type": "code",
   "execution_count": 2,
   "metadata": {},
   "outputs": [
    {
     "name": "stdout",
     "output_type": "stream",
     "text": [
      "Writing 's' (str) to file 'sequences.fa'.\n"
     ]
    }
   ],
   "source": [
    "s='''>gi|685422210|ref|XM_009231696.1| Gaeumannomyces graminis var. tritici R3-111a-1 hypothetical protein partial mRNA\n",
    "ATGACGACGGACAGCACCAACCGCGCCTCGCCGCTGGCCAGGCTCGAGCAGGCCCGGCAGCTGCTCGCCA\n",
    "CCGCGCGCGAGATCCTGGACCGGTTCAACTACAAGCACAAGAACCAGCACCGCCTGTCCAAGTGGTGGGC\n",
    "CGCCTTCGACACCCTGCGCAGGCACCTCGCCAAGCTGGAGCGGGACGAAATCACGCCTGCTGTCGGGGCC\n",
    "CTCGAGCTCGCCGCCCGCCGGTCGGCGGCCCGCGGCTCCGGTGGCGGCGGCTCCAAGCGTCCCCGGGACC\n",
    "CTGCTGCCGCCGTGGACGTGGCCGTGATGCCGCCCGGCGTCGGGGCGAAATCCAAATGGATGCGCGACTA\n",
    "CCTGATCCCCAGGGCCTACCCCTCCTTCACCCAGCTGGCTGCGGACAATCAGTTCGCCCACCTAGGGCTT\n",
    "CTCTTGCTCGGCGTGCTGGCCCAGGTTCACGATCTCGTGTCTCTTATCTTGCCCCCGCGCATAGAGGAAG\n",
    "ATGACGCCGAGGGTGTAAAGTGTGCGGCTGCGTCTCCGCTTCGTATCGAAGCACGGCCGGTGCCGGCAGT\n",
    "GGGAACTGCCGCCCTTGTGCCTGCAGTTGCTTCCAGCAATCCAGATGATTTGGGCGTTGCTGTGTCCCGG\n",
    "GACGACGTTGCACCTGCAAAACGTGACGTGCGCAGCAGAAGCGAAGATGCATGCGCGCGATTAAACGGCA\n",
    "AGAAGCGTGAAAAACAGACCAGCACCAAACCCACCCTCTCAGAAGAGGCATCGCCAGGCCCAGACGAGGT\n",
    "GACTAGGCCAGTTCGCGAGGCGCCGCTAGGTCCATCTGCGGCCAAGCCCAAGGTCAAGAAAAAGGCACGT\n",
    "AGCGACGACGCCAAAGAGGAGAAGAAAAAGAAGAAGAGAAAGAAGGGCGACGAGTTTGACGACCTGTTTA\n",
    "GCTCGCTGATGTAG\n",
    "\n",
    "\n",
    ">gi|47075178|ref|NM_211569.1| Ashbya gossypii ATCC 10895 AGL160Wp (AGOS_AGL160W) mRNA, complete cds\n",
    "ATGTCGGACAAGGCTTTGCGCGCTGGTGAGGATGGCACGGAGATCCGTAATGCGCTTCGCAGCCTACAGC\n",
    "AAGAGCTGCGAGTCATTCACATCCTGTATCACAGGAACAAGAACCAGCACCGCGTAGCTACATGGTGGAA\n",
    "GCAGCTCAATTCGCTTAAGCGCAGTGTGAGTCAGGTGGTTACAGTGACTAGTAAGCCGGTGCGCACAGAG\n",
    "GCAGATCTGGAGGCGCTGGCAGGGTTGTTGCGGCGGTTTGCGGTGCGGCAGGCGCCGGCGATGTACTACG\n",
    "AGTTTAACGGCGTGATTGCGCTAGGACAATTCGTGACGCTGGGAGTGGTGCTGGTGGCAGCGCTTGCGCG\n",
    "CGTTTGGGCACTGTACGGGCAGCTGCGTGAGGCTCTCGGGCTACTGCCAGTGCGGGCGGCACAGGCGGAG\n",
    "CGCGAGTGCGACGTTGCACCTACTGAAGAGATCGGTGAAGAGGTGGCTGTGGCGGTGGCGGCGTCGCCGC\n",
    "CCGGCGCAGCCGCGCTGCCTGGCGGCAAGCGAATCAAGAAGAAAAGCAAGAGCAAACGTTCTGCGATCGA\n",
    "CGACATTTTCGGCTGA\n",
    "'''\n",
    "%store s >sequences.fa"
   ]
  },
  {
   "cell_type": "markdown",
   "metadata": {},
   "source": [
    "### Using the script\n",
    "\n",
    "We will cover an example of using the script, much like you would on the command line in a terminal interface on your computer. If that doesn't yet mean much, that's okay because an interface much like that is provided right here.\n",
    "\n",
    "If you've run the cells above, we have the script now. To process sequence file, run the next command where we use Python to run the script `add_source_organism_info_to_FASTA.py` and tell it we want it to process the sequence file just made by providing that as text after calling the script with `%run` in front of it."
   ]
  },
  {
   "cell_type": "code",
   "execution_count": 3,
   "metadata": {},
   "outputs": [
    {
     "name": "stderr",
     "output_type": "stream",
     "text": [
      "Reading in your FASTA file...\n",
      "Sending NCBI identifiers to fetch records...Fetching records 1 thru 2...\n",
      "Concluded.\n",
      "2 entries had the source organism added.\n",
      "The new file 'sequences_with_source.fa' has been created in same directory as the input file.\n",
      "\n"
     ]
    }
   ],
   "source": [
    "%run add_source_organism_info_to_FASTA.py sequences.fa"
   ]
  },
  {
   "cell_type": "markdown",
   "metadata": {},
   "source": [
    "We can view the produced file to see the result."
   ]
  },
  {
   "cell_type": "code",
   "execution_count": 4,
   "metadata": {},
   "outputs": [
    {
     "name": "stdout",
     "output_type": "stream",
     "text": [
      ">gi|685422210|ref|XM_009231696.1| Gaeumannomyces graminis var. tritici R3-111a-1 hypothetical protein partial mRNA [Gaeumannomyces tritici R3-111a-1]\r\n",
      "ATGACGACGGACAGCACCAACCGCGCCTCGCCGCTGGCCAGGCTCGAGCAGGCCCGGCAGCTGCTCGCCA\r\n",
      "CCGCGCGCGAGATCCTGGACCGGTTCAACTACAAGCACAAGAACCAGCACCGCCTGTCCAAGTGGTGGGC\r\n",
      "CGCCTTCGACACCCTGCGCAGGCACCTCGCCAAGCTGGAGCGGGACGAAATCACGCCTGCTGTCGGGGCC\r\n",
      "CTCGAGCTCGCCGCCCGCCGGTCGGCGGCCCGCGGCTCCGGTGGCGGCGGCTCCAAGCGTCCCCGGGACC\r\n",
      "CTGCTGCCGCCGTGGACGTGGCCGTGATGCCGCCCGGCGTCGGGGCGAAATCCAAATGGATGCGCGACTA\r\n",
      "CCTGATCCCCAGGGCCTACCCCTCCTTCACCCAGCTGGCTGCGGACAATCAGTTCGCCCACCTAGGGCTT\r\n",
      "CTCTTGCTCGGCGTGCTGGCCCAGGTTCACGATCTCGTGTCTCTTATCTTGCCCCCGCGCATAGAGGAAG\r\n",
      "ATGACGCCGAGGGTGTAAAGTGTGCGGCTGCGTCTCCGCTTCGTATCGAAGCACGGCCGGTGCCGGCAGT\r\n",
      "GGGAACTGCCGCCCTTGTGCCTGCAGTTGCTTCCAGCAATCCAGATGATTTGGGCGTTGCTGTGTCCCGG\r\n",
      "GACGACGTTGCACCTGCAAAACGTGACGTGCGCAGCAGAAGCGAAGATGCATGCGCGCGATTAAACGGCA\r\n",
      "AGAAGCGTGAAAAACAGACCAGCACCAAACCCACCCTCTCAGAAGAGGCATCGCCAGGCCCAGACGAGGT\r\n",
      "GACTAGGCCAGTTCGCGAGGCGCCGCTAGGTCCATCTGCGGCCAAGCCCAAGGTCAAGAAAAAGGCACGT\r\n",
      "AGCGACGACGCCAAAGAGGAGAAGAAAAAGAAGAAGAGAAAGAAGGGCGACGAGTTTGACGACCTGTTTA\r\n",
      "GCTCGCTGATGTAG\r\n",
      "\r\n",
      "\r\n",
      ">gi|47075178|ref|NM_211569.1| Ashbya gossypii ATCC 10895 AGL160Wp (AGOS_AGL160W) mRNA, complete cds [Eremothecium gossypii ATCC 10895]\r\n",
      "ATGTCGGACAAGGCTTTGCGCGCTGGTGAGGATGGCACGGAGATCCGTAATGCGCTTCGCAGCCTACAGC\r\n",
      "AAGAGCTGCGAGTCATTCACATCCTGTATCACAGGAACAAGAACCAGCACCGCGTAGCTACATGGTGGAA\r\n",
      "GCAGCTCAATTCGCTTAAGCGCAGTGTGAGTCAGGTGGTTACAGTGACTAGTAAGCCGGTGCGCACAGAG\r\n",
      "GCAGATCTGGAGGCGCTGGCAGGGTTGTTGCGGCGGTTTGCGGTGCGGCAGGCGCCGGCGATGTACTACG\r\n",
      "AGTTTAACGGCGTGATTGCGCTAGGACAATTCGTGACGCTGGGAGTGGTGCTGGTGGCAGCGCTTGCGCG\r\n",
      "CGTTTGGGCACTGTACGGGCAGCTGCGTGAGGCTCTCGGGCTACTGCCAGTGCGGGCGGCACAGGCGGAG\r\n",
      "CGCGAGTGCGACGTTGCACCTACTGAAGAGATCGGTGAAGAGGTGGCTGTGGCGGTGGCGGCGTCGCCGC\r\n",
      "CCGGCGCAGCCGCGCTGCCTGGCGGCAAGCGAATCAAGAAGAAAAGCAAGAGCAAACGTTCTGCGATCGA\r\n",
      "CGACATTTTCGGCTGA\r\n"
     ]
    }
   ],
   "source": [
    "!cat sequences_with_source.fa"
   ]
  },
  {
   "cell_type": "markdown",
   "metadata": {},
   "source": [
    "Note the organism name now occurs in brackets.\n",
    "\n",
    "## Usage\n",
    "\n",
    "You can get the help or 'manual' info on usage  by using `--help` or `-h` when calling the script."
   ]
  },
  {
   "cell_type": "code",
   "execution_count": 5,
   "metadata": {},
   "outputs": [
    {
     "name": "stdout",
     "output_type": "stream",
     "text": [
      "usage: add_source_organism_info_to_FASTA.py [-h] InputFile\n",
      "\n",
      "add_source_organism_info_to_FASTA.py adds to each description line the source\n",
      "organism information in between brackets if it appears not present based on\n",
      "lack of brackets. Written by Wayne Decatur --> Fomightez @ Github or Twitter.\n",
      "\n",
      "positional arguments:\n",
      "  InputFile   file of sequences in FASTA format. REQUIRED.\n",
      "\n",
      "optional arguments:\n",
      "  -h, --help  show this help message and exit\n"
     ]
    }
   ],
   "source": [
    "%run add_source_organism_info_to_FASTA.py --help"
   ]
  },
  {
   "cell_type": "markdown",
   "metadata": {},
   "source": [
    "## What about on your machine without Jupyter (or IPython)?\n",
    "\n",
    "**IMPORTANTLY:**  \n",
    "On your own machine, outside of Jupyter (or IPython), you'd replace `%run` with `python` (or perhaps `python3`, depending on your Python installation) if you wanted to run the script on your typical command line. So using the script in a terminal, would look something like the following after the prompt:\n",
    "\n",
    "```shell\n",
    "python add_source_organism_info_to_FASTA.py sequences.fa\n",
    "```\n",
    "\n",
    "That is telling your system to use Python to run the script and the rest is the name of the script and then the sequence file to pass to the script. Substitute your sequence file.\n",
    "\n",
    "Note: you'd have to have the script placed in that working directory. If it's not already there, you may be able to use the following command to get it:\n",
    "\n",
    "```shell\n",
    "curl -OL https://raw.githubusercontent.com/fomightez/sequencework/master/AdjustFASTA_or_FASTQ/add_source_organism_info_to_FASTA.py\n",
    "```\n",
    "\n",
    "If that fails, try the following to use `wget`:\n",
    "\n",
    "```shell\n",
    "wget https://raw.githubusercontent.com/fomightez/sequencework/master/AdjustFASTA_or_FASTQ/add_source_organism_info_to_FASTA.py\n",
    "```\n",
    "\n",
    "Both `wget` and `curl` do pretty much the same thing; however, some machines only have one or the other installed.\n",
    "\n",
    "*OPTIONAL*: Jupyter actually has a terminal as part of it, and so if you wanted you could use `python add_source_organism_info_to_FASTA.py sequences.fa` to run the script in this active session. You can get the terminal by pressing the Jupyter icon in the upper left side and then opening a termnal from the page that comes.  You'd need to use `cd` to change into the `notebooks` directory where this notebook is currently being run. \n",
    "\n",
    "**That covers the basics of using the script.** \n"
   ]
  },
  {
   "cell_type": "markdown",
   "metadata": {},
   "source": [
    "Enjoy.\n",
    "\n",
    "\n",
    "--------\n",
    "\n",
    "Go to the index page and click through to notebooks after the next in the series if you'd like.\n",
    "\n",
    "------\n",
    "\n",
    "-----"
   ]
  }
 ],
 "metadata": {
  "kernelspec": {
   "display_name": "Python 3 (ipykernel)",
   "language": "python",
   "name": "python3"
  },
  "language_info": {
   "codemirror_mode": {
    "name": "ipython",
    "version": 3
   },
   "file_extension": ".py",
   "mimetype": "text/x-python",
   "name": "python",
   "nbconvert_exporter": "python",
   "pygments_lexer": "ipython3",
   "version": "3.7.12"
  }
 },
 "nbformat": 4,
 "nbformat_minor": 4
}
