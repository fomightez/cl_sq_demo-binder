{
 "cells": [
  {
   "cell_type": "markdown",
   "metadata": {},
   "source": [
    "# Use biopython to make valid CLUSTAL formatted MSAs, check sequence of manually edited alignment, and add consensus line\n",
    "\n",
    "This is meant to represent a typical workflow where a combination of these steps would be used.\n",
    "\n",
    "------"
   ]
  },
  {
   "cell_type": "markdown",
   "metadata": {},
   "source": [
    "##  Using biopython to make valid CLUSTAL formatted MSAs\n",
    "\n",
    "Biopython seems to not require strict adherence to line lengths for the sequence blocks. For exampe, the first line can have 83 residues for each sequence while the other lines can have the tpyical fifty or sixty residues. (CLUSTAL produced by Biopython seem to be fifty per line while those produced by EMBL-EBI are sixty.) Since it can read in uneven CLUSTAL style alignments that can arise when one tries to manually edit a multiple sequence alignment (MSA), biopython is suited to converting the hand-edited sequence to the more standardized CLUSTAL format. ('Semi-official' specifications of the format can be found [here](http://meme-suite.org/doc/clustalw-format.html) and [here](http://scikit-bio.org/docs/0.4.2/generated/skbio.io.format.clustal.html) and [here](http://scikit-bio.org/docs/0.4.2/generated/skbio.io.format.clustal.html) and [here](https://www.ebi.ac.uk/Tools/msa/clustalw2/help/faq.html#18). A good example can be viewed [here](http://wwwabi.snv.jussieu.fr/public/Clustal2Dna/clustal.html). I say 'semi-official' because I have come accross many deviations; one main deviation is that many files start 'CLUSTAL' and not 'CLUSTAL W' or 'CLUSTAL W'. A case in point is the output produced by [EMBL-EBI's MUSCLE](https://www.ebi.ac.uk/Tools/msa/muscle/), an example of which is shown as outout in cell '[2]' below. Another deviation is that often the line showing the degree of conservation is not included.) \n",
    "\n",
    "It is probably always best to perform this step ASAP if you have sequence alignments with uneven blocks. This way the 'standardized' CLUSTAL format will be utilized by downstream steps. Not all computational tools will be written to be as lenient as biopython is about the standard format. I personally have written scripts that rely on the first set of sequence blocks to establish the number of columns. Hence, having uneven width for the sequence blocks would cause errors.\n",
    "\n",
    "\n",
    "Here a hand-edited multiple sequence alignment will be converted to more standard form.  \n",
    "(The process illustrated here is very reminiscent of the section entitled 'File Format Conversion' at the wiki page for ['The module for multiple sequence alignments, AlignIO'](https://biopython.org/wiki/AlignIO).)"
   ]
  },
  {
   "cell_type": "code",
   "execution_count": 1,
   "metadata": {},
   "outputs": [
    {
     "name": "stdout",
     "output_type": "stream",
     "text": [
      "  % Total    % Received % Xferd  Average Speed   Time    Time     Time  Current\n",
      "                                 Dload  Upload   Total   Spent    Left  Speed\n",
      "100  3632  100  3632    0     0  18251      0 --:--:-- --:--:-- --:--:-- 18343\n"
     ]
    }
   ],
   "source": [
    "# Get an alignment file\n",
    "!curl -o alignment.clw https://gist.githubusercontent.com/fomightez/f46b0624f1d8e3abb6ff908fc447e63b/raw/a3ec6fb9d5c3f558a4b8666ce1cbc20c356fe4de/unevenStv1p_Vph1p_muscle_alignment.clw"
   ]
  },
  {
   "cell_type": "code",
   "execution_count": 2,
   "metadata": {},
   "outputs": [
    {
     "name": "stdout",
     "output_type": "stream",
     "text": [
      "CLUSTAL multiple sequence alignment by MUSCLE (3.8)\r\n",
      "\r\n",
      "\r\n",
      "STV1            -MNQEEAIFRSADMTYVQLYIPLEVIREVTFLLGKMSVFMVMDLNKDLTAFQRGYVNQLRRFDEVER\r\n",
      "VPH1            MAEKEEAIFRSAEMALVQFYIPQEISRDSAYTLGQLGLVQFRDLNSKVRAFQRTFVNEIRRLDNVER\r\n",
      "                  ::********:*: **:*** *: *: :: **::.:. . ***..: **** :**::**:*:***\r\n",
      "\r\n",
      "STV1            MVGFLNEVVEKHAAETW-----KYILHIDDEGNDIAQPDMADLINTMEPLSLE\r\n",
      "VPH1            QYRYFYSLLKKHDIKLYEGDTDKYL----DGSGELYVPPSGSVI---------\r\n",
      "                   :: .:::**  : :     **:    * ..::  *  ..:*         \r\n",
      "\r\n",
      "STV1            NVNDMVKEITDCESRARQLDESLDSLRSKLNDLLEQRQVIFECSKFIEVNPGIAGRATNP\r\n"
     ]
    }
   ],
   "source": [
    "# Display original alignment to confirm starting state. NOTE UNEVEN LENGTH OF SEQUENCES ON LINES.\n",
    "!head -12 alignment.clw"
   ]
  },
  {
   "cell_type": "code",
   "execution_count": 3,
   "metadata": {},
   "outputs": [],
   "source": [
    "# Read in original alignment\n",
    "from Bio import SeqIO\n",
    "from Bio import AlignIO\n",
    "orig_alignment = AlignIO.read('alignment.clw', \"clustal\")"
   ]
  },
  {
   "cell_type": "code",
   "execution_count": 4,
   "metadata": {},
   "outputs": [],
   "source": [
    "# Save original alignment as a new file\n",
    "AlignIO.write(orig_alignment, 'standardized_alignment.clw', \"clustal\"); # based on # https://biopython.org/wiki/AlignIO;"
   ]
  },
  {
   "cell_type": "code",
   "execution_count": 5,
   "metadata": {},
   "outputs": [
    {
     "name": "stdout",
     "output_type": "stream",
     "text": [
      "CLUSTAL X (3.8) multiple sequence alignment\r\n",
      "\r\n",
      "\r\n",
      "STV1                                -MNQEEAIFRSADMTYVQLYIPLEVIREVTFLLGKMSVFMVMDLNKDLTA\r\n",
      "VPH1                                MAEKEEAIFRSAEMALVQFYIPQEISRDSAYTLGQLGLVQFRDLNSKVRA\r\n",
      "                                      ::********:*: **:*** *: *: :: **::.:. . ***..: *\r\n",
      "\r\n",
      "STV1                                FQRGYVNQLRRFDEVERMVGFLNEVVEKHAAETW-----KYILHIDDEGN\r\n",
      "VPH1                                FQRTFVNEIRRLDNVERQYRYFYSLLKKHDIKLYEGDTDKYL----DGSG\r\n",
      "                                    *** :**::**:*:***   :: .:::**  : :     **:    * ..\r\n",
      "\r\n",
      "STV1                                DIAQPDMADLINTMEPLSLENVNDMVKEITDCESRARQLDESLDSLRSKL\r\n"
     ]
    }
   ],
   "source": [
    "#check produced file\n",
    "!head -12 standardized_alignment.clw"
   ]
  },
  {
   "cell_type": "markdown",
   "metadata": {},
   "source": [
    "-----\n",
    "\n",
    "(Aside:   \n",
    "When I was comparing the results direct from [EMBL-EBI's MUSCLE](https://www.ebi.ac.uk/Tools/msa/muscle/) to what my script to add the consensus symbols produces I noticed some discrepancies.\n",
    "\n",
    "The third line shows that the consensus symbols for MUSCLE alignment are differently defined than other place I have seen:\n",
    "\n",
    "    STV1            NVNDMVKEITDCESRARQLDESLDSLRSKLNDLLEQRQVIFECSKFIEVNPGIAGRATNP\n",
    "    VPH1            --DDYVRNASYLEERLIQMEDATDQIEVQKNDLEQYRFILQSGDEFF-----LKGDNTDS\n",
    "                      :* *.: :  *.*  *:::: *.:  : *** : * :: . .:*:     : *  *:.\n",
    "                          ^                   ^            \n",
    "\n",
    "I put an upward arrow head (super-script character) pointing out the two that\n",
    "don't match what I have seen elsewhere for conserved residues.\n",
    "\n",
    "- Why is K and R substituion not strongly similar?  Should be according to [here](https://www.ebi.ac.uk/seqdb/confluence/display/JDSAT/Bioinformatics+Tools+FAQ#BioinformaticsToolsFAQ-WhatdoconsensussymbolsrepresentinaMultipleSequenceAlignment?) and [here](https://www.genome.jp/tools/clustalw/clustalw_readme.html) and [here](https://en.wikipedia.org/wiki/Clustal).\n",
    "- Why is E and R substituion not weakly similar? Should be according to [here](https://www.ebi.ac.uk/seqdb/confluence/display/JDSAT/Bioinformatics+Tools+FAQ#BioinformaticsToolsFAQ-WhatdoconsensussymbolsrepresentinaMultipleSequenceAlignment?) and [here](https://www.genome.jp/tools/clustalw/clustalw_readme.html) and [here](https://en.wikipedia.org/wiki/Clustal).\n",
    "\n",
    "My script `calculate_cons_for_clustal_protein.py`, demonstrated in the last section of this notebook, annotates these correctly. I only noticed when I was trying to test `calculate_cons_for_clustal_protein.py` and noticed I wasn't producing things matching perfect with the symbols that MUSCLE adds. )\n",
    "\n",
    "----"
   ]
  },
  {
   "cell_type": "markdown",
   "metadata": {},
   "source": [
    "## Check sequence of manually edited alignment\n",
    "\n",
    "In the process of manuall editing a multiple sequence file, it is easy to erroneously delete sequence. This section will demonstrate using `check_seq_in_MSAclustal_consistent_with_FASTA.py` to make sure the sequence in the edited file is valid. It checks against a user-provided FASTA. It is suggested this FASTA come directly from an 'official' source.\n",
    "\n",
    "First, we'll get the script by running the next cell:"
   ]
  },
  {
   "cell_type": "code",
   "execution_count": 6,
   "metadata": {},
   "outputs": [
    {
     "name": "stdout",
     "output_type": "stream",
     "text": [
      "  % Total    % Received % Xferd  Average Speed   Time    Time     Time  Current\n",
      "                                 Dload  Upload   Total   Spent    Left  Speed\n",
      "100 11396  100 11396    0     0  65120      0 --:--:-- --:--:-- --:--:-- 65120\n"
     ]
    }
   ],
   "source": [
    "# Get a file if not yet retrieved / check if file exists\n",
    "import os\n",
    "file_needed = \"check_seq_in_MSAclustal_consistent_with_FASTA.py\"\n",
    "if not os.path.isfile(file_needed):\n",
    "    !curl -OL https://raw.githubusercontent.com/fomightez/sequencework/master/alignment-utilities/{file_needed}"
   ]
  },
  {
   "cell_type": "markdown",
   "metadata": {},
   "source": [
    "For these proteins, they came from the [Saccharomyces Genome Database (SGD)](https://www.yeastgenome.org/) page for each respective encoding gene, and then from the 'Protein' tab (example: [STV1 protein tab](https://www.yeastgenome.org/locus/S000004658/protein)) under 'Sequence' about half way down the page , I clicked on the button 'Download Sequence (.fsa)'. The **files from following that process have already been placed in the `data` directory in this session**, assuming you launched a session using `launch binder` from [here](https://github.com/fomightez/cl_sq_demo-binder). Let's copy those files over to our working directory to make things simpler when indicating the files to use below."
   ]
  },
  {
   "cell_type": "code",
   "execution_count": 7,
   "metadata": {},
   "outputs": [],
   "source": [
    "!cp ../data/S288C_* ."
   ]
  },
  {
   "cell_type": "markdown",
   "metadata": {},
   "source": [
    "Since the sequence in this case is from yeast, the FASTA can also be obtained using my script `get_protein_seq_as_FASTA.py` which will work in binder session launched from where this active notebook was also lanched. See about `get_protein_seq_as_FASTA.py` [here](https://github.com/fomightez/yeastmine)."
   ]
  },
  {
   "cell_type": "markdown",
   "metadata": {},
   "source": [
    "With the preparation steps complete, we are not ready to check the sequence reprensented in the alignment is consistent with the FASTA file from an 'official' source. First for Stv1p. Note in the next command after calling the script, you supply the alignment file name, followed by the identifier of the sequence in the alignment you want to compare, followed by the name (or path) of the FASTA file containing the sequence."
   ]
  },
  {
   "cell_type": "code",
   "execution_count": 8,
   "metadata": {},
   "outputs": [
    {
     "name": "stderr",
     "output_type": "stream",
     "text": [
      "\n",
      "**NOTE: gap indicator in this script is currently set to '-'. If\n",
      "that does not match what provided alignment uses to indicate gaps,\n",
      "please change the setting within the script code under\n",
      "'USER ADJUSTABLE VALUES' around line 100 (give or take a few).**\n",
      "Alignment file read...STV1 sequence collected from alignment...FASTA file read...Checking...\n",
      "Are the sequences the same?  ...  ...\n"
     ]
    },
    {
     "name": "stdout",
     "output_type": "stream",
     "text": [
      "True\n"
     ]
    }
   ],
   "source": [
    "%run check_seq_in_MSAclustal_consistent_with_FASTA.py alignment.clw STV1 S288C_YMR054W_STV1_protein.fsa"
   ]
  },
  {
   "cell_type": "markdown",
   "metadata": {},
   "source": [
    "Note the following would have also worked if we hadn't copied the FASTA file to the current working directory:\n",
    "\n",
    "```python\n",
    "%run check_seq_in_MSAclustal_consistent_with_FASTA.py alignment.clw STV1 ../data/S288C_YMR054W_STV1_protein.fsa\n",
    "```\n",
    "\n",
    "Importantly, the `True` returned says the sequence of Stv1p in the alignment matched with that official FASTA sequence. Thus helping us be confident nothing got changed along the way while hand editing.\n",
    "\n",
    "If you wanted to check for Vph1p you'd run the following:\n",
    "\n",
    "```python\n",
    "%run check_seq_in_MSAclustal_consistent_with_FASTA.py alignment.clw VPH1 S288C_YOR270C_VPH1_protein.fsa\n",
    "```\n",
    "\n",
    "You can choose to do that or not."
   ]
  },
  {
   "cell_type": "markdown",
   "metadata": {},
   "source": [
    "Yay! Sequence of one of the sequences in the manually-edited multiple sequence alignment has been confirmed against the official record to verifying no errors were introduced during editing.  \n",
    "It is best the process is repeated with any others as well if this was really part of a pipeling you were processing."
   ]
  },
  {
   "cell_type": "markdown",
   "metadata": {},
   "source": [
    "## Optional: Adjust width of alignment\n",
    "\n",
    "Biopython produces alignments with 50 sequence characters per line even if you started with ones like those that come from [EMBL-EBI's MUSCLE](https://www.ebi.ac.uk/Tools/msa/muscle/) or similar tools with 60 sequence characters per line. Clustal-formateted data with fifty sequence characters per line can be adjusted back to 60 (or some options) using [Mview](https://www.ebi.ac.uk/Tools/msa/mview/) and then parsing the output to actual CLUSTAL format. (Admittedly, it is a little kludgy but it works and it is less software to maintain by relying on [MView](https://www.ebi.ac.uk/Tools/msa/mview/) for most of the heavy lifting.)\n",
    "\n",
    "This illustrates doing that. \n",
    "\n",
    "#### Step 1: Use MView to get alignment with width desired.\n",
    "\n",
    "First, the alignment with fifty sequence characters per line needs to be submitted to [MView](https://www.ebi.ac.uk/Tools/msa/mview/) and the settings adjusted to make sure the right form comes back. The following lines describe doing that. **YOU DO NOT ACTUALLY NEED TO DO THAT FOR THE EXAMPLE; a pre-made version will be retrieved in the next cell to save you from needing to actually do these steps.**\n",
    " \n",
    "In the top box at [MView](https://www.ebi.ac.uk/Tools/msa/mview/), paste in the text of the alignment that written with Biopython's `AlignIO.write()` method above. In that example, the file containing the alignment text is called `standardized_alignment.clw`. \n",
    "\n",
    "Set `INPUT FORMAT` to 'CLUSTAL'.\n",
    "\n",
    "Under `STEP 3 - Set output parameters` at [MView](https://www.ebi.ac.uk/Tools/msa/mview/), click on the 'More options...' button and adjust the settings to match the image below. Adjust the 'ALIGNMENT WIDTH' in those options to what you'd like. \n",
    "\n",
    "![options_settings](../imgs/mview_settings_for_parse.png)\n",
    "\n",
    "Essentially, in addition to choosing 'MVIEW' as `OUTPUT FORMAT`, 'ON' for `ALIGNMENT`, the desired width, most settings are adjusted to 'OFF', in particular `HTML MARKUP`, `RULER`, and `CONSENSUS`.\n",
    "\n",
    "Submit the job and let it run.   \n",
    "We need to bring the result into this Jupyter session. Click the `Download Alignment File` button just above the text output. Currently, clicking that in my browser bings up a page with just the ouput text where I need to highlight all the text and copy and then copy the entire block of text and paste it into a file here in the Jupyter session.  Call it `mview_out.txt`. \n",
    "\n",
    "You can run the next cell to get the `mview_out.txt` file that would result from those steps."
   ]
  },
  {
   "cell_type": "code",
   "execution_count": 9,
   "metadata": {},
   "outputs": [
    {
     "name": "stdout",
     "output_type": "stream",
     "text": [
      "  % Total    % Received % Xferd  Average Speed   Time    Time     Time  Current\n",
      "                                 Dload  Upload   Total   Spent    Left  Speed\n",
      "100  2735  100  2735    0     0  18605      0 --:--:-- --:--:-- --:--:-- 18605\n"
     ]
    }
   ],
   "source": [
    "# Get pre-made mview output\n",
    "!curl -o mview_out.txt https://gist.githubusercontent.com/fomightez/f46b0624f1d8e3abb6ff908fc447e63b/raw/5860f3b4c6aaf25d348dd9a188670cb89e68792e/uv_mview_output.txt"
   ]
  },
  {
   "cell_type": "markdown",
   "metadata": {},
   "source": [
    "To show we have that:"
   ]
  },
  {
   "cell_type": "code",
   "execution_count": 10,
   "metadata": {},
   "outputs": [
    {
     "name": "stdout",
     "output_type": "stream",
     "text": [
      "Reference sequence (1): STV1 Identities normalised by aligned length.\r\n",
      "1 STV1 100.0% 100.0%  -MNQEEAIFRSADMTYVQLYIPLEVIREVTFLLGKMSVFMVMDLNKDLTAFQRGYVNQLR \r\n",
      "2 VPH1  91.5%  47.2%  MAEKEEAIFRSAEMALVQFYIPQEISRDSAYTLGQLGLVQFRDLNSKVRAFQRTFVNEIR \r\n",
      "\r\n",
      "1 STV1 100.0% 100.0%  RFDEVERMVGFLNEVVEKHAAETW-----KYILHIDDEGNDIAQPDMADLINTMEPLSLE \r\n",
      "2 VPH1  91.5%  47.2%  RLDNVERQYRYFYSLLKKHDIKLYEGDTDKYL----DGSGELYVPPSGSVI--------- \r\n",
      "\r\n",
      "1 STV1 100.0% 100.0%  NVNDMVKEITDCESRARQLDESLDSLRSKLNDLLEQRQVIFECSKFIEVNPGIAGRATNP \r\n",
      "2 VPH1  91.5%  47.2%  --DDYVRNASYLEERLIQMEDATDQIEVQKNDLEQYRFILQSGDEFF-----LKGDNTDS \r\n",
      "\r\n"
     ]
    }
   ],
   "source": [
    "!head mview_out.txt"
   ]
  },
  {
   "cell_type": "markdown",
   "metadata": {},
   "source": [
    "#### Step 2: Use my script to convert that to standardized CLUSTAL format.\n",
    "\n",
    "From the view above, you'll see that MView got things most of the way there.  Specifically, there is the idenitifier and the sequence of the specified width in each sequence block. My script mainly parses those out and adjusts a few things to make it standard CLUSTAL format.  \n",
    "The main source for the 'standardized' specification seems to be [here](http://meme-suite.org/doc/clustalw-format.html); however, see the top of this notebook for more about the specification.\n",
    "\n",
    "The next cell will retrieve the script."
   ]
  },
  {
   "cell_type": "code",
   "execution_count": 11,
   "metadata": {},
   "outputs": [
    {
     "name": "stdout",
     "output_type": "stream",
     "text": [
      "  % Total    % Received % Xferd  Average Speed   Time    Time     Time  Current\n",
      "                                 Dload  Upload   Total   Spent    Left  Speed\n",
      "100 13679  100 13679    0     0  84438      0 --:--:-- --:--:-- --:--:-- 84962\n"
     ]
    }
   ],
   "source": [
    "# Get the script\n",
    "!curl -O https://raw.githubusercontent.com/fomightez/sequencework/master/alignment-utilities/mview_to_CLUSTAL.py"
   ]
  },
  {
   "cell_type": "markdown",
   "metadata": {},
   "source": [
    "Now we will point the script at that `mview_out.txt` file."
   ]
  },
  {
   "cell_type": "code",
   "execution_count": 12,
   "metadata": {},
   "outputs": [
    {
     "name": "stderr",
     "output_type": "stream",
     "text": [
      "MView output read...collected identifiers and sequences...arranging for output...\n",
      "\n",
      "Alignment converted from MView to CLUSTAL saved as 'mview_out_clustalized.clw'.\n",
      "Finished.\n"
     ]
    }
   ],
   "source": [
    "%run mview_to_CLUSTAL.py mview_out.txt"
   ]
  },
  {
   "cell_type": "markdown",
   "metadata": {},
   "source": [
    "To see the result:"
   ]
  },
  {
   "cell_type": "code",
   "execution_count": 13,
   "metadata": {},
   "outputs": [
    {
     "name": "stdout",
     "output_type": "stream",
     "text": [
      "CLUSTAL multiple sequence alignment by mview_to_CLUSTAL (0.1.0)\r\n",
      "\r\n",
      "STV1            -MNQEEAIFRSADMTYVQLYIPLEVIREVTFLLGKMSVFMVMDLNKDLTAFQRGYVNQLR\r\n",
      "VPH1            MAEKEEAIFRSAEMALVQFYIPQEISRDSAYTLGQLGLVQFRDLNSKVRAFQRTFVNEIR\r\n",
      "\r\n",
      "STV1            RFDEVERMVGFLNEVVEKHAAETW-----KYILHIDDEGNDIAQPDMADLINTMEPLSLE\r\n",
      "VPH1            RLDNVERQYRYFYSLLKKHDIKLYEGDTDKYL----DGSGELYVPPSGSVI---------\r\n",
      "\r\n",
      "STV1            NVNDMVKEITDCESRARQLDESLDSLRSKLNDLLEQRQVIFECSKFIEVNPGIAGRATNP\r\n",
      "VPH1            --DDYVRNASYLEERLIQMEDATDQIEVQKNDLEQYRFILQSGDEFF-----LKGDNTDS\r\n"
     ]
    }
   ],
   "source": [
    "!head mview_out_clustalized.clw"
   ]
  },
  {
   "cell_type": "markdown",
   "metadata": {},
   "source": [
    "Let's rename that back to something more general for use below."
   ]
  },
  {
   "cell_type": "code",
   "execution_count": 14,
   "metadata": {},
   "outputs": [],
   "source": [
    "!mv mview_out_clustalized.clw aligned.clw"
   ]
  },
  {
   "cell_type": "markdown",
   "metadata": {},
   "source": [
    "## Add a consensus symbol line to an MSA\n",
    "\n",
    "Multiple sequence alignments from various sources don't come with the consensus symbols line typically provided by [EMBL-EBI's MUSCLE](https://www.ebi.ac.uk/Tools/msa/muscle/). Theese symbols are described [here](https://www.ebi.ac.uk/seqdb/confluence/display/JDSAT/Bioinformatics+Tools+FAQ#BioinformaticsToolsFAQ-WhatdoconsensussymbolsrepresentinaMultipleSequenceAlignment?). Or sometimes they can get lost or need substantial updating following manual editing to the point is easier to remove them and start over to add them correctly. Here `calculate_cons_for_clustal_protein.py` is used to add a consensus line to an multiple sequence alignment.  I have a separate script for nucleic acids, called `calculate_cons_for_clustal_nucleic.py`, see about it [here](https://github.com/fomightez/sequencework/tree/master/alignment-utilities).\n",
    "\n",
    "(**Note the width will be 60 and not 50 if the optional step was included.**)"
   ]
  },
  {
   "cell_type": "code",
   "execution_count": 15,
   "metadata": {},
   "outputs": [
    {
     "name": "stdout",
     "output_type": "stream",
     "text": [
      "  % Total    % Received % Xferd  Average Speed   Time    Time     Time  Current\n",
      "                                 Dload  Upload   Total   Spent    Left  Speed\n",
      "100 24598  100 24598    0     0   155k      0 --:--:-- --:--:-- --:--:--  157k\n"
     ]
    }
   ],
   "source": [
    "import os\n",
    "file_needed = \"calculate_cons_for_clustal_protein.py\"\n",
    "if not os.path.isfile(file_needed):\n",
    "    !curl -OL https://raw.githubusercontent.com/fomightez/sequencework/master/alignment-utilities/calculate_cons_for_clustal_protein.py\n"
   ]
  },
  {
   "cell_type": "code",
   "execution_count": 16,
   "metadata": {},
   "outputs": [
    {
     "name": "stderr",
     "output_type": "stream",
     "text": [
      "Alignment file read...top line identifier determined as 'STV1'...bottom line identifier determined as 'VPH1'...\n",
      "individual lines for each sequence identifier parsed...determining conservation of aligned sequences...\n",
      "\n",
      "Alignment with conservation indication symbols added saved as 'aligned_plusCONS.clw'.\n",
      "Finished.\n"
     ]
    }
   ],
   "source": [
    "%run calculate_cons_for_clustal_protein.py aligned.clw"
   ]
  },
  {
   "cell_type": "code",
   "execution_count": 17,
   "metadata": {},
   "outputs": [
    {
     "name": "stdout",
     "output_type": "stream",
     "text": [
      "CLUSTAL multiple sequence alignment by mview_to_CLUSTAL (0.1.0)\r\n",
      "\r\n",
      "STV1            -MNQEEAIFRSADMTYVQLYIPLEVIREVTFLLGKMSVFMVMDLNKDLTAFQRGYVNQLR\r\n",
      "VPH1            MAEKEEAIFRSAEMALVQFYIPQEISRDSAYTLGQLGLVQFRDLNSKVRAFQRTFVNEIR\r\n",
      "                  ::********:*: **:*** *: *: :: **::.:. . ***..: **** :**::*\r\n",
      "\r\n",
      "STV1            RFDEVERMVGFLNEVVEKHAAETW-----KYILHIDDEGNDIAQPDMADLINTMEPLSLE\r\n",
      "VPH1            RLDNVERQYRYFYSLLKKHDIKLYEGDTDKYL----DGSGELYVPPSGSVI---------\r\n",
      "                *:*:***   :: .:::**  : :     **:    * ..::  *  ..:*         \r\n",
      "\r\n",
      "STV1            NVNDMVKEITDCESRARQLDESLDSLRSKLNDLLEQRQVIFECSKFIEVNPGIAGRATNP\r\n",
      "VPH1            --DDYVRNASYLEERLIQMEDATDQIEVQKNDLEQYRFILQSGDEFF-----LKGDNTDS\r\n",
      "                  :* *:: :  *.*  *:::: *.:. : *** : * :: . .:*:     : *  *:.\r\n",
      "\r\n",
      "STV1            EIEQEERDVDEFRMTPDDISETLSDAFSFDDETPQDRGALGNDLTRNQSVEDLSFLEQGY\r\n",
      "VPH1            TSYMDEDMIDA---NGENIAAAIGASVNY-------------------------------\r\n",
      "                    :*  :*    . ::*: ::. :..:                               \r\n",
      "\r\n",
      "STV1            QHRYMITGSIRRTKVDILNRILWRLLRGNLIFQNFPIEEPL--LEGKEKVEKDCFIIFTH\r\n",
      "VPH1            -----VTGVIARDKVATLEQILWRVLRGNLFFKTVEIEQPVYDVKTREYKHKNAFIVFSH\r\n",
      "                     :** * * **  *::****:*****:*:.. **:*:  :: :*  .*:.**:*:*\r\n",
      "\r\n",
      "STV1            GETLLKKVKRVIDSLNGKIVSLNTRS---SELVDTLNRQIDDLQRILDTTEQTLHTELLV\r\n",
      "VPH1            GDLIIKRIRKIAESLDANLYDVDSSNEGRSQQLAKVNKNLSDLYTVLKTTSTTLESELYA\r\n",
      "                *: ::*::::: :**:.:: .::: .   *: : .:*:::.**  :*.**. **.:** .\r\n",
      "\r\n",
      "STV1            IHDQLPVWSAMTKREKYVYTTLNK--FQQESQGLIAEGWVPSTELIHLQDSLKDYIETLG\r\n",
      "VPH1            IAKELDSWFQDVTREKAIFEILNKSNYDTNRKILIAEGWIPRDELATLQARLGEMIARLG\r\n",
      "                * .:*  *   ..*** ::  ***  :: : : ******:*  **  **  * : *  **\r\n",
      "\r\n",
      "STV1            SEYSTVFNVILTNKLPPTYHRTNKFTQAFQSIVDAYGIATYKEINAGLATVVTFPFMFAI\r\n",
      "VPH1            IDVPSIIQVLDTNHTPPTFHRTNKFTAGFQSICDCYGIAQYREINAGLPTIVTFPFMFAI\r\n",
      "                 : .::::*: **: ***:******* .**** *.**** *:******.*:*********\r\n",
      "\r\n",
      "STV1            MFGDMGHGFILFLMALFLVLNERKFGAMHRDEIFDMAFTGRYVLLLMGAFSVYTGLLYND\r\n",
      "VPH1            MFGDMGHGFLMTLAALSLVLNEKKINKMKRGEIFDMAFTGRYIILLMGVFSMYTGFLYND\r\n",
      "                *********:: * ** *****:*:. *:*.***********::****.**:***:****\r\n",
      "\r\n",
      "STV1            IFSKSMTIFKSGWQWPSTFRKGESIEAKKTGVYPFGLDFAWHGTDNGLLFSNSYKMKLSI\r\n",
      "VPH1            IFSKTMTIFKSGWKWPDHWKKGESITATSVGTYPIGLDWAWHGTENALLFSNSYKMKLSI\r\n",
      "                ****:********:**. ::***** *...*.**:***:*****:*.*************\r\n",
      "\r\n",
      "STV1            LMGYAHMTYSFMFSYINYRAKNSKVDIIGNFIPGLVFMQSIFGYLSWAIVYKWSKDWIKD\r\n",
      "VPH1            LMGFIHMTYSYFFSLANHLYFNSMIDIIGNFIPGLLFMQGIFGYLSVCIVYKWAVDWVKD\r\n",
      "                ***: *****::**  *:   ** :**********:***.****** .*****: **:**\r\n",
      "\r\n",
      "STV1            DKPAPGLLNMLINMFLAPGTIDDQLYSGQAKLQVVLLLAALVCVPWLLLYKPLTLRRLNK\r\n",
      "VPH1            GKPAPGLLNMLINMFLSPGTIDDELYPHQAKVQVFLLLMALVCIPWLLLVKPLHFKFTHK\r\n",
      "                .***************:******:**. ***:**.*** ****:***** *** ::  :*\r\n",
      "\r\n",
      "STV1            NGGGGRPHGYQSVGNIEHEEQIAQQRHSAEGFQGMIISDVASVADSINESVGGGEQGPFN\r\n",
      "VPH1            K------KSHEPLPSTEADA-------SSEDLEAQQLISAMDADDAEEEEVGSGSHGE-D\r\n",
      "                :      :.::.: . * :        *:*.::.  : .. .. *: :*.**.*.:*  :\r\n",
      "\r\n",
      "STV1            FGDVMIHQVIHTIEFCLNCISHTASYLRLWALSLAHAQLSSVLWDMTISNAFSSKNSGSP\r\n",
      "VPH1            FGDIMIHQVIHTIEFCLNCVSHTASYLRLWALSLAHAQLSSVLWTMTIQIAFGFRGF---\r\n",
      "                ***:***************:************************ ***. **. :.    \r\n",
      "\r\n",
      "STV1            LAVMKVVFLFAMWFVLTVCILVFMEGTSAMLHALRLHWVEAMSKFFEGEGYAYEPFSFR-\r\n",
      "VPH1            VGVFMTVALFAMWFALTCAVLVLMEGTSAMLHSLRLHWVESMSKFFVGEGLPYEPFAFEY\r\n",
      "                :.*: .* ******.** .:**:*********:*******:***** *** .****:*. \r\n",
      "\r\n",
      "STV1            -----AIIE-------\r\n",
      "VPH1            KDMEVAVASASSSASS\r\n",
      "                     *: .       \r\n",
      "\r\n"
     ]
    }
   ],
   "source": [
    "!cat aligned_plusCONS.clw"
   ]
  },
  {
   "cell_type": "markdown",
   "metadata": {},
   "source": [
    "See [here](https://www.ebi.ac.uk/seqdb/confluence/display/THD/Help+-+Clustal+Omega+FAQ#Help-ClustalOmegaFAQ-Whatdotheconsensussymbolsmeaninthealignment?) for interpreting the symbols now below each aligned sub-section of the multiple sequence alignment."
   ]
  },
  {
   "cell_type": "markdown",
   "metadata": {},
   "source": [
    "Possible subsequent use for the consensus symbols line:  \n",
    "\n",
    "Beyond visually displaying relatedness in a multiple sequence alignment, these symbols can be used for categorizing residues to make commands for highlighting in molecular visualization. See [here for an example](https://nbviewer.jupyter.org/github/fomightez/cl_demo-binder/blob/master/cl_demo-binder%20Categorize%20conservation%20in%20a%20MSA%20and%20use%20that%20to%20generate%20molvis%20commands.ipynb) that uses `categorize_residues_based_on_conservation_relative_consensus_line.py` script described [here](https://github.com/fomightez/sequencework/tree/master/alignment-utilities). The notebook can be launched in active form from [here](https://github.com/fomightez/cl_demo-binder) and then selecting from the index to go to the 'Categorize conservation in a MSA and use that to generate molvis commands' page. The demo was put in the structure work demo series because it was mainly developed to work towards making commands for molecular visualization."
   ]
  },
  {
   "cell_type": "markdown",
   "metadata": {},
   "source": [
    "-----\n",
    "Enjoy!"
   ]
  }
 ],
 "metadata": {
  "kernelspec": {
   "display_name": "Python 3 (ipykernel)",
   "language": "python",
   "name": "python3"
  },
  "language_info": {
   "codemirror_mode": {
    "name": "ipython",
    "version": 3
   },
   "file_extension": ".py",
   "mimetype": "text/x-python",
   "name": "python",
   "nbconvert_exporter": "python",
   "pygments_lexer": "ipython3",
   "version": "3.7.10"
  }
 },
 "nbformat": 4,
 "nbformat_minor": 2
}
