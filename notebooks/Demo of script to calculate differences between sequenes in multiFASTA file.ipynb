{
 "cells": [
  {
   "cell_type": "markdown",
   "metadata": {},
   "source": [
    "# Demo of script to calculate differences between sequenes in multiFASTA file\n",
    "\n",
    "This notebook is to demonstrate `score_differences_between_sequences_by_pairwise_alignment.py`.  \n",
    "The script takes sequences in FASTA format that haven't been aligned. It performs pairwise aligments for each pair combination and makes a matrix of the differences between each.  \n",
    "If your seqeunces are already aligned, use  Torsten Seemann's `snp-dists` software to make a matrix of the differences, see [here](https://github.com/tseemann/snp-dists).\n",
    "\n",
    "First realized and planned [here](https://git.io/fj9ES). \n",
    "\n",
    "It is highly related to my script `roughly_score_relationships_to_subject_seq_pairwise_premsa.py`, available [here](https://github.com/fomightez/sequencework/tree/master/alignment-utilities).\n",
    "\n",
    "\n",
    "\n",
    "This is meant to snippets that could be adapted and placed in a typical workflow.\n",
    "\n",
    "If you are viewing this statically and want a place to run it actively. Go [here](https://github.com/fomightez/cl_sq_demo-binder), press the `launch binder` badge, and then when the session spins up, select `Demo of script to calculate differences between sequenes in multiFASTA file` from the list. Then you'll be able to actively run this notebook without needing to install anything. The demostration parts below are written as if you are in an active session.\n",
    "\n",
    "------\n",
    "\n",
    "<div class=\"alert alert-block alert-warning\">\n",
    "<p>If you haven't used one of these notebooks before, they're basically web pages in which you can write, edit, and run live code. They're meant to encourage experimentation, so don't feel nervous. Just try running a few cells and see what happens!.</p>\n",
    "\n",
    "<p>\n",
    "    Some tips:\n",
    "    <ul>\n",
    "        <li>Code cells have boxes around them. When you hover over them a <i class=\"fa-step-forward fa\"></i> icon appears.</li>\n",
    "        <li>To run a code cell either click the <i class=\"fa-step-forward fa\"></i> icon, or click on the cell and then hit <b>Shift+Enter</b>. The <b>Shift+Enter</b> combo will also move you to the next cell, so it's a quick way to work through the notebook.</li>\n",
    "        <li>While a cell is running a <b>*</b> appears in the square brackets next to the cell. Once the cell has finished running the asterisk will be replaced with a number.</li>\n",
    "        <li>In most cases you'll want to start from the top of notebook and work your way down running each cell in turn. Later cells might depend on the results of earlier ones.</li>\n",
    "        <li>To edit a code cell, just click on it and type stuff. Remember to run the cell once you've finished editing.</li>\n",
    "    </ul>\n",
    "</p>\n",
    "</div>\n",
    "\n",
    "----"
   ]
  },
  {
   "cell_type": "markdown",
   "metadata": {},
   "source": [
    "##  Preparation\n",
    "\n",
    "You'll need the script and some sequences to compare."
   ]
  },
  {
   "cell_type": "code",
   "execution_count": 1,
   "metadata": {},
   "outputs": [
    {
     "name": "stdout",
     "output_type": "stream",
     "text": [
      "  % Total    % Received % Xferd  Average Speed   Time    Time     Time  Current\n",
      "                                 Dload  Upload   Total   Spent    Left  Speed\n",
      "100 24200  100 24200    0     0   129k      0 --:--:-- --:--:-- --:--:--  129k\n"
     ]
    }
   ],
   "source": [
    "# Get the script\n",
    "!curl -O https://raw.githubusercontent.com/fomightez/sequencework/master/alignment-utilities/score_differences_between_sequences_by_pairwise_alignment.py"
   ]
  },
  {
   "cell_type": "markdown",
   "metadata": {},
   "source": [
    "#### Display USAGE block"
   ]
  },
  {
   "cell_type": "code",
   "execution_count": 2,
   "metadata": {},
   "outputs": [
    {
     "name": "stdout",
     "output_type": "stream",
     "text": [
      "usage: score_differences_between_sequences_by_pairwise_alignment.py\n",
      "       [-h] [-bl BLOCK_LEN] [-dfo DF_OUTPUT] SEQS_FILE\n",
      "\n",
      "score_differences_between_sequences_by_pairwise_alignment.py Takes a file of\n",
      "multiple sequences in FASTA format and aligns each of them in turn to each\n",
      "other sequence. The output is a matrix of the differences. If your sequences\n",
      "are already aligned, just use Torsten Seemann's `snp-dists` software to make a\n",
      "matrix of the differences, see https://github.com/tseemann/snp-dists. However,\n",
      "if the sequence happens to be moderate- or large-sized (> 5 kb), by default it\n",
      "only samples part of the sequence due to memory limitations. It scores the\n",
      "alignments and produces a dataframe ranking the sequences from most similar to\n",
      "most different relative the first one in the supplied file. The dataframe is\n",
      "saved as a tabular text file when used on the command line. Optionally, it can\n",
      "also return that dataframe for use inside a Jupyter notebook. **** Script by\n",
      "Wayne Decatur (fomightez @ github) ***\n",
      "\n",
      "positional arguments:\n",
      "  SEQS_FILE             Name of file of sequences (all FASTA-formatted) to\n",
      "                        compare to the first in that file .\n",
      "\n",
      "optional arguments:\n",
      "  -h, --help            show this help message and exit\n",
      "  -bl BLOCK_LEN, --block_len BLOCK_LEN\n",
      "                        **FOR ADVANCED USE.*** Allows for setting the sequence\n",
      "                        blocks compared for long sequences. The default of\n",
      "                        9141 was worked out for uisng in a session launched\n",
      "                        form MyBinder.org 2018. You can free to make larger if\n",
      "                        you have more computational resources. For example,\n",
      "                        `-bl 15000`; however, the failing condition is just a\n",
      "                        silent(hanging) state.\n",
      "  -dfo DF_OUTPUT, --df_output DF_OUTPUT\n",
      "                        OPTIONAL: Set file name for saving tabular text (tab-\n",
      "                        delimited) derived from the produced dataframe. If\n",
      "                        none provided, 'diff_score_matrix.tsv' will be used.\n",
      "                        To force no table to be saved, enter `-dfo no_table`\n",
      "                        without quotes or ticks as output file (ATYPICAL).\n"
     ]
    }
   ],
   "source": [
    "!python score_differences_between_sequences_by_pairwise_alignment.py -h"
   ]
  },
  {
   "cell_type": "markdown",
   "metadata": {},
   "source": [
    "Next, we'll get example data to use."
   ]
  },
  {
   "cell_type": "code",
   "execution_count": 3,
   "metadata": {},
   "outputs": [
    {
     "name": "stdout",
     "output_type": "stream",
     "text": [
      "  % Total    % Received % Xferd  Average Speed   Time    Time     Time  Current\n",
      "                                 Dload  Upload   Total   Spent    Left  Speed\n",
      "100  4594  100  4594    0     0  19466      0 --:--:-- --:--:-- --:--:-- 19466\n"
     ]
    }
   ],
   "source": [
    "# Get a file of protein sequences\n",
    "!curl -OL https://gist.githubusercontent.com/fomightez/f46b0624f1d8e3abb6ff908fc447e63b/raw/3d081a7605b979f0e15a42a7d90e4b6c470b7ec6/uzzzdemo_seqs.fa\n",
    "!mv uzzzdemo_seqs.fa seqs.fa"
   ]
  },
  {
   "cell_type": "markdown",
   "metadata": {},
   "source": [
    "Make sure we have the sequence file `seqs.fa` now."
   ]
  },
  {
   "cell_type": "code",
   "execution_count": 4,
   "metadata": {},
   "outputs": [
    {
     "name": "stdout",
     "output_type": "stream",
     "text": [
      "-rw-r--r-- 1 jovyan jovyan 4.5K Aug  2 21:08 seqs.fa\n"
     ]
    }
   ],
   "source": [
    "!ls -lah seqs.fa"
   ]
  },
  {
   "cell_type": "markdown",
   "metadata": {},
   "source": [
    "##  Basics\n",
    "\n",
    "This section is meant to prepare to show the basics of using it on the command line.  \n",
    "(On the 'proper' command line you wouldn't need the exclamation points I put in front of these commands for them to work in this notebook.)"
   ]
  },
  {
   "cell_type": "code",
   "execution_count": 5,
   "metadata": {},
   "outputs": [
    {
     "name": "stderr",
     "output_type": "stream",
     "text": [
      "Sequences read in...\n",
      "Longest sequence in input detected as 890.\n",
      "...calculating all pairs of pairwise alignments...summarizing differences...\n",
      "\n",
      "Results converted to a matrix of differences...\n",
      "        ScSTV1  TdSTV1   Yl   Cl  VPH1\n",
      "ScSTV1       0     292  513  536   530\n",
      "TdSTV1     292       0  496  522   522\n",
      "Yl         513     496    0  402   417\n",
      "Cl         536     522  402    0   373\n",
      "VPH1       530     522  417  373     0\n",
      "\n",
      "Matrix heatmap image saved to:\n",
      "diff_score_matrix.png\n",
      "\n",
      "\n",
      "A table of the data has been saved as a text file (tab-delimited).\n",
      "DATA is stored as ==> 'diff_score_matrix.tsv'"
     ]
    }
   ],
   "source": [
    "%run score_differences_between_sequences_by_pairwise_alignment.py seqs.fa"
   ]
  },
  {
   "cell_type": "markdown",
   "metadata": {},
   "source": [
    "Examine the output text data."
   ]
  },
  {
   "cell_type": "code",
   "execution_count": 6,
   "metadata": {},
   "outputs": [
    {
     "name": "stdout",
     "output_type": "stream",
     "text": [
      "\tScSTV1\tTdSTV1\tYl\tCl\tVPH1\n",
      "ScSTV1\t0\t292\t513\t536\t530\n",
      "TdSTV1\t292\t0\t496\t522\t522\n",
      "Yl\t513\t496\t0\t402\t417\n",
      "Cl\t536\t522\t402\t0\t373\n",
      "VPH1\t530\t522\t417\t373\t0\n"
     ]
    }
   ],
   "source": [
    "!cat diff_score_matrix.tsv"
   ]
  },
  {
   "cell_type": "markdown",
   "metadata": {},
   "source": [
    "There are a few additional options available when calling this script from the command line. They are listed when you display the USAGE block via `python score_differences_between_sequences_by_pairwise_alignment.py -h`. \n",
    "\n",
    "You can change the sequence file `seqs.fa` to contain your sequences and run it on your data if you'd like right now. Be sure to download anything you make that is useful.\n",
    "\n",
    "However, there are more options if you import the main function of this script into a Jupyter notebook and use it there. The remainder focuses on that situation."
   ]
  },
  {
   "cell_type": "markdown",
   "metadata": {},
   "source": [
    "## Use script in a Jupyter notebook (or IPython console) to score differences in sequences"
   ]
  },
  {
   "cell_type": "markdown",
   "metadata": {},
   "source": [
    "This is meant to demonstrate using the main function of this script in a Jupyter notebook. The same would largely hold if you were using it in an IPython console.\n",
    "\n",
    "The first two cells just repeat the preparation in case you skipped to this section."
   ]
  },
  {
   "cell_type": "code",
   "execution_count": 7,
   "metadata": {},
   "outputs": [],
   "source": [
    "# Get the script if the above section wasn't run\n",
    "import os\n",
    "file_needed = \"score_differences_between_sequences_by_pairwise_alignment.py\"\n",
    "if not os.path.isfile(file_needed):\n",
    "    !curl -O https://raw.githubusercontent.com/fomightez/sequencework/master/alignment-utilities/score_differences_between_sequences_by_pairwise_alignment.py"
   ]
  },
  {
   "cell_type": "code",
   "execution_count": 8,
   "metadata": {},
   "outputs": [],
   "source": [
    "# Get the sequences to use as example data if not already here\n",
    "import os\n",
    "file_needed = \"seqs.fa\"\n",
    "if not os.path.isfile(file_needed):\n",
    "    !curl -OL https://gist.githubusercontent.com/fomightez/f46b0624f1d8e3abb6ff908fc447e63b/raw/3d081a7605b979f0e15a42a7d90e4b6c470b7ec6/uzzzdemo_seqs.fa\n",
    "    !mv uzzzdemo_seqs.fa seqs.fa"
   ]
  },
  {
   "cell_type": "markdown",
   "metadata": {},
   "source": [
    "Now that we have the script and some example sequences to analyze, we need to bring the main function of the script into the memory of this notebook's environment. This next, redundant-looking line will do that."
   ]
  },
  {
   "cell_type": "code",
   "execution_count": 9,
   "metadata": {},
   "outputs": [],
   "source": [
    "from score_differences_between_sequences_by_pairwise_alignment import score_differences_between_sequences_by_pairwise_alignment"
   ]
  },
  {
   "cell_type": "markdown",
   "metadata": {},
   "source": [
    "Now the function can be used on the sameple data to make a dataframe of the difference matrix. The basics are shown here."
   ]
  },
  {
   "cell_type": "code",
   "execution_count": 10,
   "metadata": {},
   "outputs": [
    {
     "name": "stderr",
     "output_type": "stream",
     "text": [
      "Sequences read in...\n",
      "Longest sequence in input detected as 890.\n",
      "...calculating all pairs of pairwise alignments...summarizing differences...\n",
      "\n",
      "Results converted to a matrix of differences...\n",
      "\n",
      "A table of the data has been saved as a text file (tab-delimited).\n",
      "DATA is stored as ==> 'diff_score_matrix.tsv'\n",
      "\n",
      "Returning a dataframe with the information as well."
     ]
    },
    {
     "data": {
      "image/png": "[encoded data removed]",
      "text/plain": [
       "<Figure size 432x288 with 2 Axes>"
      ]
     },
     "metadata": {},
     "output_type": "display_data"
    }
   ],
   "source": [
    "matrix = score_differences_between_sequences_by_pairwise_alignment(\"seqs.fa\")"
   ]
  },
  {
   "cell_type": "markdown",
   "metadata": {},
   "source": [
    "Note that because were are in a notebook, the heatmap of the matrix produced is nicely shown. You won't have that happen automatically on actual command line. (And that is why when called in that way it saves an image file of the plot. You'll note that was not saved here.)\n",
    "\n",
    "Let's look at the matrix."
   ]
  },
  {
   "cell_type": "code",
   "execution_count": 11,
   "metadata": {},
   "outputs": [
    {
     "data": {
      "text/html": [
       "<div>\n",
       "<style scoped>\n",
       "    .dataframe tbody tr th:only-of-type {\n",
       "        vertical-align: middle;\n",
       "    }\n",
       "\n",
       "    .dataframe tbody tr th {\n",
       "        vertical-align: top;\n",
       "    }\n",
       "\n",
       "    .dataframe thead th {\n",
       "        text-align: right;\n",
       "    }\n",
       "</style>\n",
       "<table border=\"1\" class=\"dataframe\">\n",
       "  <thead>\n",
       "    <tr style=\"text-align: right;\">\n",
       "      <th></th>\n",
       "      <th>ScSTV1</th>\n",
       "      <th>TdSTV1</th>\n",
       "      <th>Yl</th>\n",
       "      <th>Cl</th>\n",
       "      <th>VPH1</th>\n",
       "    </tr>\n",
       "  </thead>\n",
       "  <tbody>\n",
       "    <tr>\n",
       "      <th>ScSTV1</th>\n",
       "      <td>0</td>\n",
       "      <td>292</td>\n",
       "      <td>513</td>\n",
       "      <td>536</td>\n",
       "      <td>530</td>\n",
       "    </tr>\n",
       "    <tr>\n",
       "      <th>TdSTV1</th>\n",
       "      <td>292</td>\n",
       "      <td>0</td>\n",
       "      <td>496</td>\n",
       "      <td>522</td>\n",
       "      <td>522</td>\n",
       "    </tr>\n",
       "    <tr>\n",
       "      <th>Yl</th>\n",
       "      <td>513</td>\n",
       "      <td>496</td>\n",
       "      <td>0</td>\n",
       "      <td>402</td>\n",
       "      <td>417</td>\n",
       "    </tr>\n",
       "    <tr>\n",
       "      <th>Cl</th>\n",
       "      <td>536</td>\n",
       "      <td>522</td>\n",
       "      <td>402</td>\n",
       "      <td>0</td>\n",
       "      <td>373</td>\n",
       "    </tr>\n",
       "    <tr>\n",
       "      <th>VPH1</th>\n",
       "      <td>530</td>\n",
       "      <td>522</td>\n",
       "      <td>417</td>\n",
       "      <td>373</td>\n",
       "      <td>0</td>\n",
       "    </tr>\n",
       "  </tbody>\n",
       "</table>\n",
       "</div>"
      ],
      "text/plain": [
       "        ScSTV1  TdSTV1   Yl   Cl  VPH1\n",
       "ScSTV1       0     292  513  536   530\n",
       "TdSTV1     292       0  496  522   522\n",
       "Yl         513     496    0  402   417\n",
       "Cl         536     522  402    0   373\n",
       "VPH1       530     522  417  373     0"
      ]
     },
     "execution_count": 11,
     "metadata": {},
     "output_type": "execute_result"
    }
   ],
   "source": [
    "matrix"
   ]
  },
  {
   "cell_type": "markdown",
   "metadata": {},
   "source": [
    "You'll note that it renders in a notebook in a special manner that is more rich than just text of a table. This is because it is Pandas dataframe that has properties that make it useful."
   ]
  },
  {
   "cell_type": "markdown",
   "metadata": {},
   "source": [
    "You'll note that this text could be copied and used elsewhere; however, a text file of that data has already been made as well when the main function is run."
   ]
  },
  {
   "cell_type": "code",
   "execution_count": 12,
   "metadata": {},
   "outputs": [
    {
     "name": "stdout",
     "output_type": "stream",
     "text": [
      "\tScSTV1\tTdSTV1\tYl\tCl\tVPH1\n",
      "ScSTV1\t0\t292\t513\t536\t530\n",
      "TdSTV1\t292\t0\t496\t522\t522\n",
      "Yl\t513\t496\t0\t402\t417\n",
      "Cl\t536\t522\t402\t0\t373\n",
      "VPH1\t530\t522\t417\t373\t0\n"
     ]
    }
   ],
   "source": [
    "!cat diff_score_matrix.tsv"
   ]
  },
  {
   "cell_type": "markdown",
   "metadata": {},
   "source": [
    "We can confirm that text file was made by the latest run and not the earlier one in the 'Basics' section and demonstrate another option.  \n",
    "That other option is that you can specify a file name to save the data table as when calling the function. (There is a parallel when working on the command line, using the `--df_output` flag followed by a text name to use.)"
   ]
  },
  {
   "cell_type": "code",
   "execution_count": 13,
   "metadata": {},
   "outputs": [
    {
     "name": "stderr",
     "output_type": "stream",
     "text": [
      "Sequences read in...\n",
      "Longest sequence in input detected as 890.\n",
      "...calculating all pairs of pairwise alignments...summarizing differences...\n",
      "\n",
      "Results converted to a matrix of differences...\n",
      "\n",
      "A table of the data has been saved as a text file (tab-delimited).\n",
      "DATA is stored as ==> 'the_output_matrix.tsv'\n",
      "\n",
      "Returning a dataframe with the information as well."
     ]
    },
    {
     "data": {
      "image/png": "[encoded data removed]",
      "text/plain": [
       "<Figure size 432x288 with 2 Axes>"
      ]
     },
     "metadata": {},
     "output_type": "display_data"
    }
   ],
   "source": [
    "matrix = score_differences_between_sequences_by_pairwise_alignment(\"seqs.fa\",df_save_as_name=\"the_output_matrix.tsv\")"
   ]
  },
  {
   "cell_type": "code",
   "execution_count": 14,
   "metadata": {},
   "outputs": [
    {
     "name": "stdout",
     "output_type": "stream",
     "text": [
      "\tScSTV1\tTdSTV1\tYl\tCl\tVPH1\n",
      "ScSTV1\t0\t292\t513\t536\t530\n",
      "TdSTV1\t292\t0\t496\t522\t522\n",
      "Yl\t513\t496\t0\t402\t417\n",
      "Cl\t536\t522\t402\t0\t373\n",
      "VPH1\t530\t522\t417\t373\t0\n"
     ]
    }
   ],
   "source": [
    "!cat the_output_matrix.tsv"
   ]
  },
  {
   "cell_type": "markdown",
   "metadata": {},
   "source": [
    "There is the output we just made."
   ]
  },
  {
   "cell_type": "markdown",
   "metadata": {},
   "source": [
    "Note the heatmap plot made when the function acts is an image rendering. However, you can have the data rendered stylistically while still being 'text' you can copy...  \n",
    "Have dataframe output styled based on [here](https://pandas.pydata.org/pandas-docs/stable/user_guide/style.html#Builtin-styles):  \n",
    "(This needs to be freshly run to show up right.)"
   ]
  },
  {
   "cell_type": "code",
   "execution_count": 15,
   "metadata": {},
   "outputs": [
    {
     "data": {
      "text/html": [
       "<style  type=\"text/css\" >\n",
       "    #T_b922bafa_b569_11e9_a048_52de8fdb719frow0_col0 {\n",
       "            background-color:  #000004;\n",
       "            color:  #f1f1f1;\n",
       "        }    #T_b922bafa_b569_11e9_a048_52de8fdb719frow0_col1 {\n",
       "            background-color:  #cf4070;\n",
       "            color:  #f1f1f1;\n",
       "        }    #T_b922bafa_b569_11e9_a048_52de8fdb719frow0_col2 {\n",
       "            background-color:  #fcfdbf;\n",
       "            color:  #000000;\n",
       "        }    #T_b922bafa_b569_11e9_a048_52de8fdb719frow0_col3 {\n",
       "            background-color:  #fcfdbf;\n",
       "            color:  #000000;\n",
       "        }    #T_b922bafa_b569_11e9_a048_52de8fdb719frow0_col4 {\n",
       "            background-color:  #fcfdbf;\n",
       "            color:  #000000;\n",
       "        }    #T_b922bafa_b569_11e9_a048_52de8fdb719frow1_col0 {\n",
       "            background-color:  #c83e73;\n",
       "            color:  #f1f1f1;\n",
       "        }    #T_b922bafa_b569_11e9_a048_52de8fdb719frow1_col1 {\n",
       "            background-color:  #000004;\n",
       "            color:  #f1f1f1;\n",
       "        }    #T_b922bafa_b569_11e9_a048_52de8fdb719frow1_col2 {\n",
       "            background-color:  #fceeb0;\n",
       "            color:  #000000;\n",
       "        }    #T_b922bafa_b569_11e9_a048_52de8fdb719frow1_col3 {\n",
       "            background-color:  #fcf2b4;\n",
       "            color:  #000000;\n",
       "        }    #T_b922bafa_b569_11e9_a048_52de8fdb719frow1_col4 {\n",
       "            background-color:  #fcf7b9;\n",
       "            color:  #000000;\n",
       "        }    #T_b922bafa_b569_11e9_a048_52de8fdb719frow2_col0 {\n",
       "            background-color:  #fdebac;\n",
       "            color:  #000000;\n",
       "        }    #T_b922bafa_b569_11e9_a048_52de8fdb719frow2_col1 {\n",
       "            background-color:  #fde7a9;\n",
       "            color:  #000000;\n",
       "        }    #T_b922bafa_b569_11e9_a048_52de8fdb719frow2_col2 {\n",
       "            background-color:  #000004;\n",
       "            color:  #f1f1f1;\n",
       "        }    #T_b922bafa_b569_11e9_a048_52de8fdb719frow2_col3 {\n",
       "            background-color:  #fc8961;\n",
       "            color:  #000000;\n",
       "        }    #T_b922bafa_b569_11e9_a048_52de8fdb719frow2_col4 {\n",
       "            background-color:  #fd9a6a;\n",
       "            color:  #000000;\n",
       "        }    #T_b922bafa_b569_11e9_a048_52de8fdb719frow3_col0 {\n",
       "            background-color:  #fcfdbf;\n",
       "            color:  #000000;\n",
       "        }    #T_b922bafa_b569_11e9_a048_52de8fdb719frow3_col1 {\n",
       "            background-color:  #fcfdbf;\n",
       "            color:  #000000;\n",
       "        }    #T_b922bafa_b569_11e9_a048_52de8fdb719frow3_col2 {\n",
       "            background-color:  #fd9869;\n",
       "            color:  #000000;\n",
       "        }    #T_b922bafa_b569_11e9_a048_52de8fdb719frow3_col3 {\n",
       "            background-color:  #000004;\n",
       "            color:  #f1f1f1;\n",
       "        }    #T_b922bafa_b569_11e9_a048_52de8fdb719frow3_col4 {\n",
       "            background-color:  #f7725c;\n",
       "            color:  #000000;\n",
       "        }    #T_b922bafa_b569_11e9_a048_52de8fdb719frow4_col0 {\n",
       "            background-color:  #fcf9bb;\n",
       "            color:  #000000;\n",
       "        }    #T_b922bafa_b569_11e9_a048_52de8fdb719frow4_col1 {\n",
       "            background-color:  #fcfdbf;\n",
       "            color:  #000000;\n",
       "        }    #T_b922bafa_b569_11e9_a048_52de8fdb719frow4_col2 {\n",
       "            background-color:  #fea772;\n",
       "            color:  #000000;\n",
       "        }    #T_b922bafa_b569_11e9_a048_52de8fdb719frow4_col3 {\n",
       "            background-color:  #f66e5c;\n",
       "            color:  #000000;\n",
       "        }    #T_b922bafa_b569_11e9_a048_52de8fdb719frow4_col4 {\n",
       "            background-color:  #000004;\n",
       "            color:  #f1f1f1;\n",
       "        }</style><table id=\"T_b922bafa_b569_11e9_a048_52de8fdb719f\" ><thead>    <tr>        <th class=\"blank level0\" ></th>        <th class=\"col_heading level0 col0\" >ScSTV1</th>        <th class=\"col_heading level0 col1\" >TdSTV1</th>        <th class=\"col_heading level0 col2\" >Yl</th>        <th class=\"col_heading level0 col3\" >Cl</th>        <th class=\"col_heading level0 col4\" >VPH1</th>    </tr></thead><tbody>\n",
       "                <tr>\n",
       "                        <th id=\"T_b922bafa_b569_11e9_a048_52de8fdb719flevel0_row0\" class=\"row_heading level0 row0\" >ScSTV1</th>\n",
       "                        <td id=\"T_b922bafa_b569_11e9_a048_52de8fdb719frow0_col0\" class=\"data row0 col0\" >0</td>\n",
       "                        <td id=\"T_b922bafa_b569_11e9_a048_52de8fdb719frow0_col1\" class=\"data row0 col1\" >292</td>\n",
       "                        <td id=\"T_b922bafa_b569_11e9_a048_52de8fdb719frow0_col2\" class=\"data row0 col2\" >513</td>\n",
       "                        <td id=\"T_b922bafa_b569_11e9_a048_52de8fdb719frow0_col3\" class=\"data row0 col3\" >536</td>\n",
       "                        <td id=\"T_b922bafa_b569_11e9_a048_52de8fdb719frow0_col4\" class=\"data row0 col4\" >530</td>\n",
       "            </tr>\n",
       "            <tr>\n",
       "                        <th id=\"T_b922bafa_b569_11e9_a048_52de8fdb719flevel0_row1\" class=\"row_heading level0 row1\" >TdSTV1</th>\n",
       "                        <td id=\"T_b922bafa_b569_11e9_a048_52de8fdb719frow1_col0\" class=\"data row1 col0\" >292</td>\n",
       "                        <td id=\"T_b922bafa_b569_11e9_a048_52de8fdb719frow1_col1\" class=\"data row1 col1\" >0</td>\n",
       "                        <td id=\"T_b922bafa_b569_11e9_a048_52de8fdb719frow1_col2\" class=\"data row1 col2\" >496</td>\n",
       "                        <td id=\"T_b922bafa_b569_11e9_a048_52de8fdb719frow1_col3\" class=\"data row1 col3\" >522</td>\n",
       "                        <td id=\"T_b922bafa_b569_11e9_a048_52de8fdb719frow1_col4\" class=\"data row1 col4\" >522</td>\n",
       "            </tr>\n",
       "            <tr>\n",
       "                        <th id=\"T_b922bafa_b569_11e9_a048_52de8fdb719flevel0_row2\" class=\"row_heading level0 row2\" >Yl</th>\n",
       "                        <td id=\"T_b922bafa_b569_11e9_a048_52de8fdb719frow2_col0\" class=\"data row2 col0\" >513</td>\n",
       "                        <td id=\"T_b922bafa_b569_11e9_a048_52de8fdb719frow2_col1\" class=\"data row2 col1\" >496</td>\n",
       "                        <td id=\"T_b922bafa_b569_11e9_a048_52de8fdb719frow2_col2\" class=\"data row2 col2\" >0</td>\n",
       "                        <td id=\"T_b922bafa_b569_11e9_a048_52de8fdb719frow2_col3\" class=\"data row2 col3\" >402</td>\n",
       "                        <td id=\"T_b922bafa_b569_11e9_a048_52de8fdb719frow2_col4\" class=\"data row2 col4\" >417</td>\n",
       "            </tr>\n",
       "            <tr>\n",
       "                        <th id=\"T_b922bafa_b569_11e9_a048_52de8fdb719flevel0_row3\" class=\"row_heading level0 row3\" >Cl</th>\n",
       "                        <td id=\"T_b922bafa_b569_11e9_a048_52de8fdb719frow3_col0\" class=\"data row3 col0\" >536</td>\n",
       "                        <td id=\"T_b922bafa_b569_11e9_a048_52de8fdb719frow3_col1\" class=\"data row3 col1\" >522</td>\n",
       "                        <td id=\"T_b922bafa_b569_11e9_a048_52de8fdb719frow3_col2\" class=\"data row3 col2\" >402</td>\n",
       "                        <td id=\"T_b922bafa_b569_11e9_a048_52de8fdb719frow3_col3\" class=\"data row3 col3\" >0</td>\n",
       "                        <td id=\"T_b922bafa_b569_11e9_a048_52de8fdb719frow3_col4\" class=\"data row3 col4\" >373</td>\n",
       "            </tr>\n",
       "            <tr>\n",
       "                        <th id=\"T_b922bafa_b569_11e9_a048_52de8fdb719flevel0_row4\" class=\"row_heading level0 row4\" >VPH1</th>\n",
       "                        <td id=\"T_b922bafa_b569_11e9_a048_52de8fdb719frow4_col0\" class=\"data row4 col0\" >530</td>\n",
       "                        <td id=\"T_b922bafa_b569_11e9_a048_52de8fdb719frow4_col1\" class=\"data row4 col1\" >522</td>\n",
       "                        <td id=\"T_b922bafa_b569_11e9_a048_52de8fdb719frow4_col2\" class=\"data row4 col2\" >417</td>\n",
       "                        <td id=\"T_b922bafa_b569_11e9_a048_52de8fdb719frow4_col3\" class=\"data row4 col3\" >373</td>\n",
       "                        <td id=\"T_b922bafa_b569_11e9_a048_52de8fdb719frow4_col4\" class=\"data row4 col4\" >0</td>\n",
       "            </tr>\n",
       "    </tbody></table>"
      ],
      "text/plain": [
       "<pandas.io.formats.style.Styler at 0x7f2f6d5d41d0>"
      ]
     },
     "execution_count": 15,
     "metadata": {},
     "output_type": "execute_result"
    }
   ],
   "source": [
    "import seaborn as sns\n",
    "s = matrix.style.background_gradient(cmap=\"magma\")\n",
    "s"
   ]
  },
  {
   "cell_type": "markdown",
   "metadata": {},
   "source": [
    "This has the drawback that presently the stylistic rendering of the dataframe is lost when you reopen the notebook; it will just look like a regular dataframe when reopened and you'll need to re-run to re-render with shaded cells. However, it is real data you can paste into spreadsheets elsewhere. In fact the stylized background colors can even be output from a notebook to use in Excel with the shading being maintained. (That process is described [here](https://pandas.pydata.org/pandas-docs/stable/user_guide/style.html#Export-to-Excel) and will not be demonstrated here. I have personally had luck using `openpyxl`; just run `%pip install openpyxl` in a cell before you try it here.)"
   ]
  },
  {
   "cell_type": "markdown",
   "metadata": {},
   "source": [
    "That covers the basics of using the function in a notebook. \n",
    "\n",
    "The additional options you can supply when you call the main function just let you control the output made a a finer level. They are:\n",
    "- `return_df` - set to `False` if you don't want a dataframe returned when calling the function. It defaults to `True`\n",
    "- `save_text_of_df` - set to `False` if you don't want a text table of the output saved when calling the function. It defaults to `True`.\n",
    "- `generate_heatmap` - set to `False` if you don't want the heatmap made when calling the function. It defaults to `True`.  \n",
    "\n",
    "\n",
    "-----\n",
    "\n",
    "Feel free to substitute your data in here and run it.\n",
    "\n",
    "Be sure to download anything you make that is useful.\n",
    "\n",
    "Enjoy!"
   ]
  }
 ],
 "metadata": {
  "kernelspec": {
   "display_name": "Python 3",
   "language": "python",
   "name": "python3"
  },
  "language_info": {
   "codemirror_mode": {
    "name": "ipython",
    "version": 3
   },
   "file_extension": ".py",
   "mimetype": "text/x-python",
   "name": "python",
   "nbconvert_exporter": "python",
   "pygments_lexer": "ipython3",
   "version": "3.7.2"
  }
 },
 "nbformat": 4,
 "nbformat_minor": 2
}
