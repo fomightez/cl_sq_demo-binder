{
 "cells": [
  {
   "cell_type": "markdown",
   "metadata": {},
   "source": [
    "# Demo of script to get specific subsequence from FASTA file\n",
    "\n",
    "In order to demonstrate the use of my script `extract_subsequence_from_FASTA.py`, I'll use it to collect protein sequences from a collection of sequnecs derived from PacBio sequenced yeast genomes from [Yue et al 2017](https://www.ncbi.nlm.nih.gov/pubmed/28416820).\n",
    "\n",
    "Reference for sequence data:  \n",
    "[Contrasting evolutionary genome dynamics between domesticated and wild yeasts.\n",
    "Yue JX, Li J, Aigrain L, Hallin J, Persson K, Oliver K, Bergström A, Coupland P, Warringer J, Lagomarsino MC, Fischer G, Durbin R, Liti G. Nat Genet. 2017 Jun;49(6):913-924. doi: 10.1038/ng.3847. Epub 2017 Apr 17. PMID: 28416820](https://www.ncbi.nlm.nih.gov/pubmed/28416820)\n",
    "\n",
    "\n",
    "------"
   ]
  },
  {
   "cell_type": "markdown",
   "metadata": {},
   "source": [
    "<div class=\"alert alert-block alert-warning\">\n",
    "<p>If you haven't used one of these notebooks before, they're basically web pages in which you can write, edit, and run live code. They're meant to encourage experimentation, so don't feel nervous. Just try running a few cells and see what happens!.</p>\n",
    "\n",
    "<p>\n",
    "    Some tips:\n",
    "    <ul>\n",
    "        <li>Code cells have boxes around them. When you hover over them a <i class=\"fa-step-forward fa\"></i> icon appears.</li>\n",
    "        <li>To run a code cell either click the <i class=\"fa-step-forward fa\"></i> icon, or click on the cell and then hit <b>Shift+Enter</b>. The <b>Shift+Enter</b> combo will also move you to the next cell, so it's a quick way to work through the notebook.</li>\n",
    "        <li>While a cell is running a <b>*</b> appears in the square brackets next to the cell. Once the cell has finished running the asterisk will be replaced with a number.</li>\n",
    "        <li>In most cases you'll want to start from the top of notebook and work your way down running each cell in turn. Later cells might depend on the results of earlier ones.</li>\n",
    "        <li>To edit a code cell, just click on it and type stuff. Remember to run the cell once you've finished editing.</li>\n",
    "    </ul>\n",
    "</p>\n",
    "</div>\n",
    "\n",
    "---"
   ]
  },
  {
   "cell_type": "markdown",
   "metadata": {},
   "source": [
    "##  Basic use\n",
    "\n",
    "This script gets a sequence from a sequence file in FASTA format. It can be either a single sequence or more. You provide an indentifier to specify which sequence in the multiFASTA file to mine. In fact you always need to provide something for the indentifier parameter when calling this script or the main function of it, but that text can be nonseniscal if there is only one sequence in the sequence file. It disregards anything provided if there is only one.  \n",
    "The only other thing necessary is providing start and end positions to specify the subsequence. Positions are to be specified in typical position terms where the first residue is numbered one.\n",
    "\n"
   ]
  },
  {
   "cell_type": "code",
   "execution_count": 1,
   "metadata": {},
   "outputs": [
    {
     "name": "stdout",
     "output_type": "stream",
     "text": [
      "  % Total    % Received % Xferd  Average Speed   Time    Time     Time  Current\n",
      "                                 Dload  Upload   Total   Spent    Left  Speed\n",
      "100 16612  100 16612    0     0   197k      0 --:--:-- --:--:-- --:--:--  197k\n"
     ]
    }
   ],
   "source": [
    "# Get the script\n",
    "!curl -O https://raw.githubusercontent.com/fomightez/sequencework/master/Extract_from_FASTA/extract_subsequence_from_FASTA.py"
   ]
  },
  {
   "cell_type": "code",
   "execution_count": 2,
   "metadata": {},
   "outputs": [
    {
     "name": "stdout",
     "output_type": "stream",
     "text": [
      "Collecting pyfaidx\n",
      "  Downloading https://files.pythonhosted.org/packages/75/a5/7e2569527b3849ea28d79b4f70d7cf46a47d36459bc59e0efa4e10e8c8b2/pyfaidx-0.5.5.2.tar.gz\n",
      "Requirement already satisfied: six in /srv/conda/lib/python3.6/site-packages (from pyfaidx) (1.12.0)\n",
      "Requirement already satisfied: setuptools>=0.7 in /srv/conda/lib/python3.6/site-packages (from pyfaidx) (40.6.3)\n",
      "Building wheels for collected packages: pyfaidx\n",
      "  Running setup.py bdist_wheel for pyfaidx ... \u001b[?25ldone\n",
      "\u001b[?25h  Stored in directory: /home/jovyan/.cache/pip/wheels/54/a2/b4/e242e58d23b2808e191b214067880faa46cd2341f363886e0b\n",
      "Successfully built pyfaidx\n",
      "Installing collected packages: pyfaidx\n",
      "Successfully installed pyfaidx-0.5.5.2\n"
     ]
    }
   ],
   "source": [
    "#install a necessary dependency\n",
    "!pip install pyfaidx"
   ]
  },
  {
   "cell_type": "markdown",
   "metadata": {},
   "source": [
    "#### Display USAGE block"
   ]
  },
  {
   "cell_type": "code",
   "execution_count": 3,
   "metadata": {},
   "outputs": [
    {
     "name": "stdout",
     "output_type": "stream",
     "text": [
      "usage: extract_subsequence_from_FASTA.py [-h] [-uc] [-kd] [-os OUTPUT_SUFFIX]\n",
      "                                         SEQUENCE_FILE RECORD_ID START_and_END\n",
      "\n",
      "extract_subsequence_from_FASTA.py takes a sequence file (FASTA-format), an\n",
      "identifier, and start and end range and extracts a sub sequence covering that\n",
      "region from the matching sequence in the provided FASTA file. Produces the\n",
      "sequence in FASTA format. (The FASTA-formatted sequence file is assumed by\n",
      "default to be a multi-FASTA, i.e., multiple sequences in the provided file,\n",
      "although it definitely doesn't have to be. In case it is only a single\n",
      "sequence, the record id becomes moot, see below.) **** Script by Wayne Decatur\n",
      "(fomightez @ github) ***\n",
      "\n",
      "positional arguments:\n",
      "  SEQUENCE_FILE         Name of sequence file to use as input. Must be FASTA\n",
      "                        format. Can be a multi-FASTA file, i.e., multiple\n",
      "                        sequences in FASTA format in one file.\n",
      "  RECORD_ID             Specific identifier of sequence entry in sequence file\n",
      "                        to mine. If the provided sequence file only contains\n",
      "                        one sequence, that sequence will be mined and what is\n",
      "                        provided for this parameter will be ignored. In other\n",
      "                        words, if the sequence file is not a multi-FASTA file,\n",
      "                        you don't need to determine the identifier and can\n",
      "                        instead just enter `blahblah` or any other nonsensical\n",
      "                        string in this spot.\n",
      "  START_and_END         Positions to span in extracting. Provide start\n",
      "                        position and end position coordinates separated by the\n",
      "                        region delimiter which is '-' by default. You can use\n",
      "                        `--use_colon` flag to change to a colon, for using\n",
      "                        something like, `201:405` instead of `201-405`.\n",
      "                        (Coordinates are meant to refer to 'common' numbering\n",
      "                        scheme where first residue is numbered one, etc.)\n",
      "\n",
      "optional arguments:\n",
      "  -h, --help            show this help message and exit\n",
      "  -uc, --use_colon      Add this flag to be able to specify that you want to\n",
      "                        use a colon in for specifying the positions to extact\n",
      "                        from the corresponding sequences.\n",
      "  -kd, --keep_description\n",
      "                        Add this flag to keep entire description line in\n",
      "                        output.\n",
      "  -os OUTPUT_SUFFIX, --output_suffix OUTPUT_SUFFIX\n",
      "                        OPTIONAL: Set a suffix for including in file name of\n",
      "                        output. If none provided, '_extracted' will be used.\n"
     ]
    }
   ],
   "source": [
    "!python extract_subsequence_from_FASTA.py -h"
   ]
  },
  {
   "cell_type": "markdown",
   "metadata": {},
   "source": [
    "Next, we'll get example data and extract a sequence."
   ]
  },
  {
   "cell_type": "code",
   "execution_count": 4,
   "metadata": {},
   "outputs": [
    {
     "name": "stdout",
     "output_type": "stream",
     "text": [
      "  % Total    % Received % Xferd  Average Speed   Time    Time     Time  Current\n",
      "                                 Dload  Upload   Total   Spent    Left  Speed\n",
      "100   178  100   178    0     0   5085      0 --:--:-- --:--:-- --:--:--  5235\n",
      "100 3406k  100 3406k    0     0  15.4M      0 --:--:-- --:--:-- --:--:-- 15.4M\n",
      "  % Total    % Received % Xferd  Average Speed   Time    Time     Time  Current\n",
      "                                 Dload  Upload   Total   Spent    Left  Speed\n",
      "100   178  100   178    0     0   5235      0 --:--:-- --:--:-- --:--:--  5393\n",
      "100 2445k  100 2445k    0     0  12.0M      0 --:--:-- --:--:-- --:--:-- 49.2M\n",
      "  % Total    % Received % Xferd  Average Speed   Time    Time     Time  Current\n",
      "                                 Dload  Upload   Total   Spent    Left  Speed\n",
      "100   886  100   886    0     0   7572      0 --:--:-- --:--:-- --:--:--  7572\n"
     ]
    }
   ],
   "source": [
    "# Get files of sequences\n",
    "!curl -OL http://yjx1217.github.io/Yeast_PacBio_2016/data/Nuclear_Genome/SK1.genome.fa.gz\n",
    "!gunzip SK1.genome.fa.gz\n",
    "!curl -OL http://yjx1217.github.io/Yeast_PacBio_2016/data/Nuclear_CDS/SK1.cds.fa.gz\n",
    "!gunzip SK1.cds.fa.gz\n",
    "!curl -o S288C_YOR270C_VPH1_protein.fsa https://gist.githubusercontent.com/fomightez/f46b0624f1d8e3abb6ff908fc447e63b/raw/7ef7cfdaa2c9f9974f22fd60be3cfe7d1935cd86/ux_S288C_YOR270C_VPH1_protein.fsa"
   ]
  },
  {
   "cell_type": "code",
   "execution_count": 5,
   "metadata": {},
   "outputs": [
    {
     "name": "stdout",
     "output_type": "stream",
     "text": [
      "\n",
      "\n",
      "*****************DONE**************************\n",
      "Extracted sequence saved in FASTA format as 'seq_extractedchrIII.fa'.\n",
      "*****************DONE**************************\n"
     ]
    }
   ],
   "source": [
    "# Extract\n",
    "!python extract_subsequence_from_FASTA.py SK1.genome.fa chrIII 101-200"
   ]
  },
  {
   "cell_type": "markdown",
   "metadata": {},
   "source": [
    "The next cell shows it worked."
   ]
  },
  {
   "cell_type": "code",
   "execution_count": 6,
   "metadata": {},
   "outputs": [
    {
     "name": "stdout",
     "output_type": "stream",
     "text": [
      ">chrIII:101-200\n",
      "CCCACACACACACACCACACCACACCACACCCACACACCACACCCACACACACACCACACCCACACACACCACACCCACACCCACACCACACCCACCACA"
     ]
    }
   ],
   "source": [
    "!head seq_extractedchrIII.fa"
   ]
  },
  {
   "cell_type": "markdown",
   "metadata": {},
   "source": [
    "Sometimes the record identifier can be complex and it seems adding quotes around it can make it work when it won't work without it. The first cell below will fail to run. Just adding quotes allows it to work in the cell after that one."
   ]
  },
  {
   "cell_type": "code",
   "execution_count": 7,
   "metadata": {},
   "outputs": [
    {
     "name": "stdout",
     "output_type": "stream",
     "text": [
      "/bin/sh: 1: SK1_01T00030.1: not found\n",
      "/bin/sh: 1: YHR213W: not found\n",
      "usage: extract_subsequence_from_FASTA.py [-h] [-uc] [-kd] [-os OUTPUT_SUFFIX]\n",
      "                                         SEQUENCE_FILE RECORD_ID START_and_END\n",
      "extract_subsequence_from_FASTA.py: error: the following arguments are required: START_and_END\n"
     ]
    }
   ],
   "source": [
    "!python extract_subsequence_from_FASTA.py SK1.cds.fa SK1_01G00030|SK1_01T00030.1|YHR213W 1-50"
   ]
  },
  {
   "cell_type": "code",
   "execution_count": 8,
   "metadata": {},
   "outputs": [
    {
     "name": "stdout",
     "output_type": "stream",
     "text": [
      "\n",
      "\n",
      "*****************DONE**************************\n",
      "Extracted sequence saved in FASTA format as 'seq_extractedSK1_01G00030|SK1_01T00030.1|YHR213W.fa'.\n",
      "*****************DONE**************************\n"
     ]
    }
   ],
   "source": [
    "!python extract_subsequence_from_FASTA.py SK1.cds.fa \"SK1_01G00030|SK1_01T00030.1|YHR213W\" 1-50"
   ]
  },
  {
   "cell_type": "code",
   "execution_count": 9,
   "metadata": {},
   "outputs": [
    {
     "name": "stdout",
     "output_type": "stream",
     "text": [
      ">SK1_01G00030|SK1_01T00030.1|YHR213W:1-50\n",
      "ATGACAGGTTACTTTTTACCACCACAAACAAGTTCTTACACGTTCAGGTT"
     ]
    }
   ],
   "source": [
    "!head \"seq_extractedSK1_01G00030|SK1_01T00030.1|YHR213W.fa\""
   ]
  },
  {
   "cell_type": "markdown",
   "metadata": {},
   "source": [
    "There is an optional flag `keep_description` that can be added to make the result keep the entire description line. "
   ]
  },
  {
   "cell_type": "code",
   "execution_count": 10,
   "metadata": {},
   "outputs": [
    {
     "name": "stdout",
     "output_type": "stream",
     "text": [
      "Single sequence with id of 'VPH1' provided in the sequence file.\n",
      "It will be used as the source of the sequence covering the provided positions.\n",
      "\n",
      "\n",
      "\n",
      "*****************DONE**************************\n",
      "Extracted sequence saved in FASTA format as 'seq_extractedVPH1.fa'.\n",
      "*****************DONE**************************\n"
     ]
    }
   ],
   "source": [
    "!python extract_subsequence_from_FASTA.py S288C_YOR270C_VPH1_protein.fsa VPH1 201-300 --keep_description"
   ]
  },
  {
   "cell_type": "code",
   "execution_count": 11,
   "metadata": {},
   "outputs": [
    {
     "name": "stdout",
     "output_type": "stream",
     "text": [
      ">VPH1 YOR270C SGDID:S000005796:201-300\n",
      "QILWRVLRGNLFFKTVEIEQPVYDVKTREYKHKNAFIVFSHGDLIIKRIRKIAESLDANLYDVDSSNEGRSQQLAKVNKNLSDLYTVLKTTSTTLESELY"
     ]
    }
   ],
   "source": [
    "!head seq_extractedVPH1.fa"
   ]
  },
  {
   "cell_type": "markdown",
   "metadata": {},
   "source": [
    "Note if it had been done without the flag, this sould have been the result."
   ]
  },
  {
   "cell_type": "code",
   "execution_count": 12,
   "metadata": {},
   "outputs": [
    {
     "name": "stdout",
     "output_type": "stream",
     "text": [
      "Single sequence with id of 'VPH1' provided in the sequence file.\n",
      "It will be used as the source of the sequence covering the provided positions.\n",
      "\n",
      "\n",
      "\n",
      "*****************DONE**************************\n",
      "Extracted sequence saved in FASTA format as 'seq_extractedVPH1.fa'.\n",
      "*****************DONE**************************\n"
     ]
    }
   ],
   "source": [
    "!python extract_subsequence_from_FASTA.py S288C_YOR270C_VPH1_protein.fsa VPH1 201-300"
   ]
  },
  {
   "cell_type": "code",
   "execution_count": 13,
   "metadata": {},
   "outputs": [
    {
     "name": "stdout",
     "output_type": "stream",
     "text": [
      ">VPH1:201-300\n",
      "QILWRVLRGNLFFKTVEIEQPVYDVKTREYKHKNAFIVFSHGDLIIKRIRKIAESLDANLYDVDSSNEGRSQQLAKVNKNLSDLYTVLKTTSTTLESELY"
     ]
    }
   ],
   "source": [
    "!head seq_extractedVPH1.fa"
   ]
  },
  {
   "cell_type": "markdown",
   "metadata": {},
   "source": [
    "The description line without the `-kd` flag ends at the point the first space occurs in the original description line of the single entry in `S288C_YOR270C_VPH1_protein.fsa`."
   ]
  },
  {
   "cell_type": "code",
   "execution_count": 14,
   "metadata": {},
   "outputs": [
    {
     "name": "stdout",
     "output_type": "stream",
     "text": [
      ">VPH1 YOR270C SGDID:S000005796\n"
     ]
    }
   ],
   "source": [
    "!head -n 1 S288C_YOR270C_VPH1_protein.fsa"
   ]
  },
  {
   "cell_type": "markdown",
   "metadata": {},
   "source": [
    "Note that because `S288C_YOR270C_VPH1_protein.fsa` we can enter any arbitrary text for the record identifier argument as it is disregarded."
   ]
  },
  {
   "cell_type": "code",
   "execution_count": 15,
   "metadata": {},
   "outputs": [
    {
     "name": "stderr",
     "output_type": "stream",
     "text": [
      "Single sequence with id of 'VPH1' provided in the sequence file.\n",
      "It will be used as the source of the sequence covering the provided positions.\n",
      "\n",
      "\n",
      "\n",
      "*****************DONE**************************\n",
      "Extracted sequence saved in FASTA format as 'seq_extractedVPH1.fa'.\n",
      "*****************DONE**************************\n"
     ]
    }
   ],
   "source": [
    "%run extract_subsequence_from_FASTA.py S288C_YOR270C_VPH1_protein.fsa SUPER_DUPER_NONSENSE 501-800"
   ]
  },
  {
   "cell_type": "markdown",
   "metadata": {},
   "source": [
    "## Use script in a Jupyter notebook "
   ]
  },
  {
   "cell_type": "markdown",
   "metadata": {},
   "source": [
    "This will demonstrate importing the main function into a notebook.\n"
   ]
  },
  {
   "cell_type": "code",
   "execution_count": 16,
   "metadata": {},
   "outputs": [],
   "source": [
    "# Get the script if the above section wasn't run\n",
    "import os\n",
    "file_needed = \"extract_subsequence_from_FASTA.py\"\n",
    "if not os.path.isfile(file_needed):\n",
    "    !curl -O https://raw.githubusercontent.com/fomightez/sequencework/master/Extract_from_FASTA/extract_subsequence_from_FASTA.py"
   ]
  },
  {
   "cell_type": "markdown",
   "metadata": {},
   "source": [
    "Let's make the example `!python extract_subsequence_from_FASTA.py SK1.genome.fa chrIII 101-200` from above work here to get the result directly into the notebook environment as a python object. \n",
    "\n",
    "First we need to import the main function from the script file."
   ]
  },
  {
   "cell_type": "code",
   "execution_count": 17,
   "metadata": {},
   "outputs": [],
   "source": [
    "from extract_subsequence_from_FASTA import extract_subsequence_from_FASTA"
   ]
  },
  {
   "cell_type": "markdown",
   "metadata": {},
   "source": [
    "Now to try using that."
   ]
  },
  {
   "cell_type": "code",
   "execution_count": 18,
   "metadata": {},
   "outputs": [
    {
     "name": "stderr",
     "output_type": "stream",
     "text": [
      "\n",
      "\n",
      "*****************DONE**************************\n",
      "Extracted sequence saved in FASTA format as 'seq_extractedchrIII.fa'.\n",
      "*****************DONE**************************\n"
     ]
    }
   ],
   "source": [
    "result = extract_subsequence_from_FASTA(\"SK1.genome.fa\", \"chrIII\",region_str=\"101-200\", return_record_as_string=True)"
   ]
  },
  {
   "cell_type": "markdown",
   "metadata": {},
   "source": [
    "We now have that as `result` and we can use it for further steps. For example, we can use the produced Python string to parse it farther to get the last ten residues."
   ]
  },
  {
   "cell_type": "code",
   "execution_count": 19,
   "metadata": {},
   "outputs": [
    {
     "data": {
      "text/plain": [
       "'ACCCACCACA'"
      ]
     },
     "execution_count": 19,
     "metadata": {},
     "output_type": "execute_result"
    }
   ],
   "source": [
    "end_of_seq = result.split()[1][-10:]\n",
    "end_of_seq"
   ]
  },
  {
   "cell_type": "markdown",
   "metadata": {},
   "source": [
    "Note that the `keep_description` flag can also be used; it needs to be set to `True` when calling the main function."
   ]
  },
  {
   "cell_type": "code",
   "execution_count": 20,
   "metadata": {},
   "outputs": [
    {
     "name": "stderr",
     "output_type": "stream",
     "text": [
      "Single sequence with id of 'VPH1' provided in the sequence file.\n",
      "It will be used as the source of the sequence covering the provided positions.\n",
      "\n",
      "\n",
      "\n",
      "*****************DONE**************************\n",
      "Extracted sequence saved in FASTA format as 'seq_extractedVPH1.fa'.\n",
      "*****************DONE**************************\n"
     ]
    },
    {
     "data": {
      "text/plain": [
       "'>VPH1 YOR270C SGDID:S000005796:201-300\\nQILWRVLRGNLFFKTVEIEQPVYDVKTREYKHKNAFIVFSHGDLIIKRIRKIAESLDANLYDVDSSNEGRSQQLAKVNKNLSDLYTVLKTTSTTLESELY'"
      ]
     },
     "execution_count": 20,
     "metadata": {},
     "output_type": "execute_result"
    }
   ],
   "source": [
    "fasta = extract_subsequence_from_FASTA(\"S288C_YOR270C_VPH1_protein.fsa\", \"blahBLAHblah\",region_str=\"201-300\", keep_description = True, return_record_as_string=True)\n",
    "fasta"
   ]
  },
  {
   "cell_type": "markdown",
   "metadata": {},
   "source": [
    "The next cell shows that result without the flag."
   ]
  },
  {
   "cell_type": "code",
   "execution_count": 21,
   "metadata": {},
   "outputs": [
    {
     "name": "stderr",
     "output_type": "stream",
     "text": [
      "Single sequence with id of 'VPH1' provided in the sequence file.\n",
      "It will be used as the source of the sequence covering the provided positions.\n",
      "\n",
      "\n",
      "\n",
      "*****************DONE**************************\n",
      "Extracted sequence saved in FASTA format as 'seq_extractedVPH1.fa'.\n",
      "*****************DONE**************************\n"
     ]
    },
    {
     "data": {
      "text/plain": [
       "'>VPH1:201-300\\nQILWRVLRGNLFFKTVEIEQPVYDVKTREYKHKNAFIVFSHGDLIIKRIRKIAESLDANLYDVDSSNEGRSQQLAKVNKNLSDLYTVLKTTSTTLESELY'"
      ]
     },
     "execution_count": 21,
     "metadata": {},
     "output_type": "execute_result"
    }
   ],
   "source": [
    "fasta = extract_subsequence_from_FASTA(\"S288C_YOR270C_VPH1_protein.fsa\", \"blahBLAHblah\",region_str=\"201-300\", return_record_as_string=True)\n",
    "fasta"
   ]
  },
  {
   "cell_type": "markdown",
   "metadata": {},
   "source": [
    "If you wanted to save the object from within the notebook, you can do that too."
   ]
  },
  {
   "cell_type": "code",
   "execution_count": 22,
   "metadata": {},
   "outputs": [
    {
     "name": "stdout",
     "output_type": "stream",
     "text": [
      "Writing 'end_of_seq' (str) to file 'end.fa'.\n"
     ]
    }
   ],
   "source": [
    "%store end_of_seq > end.fa"
   ]
  },
  {
   "cell_type": "markdown",
   "metadata": {},
   "source": [
    "Let's check that:"
   ]
  },
  {
   "cell_type": "code",
   "execution_count": 23,
   "metadata": {},
   "outputs": [
    {
     "name": "stdout",
     "output_type": "stream",
     "text": [
      "ACCCACCACA\n"
     ]
    }
   ],
   "source": [
    "!head end.fa"
   ]
  },
  {
   "cell_type": "markdown",
   "metadata": {},
   "source": [
    "Save your file to your local machine.\n",
    "\n",
    "Enjoy!"
   ]
  }
 ],
 "metadata": {
  "kernelspec": {
   "display_name": "Python 3",
   "language": "python",
   "name": "python3"
  },
  "language_info": {
   "codemirror_mode": {
    "name": "ipython",
    "version": 3
   },
   "file_extension": ".py",
   "mimetype": "text/x-python",
   "name": "python",
   "nbconvert_exporter": "python",
   "pygments_lexer": "ipython3",
   "version": "3.6.7"
  }
 },
 "nbformat": 4,
 "nbformat_minor": 2
}
