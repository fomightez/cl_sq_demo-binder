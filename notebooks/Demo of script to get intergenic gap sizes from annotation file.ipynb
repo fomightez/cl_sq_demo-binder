{
 "cells": [
  {
   "cell_type": "markdown",
   "metadata": {},
   "source": [
    "# Demo of script to get intergenic gap sizes from mitochondrial annotation file\n",
    "\n",
    "In order to demonstrate the use of my script `measure_intergenic_regions_in_mito_annotations.py`, found [here](https://github.com/fomightez/sequencework/tree/master/annotation-utilities), I'll use  the Saacharomyces Genome Database (SGD) reference genome data for demonstration.\n",
    "\n",
    "Because assume that these are circular for calculating distance between last and first annotated feature, I put that it is just for intergenic region of circular mitochondrial (fungal or others?) DNA.\n",
    "\n",
    "References for sequence data:  \n",
    "- [The reference genome sequence of Saccharomyces cerevisiae: then and now. Engel SR, Dietrich FS, Fisk DG, Binkley G, Balakrishnan R, Costanzo MC, Dwight SS, Hitz BC, Karra K, Nash RS, Weng S, Wong ED, Lloyd P, Skrzypek MS, Miyasato SR, Simison M, Cherry JM. G3 (Bethesda). 2014 Mar 20;4(3):389-98. doi: 10.1534/g3.113.008995.(PMID: 24374639)](https://www.ncbi.nlm.nih.gov/pubmed/24374639)\n",
    "\n",
    "- [Saccharomyces Genome Database: the genomics resource of budding yeast. Cherry JM, Hong EL, Amundsen C, Balakrishnan R, Binkley G, Chan ET, Christie KR, Costanzo MC, Dwight SS, Engel SR, Fisk DG, Hirschman JE, Hitz BC, Karra K, Krieger CJ, Miyasato SR, Nash RS, Park J, Skrzypek MS, Simison M, Weng S, Wong ED. Nucleic Acids Res. 2012 Jan;40(Database issue):D700-5. doi: 10.1093/nar/gkr1029. Epub 2011 Nov 21. (PMID: 22110037)](https://www.ncbi.nlm.nih.gov/pubmed/22110037)\n",
    "\n",
    "\n",
    "------"
   ]
  },
  {
   "cell_type": "markdown",
   "metadata": {},
   "source": [
    "<div class=\"alert alert-block alert-warning\">\n",
    "<p>If you haven't used one of these notebooks before, they're basically web pages in which you can write, edit, and run live code. They're meant to encourage experimentation, so don't feel nervous. Just try running a few cells and see what happens!.</p>\n",
    "\n",
    "<p>\n",
    "    Some tips:\n",
    "    <ul>\n",
    "        <li>Code cells have boxes around them. When you hover over them a <i class=\"fa-step-forward fa\"></i> icon appears.</li>\n",
    "        <li>To run a code cell either click the <i class=\"fa-step-forward fa\"></i> icon, or click on the cell and then hit <b>Shift+Enter</b>. The <b>Shift+Enter</b> combo will also move you to the next cell, so it's a quick way to work through the notebook.</li>\n",
    "        <li>While a cell is running a <b>*</b> appears in the square brackets next to the cell. Once the cell has finished running the asterisk will be replaced with a number.</li>\n",
    "        <li>In most cases you'll want to start from the top of notebook and work your way down running each cell in turn. Later cells might depend on the results of earlier ones.</li>\n",
    "        <li>To edit a code cell, just click on it and type stuff. Remember to run the cell once you've finished editing.</li>\n",
    "    </ul>\n",
    "</p>\n",
    "</div>\n",
    "\n",
    "---"
   ]
  },
  {
   "cell_type": "markdown",
   "metadata": {},
   "source": [
    "##  Basic use\n",
    "\n",
    "This script gets a sequence from a sequence file in FASTA format. It can be either a single sequence or more. You provide an indentifier to specify which sequence in the multiFASTA file to mine. In fact you always need to provide something for the indentifier parameter when calling this script or the main function of it, but that text can be nonseniscal if there is only one sequence in the sequence file. It disregards anything provided if there is only one.  \n",
    "The only other thing necessary is providing start and end positions to specify the subsequence. Positions are to be specified in typical position terms where the first residue is numbered one.\n",
    "\n"
   ]
  },
  {
   "cell_type": "code",
   "execution_count": 1,
   "metadata": {},
   "outputs": [
    {
     "name": "stdout",
     "output_type": "stream",
     "text": [
      "  % Total    % Received % Xferd  Average Speed   Time    Time     Time  Current\n",
      "                                 Dload  Upload   Total   Spent    Left  Speed\n",
      "100 15535  100 15535    0     0  68738      0 --:--:-- --:--:-- --:--:-- 72934\n"
     ]
    }
   ],
   "source": [
    "# Get the script\n",
    "!curl -O https://raw.githubusercontent.com/fomightez/sequencework/master/annotation-utilities/measure_intergenic_regions_in_mito_annotations.py"
   ]
  },
  {
   "cell_type": "code",
   "execution_count": 2,
   "metadata": {},
   "outputs": [
    {
     "name": "stdout",
     "output_type": "stream",
     "text": [
      "Collecting pyfaidx\n",
      "  Downloading https://files.pythonhosted.org/packages/75/a5/7e2569527b3849ea28d79b4f70d7cf46a47d36459bc59e0efa4e10e8c8b2/pyfaidx-0.5.5.2.tar.gz\n",
      "Requirement already satisfied: six in /srv/conda/lib/python3.7/site-packages (from pyfaidx) (1.12.0)\n",
      "Requirement already satisfied: setuptools>=0.7 in /srv/conda/lib/python3.7/site-packages (from pyfaidx) (40.8.0)\n",
      "Building wheels for collected packages: pyfaidx\n",
      "  Building wheel for pyfaidx (setup.py) ... \u001b[?25ldone\n",
      "\u001b[?25h  Stored in directory: /home/jovyan/.cache/pip/wheels/54/a2/b4/e242e58d23b2808e191b214067880faa46cd2341f363886e0b\n",
      "Successfully built pyfaidx\n",
      "Installing collected packages: pyfaidx\n",
      "Successfully installed pyfaidx-0.5.5.2\n"
     ]
    }
   ],
   "source": [
    "#install a necessary dependency\n",
    "!pip install pyfaidx"
   ]
  },
  {
   "cell_type": "markdown",
   "metadata": {},
   "source": [
    "#### Display USAGE block"
   ]
  },
  {
   "cell_type": "code",
   "execution_count": 3,
   "metadata": {},
   "outputs": [
    {
     "name": "stdout",
     "output_type": "stream",
     "text": [
      "usage: measure_intergenic_regions_in_mito_annotations.py [-h]\r\n",
      "                                                         GFF_FILE SEQ_FILE\r\n",
      "\r\n",
      "measure_intergenic_regions_in_mito_annotations.py takes output from MFannot\r\n",
      "that has been converted to a gff file by a subsequent script, a corresponding\r\n",
      "fungal mitochondrial sequence file, and determines intergenic gap sizes.\r\n",
      "Assumes CIRCULAR genome. **** Script by Wayne Decatur (fomightez @ github) ***\r\n",
      "\r\n",
      "positional arguments:\r\n",
      "  GFF_FILE    Name of annotaion results file (gff format) from a mitochondrial\r\n",
      "              genome to parse and possibly fix.\r\n",
      "  SEQ_FILE    Name of file containing the fungal mitochondrial sequence (FASTA\r\n",
      "              format) corresponding to the annotation file.\r\n",
      "\r\n",
      "optional arguments:\r\n",
      "  -h, --help  show this help message and exit\r\n"
     ]
    }
   ],
   "source": [
    "!python measure_intergenic_regions_in_mito_annotations.py -h"
   ]
  },
  {
   "cell_type": "markdown",
   "metadata": {},
   "source": [
    "Next, we'll get an example fungal mitochondrial sequence and corresponding annotation and determine the intergenic gaps."
   ]
  },
  {
   "cell_type": "markdown",
   "metadata": {},
   "source": [
    "Get the annotation file into the active directory. (Source was one I made; see `Annotating SGD Reference S. cerevisiae S288C sequence mitochondrial genome with MFannot April 15 2019.ipynb`. Briefly, used Docker-version of [MFannot](https://github.com/BFL-lab/Mfannot) to annotate the sequence from SGD, converted the output from MFannot to gff3 format using `mfannot2gff3.pl` from [here](https://github.com/yjx1217/LRSDAY/blob/master/scripts/mfannot2gff3.pl), and then fixed the large ribosoma subunit annotation with `fix_lsu_rRNA_annotation_in_gff_resulting_from_mfannot.py` from [here](https://github.com/fomightez/sequencework/tree/master/Adjust_Annotation).)"
   ]
  },
  {
   "cell_type": "code",
   "execution_count": 4,
   "metadata": {},
   "outputs": [],
   "source": [
    "!mv ../data/SGD_REF.mitoANNOTATED_by_MFANNOT.gff3 ."
   ]
  },
  {
   "cell_type": "markdown",
   "metadata": {},
   "source": [
    "Get the S. cerevisiae mitochondrial sequence."
   ]
  },
  {
   "cell_type": "code",
   "execution_count": 5,
   "metadata": {},
   "outputs": [
    {
     "name": "stdout",
     "output_type": "stream",
     "text": [
      "  % Total    % Received % Xferd  Average Speed   Time    Time     Time  Current\n",
      "                                 Dload  Upload   Total   Spent    Left  Speed\n",
      "100 87344  100 87344    0     0   207k      0 --:--:-- --:--:-- --:--:--  207k\n"
     ]
    }
   ],
   "source": [
    "!curl -O https://downloads.yeastgenome.org/sequence/S288C_reference/chromosomes/fasta/chrmt.fsa"
   ]
  },
  {
   "cell_type": "markdown",
   "metadata": {},
   "source": [
    "Fix the description line to be more concise and descriptive."
   ]
  },
  {
   "cell_type": "code",
   "execution_count": 6,
   "metadata": {},
   "outputs": [
    {
     "name": "stderr",
     "output_type": "stream",
     "text": [
      "****BEFORE FIXING****"
     ]
    },
    {
     "name": "stdout",
     "output_type": "stream",
     "text": [
      ">ref|NC_001224| [org=Saccharomyces cerevisiae] [strain=S288C] [moltype=genomic] [location=mitochondrion] [top=circular] [note=R10-1-1]\r\n"
     ]
    },
    {
     "name": "stderr",
     "output_type": "stream",
     "text": [
      "****NOW FIXING****\n",
      "****AFTER FIXING****"
     ]
    },
    {
     "name": "stdout",
     "output_type": "stream",
     "text": [
      ">SGD_mito\r\n"
     ]
    }
   ],
   "source": [
    "import sys\n",
    "sys.stderr.write(\"****BEFORE FIXING****\")\n",
    "!head -n 1 chrmt.fsa\n",
    "sys.stderr.write(\"****NOW FIXING****\\n\")\n",
    "!sed -i '1s/.*/>SGD_mito/' chrmt.fsa\n",
    "sys.stderr.write(\"****AFTER FIXING****\")\n",
    "!head -n 1 chrmt.fsa"
   ]
  },
  {
   "cell_type": "markdown",
   "metadata": {},
   "source": [
    "Here is something similar to how it would be run on a command line. You'd need to leave off the `!`; that is just for Jupyter to know to direct it to command line shell."
   ]
  },
  {
   "cell_type": "code",
   "execution_count": 7,
   "metadata": {},
   "outputs": [
    {
     "name": "stdout",
     "output_type": "stream",
     "text": [
      "Provided genome 'chrmt.fsa' is 85779 bps in length.\r\n",
      "The intergenic gaps observed:\r\n",
      "5325,333,1195,4374,965,675,6107,1096,3076,1248,614,634,2867,7261,-3720,1415,481,109,1428,34,779,177,87,783,810,4,487,244,590,525,1128,1053,1,2918,589,371,608,5013,206,750\r\n",
      "\r\n",
      "The mean size of the gaps is 1316 bps.\r\n",
      "The median size of the gaps is 712.5 bps.\r\n",
      "\r\n",
      "A file listing the intergenic gaps has been saved as 'SGD_REF.mitoANNOTATED_by_MFANNOT_intergenic_gap_sizes.tsv'.\r\n"
     ]
    }
   ],
   "source": [
    "# Run analysis on equivalent of command line\n",
    "!python measure_intergenic_regions_in_mito_annotations.py SGD_REF.mitoANNOTATED_by_MFANNOT.gff3 chrmt.fsa"
   ]
  },
  {
   "cell_type": "markdown",
   "metadata": {},
   "source": [
    "The next cell further shows it worked by showing the output file."
   ]
  },
  {
   "cell_type": "code",
   "execution_count": 8,
   "metadata": {},
   "outputs": [
    {
     "name": "stdout",
     "output_type": "stream",
     "text": [
      "gaps (bps)\r\n",
      "5325\r\n",
      "333\r\n",
      "1195\r\n",
      "4374\r\n",
      "965\r\n",
      "675\r\n",
      "6107\r\n",
      "1096\r\n",
      "3076\r\n",
      "1248\r\n",
      "614\r\n",
      "634\r\n",
      "2867\r\n",
      "7261\r\n",
      "-3720\r\n",
      "1415\r\n",
      "481\r\n",
      "109\r\n",
      "1428\r\n",
      "34\r\n",
      "779\r\n",
      "177\r\n",
      "87\r\n",
      "783\r\n",
      "810\r\n",
      "4\r\n",
      "487\r\n",
      "244\r\n",
      "590\r\n",
      "525\r\n",
      "1128\r\n",
      "1053\r\n",
      "1\r\n",
      "2918\r\n",
      "589\r\n",
      "371\r\n",
      "608\r\n",
      "5013\r\n",
      "206\r\n",
      "750\r\n"
     ]
    }
   ],
   "source": [
    "!cat SGD_REF.mitoANNOTATED_by_MFANNOT_intergenic_gap_sizes.tsv"
   ]
  },
  {
   "cell_type": "markdown",
   "metadata": {},
   "source": [
    "## Use script in a Jupyter notebook "
   ]
  },
  {
   "cell_type": "markdown",
   "metadata": {},
   "source": [
    "This will demonstrate importing the main function into a notebook.\n"
   ]
  },
  {
   "cell_type": "code",
   "execution_count": 9,
   "metadata": {},
   "outputs": [],
   "source": [
    "# Get the script if the above section wasn't run\n",
    "import os\n",
    "file_needed = \"measure_intergenic_regions_in_mito_annotations.py\"\n",
    "if not os.path.isfile(file_needed):\n",
    "    !curl -O https://raw.githubusercontent.com/fomightez/sequencework/master/annotation-utilities/measure_intergenic_regions_in_mito_annotations.py"
   ]
  },
  {
   "cell_type": "markdown",
   "metadata": {},
   "source": [
    "Let's make the example `!python measure_intergenic_regions_in_mito_annotations.py SGD_REF.mitoANNOTATED_by_MFANNOT.gff3 chrmt.fsa` from above work here to get the result directly into the notebook environment as a python object. \n",
    "\n",
    "First we need to import the main function from the script file."
   ]
  },
  {
   "cell_type": "code",
   "execution_count": 10,
   "metadata": {},
   "outputs": [],
   "source": [
    "from measure_intergenic_regions_in_mito_annotations import measure_intergenic_regions_in_mito_annotations"
   ]
  },
  {
   "cell_type": "markdown",
   "metadata": {},
   "source": [
    "Now to try using that."
   ]
  },
  {
   "cell_type": "code",
   "execution_count": 11,
   "metadata": {},
   "outputs": [
    {
     "name": "stderr",
     "output_type": "stream",
     "text": [
      "Provided genome 'chrmt.fsa' is 85779 bps in length.\n",
      "The intergenic gaps observed:\n",
      "5325,333,1195,4374,965,675,6107,1096,3076,1248,614,634,2867,7261,-3720,1415,481,109,1428,34,779,177,87,783,810,4,487,244,590,525,1128,1053,1,2918,589,371,608,5013,206,750\n",
      "\n",
      "The mean size of the gaps is 1316 bps.\n",
      "The median size of the gaps is 712.5 bps.\n",
      "\n",
      "A file listing the intergenic gaps has been saved as 'SGD_REF.mitoANNOTATED_by_MFANNOT_intergenic_gap_sizes.tsv'.\n"
     ]
    }
   ],
   "source": [
    "measure_intergenic_regions_in_mito_annotations(\"SGD_REF.mitoANNOTATED_by_MFANNOT.gff3\", \"chrmt.fsa\")"
   ]
  },
  {
   "cell_type": "markdown",
   "metadata": {},
   "source": [
    "Works. But were are now in a Jupyter notebooks environment. It would be nice to get the results as a pandas dataframe. To do that you just need to add `return_df=True` when calling the script."
   ]
  },
  {
   "cell_type": "code",
   "execution_count": 12,
   "metadata": {},
   "outputs": [
    {
     "name": "stderr",
     "output_type": "stream",
     "text": [
      "Provided genome 'chrmt.fsa' is 85779 bps in length.\n",
      "The intergenic gaps observed:\n",
      "5325,333,1195,4374,965,675,6107,1096,3076,1248,614,634,2867,7261,-3720,1415,481,109,1428,34,779,177,87,783,810,4,487,244,590,525,1128,1053,1,2918,589,371,608,5013,206,750\n",
      "\n",
      "The mean size of the gaps is 1316 bps.\n",
      "The median size of the gaps is 712.5 bps.\n",
      "\n",
      "A file listing the intergenic gaps has been saved as 'SGD_REF.mitoANNOTATED_by_MFANNOT_intergenic_gap_sizes.tsv'.\n"
     ]
    }
   ],
   "source": [
    "result = measure_intergenic_regions_in_mito_annotations(\"SGD_REF.mitoANNOTATED_by_MFANNOT.gff3\", \"chrmt.fsa\", return_df=True)"
   ]
  },
  {
   "cell_type": "markdown",
   "metadata": {},
   "source": [
    "Now we can look at the returned dataframe."
   ]
  },
  {
   "cell_type": "code",
   "execution_count": 13,
   "metadata": {},
   "outputs": [
    {
     "data": {
      "text/html": [
       "<div>\n",
       "<style scoped>\n",
       "    .dataframe tbody tr th:only-of-type {\n",
       "        vertical-align: middle;\n",
       "    }\n",
       "\n",
       "    .dataframe tbody tr th {\n",
       "        vertical-align: top;\n",
       "    }\n",
       "\n",
       "    .dataframe thead th {\n",
       "        text-align: right;\n",
       "    }\n",
       "</style>\n",
       "<table border=\"1\" class=\"dataframe\">\n",
       "  <thead>\n",
       "    <tr style=\"text-align: right;\">\n",
       "      <th></th>\n",
       "      <th>gaps (bps)</th>\n",
       "    </tr>\n",
       "  </thead>\n",
       "  <tbody>\n",
       "    <tr>\n",
       "      <th>0</th>\n",
       "      <td>5325</td>\n",
       "    </tr>\n",
       "    <tr>\n",
       "      <th>1</th>\n",
       "      <td>333</td>\n",
       "    </tr>\n",
       "    <tr>\n",
       "      <th>2</th>\n",
       "      <td>1195</td>\n",
       "    </tr>\n",
       "    <tr>\n",
       "      <th>3</th>\n",
       "      <td>4374</td>\n",
       "    </tr>\n",
       "    <tr>\n",
       "      <th>4</th>\n",
       "      <td>965</td>\n",
       "    </tr>\n",
       "    <tr>\n",
       "      <th>5</th>\n",
       "      <td>675</td>\n",
       "    </tr>\n",
       "    <tr>\n",
       "      <th>6</th>\n",
       "      <td>6107</td>\n",
       "    </tr>\n",
       "    <tr>\n",
       "      <th>7</th>\n",
       "      <td>1096</td>\n",
       "    </tr>\n",
       "    <tr>\n",
       "      <th>8</th>\n",
       "      <td>3076</td>\n",
       "    </tr>\n",
       "    <tr>\n",
       "      <th>9</th>\n",
       "      <td>1248</td>\n",
       "    </tr>\n",
       "    <tr>\n",
       "      <th>10</th>\n",
       "      <td>614</td>\n",
       "    </tr>\n",
       "    <tr>\n",
       "      <th>11</th>\n",
       "      <td>634</td>\n",
       "    </tr>\n",
       "    <tr>\n",
       "      <th>12</th>\n",
       "      <td>2867</td>\n",
       "    </tr>\n",
       "    <tr>\n",
       "      <th>13</th>\n",
       "      <td>7261</td>\n",
       "    </tr>\n",
       "    <tr>\n",
       "      <th>14</th>\n",
       "      <td>-3720</td>\n",
       "    </tr>\n",
       "    <tr>\n",
       "      <th>15</th>\n",
       "      <td>1415</td>\n",
       "    </tr>\n",
       "    <tr>\n",
       "      <th>16</th>\n",
       "      <td>481</td>\n",
       "    </tr>\n",
       "    <tr>\n",
       "      <th>17</th>\n",
       "      <td>109</td>\n",
       "    </tr>\n",
       "    <tr>\n",
       "      <th>18</th>\n",
       "      <td>1428</td>\n",
       "    </tr>\n",
       "    <tr>\n",
       "      <th>19</th>\n",
       "      <td>34</td>\n",
       "    </tr>\n",
       "    <tr>\n",
       "      <th>20</th>\n",
       "      <td>779</td>\n",
       "    </tr>\n",
       "    <tr>\n",
       "      <th>21</th>\n",
       "      <td>177</td>\n",
       "    </tr>\n",
       "    <tr>\n",
       "      <th>22</th>\n",
       "      <td>87</td>\n",
       "    </tr>\n",
       "    <tr>\n",
       "      <th>23</th>\n",
       "      <td>783</td>\n",
       "    </tr>\n",
       "    <tr>\n",
       "      <th>24</th>\n",
       "      <td>810</td>\n",
       "    </tr>\n",
       "    <tr>\n",
       "      <th>25</th>\n",
       "      <td>4</td>\n",
       "    </tr>\n",
       "    <tr>\n",
       "      <th>26</th>\n",
       "      <td>487</td>\n",
       "    </tr>\n",
       "    <tr>\n",
       "      <th>27</th>\n",
       "      <td>244</td>\n",
       "    </tr>\n",
       "    <tr>\n",
       "      <th>28</th>\n",
       "      <td>590</td>\n",
       "    </tr>\n",
       "    <tr>\n",
       "      <th>29</th>\n",
       "      <td>525</td>\n",
       "    </tr>\n",
       "    <tr>\n",
       "      <th>30</th>\n",
       "      <td>1128</td>\n",
       "    </tr>\n",
       "    <tr>\n",
       "      <th>31</th>\n",
       "      <td>1053</td>\n",
       "    </tr>\n",
       "    <tr>\n",
       "      <th>32</th>\n",
       "      <td>1</td>\n",
       "    </tr>\n",
       "    <tr>\n",
       "      <th>33</th>\n",
       "      <td>2918</td>\n",
       "    </tr>\n",
       "    <tr>\n",
       "      <th>34</th>\n",
       "      <td>589</td>\n",
       "    </tr>\n",
       "    <tr>\n",
       "      <th>35</th>\n",
       "      <td>371</td>\n",
       "    </tr>\n",
       "    <tr>\n",
       "      <th>36</th>\n",
       "      <td>608</td>\n",
       "    </tr>\n",
       "    <tr>\n",
       "      <th>37</th>\n",
       "      <td>5013</td>\n",
       "    </tr>\n",
       "    <tr>\n",
       "      <th>38</th>\n",
       "      <td>206</td>\n",
       "    </tr>\n",
       "    <tr>\n",
       "      <th>39</th>\n",
       "      <td>750</td>\n",
       "    </tr>\n",
       "  </tbody>\n",
       "</table>\n",
       "</div>"
      ],
      "text/plain": [
       "    gaps (bps)\n",
       "0         5325\n",
       "1          333\n",
       "2         1195\n",
       "3         4374\n",
       "4          965\n",
       "5          675\n",
       "6         6107\n",
       "7         1096\n",
       "8         3076\n",
       "9         1248\n",
       "10         614\n",
       "11         634\n",
       "12        2867\n",
       "13        7261\n",
       "14       -3720\n",
       "15        1415\n",
       "16         481\n",
       "17         109\n",
       "18        1428\n",
       "19          34\n",
       "20         779\n",
       "21         177\n",
       "22          87\n",
       "23         783\n",
       "24         810\n",
       "25           4\n",
       "26         487\n",
       "27         244\n",
       "28         590\n",
       "29         525\n",
       "30        1128\n",
       "31        1053\n",
       "32           1\n",
       "33        2918\n",
       "34         589\n",
       "35         371\n",
       "36         608\n",
       "37        5013\n",
       "38         206\n",
       "39         750"
      ]
     },
     "execution_count": 13,
     "metadata": {},
     "output_type": "execute_result"
    }
   ],
   "source": [
    "result"
   ]
  },
  {
   "cell_type": "markdown",
   "metadata": {},
   "source": [
    "We now have that as `result` and we can use it for further steps. For example, we can use it to get information."
   ]
  },
  {
   "cell_type": "code",
   "execution_count": 14,
   "metadata": {},
   "outputs": [
    {
     "data": {
      "text/html": [
       "<div>\n",
       "<style scoped>\n",
       "    .dataframe tbody tr th:only-of-type {\n",
       "        vertical-align: middle;\n",
       "    }\n",
       "\n",
       "    .dataframe tbody tr th {\n",
       "        vertical-align: top;\n",
       "    }\n",
       "\n",
       "    .dataframe thead th {\n",
       "        text-align: right;\n",
       "    }\n",
       "</style>\n",
       "<table border=\"1\" class=\"dataframe\">\n",
       "  <thead>\n",
       "    <tr style=\"text-align: right;\">\n",
       "      <th></th>\n",
       "      <th>gaps (bps)</th>\n",
       "    </tr>\n",
       "  </thead>\n",
       "  <tbody>\n",
       "    <tr>\n",
       "      <th>count</th>\n",
       "      <td>40.000000</td>\n",
       "    </tr>\n",
       "    <tr>\n",
       "      <th>mean</th>\n",
       "      <td>1316.000000</td>\n",
       "    </tr>\n",
       "    <tr>\n",
       "      <th>std</th>\n",
       "      <td>1966.518217</td>\n",
       "    </tr>\n",
       "    <tr>\n",
       "      <th>min</th>\n",
       "      <td>-3720.000000</td>\n",
       "    </tr>\n",
       "    <tr>\n",
       "      <th>25%</th>\n",
       "      <td>361.500000</td>\n",
       "    </tr>\n",
       "    <tr>\n",
       "      <th>50%</th>\n",
       "      <td>712.500000</td>\n",
       "    </tr>\n",
       "    <tr>\n",
       "      <th>75%</th>\n",
       "      <td>1289.750000</td>\n",
       "    </tr>\n",
       "    <tr>\n",
       "      <th>max</th>\n",
       "      <td>7261.000000</td>\n",
       "    </tr>\n",
       "  </tbody>\n",
       "</table>\n",
       "</div>"
      ],
      "text/plain": [
       "        gaps (bps)\n",
       "count    40.000000\n",
       "mean   1316.000000\n",
       "std    1966.518217\n",
       "min   -3720.000000\n",
       "25%     361.500000\n",
       "50%     712.500000\n",
       "75%    1289.750000\n",
       "max    7261.000000"
      ]
     },
     "execution_count": 14,
     "metadata": {},
     "output_type": "execute_result"
    }
   ],
   "source": [
    "result.describe()"
   ]
  },
  {
   "cell_type": "code",
   "execution_count": 15,
   "metadata": {},
   "outputs": [
    {
     "data": {
      "text/plain": [
       "gaps (bps)    712.5\n",
       "dtype: float64"
      ]
     },
     "execution_count": 15,
     "metadata": {},
     "output_type": "execute_result"
    }
   ],
   "source": [
    "result.median()"
   ]
  },
  {
   "cell_type": "code",
   "execution_count": 16,
   "metadata": {},
   "outputs": [
    {
     "data": {
      "text/plain": [
       "gaps (bps)    1316.0\n",
       "dtype: float64"
      ]
     },
     "execution_count": 16,
     "metadata": {},
     "output_type": "execute_result"
    }
   ],
   "source": [
    "result.mean()"
   ]
  },
  {
   "cell_type": "code",
   "execution_count": 17,
   "metadata": {},
   "outputs": [
    {
     "data": {
      "text/plain": [
       "gaps (bps)   -3720\n",
       "dtype: int64"
      ]
     },
     "execution_count": 17,
     "metadata": {},
     "output_type": "execute_result"
    }
   ],
   "source": [
    "result.min()"
   ]
  },
  {
   "cell_type": "markdown",
   "metadata": {},
   "source": [
    "This negative value is caused by a serors annotation artifacts(?) MFannot makes just in front of the sequence for the large ribosomal subunit RNA, `rnl`. (I call them artifacts because they aren't shown in [Turk et al., 2013](https://www.ncbi.nlm.nih.gov/pubmed/24143261).) The following lines from the annotaion show this:\n",
    "\n",
    "```text\n",
    "SGD_mito\tmfannot\tgene\t50731\t50809\t.\t+\t.\tID=trnE(cuc)_1;Name=trnE(cuc)_1\n",
    "SGD_mito\tmfannot\tmRNA\t50731\t50809\t.\t+\t.\tID=trnE(cuc)_1.mRNA.1;Name=trnE(cuc)_1.mRNA.1;Parent=trnE(cuc)_1\n",
    "SGD_mito\tmfannot\texon\t50731\t50809\t.\t+\t.\tID=trnE(cuc)_1.exon.1;Name=trnE(cuc)_1.exon.1;Parent=trnE(cuc)_1.mRNA.1\n",
    "SGD_mito\tmfannot\tCDS\t50731\t50809\t.\t+\t.\tID=trnE(cuc)_1.CDS.1;Name=trnE(cuc)_1.CDS.1;Parent=trnE(cuc)_1.mRNA.1\n",
    "SGD_mito\tmfannot\tgene\t53676\t53758\t.\t-\t.\tID=trnE(cuc)_2;Name=trnE(cuc)_2\n",
    "SGD_mito\tmfannot\tmRNA\t53676\t53758\t.\t-\t.\tID=trnE(cuc)_2.mRNA.1;Name=trnE(cuc)_2.mRNA.1;Parent=trnE(cuc)_2\n",
    "SGD_mito\tmfannot\texon\t53676\t53758\t.\t-\t.\tID=trnE(cuc)_2.exon.1;Name=trnE(cuc)_2.exon.1;Parent=trnE(cuc)_2.mRNA.1\n",
    "SGD_mito\tmfannot\tCDS\t53676\t53758\t.\t-\t.\tID=trnE(cuc)_2.CDS.1;Name=trnE(cuc)_2.CDS.1;Parent=trnE(cuc)_2.mRNA.1.)\n",
    "SGD_mito\tmfannot\tgene\t61019\t61729\t.\t+\t.\tID=orf236;Name=orf236\n",
    "SGD_mito\tmfannot\tmRNA\t61019\t61729\t.\t+\t.\tID=orf236.mRNA.1;Name=orf236.mRNA.1;Parent=orf236\n",
    "SGD_mito\tmfannot\texon\t61019\t61729\t.\t+\t.\tID=orf236.exon.1;Name=orf236.exon.1;Parent=orf236.mRNA.1\n",
    "SGD_mito\tmfannot\tCDS\t61019\t61729\t.\t+\t.\tID=orf236.CDS.1;Name=orf236.CDS.1;Parent=orf236.mRNA.1\n",
    "SGD_mito\tmfannot\trRNA\t58009\t62447\t.\t+\t.\tID=rnl;Name=rnl\n",
    "```\n",
    "\n",
    "The overlap of `orf236` with the `rnl` causes the negative 3720 value that is the lowest extreme."
   ]
  },
  {
   "cell_type": "markdown",
   "metadata": {},
   "source": [
    "Enjoy!"
   ]
  }
 ],
 "metadata": {
  "kernelspec": {
   "display_name": "Python 3",
   "language": "python",
   "name": "python3"
  },
  "language_info": {
   "codemirror_mode": {
    "name": "ipython",
    "version": 3
   },
   "file_extension": ".py",
   "mimetype": "text/x-python",
   "name": "python",
   "nbconvert_exporter": "python",
   "pygments_lexer": "ipython3",
   "version": "3.7.2"
  }
 },
 "nbformat": 4,
 "nbformat_minor": 2
}
