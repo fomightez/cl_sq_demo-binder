{
 "cells": [
  {
   "cell_type": "markdown",
   "id": "9eccc82b-7f5e-4a35-bc47-5dca50904f48",
   "metadata": {},
   "source": [
    "# Demonstrate rest of scripts from alignment-utilities\n",
    "\n",
    "Follows from the notebook '[Use biopython to make valid CLUSTAL formatted MSAs, check sequence of manually edited alignment, and add consensus line' where several of the scripts were demonstrated in a workflow representing hand-editing an alignment and then fixing the width and add back in conservation symbols](Use%20biopython%20to%20make%20valid%20CLUSTAL%20formatted%20MSAs%2C%20check%20sequence%20of%20manually%20edited%20alignment%2C%20and%20add%20consensus%20line.ipynb)'.  \n",
    "**RUN THAT NOTEBOOK FIRST SO THE INPUT FILES ARE PRESENT.**\n",
    "\n",
    "Want to demonstrate some of the other scripts at [alignment-utilities](https://github.com/fomightez/sequencework/tree/master/alignment-utilities), so that I have somewhere I can reference when trying to find the script that does what I need or something close. Sometimes the text descriptions on the [README at alignment-utilities](https://github.com/fomightez/sequencework/blob/master/alignment-utilities/README.mds) aren't exactly clear without an example.\n",
    "\n",
    "---- \n",
    "\n",
    "### Demonstrate 'add_actual_position_numbering_to_sequence_in_top_line_of_clustal_output.py'"
   ]
  },
  {
   "cell_type": "code",
   "execution_count": 4,
   "id": "bacb35ef-3504-4465-a194-21f611e0b309",
   "metadata": {},
   "outputs": [
    {
     "name": "stdout",
     "output_type": "stream",
     "text": [
      "  % Total    % Received % Xferd  Average Speed   Time    Time     Time  Current\n",
      "                                 Dload  Upload   Total   Spent    Left  Speed\n",
      "100 14238  100 14238    0     0  77803      0 --:--:-- --:--:-- --:--:-- 77803\n"
     ]
    }
   ],
   "source": [
    "import os\n",
    "file_needed = \"add_actual_position_numbering_to_sequence_in_top_line_of_clustal_output.py\"\n",
    "if not os.path.isfile(file_needed):\n",
    "    !curl -OL https://raw.githubusercontent.com/fomightez/sequencework/master/alignment-utilities/{file_needed}"
   ]
  },
  {
   "cell_type": "code",
   "execution_count": 7,
   "id": "a305ff4f-1423-46dd-94fb-70447c627f41",
   "metadata": {},
   "outputs": [
    {
     "name": "stderr",
     "output_type": "stream",
     "text": [
      "Alignment read...top line identifier determined as 'STV1'...\n",
      "Annotated alignment saved to 'alignment_ADJUSTED.clw'."
     ]
    }
   ],
   "source": [
    "%run add_actual_position_numbering_to_sequence_in_top_line_of_clustal_output.py alignment.clw"
   ]
  },
  {
   "cell_type": "code",
   "execution_count": 10,
   "id": "f691dc68-cc8e-4d53-85c6-7df1057916f6",
   "metadata": {},
   "outputs": [
    {
     "name": "stdout",
     "output_type": "stream",
     "text": [
      "CLUSTAL multiple sequence alignment by MUSCLE (3.8)\n",
      "\n",
      "\n",
      "                1                                                                66\n",
      "STV1            -MNQEEAIFRSADMTYVQLYIPLEVIREVTFLLGKMSVFMVMDLNKDLTAFQRGYVNQLRRFDEVER\n",
      "VPH1            MAEKEEAIFRSAEMALVQFYIPQEISRDSAYTLGQLGLVQFRDLNSKVRAFQRTFVNEIRRLDNVER\n",
      "                  ::********:*: **:*** *: *: :: **::.:. . ***..: **** :**::**:*:***\n",
      "\n",
      "                67                                                114\n",
      "STV1            MVGFLNEVVEKHAAETW-----KYILHIDDEGNDIAQPDMADLINTMEPLSLE\n",
      "VPH1            QYRYFYSLLKKHDIKLYEGDTDKYL----DGSGELYVPPSGSVI---------\n",
      "                   :: .:::**  : :     **:    * ..::  *  ..:*         \n"
     ]
    }
   ],
   "source": [
    "!head -12 alignment_ADJUSTED.clw"
   ]
  },
  {
   "cell_type": "code",
   "execution_count": 8,
   "id": "decf413c-e94c-413a-9bdb-cd715cb370e4",
   "metadata": {},
   "outputs": [
    {
     "name": "stderr",
     "output_type": "stream",
     "text": [
      "Alignment read...top line identifier determined as 'STV1'...\n",
      "Annotated alignment saved to 'aligned_ADJUSTED.clw'."
     ]
    }
   ],
   "source": [
    "%run add_actual_position_numbering_to_sequence_in_top_line_of_clustal_output.py aligned.clw"
   ]
  },
  {
   "cell_type": "code",
   "execution_count": 13,
   "id": "43a6abee-e109-4db5-805c-797bf6d234e2",
   "metadata": {},
   "outputs": [
    {
     "name": "stdout",
     "output_type": "stream",
     "text": [
      "CLUSTAL multiple sequence alignment by mview_to_CLUSTAL (0.1.0)\n",
      "\n",
      "                1                                                         59\n",
      "STV1            -MNQEEAIFRSADMTYVQLYIPLEVIREVTFLLGKMSVFMVMDLNKDLTAFQRGYVNQLR\n",
      "VPH1            MAEKEEAIFRSAEMALVQFYIPQEISRDSAYTLGQLGLVQFRDLNSKVRAFQRTFVNEIR\n",
      "\n",
      "                60                                                       114\n",
      "STV1            RFDEVERMVGFLNEVVEKHAAETW-----KYILHIDDEGNDIAQPDMADLINTMEPLSLE\n",
      "VPH1            RLDNVERQYRYFYSLLKKHDIKLYEGDTDKYL----DGSGELYVPPSGSVI---------\n",
      "\n",
      "                115                                                      174\n",
      "STV1            NVNDMVKEITDCESRARQLDESLDSLRSKLNDLLEQRQVIFECSKFIEVNPGIAGRATNP\n",
      "VPH1            --DDYVRNASYLEERLIQMEDATDQIEVQKNDLEQYRFILQSGDEFF-----LKGDNTDS\n"
     ]
    }
   ],
   "source": [
    "!head -13 aligned_ADJUSTED.clw"
   ]
  },
  {
   "cell_type": "markdown",
   "id": "1f0fd360-98b6-4ae6-a12c-91077dbedda3",
   "metadata": {},
   "source": [
    "This script is also possible to be used as a function imported into Python. I need to add the demo of that.\n",
    "\n",
    "```python\n",
    "from add_actual_position_numbering_to_sequence_in_top_line_of_clustal_output import add_actual_position_numbering_to_sequence_in_top_line_of_clustal_output\n",
    "```"
   ]
  },
  {
   "cell_type": "markdown",
   "id": "15eb7205-11ad-4509-9aaa-ecf30f6bdda0",
   "metadata": {},
   "source": [
    "------\n",
    "\n",
    "#### Demonstrate 'extract_regions_from_clustal_alignment.py'"
   ]
  },
  {
   "cell_type": "code",
   "execution_count": 2,
   "id": "59a3bef6-2306-485f-bfae-1c0aa56f8d08",
   "metadata": {},
   "outputs": [
    {
     "name": "stdout",
     "output_type": "stream",
     "text": [
      "  % Total    % Received % Xferd  Average Speed   Time    Time     Time  Current\n",
      "                                 Dload  Upload   Total   Spent    Left  Speed\n",
      "100 28009  100 28009    0     0   134k      0 --:--:-- --:--:-- --:--:--  133k-:-- 38735\n"
     ]
    }
   ],
   "source": [
    "import os\n",
    "file_needed = \"extract_regions_from_clustal_alignment.py\"\n",
    "if not os.path.isfile(file_needed):\n",
    "    !curl -OL https://raw.githubusercontent.com/fomightez/sequencework/master/alignment-utilities/{file_needed}"
   ]
  },
  {
   "cell_type": "code",
   "execution_count": 5,
   "id": "c0d763e5-280d-418a-9630-d5a07a756822",
   "metadata": {},
   "outputs": [
    {
     "name": "stderr",
     "output_type": "stream",
     "text": [
      "Alignment file read...\n",
      "\n",
      "Extracted alignment segment saved as 'aligned_extracted.clw'.\n",
      "\n",
      "Extracted sequences saved in ungapped form as\n",
      "FASTA-formatted in 'aligned_extracted_ungapped.fa'.\n",
      "\n",
      "Extracted sequences coordinates in matching ungapped form saved as\n",
      "a table 'aligned_extracted_coords.tsv'."
     ]
    }
   ],
   "source": [
    "%run extract_regions_from_clustal_alignment.py aligned.clw 70-80"
   ]
  },
  {
   "cell_type": "code",
   "execution_count": 7,
   "id": "d26cad2b-3124-4667-baf7-b387c19154ac",
   "metadata": {},
   "outputs": [
    {
     "name": "stdout",
     "output_type": "stream",
     "text": [
      ">STV1 actual_extracted_coordinates: 70-80\n",
      "FLNEVVEKHAA\n",
      ">VPH1 actual_extracted_coordinates: 71-81\n",
      "YFYSLLKKHDI\n"
     ]
    }
   ],
   "source": [
    "!head aligned_extracted_ungapped.fa"
   ]
  },
  {
   "cell_type": "code",
   "execution_count": 8,
   "id": "e3ace227-9051-44f6-83a9-85d2e5a34afd",
   "metadata": {},
   "outputs": [
    {
     "name": "stdout",
     "output_type": "stream",
     "text": [
      "id\tstart\tend\n",
      "STV1\t70\t80\n",
      "VPH1\t71\t81\n"
     ]
    }
   ],
   "source": [
    "!head aligned_extracted_coords.tsv"
   ]
  },
  {
   "cell_type": "markdown",
   "id": "148d3bbb-3762-450c-b60c-439963daf647",
   "metadata": {},
   "source": [
    "This script is also possible to be used as a function imported into Python. I need to add the demo of that.\n",
    "\n",
    "```python\n",
    "from extract_regions_from_clustal_alignment import extract_regions_from_clustal_alignment\n",
    "```"
   ]
  },
  {
   "cell_type": "markdown",
   "id": "e5d5bcc1-0576-4d6f-9e37-91bba8599be2",
   "metadata": {},
   "source": [
    "----\n",
    "\n",
    "### Demonstrate 'reverse_complement_of_clustal_alignment.py'\n",
    "\n",
    "Only makes sense when using this with nucleic acid sequences. (For now it will attempt to 'reverse' and 'complement' protein sequences, if provided with them as input; however, the result is gooblydigook as the residues that match nucleotides get complemented and you cannot 'reverse complement' a polypeptide sequence.) "
   ]
  },
  {
   "cell_type": "code",
   "execution_count": 1,
   "id": "a5f15f1a-8f80-4038-b75e-4693e67a366c",
   "metadata": {},
   "outputs": [
    {
     "name": "stdout",
     "output_type": "stream",
     "text": [
      "  % Total    % Received % Xferd  Average Speed   Time    Time     Time  Current\n",
      "                                 Dload  Upload   Total   Spent    Left  Speed\n",
      "100 16901  100 16901    0     0  87118      0 --:--:-- --:--:-- --:--:-- 86671\n"
     ]
    }
   ],
   "source": [
    "import os\n",
    "file_needed = \"reverse_complement_of_clustal_alignment.py\"\n",
    "if not os.path.isfile(file_needed):\n",
    "    !curl -OL https://raw.githubusercontent.com/fomightez/sequencework/master/alignment-utilities/{file_needed}"
   ]
  },
  {
   "cell_type": "markdown",
   "id": "7fafe232-9244-447f-a4f1-2c9ae3a66eef",
   "metadata": {},
   "source": [
    "Bring a DNA alignment into the working directory and gave it a simple name:"
   ]
  },
  {
   "cell_type": "code",
   "execution_count": 1,
   "id": "2d23556d-f7c6-40ff-8805-96161a41e88c",
   "metadata": {},
   "outputs": [],
   "source": [
    "!cp ../data/STV1_genomic_region_3_strains.clw ./nt_aligned.clw"
   ]
  },
  {
   "cell_type": "markdown",
   "id": "3df13c00-c1d1-4f7c-a1be-e094c06e1d64",
   "metadata": {},
   "source": [
    "Show the first few lines of that:"
   ]
  },
  {
   "cell_type": "code",
   "execution_count": 4,
   "id": "7ac50b6a-2412-4288-b225-ba21aa28bb57",
   "metadata": {},
   "outputs": [
    {
     "name": "stdout",
     "output_type": "stream",
     "text": [
      "CLUSTAL W (1.83) multiple sequence alignment\n",
      "\n",
      "S288C           ATGAATCAAGAAGAGGCTATATTCCGGTCAGCAGACATGACGTACGTCCA\n",
      "CEN.PK          ATGAATCAAGAAGAGGCTATATTCCGGTCAGCAGACATGACGTACGTCCA\n",
      "Sigma1278b      ATGAATCAAGAAGAGGCTATATTCCGGTCAGCAGACATGACGTACGTCCA\n",
      "                **************************************************\n",
      "\n",
      "S288C           ACTGTACATACCGTTGGAAGTCATAAGAGAGGTAACTTTCTTATTAGGGA\n",
      "CEN.PK          ACTGTACATACCGTTGGAAGTCATAAGAGAGGTAACTTTCTTATTAGGGA\n",
      "Sigma1278b      ACTGTACATACCGTTGGAAGTCATAAGAGAGGTAACTTTCTTATTAGGGA\n"
     ]
    }
   ],
   "source": [
    "!head nt_aligned.clw"
   ]
  },
  {
   "cell_type": "code",
   "execution_count": 2,
   "id": "7273a295-9a79-443f-b771-6a9ab820a693",
   "metadata": {},
   "outputs": [
    {
     "name": "stderr",
     "output_type": "stream",
     "text": [
      "\n",
      "**NOTE: gap indicator in this script is currently set to '-'. If\n",
      "that does not match what provided alignment uses to indicate gaps,\n",
      "please change the setting within the script code under\n",
      "'USER ADJUSTABLE VALUES' around line 120 (give or take a few).**\n",
      "Alignment file read...\n",
      "\n",
      "Alignment block converted to reverse complement and saved as 'nt_aligned_rev_compl.clw'.\n",
      "\n",
      "Alignment block converted to reverse complement and saved in\n",
      "FASTA-formatted, ungapped form in 'nt_aligned_rev_compl_ungapped.fa'."
     ]
    }
   ],
   "source": [
    "%run reverse_complement_of_clustal_alignment.py nt_aligned.clw"
   ]
  },
  {
   "cell_type": "code",
   "execution_count": 3,
   "id": "4bbcaa99-9f77-4b1d-b2fa-20e3cb80d87e",
   "metadata": {},
   "outputs": [
    {
     "name": "stdout",
     "output_type": "stream",
     "text": [
      "CLUSTAL X (1.81) multiple sequence alignment\n",
      "\n",
      "\n",
      "S288C                               TTATTCTATTATTGCACGAAATGAAAATGGCTCGTACGCATATCCTTCAC\n",
      "CEN.PK                              TTATTCTATTATTGCACGAAATGAAAATGGTTCGTACGCATATCCTTCAC\n",
      "Sigma1278b                          TTATTCTATTATTGCACGAAATGAAAATGGCTCGTACGCATATCCTTCAC\n",
      "\n",
      "S288C                               CTTCAAAAAATTTGGACATTGCCTCCACCCAATGCAAACGTAGCGCATGC\n",
      "CEN.PK                              CTTCAAAAAATTTGGACATTGCCTCCACCCAATGCAAACGTAGCGCATGC\n",
      "Sigma1278b                          CTTCAAAAAATTTGGACATTGCCTCCACCCAATGCAAACGTAGCGCATGC\n",
      "\n",
      "S288C                               AACATTGCGGAAGTACCTTCCATGAAAACTAGGATACAAACGGTTAAAAC\n"
     ]
    }
   ],
   "source": [
    "!head -12 nt_aligned_rev_compl.clw"
   ]
  },
  {
   "cell_type": "code",
   "execution_count": 8,
   "id": "1bc31b92-b014-412a-bef7-b76377d79f55",
   "metadata": {},
   "outputs": [
    {
     "name": "stdout",
     "output_type": "stream",
     "text": [
      ">S288C\n",
      "TTATTCTATTATTGCACGAAATGAAAATGGCTCGTACGCATATCCTTCACCTTCAAAAAA\n",
      "TTTGGACATTGCCTCCACCCAATGCAAACGTAGCGCATGCAACATTGCGGAAGTACCTTC\n",
      "CATGAAAACTAGGATACAAACGGTTAAAACAAACCACATAGCAAATAAGAAAACCACCTT\n",
      "CATGACAGCCAAAGGCGACCCTGAGTTTTTAGAACTGAAAGCGTTTGAAATTGTCATATC\n",
      "CCATAAAACACTAGATAATTGCGCATGCGCCAACGATAGTGCCCAAAGACGTAGATATGA\n",
      "TGCTGTATGAGAGATACAATTTAAACAGAATTCAATAGTATGGATTACCTGATGAATCAT\n",
      "GACATCGCCGAAATTAAATGGCCCCTGTTCACCTCCACCAACGCTTTCATTGATACTGTC\n",
      "TGCAACACTGGCAACATCACTGATGATCATCCCTTGGAAACCTTCCGCTGAATGTCTCTG\n",
      "TTGTGCTATTTGTTCCTCATGCTCAATATTGCCCACACTTTGGTATCCGTGAGGCCTGCC\n"
     ]
    }
   ],
   "source": [
    "!head nt_aligned_rev_compl_ungapped.fa"
   ]
  },
  {
   "cell_type": "markdown",
   "id": "7dfb92c5-c653-4047-a8e0-d5270f68e20e",
   "metadata": {},
   "source": [
    "This script is also possible to be used as a function imported into Python. I need to add the demo of that.\n",
    "\n",
    "```python\n",
    "from reverse_complement_of_clustal_alignment import reverse_complement_of_clustal_alignment\n",
    "```"
   ]
  },
  {
   "cell_type": "code",
   "execution_count": null,
   "id": "a4465fbb-4b7f-491b-bcc9-b2de15e4ce32",
   "metadata": {},
   "outputs": [],
   "source": []
  }
 ],
 "metadata": {
  "kernelspec": {
   "display_name": "Python 3 (ipykernel)",
   "language": "python",
   "name": "python3"
  },
  "language_info": {
   "codemirror_mode": {
    "name": "ipython",
    "version": 3
   },
   "file_extension": ".py",
   "mimetype": "text/x-python",
   "name": "python",
   "nbconvert_exporter": "python",
   "pygments_lexer": "ipython3",
   "version": "3.7.10"
  }
 },
 "nbformat": 4,
 "nbformat_minor": 5
}
